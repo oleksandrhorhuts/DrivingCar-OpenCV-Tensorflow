{
 "cells": [
  {
   "cell_type": "code",
   "execution_count": 1,
   "metadata": {},
   "outputs": [],
   "source": [
    "# Necessary imports\n",
    "import tensorflow as tf\n",
    "import numpy as np\n",
    "from imageio import imread\n",
    "from sklearn.utils import shuffle\n",
    "from sklearn.model_selection import train_test_split\n",
    "import time\n",
    "from caffe_classes import class_names\n",
    "\n",
    "%matplotlib inline"
   ]
  },
  {
   "cell_type": "markdown",
   "metadata": {},
   "source": [
    "### AlexNet implementation"
   ]
  },
  {
   "cell_type": "code",
   "execution_count": 2,
   "metadata": {},
   "outputs": [],
   "source": [
    "# Retrieve the AlexNet param values\n",
    "net_data = np.load('bvlc-alexnet.npy', encoding='latin1').item()"
   ]
  },
  {
   "cell_type": "code",
   "execution_count": 3,
   "metadata": {},
   "outputs": [],
   "source": [
    "# Helper functions\n",
    "def conv2d(input_vol, W, b, stride=1, padding='VALID', group=1):\n",
    "    c_i = input_vol.get_shape().as_list()[-1]\n",
    "    c_o = W.get_shape().as_list()[-1]\n",
    "    \n",
    "    assert(c_i % group == 0)\n",
    "    assert(c_o % group == 0)\n",
    "    convolve = lambda i, k: tf.nn.conv2d(i, k, strides=[1, stride, stride, 1], padding=padding)\n",
    "    \n",
    "    if group == 1:\n",
    "        conv_layer = convolve(input_vol, W)\n",
    "    else:\n",
    "        input_groups = tf.split(input_vol, group, axis=3)\n",
    "        kernel_groups = tf.split(W, group, axis=3)\n",
    "        output_groups = [convolve(i, k) for i, k in zip(input_groups, kernel_groups)]\n",
    "        conv_layer = tf.concat(output_groups, axis=3)\n",
    "    \n",
    "    conv_layer = tf.nn.bias_add(conv_layer, b)\n",
    "    return tf.nn.relu(conv_layer)\n",
    "\n",
    "def maxpool2d(input_vol, k=2, stride=2):\n",
    "    return tf.nn.max_pool(input_vol, ksize=[1, k, k, 1],\n",
    "                          strides=[1, stride, stride, 1],\n",
    "                          padding='VALID')\n",
    "\n",
    "def alexnet(X, feature_extraction=False):\n",
    "    # CONV1 Layer\n",
    "    conv1W = tf.Variable(net_data['conv1'][0])\n",
    "    conv1b = tf.Variable(net_data['conv1'][1])\n",
    "    conv1 = conv2d(X, conv1W, conv1b, stride=4, padding='SAME', group=1) # Kernel=11x11x96. Strides=4x4. Group=1\n",
    "    \n",
    "    radius = 2; alpha = 2e-05; beta = 0.75; bias = 1.0\n",
    "    conv1 = tf.nn.local_response_normalization(conv1,\n",
    "                                               depth_radius=radius,\n",
    "                                               alpha=alpha,\n",
    "                                               beta=beta, bias=bias)     # NORM Layer\n",
    "    conv1 = maxpool2d(conv1, 3)                                          # POOL Layer. Kernel=3x3. Strides=2x2. \n",
    "    \n",
    "   # CONV2 Layer\n",
    "    conv2W = tf.Variable(net_data['conv2'][0])\n",
    "    conv2b = tf.Variable(net_data['conv2'][1])\n",
    "    conv2 = conv2d(conv1, conv2W, conv2b, stride=1, padding='SAME', group=2) # Kernel=5x5x256. Strides=1x1. Group=2\n",
    "    \n",
    "    radius = 2; alpha = 2e-05; beta = 0.75; bias = 1.0\n",
    "    conv2 = tf.nn.local_response_normalization(conv2,\n",
    "                                               depth_radius=radius,\n",
    "                                               alpha=alpha,\n",
    "                                               beta=beta, bias=bias)         # NORM Layer\n",
    "    conv2 = maxpool2d(conv2, 3)                                              # POOL Layer. Kernel=3x3. Strides=2x2. \n",
    "    \n",
    "    # CONV3 Layer\n",
    "    conv3W = tf.Variable(net_data['conv3'][0])\n",
    "    conv3b = tf.Variable(net_data['conv3'][1])\n",
    "    conv3 = conv2d(conv2, conv3W, conv3b, stride=1, padding='SAME', group=1) # Kernel=3x3x384. Strides=1x1. Group=1\n",
    "    \n",
    "    # CONV4 Layer\n",
    "    conv4W = tf.Variable(net_data['conv4'][0])\n",
    "    conv4b = tf.Variable(net_data['conv4'][1])\n",
    "    conv4 = conv2d(conv3, conv4W, conv4b, stride=1, padding='SAME', group=2) # Kernel=3x3x384. Strides=1x1. Group=2\n",
    "    \n",
    "    # CONV5 Layer\n",
    "    conv5W = tf.Variable(net_data['conv5'][0])\n",
    "    conv5b = tf.Variable(net_data['conv5'][1])\n",
    "    conv5 = conv2d(conv4, conv5W, conv5b, stride=1, padding='SAME', group=2) # Kernel=3x3x256. Strides=1x1. Group=2\n",
    "    conv5 = maxpool2d(conv5, 3)                                              # POOL Layer. Kernel=3x3. Strides=2x2. \n",
    "    \n",
    "    # FC6 Layer. 4096\n",
    "    fc6W = net_data['fc6'][0]\n",
    "    fc6b = net_data['fc6'][1]\n",
    "    fc6 = tf.contrib.layers.flatten(conv5)\n",
    "    fc6 = tf.nn.relu(tf.nn.xw_plus_b(fc6, fc6W, fc6b))\n",
    "    \n",
    "    # FC7 Layer. 4096\n",
    "    fc7W = net_data['fc7'][0]\n",
    "    fc7b = net_data['fc7'][1]\n",
    "    fc7 = tf.nn.relu(tf.nn.xw_plus_b(fc6, fc7W, fc7b))\n",
    "    \n",
    "    if feature_extraction:\n",
    "        return fc7\n",
    "    \n",
    "    # FC8 Layer. 1000\n",
    "    fc8W = net_data['fc8'][0]\n",
    "    fc8b = net_data['fc8'][1]\n",
    "    logits = tf.nn.xw_plus_b(fc7, fc8W, fc8b)\n",
    "    probabilities = tf.nn.softmax(logits)\n",
    "    return probabilities"
   ]
  },
  {
   "cell_type": "markdown",
   "metadata": {},
   "source": [
    "### Inference on ImageNet"
   ]
  },
  {
   "cell_type": "code",
   "execution_count": 24,
   "metadata": {},
   "outputs": [
    {
     "name": "stdout",
     "output_type": "stream",
     "text": [
      "Image 0\n",
      "miniature poodle: 0.3895\n",
      "toy poodle: 0.2231\n",
      "Bedlington terrier: 0.1730\n",
      "standard poodle: 0.1496\n",
      "komondor: 0.0258\n",
      "\n",
      "Image 1\n",
      "weasel: 0.3313\n",
      "polecat, fitch, foulmart, foumart, Mustela putorius: 0.2803\n",
      "black-footed ferret, ferret, Mustela nigripes: 0.2105\n",
      "mink: 0.0814\n",
      "Arctic fox, white fox, Alopex lagopus: 0.0268\n",
      "\n",
      "Time taken: 3.704\n"
     ]
    }
   ],
   "source": [
    "tf.reset_default_graph()\n",
    "\n",
    "# Get the sample images for inference\n",
    "img1 = (imread(\"poodle.png\")[:, :, :3]).astype(np.float32)\n",
    "img2 = (imread(\"weasel.png\")[:, :, :3]).astype(np.float32)\n",
    "\n",
    "# Perform pre-processing\n",
    "img1 = img1 - np.mean(img1)\n",
    "img2 = img2 - np.mean(img2)\n",
    "\n",
    "# Define the placholders/hyperparams\n",
    "X = tf.placeholder(tf.float32, shape=[None, 227, 227, 3])\n",
    "\n",
    "# Define/Implement the model architecture\n",
    "probs = alexnet(X)\n",
    "\n",
    "# Perform the inference using the model\n",
    "start = time.time()\n",
    "with tf.Session() as session:\n",
    "    session.run(tf.global_variables_initializer())\n",
    "    output = session.run(probs, feed_dict={X: [img1, img2]})\n",
    "    \n",
    "# Print the output\n",
    "for img_idx in range(output.shape[0]):\n",
    "    idxs = np.argsort(output[img_idx, :])\n",
    "    print('Image {}'.format(img_idx))\n",
    "    \n",
    "    for i in range(5):\n",
    "        print('{}: {:.4f}'.format(class_names[idxs[-1-i]], output[img_idx, idxs[-1 -i]]))\n",
    "    print()\n",
    "    \n",
    "print('Time taken: {:.3f}'.format(time.time() - start))"
   ]
  },
  {
   "cell_type": "markdown",
   "metadata": {},
   "source": [
    "### Inference on Traffic Sign Dataset"
   ]
  },
  {
   "cell_type": "code",
   "execution_count": null,
   "metadata": {
    "collapsed": true
   },
   "outputs": [],
   "source": []
  },
  {
   "cell_type": "markdown",
   "metadata": {},
   "source": [
    "### Feature extraction using AlexNet"
   ]
  },
  {
   "cell_type": "markdown",
   "metadata": {},
   "source": [
    "### Training Feature Extractor for classification of images from the German Traffic Sign Dataset"
   ]
  },
  {
   "cell_type": "code",
   "execution_count": null,
   "metadata": {
    "collapsed": true
   },
   "outputs": [],
   "source": [
    "# Define placeholders\n",
    "IMAGE_SIZE = 227\n",
    "EPOCHS = 10\n",
    "BATCH_SIZE = 128\n",
    "LEARNING_RATE = 0.001\n",
    "N_LABELS = 43 # Number of labels for the GTS data set\n",
    "\n",
    "X = tf.placeholder(tf.float32, shape=[None, IMAGE_SIZE, IMAGE_SIZE, 3])\n",
    "y = tf.placeholder(tf.int32, shape=[None])\n",
    "y_one_hot = tf.one_hot(y, N_LABELS)\n",
    "learning_rate = tf.placeholder(tf.float32)\n"
   ]
  }
 ],
 "metadata": {
  "kernelspec": {
   "display_name": "Python 3",
   "language": "python",
   "name": "python3"
  },
  "language_info": {
   "codemirror_mode": {
    "name": "ipython",
    "version": 3
   },
   "file_extension": ".py",
   "mimetype": "text/x-python",
   "name": "python",
   "nbconvert_exporter": "python",
   "pygments_lexer": "ipython3",
   "version": "3.5.2"
  },
  "widgets": {
   "state": {},
   "version": "1.1.2"
  }
 },
 "nbformat": 4,
 "nbformat_minor": 2
}
