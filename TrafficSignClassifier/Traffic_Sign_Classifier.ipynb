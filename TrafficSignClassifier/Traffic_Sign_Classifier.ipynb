{
 "cells": [
  {
   "cell_type": "markdown",
   "metadata": {},
   "source": [
    "# Self-Driving Car Engineer Nanodegree\n",
    "\n",
    "## Deep Learning\n",
    "\n",
    "## Project: Build a Traffic Sign Recognition Classifier\n",
    "\n",
    "In this notebook, a template is provided for you to implement your functionality in stages, which is required to successfully complete this project. If additional code is required that cannot be included in the notebook, be sure that the Python code is successfully imported and included in your submission if necessary. \n",
    "\n",
    "> **Note**: Once you have completed all of the code implementations, you need to finalize your work by exporting the iPython Notebook as an HTML document. Before exporting the notebook to html, all of the code cells need to have been run so that reviewers can see the final implementation and output. You can then export the notebook by using the menu above and navigating to  \\n\",\n",
    "    \"**File -> Download as -> HTML (.html)**. Include the finished document along with this notebook as your submission. \n",
    "\n",
    "In addition to implementing code, there is a writeup to complete. The writeup should be completed in a separate file, which can be either a markdown file or a pdf document. There is a [write up template](https://github.com/udacity/CarND-Traffic-Sign-Classifier-Project/blob/master/writeup_template.md) that can be used to guide the writing process. Completing the code template and writeup template will cover all of the [rubric points](https://review.udacity.com/#!/rubrics/481/view) for this project.\n",
    "\n",
    "The [rubric](https://review.udacity.com/#!/rubrics/481/view) contains \"Stand Out Suggestions\" for enhancing the project beyond the minimum requirements. The stand out suggestions are optional. If you decide to pursue the \"stand out suggestions\", you can include the code in this Ipython notebook and also discuss the results in the writeup file.\n",
    "\n",
    "\n",
    ">**Note:** Code and Markdown cells can be executed using the **Shift + Enter** keyboard shortcut. In addition, Markdown cells can be edited by typically double-clicking the cell to enter edit mode."
   ]
  },
  {
   "cell_type": "markdown",
   "metadata": {},
   "source": [
    "---\n",
    "## Step 0: Load The Data"
   ]
  },
  {
   "cell_type": "code",
   "execution_count": 50,
   "metadata": {},
   "outputs": [],
   "source": [
    "# Necessary imports\n",
    "import pickle\n",
    "import tensorflow as tf\n",
    "import numpy as np\n",
    "import pandas as pd\n",
    "import seaborn as sns\n",
    "import matplotlib\n",
    "import matplotlib.pyplot as plt\n",
    "import matplotlib.gridspec as gridspec\n",
    "import cv2\n",
    "from sklearn.utils import shuffle\n",
    "from collections import Counter\n",
    "import math\n",
    "from tqdm import tnrange\n",
    "from tqdm import tqdm_notebook as tqdm\n",
    "\n",
    "%matplotlib inline\n",
    "\n",
    "# # Load the pickled data\n",
    "training_file = './traffic_signs_data/train.p'\n",
    "validation_file= './traffic_signs_data/valid.p'\n",
    "testing_file = './traffic_signs_data/test.p'\n",
    "\n",
    "with open(training_file, mode='rb') as f:\n",
    "    train = pickle.load(f)\n",
    "with open(validation_file, mode='rb') as f:\n",
    "    valid = pickle.load(f)\n",
    "with open(testing_file, mode='rb') as f:\n",
    "    test = pickle.load(f)\n",
    "    \n",
    "X_train, y_train = train['features'], train['labels']\n",
    "X_valid, y_valid = valid['features'], valid['labels']\n",
    "X_test, y_test = test['features'], test['labels']\n",
    "\n",
    "# Sanity checks\n",
    "assert(len(X_train) == len(y_train))\n",
    "assert(len(X_valid) == len(y_valid))\n",
    "assert(len(X_test) == len(y_test))\n",
    "\n",
    "# Load in the 'signnames.csv' as a pd.DataFrame\n",
    "sign_names_df = pd.read_csv('signnames.csv')"
   ]
  },
  {
   "cell_type": "markdown",
   "metadata": {},
   "source": [
    "---\n",
    "\n",
    "## Step 1: Dataset Summary & Exploration\n",
    "\n",
    "The pickled data is a dictionary with 4 key/value pairs:\n",
    "\n",
    "- `'features'` is a 4D array containing raw pixel data of the traffic sign images, (num examples, width, height, channels).\n",
    "- `'labels'` is a 1D array containing the label/class id of the traffic sign. The file `signnames.csv` contains id -> name mappings for each id.\n",
    "- `'sizes'` is a list containing tuples, (width, height) representing the original width and height the image.\n",
    "- `'coords'` is a list containing tuples, (x1, y1, x2, y2) representing coordinates of a bounding box around the sign in the image. **THESE COORDINATES ASSUME THE ORIGINAL IMAGE. THE PICKLED DATA CONTAINS RESIZED VERSIONS (32 by 32) OF THESE IMAGES**\n",
    "\n",
    "Complete the basic data summary below. Use python, numpy and/or pandas methods to calculate the data summary rather than hard coding the results. For example, the [pandas shape method](http://pandas.pydata.org/pandas-docs/stable/generated/pandas.DataFrame.shape.html) might be useful for calculating some of the summary results. "
   ]
  },
  {
   "cell_type": "markdown",
   "metadata": {},
   "source": [
    "### Provide a Basic Summary of the Data Set Using Python, Numpy and/or Pandas"
   ]
  },
  {
   "cell_type": "code",
   "execution_count": 51,
   "metadata": {},
   "outputs": [
    {
     "name": "stdout",
     "output_type": "stream",
     "text": [
      "Number of training examples = 34799\n",
      "Number of validation examples = 4410\n",
      "Number of testing examples = 12630\n",
      "Image data shape = (32, 32, 3)\n",
      "Number of classes = 43\n"
     ]
    }
   ],
   "source": [
    "### Replace each question mark with the appropriate value. \n",
    "### Use python, pandas or numpy methods rather than hard coding the results\n",
    "\n",
    "# Number of training examples\n",
    "n_train = len(X_train)\n",
    "\n",
    "# Number of validation examples\n",
    "n_validation = len(X_valid)\n",
    "\n",
    "# Number of testing examples.\n",
    "n_test = len(X_test)\n",
    "\n",
    "# What's the shape of an traffic sign image?\n",
    "image_shape = X_train[0].shape\n",
    "\n",
    "# How many unique classes/labels there are in the dataset.\n",
    "n_classes = sign_names_df.shape[0]\n",
    "\n",
    "print(\"Number of training examples =\", n_train)\n",
    "print(\"Number of validation examples =\", n_validation)\n",
    "print(\"Number of testing examples =\", n_test)\n",
    "print(\"Image data shape =\", image_shape)\n",
    "print(\"Number of classes =\", n_classes)"
   ]
  },
  {
   "cell_type": "markdown",
   "metadata": {},
   "source": [
    "### Include an exploratory visualization of the dataset"
   ]
  },
  {
   "cell_type": "markdown",
   "metadata": {},
   "source": [
    "Visualize the German Traffic Signs Dataset using the pickled file(s). This is open ended, suggestions include: plotting traffic sign images, plotting the count of each sign, etc. \n",
    "\n",
    "The [Matplotlib](http://matplotlib.org/) [examples](http://matplotlib.org/examples/index.html) and [gallery](http://matplotlib.org/gallery.html) pages are a great resource for doing visualizations in Python.\n",
    "\n",
    "**NOTE:** It's recommended you start with something simple first. If you wish to do more, come back to it after you've completed the rest of the sections. It can be interesting to look at the distribution of classes in the training, validation and test set. Is the distribution the same? Are there more examples of some classes than others?"
   ]
  },
  {
   "cell_type": "code",
   "execution_count": 52,
   "metadata": {},
   "outputs": [
    {
     "name": "stderr",
     "output_type": "stream",
     "text": [
      "/home/carnd/anaconda3/envs/carnd-term1/lib/python3.5/site-packages/matplotlib/font_manager.py:1297: UserWarning: findfont: Font family ['sans-serif'] not found. Falling back to DejaVu Sans\n",
      "  (prop.get_family(), self.defaultFamily[fontext]))\n"
     ]
    },
    {
     "data": {
      "image/png": "[encoded data removed]",
      "text/plain": [
       "<matplotlib.figure.Figure at 0x7f7abfe7f550>"
      ]
     },
     "metadata": {},
     "output_type": "display_data"
    }
   ],
   "source": [
    "### Data exploration visualization code goes here.\n",
    "plt.rcParams['image.interpolation'] = 'nearest'\n",
    "\n",
    "fig, ax = plt.subplots(figsize=(12, 25))\n",
    "counter = Counter(y_train)\n",
    "for c in range(n_classes):\n",
    "    class_idxs = np.where(y_train == c)[0]\n",
    "    with sns.axes_style('white'):\n",
    "        plt.subplot(9, 5, c + 1)\n",
    "        \n",
    "    plt.imshow(X_train[np.random.choice(class_idxs)])\n",
    "    plt.tick_params(\n",
    "        which='both', bottom='off', left='off', top='off', right='off', labelbottom='off', labelleft='off')\n",
    "    plt.ylabel(sign_names_df.loc[c].SignName, fontsize=200/(np.max([20,len(sign_names_df.loc[c].SignName)])))\n",
    "    plt.title('n = {}'.format(counter[c]))   \n",
    "\n",
    "plt.show()"
   ]
  },
  {
   "cell_type": "code",
   "execution_count": 53,
   "metadata": {},
   "outputs": [
    {
     "name": "stdout",
     "output_type": "stream",
     "text": [
      "The mean # examples for the Train set is: 809.3\n",
      "The mean # examples for the Validation set is: 102.6\n",
      "The mean # examples for the Test set is: 293.7\n"
     ]
    },
    {
     "name": "stderr",
     "output_type": "stream",
     "text": [
      "/home/carnd/anaconda3/envs/carnd-term1/lib/python3.5/site-packages/matplotlib/font_manager.py:1297: UserWarning: findfont: Font family ['sans-serif'] not found. Falling back to DejaVu Sans\n",
      "  (prop.get_family(), self.defaultFamily[fontext]))\n"
     ]
    },
    {
     "data": {
      "image/png": "[encoded data removed]",
      "text/plain": [
       "<matplotlib.figure.Figure at 0x7f7acc3721d0>"
      ]
     },
     "metadata": {},
     "output_type": "display_data"
    }
   ],
   "source": [
    "### 2. Plot Bar charts to see the distribution of the labels across the training/validation/test sets\n",
    "matplotlib.rcParams['axes.labelsize'] = 20\n",
    "matplotlib.rcParams['ytick.labelsize'] = 20\n",
    "matplotlib.rcParams['xtick.labelsize'] = 20\n",
    "matplotlib.rcParams['font.size'] = 20\n",
    "\n",
    "def plot_labels_dist(data):\n",
    "    n_plots = len(data)\n",
    "    height = 10 * n_plots\n",
    "    fig, axes = plt.subplots(n_plots, figsize=(30, height))\n",
    "\n",
    "    # TODO: add alpha for bar chart\n",
    "    for idx, ele in enumerate(data):    \n",
    "        labels, title, color = ele\n",
    "        counter = Counter(labels)\n",
    "        x_coordinates = np.arange(len(counter))\n",
    "        frequencies = counter.values()\n",
    "        mean = np.mean(list(frequencies))\n",
    "        \n",
    "        if n_plots == 1:\n",
    "            ax = axes\n",
    "        else:  \n",
    "            ax = axes[idx]\n",
    "        \n",
    "        ax.set_title(title)\n",
    "        ax.bar(x_coordinates, frequencies, align='center', color=color)\n",
    "        print('The mean # examples for the {} set is: {:.1f}'.format(title, mean))\n",
    "\n",
    "\n",
    "        ax.xaxis.set_major_locator(plt.FixedLocator(x_coordinates))\n",
    "        ax.set_xlabel('Label Id')\n",
    "        ax.set_ylabel('Frequencies')\n",
    "\n",
    "        # Plotting a dashed line for the mean frequency\n",
    "        ax.plot([0., 43.], [mean, mean], \"k--\")\n",
    "\n",
    "    plt.show()\n",
    "\n",
    "plot_labels_dist([(y_train, 'Train', 'c'), (y_valid, 'Validation', 'm'), (y_test, 'Test', 'g')])"
   ]
  },
  {
   "cell_type": "markdown",
   "metadata": {},
   "source": [
    "----\n",
    "\n",
    "## Step 2: Design and Test a Model Architecture\n",
    "\n",
    "Design and implement a deep learning model that learns to recognize traffic signs. Train and test your model on the [German Traffic Sign Dataset](http://benchmark.ini.rub.de/?section=gtsrb&subsection=dataset).\n",
    "\n",
    "The LeNet-5 implementation shown in the [classroom](https://classroom.udacity.com/nanodegrees/nd013/parts/fbf77062-5703-404e-b60c-95b78b2f3f9e/modules/6df7ae49-c61c-4bb2-a23e-6527e69209ec/lessons/601ae704-1035-4287-8b11-e2c2716217ad/concepts/d4aca031-508f-4e0b-b493-e7b706120f81) at the end of the CNN lesson is a solid starting point. You'll have to change the number of classes and possibly the preprocessing, but aside from that it's plug and play! \n",
    "\n",
    "With the LeNet-5 solution from the lecture, you should expect a validation set accuracy of about 0.89. To meet specifications, the validation set accuracy will need to be at least 0.93. It is possible to get an even higher accuracy, but 0.93 is the minimum for a successful project submission. \n",
    "\n",
    "There are various aspects to consider when thinking about this problem:\n",
    "\n",
    "- Neural network architecture (is the network over or underfitting?)\n",
    "- Play around preprocessing techniques (normalization, rgb to grayscale, etc)\n",
    "- Number of examples per label (some have more than others).\n",
    "- Generate fake data.\n",
    "\n",
    "Here is an example of a [published baseline model on this problem](http://yann.lecun.com/exdb/publis/pdf/sermanet-ijcnn-11.pdf). It's not required to be familiar with the approach used in the paper but, it's good practice to try to read papers like these."
   ]
  },
  {
   "cell_type": "markdown",
   "metadata": {},
   "source": [
    "### Pre-process the Data Set (normalization, grayscale, etc.)"
   ]
  },
  {
   "cell_type": "markdown",
   "metadata": {},
   "source": [
    "Minimally, the image data should be normalized so that the data has mean zero and equal variance. For image data, `(pixel - 128)/ 128` is a quick way to approximately normalize the data and can be used in this project. \n",
    "\n",
    "Other pre-processing steps are optional. You can try different techniques to see if it improves performance. \n",
    "\n",
    "Use the code cell (or multiple code cells, if necessary) to implement the first step of your project."
   ]
  },
  {
   "cell_type": "code",
   "execution_count": 54,
   "metadata": {
    "collapsed": true
   },
   "outputs": [],
   "source": [
    "# Peform data augmentation\n",
    "IMAGE_SIZE = 32\n",
    "\n",
    "def centrally_scale_images(X_imgs):\n",
    "    scales = np.linspace(0.6, 1.1, 5)\n",
    "    # Calculating tf.image.crop_and_resize() params\n",
    "    boxes = np.zeros([len(scales), 4], dtype=np.float32)\n",
    "    for index, scale in enumerate(scales):\n",
    "        x1 = y1 = 0.5 - 0.5 * scale # To scale centrally\n",
    "        x2 = y2 = 0.5 + 0.5 * scale\n",
    "        boxes[index] = np.array([y1, x1, y2, x2], dtype=np.float32)\n",
    "\n",
    "    box_ind = np.zeros(len(scales), dtype=np.int32)\n",
    "    crop_size = np.array([IMAGE_SIZE, IMAGE_SIZE], dtype=np.int32)\n",
    "\n",
    "    X_scale_data = []\n",
    "    tf.reset_default_graph()\n",
    "    X = tf.placeholder(tf.float32, shape=[1, IMAGE_SIZE, IMAGE_SIZE, 3])\n",
    "    tf_img = tf.image.crop_and_resize(X, boxes, box_ind, crop_size)\n",
    "\n",
    "    with tf.Session() as session:\n",
    "        for img in X_imgs:\n",
    "            batch_img = np.expand_dims(img, axis=0)\n",
    "            scaled_imgs = session.run(tf_img, feed_dict={X: batch_img})\n",
    "            X_scale_data.extend(scaled_imgs)\n",
    "\n",
    "        X_scale_data = np.array(X_scale_data, dtype=np.uint8)\n",
    "        return X_scale_data\n",
    "\n",
    "def get_translate_params(index): \n",
    "    if index == 0: # Translate left 20%\n",
    "        offset = np.array([0.0, 0.2], dtype=np.float32)\n",
    "        size = np.array([IMAGE_SIZE, math.ceil(0.8 * IMAGE_SIZE)], dtype=np.float32)\n",
    "        w_start = 0\n",
    "        w_end = int(math.ceil(0.8 * IMAGE_SIZE))\n",
    "        h_start = 0\n",
    "        h_end = IMAGE_SIZE\n",
    "    elif index == 1: # Translate right 20%\n",
    "        offset = np.array([0.0, -0.2], dtype=np.float32)\n",
    "        size = np.array([IMAGE_SIZE, math.ceil(0.8 * IMAGE_SIZE)], dtype=np.float32)\n",
    "        w_start = int(math.floor(0.2 * IMAGE_SIZE))\n",
    "        w_end = IMAGE_SIZE\n",
    "        h_start = 0\n",
    "        h_end = IMAGE_SIZE\n",
    "    elif index == 2: # Translate top 20%\n",
    "        offset = np.array([0.2, 0.0], dtype=np.float32)\n",
    "        size = np.array([math.ceil(0.8 * IMAGE_SIZE), IMAGE_SIZE], dtype=np.float32)\n",
    "        w_start = 0\n",
    "        w_end = IMAGE_SIZE\n",
    "        h_start = 0\n",
    "        h_end = int(math.ceil(0.8 * IMAGE_SIZE))    \n",
    "    elif index == 3: # Translate bottom 20%\n",
    "        offset = np.array([-0.2, 0.0], dtype=np.float32)\n",
    "        size = np.array([math.ceil(0.8 * IMAGE_SIZE), IMAGE_SIZE], dtype=np.float32)\n",
    "        w_start = 0\n",
    "        w_end = IMAGE_SIZE\n",
    "        h_start = int(math.floor(0.2 * IMAGE_SIZE))\n",
    "        h_end = IMAGE_SIZE \n",
    "        \n",
    "    return offset, size, w_start, w_end, h_start, h_end\n",
    "\n",
    "def translate_images(X_imgs):\n",
    "    X_imgs = np.array(X_imgs, dtype=np.float32)\n",
    "    offsets = np.zeros([len(X_imgs), 2], dtype=np.float32)\n",
    "    n_translations = 4\n",
    "    X_translated_data = []\n",
    "\n",
    "    tf.reset_default_graph()\n",
    "    with tf.Session() as session:\n",
    "        for i in range(n_translations):\n",
    "            X_translated =\\\n",
    "                np.zeros([len(X_imgs), IMAGE_SIZE, IMAGE_SIZE, 3], dtype=np.float32)\n",
    "                \n",
    "            base_offset, size, w_start, w_end, h_start, h_end = get_translate_params(i)\n",
    "            offsets[:,:] = base_offset\n",
    "            glimpses = tf.image.extract_glimpse(X_imgs, size, offsets)\n",
    "            glimpses = session.run(glimpses)\n",
    "            \n",
    "            X_translated[:, h_start:h_end, w_start:w_end, :] = glimpses\n",
    "            X_translated_data.extend(X_translated)\n",
    "     \n",
    "    X_translated_data = np.array(X_translated_data, dtype=np.uint8)\n",
    "    return X_translated_data\n",
    "\n",
    "def finer_rotate_images(X_imgs):\n",
    "    tf.reset_default_graph()\n",
    "    \n",
    "    X_rotate_data = []\n",
    "    X = tf.placeholder(tf.float32, shape=[None, IMAGE_SIZE, IMAGE_SIZE, 3])\n",
    "    radian = tf.placeholder(tf.float32, shape=[len(X_imgs)])\n",
    "    tf_img = tf.contrib.image.rotate(X, radian)\n",
    "    \n",
    "    n_rotations = np.linspace(-15, 15, 6)\n",
    "    with tf.Session() as session:\n",
    "        for degree in n_rotations:\n",
    "            radian_val = degree * np.pi / 180\n",
    "            radian_arr = [radian_val] * len(X_imgs)\n",
    "            rotated_imgs = session.run(tf_img, feed_dict={\n",
    "                X: X_imgs, radian: radian_arr\n",
    "            })\n",
    "            X_rotate_data.extend(rotated_imgs)\n",
    "\n",
    "    X_rotate_data = np.array(X_rotate_data, dtype=np.uint8)\n",
    "    return X_rotate_data\n",
    "\n",
    "def add_gaussian_noise(X_imgs):\n",
    "    gaussian_noise_imgs = []\n",
    "    row, col, _ = X_imgs[0].shape\n",
    "    \n",
    "    # Gaussian distribution params\n",
    "    mean = 0.0; var = 0.1; std = var ** 0.5\n",
    "    for X_img in X_imgs:\n",
    "        X_img = X_img.astype(np.float32)\n",
    "        gaussian = np.random.random((row, col, 1)).astype(np.float32)\n",
    "        gaussian = np.concatenate((gaussian, gaussian, gaussian), axis = 2)\n",
    "        gaussian_img = cv2.addWeighted(X_img, 0.75, 0.25 * gaussian, 0.25, 0)\n",
    "        gaussian_noise_imgs.append(gaussian_img)\n",
    "\n",
    "    gaussian_noise_imgs = np.array(gaussian_noise_imgs, dtype = np.uint8)\n",
    "\n",
    "    return gaussian_noise_imgs\n",
    "\n",
    "def motion_blur(X_imgs):\n",
    "    X_out = []\n",
    "    \n",
    "    # generating the kernel\n",
    "    size = 4\n",
    "    kernel = np.zeros([size, size])\n",
    "    kernel[int((size-1)/2), :] = np.ones(size)\n",
    "    kernel = kernel / size\n",
    "    \n",
    "    for idx, img in enumerate(X_imgs):\n",
    "        X_out.append(cv2.filter2D(img, -1, kernel))\n",
    "    return np.array(X_out, dtype=np.uint8)\n",
    "\n",
    "def augment_data(X_data, y_data):\n",
    "    # Get a list of labels that have low samples\n",
    "    # Get all the images for those labels\n",
    "    # for each one fo those images choose from 1of4 tranforms\n",
    "    # extend the training set\n",
    "    #plot the resulting dist\n",
    "    # The density param allows us to get values of the pdf at the bin\n",
    "    print('Starting the image augmentation process...')\n",
    "    X_data_aug = []\n",
    "    y_data_aug = []\n",
    "    \n",
    "    hist, _ = np.histogram(y_data, n_classes, density=True)\n",
    "    labels_to_augment = np.where(hist < 0.02)[0]\n",
    "    \n",
    "    for label in labels_to_augment:\n",
    "        images = X_data[y_data == label]\n",
    "        gen_images = []\n",
    "        \n",
    "        for img in tqdm(images, desc='Label {}'.format(label)):\n",
    "            aug_type = np.random.randint(0, 3)\n",
    "            if aug_type == 0:\n",
    "                gen_images.extend(centrally_scale_images([img]))\n",
    "            elif aug_type == 1:\n",
    "                gen_images.extend(translate_images([img]))\n",
    "            elif aug_type == 2:\n",
    "                gen_images.extend(finer_rotate_images([img]))\n",
    "            elif aug_type == 3:\n",
    "                gen_images.extend(add_gaussian_noise([img]))\n",
    "        \n",
    "        print('Generated {} new images for label {}.'.format(len(gen_images), label))\n",
    "        X_data_aug.extend(gen_images)\n",
    "        y_data_aug.extend([label] * len(gen_images))\n",
    "    \n",
    "    print('Adding motion blur to images across the original data set...')\n",
    "    X_data_mb = motion_blur(X_data)\n",
    "    y_data_mb = y_data\n",
    "    print('Number of mb images: {}/{}'.format(len(X_data_mb), len(y_data_mb)))\n",
    "    X_data_aug.extend(X_data_mb)\n",
    "    y_data_aug.extend(y_data_mb)\n",
    "\n",
    "    print('Image augmentation process complete.')\n",
    "    return np.array(X_data_aug, dtype=np.uint8), np.array(y_data_aug, dtype=np.uint8)"
   ]
  },
  {
   "cell_type": "code",
   "execution_count": 55,
   "metadata": {
    "scrolled": false
   },
   "outputs": [
    {
     "ename": "AttributeError",
     "evalue": "module 'tensorflow.contrib' has no attribute 'image'",
     "output_type": "error",
     "traceback": [
      "\u001b[0;31m---------------------------------------------------------------------------\u001b[0m",
      "\u001b[0;31mAttributeError\u001b[0m                            Traceback (most recent call last)",
      "\u001b[0;32m<ipython-input-55-b709ae9d7917>\u001b[0m in \u001b[0;36m<module>\u001b[0;34m()\u001b[0m\n\u001b[1;32m     16\u001b[0m \u001b[0mplt\u001b[0m\u001b[0;34m.\u001b[0m\u001b[0mtitle\u001b[0m\u001b[0;34m(\u001b[0m\u001b[0;34m'Translation'\u001b[0m\u001b[0;34m)\u001b[0m\u001b[0;34m\u001b[0m\u001b[0m\n\u001b[1;32m     17\u001b[0m \u001b[0mplt\u001b[0m\u001b[0;34m.\u001b[0m\u001b[0msubplot\u001b[0m\u001b[0;34m(\u001b[0m\u001b[0mgs\u001b[0m\u001b[0;34m[\u001b[0m\u001b[0;36m1\u001b[0m\u001b[0;34m,\u001b[0m \u001b[0;36m0\u001b[0m\u001b[0;34m]\u001b[0m\u001b[0;34m)\u001b[0m\u001b[0;34m\u001b[0m\u001b[0m\n\u001b[0;32m---> 18\u001b[0;31m \u001b[0mplt\u001b[0m\u001b[0;34m.\u001b[0m\u001b[0mimshow\u001b[0m\u001b[0;34m(\u001b[0m\u001b[0mfiner_rotate_images\u001b[0m\u001b[0;34m(\u001b[0m\u001b[0;34m[\u001b[0m\u001b[0mimg\u001b[0m\u001b[0;34m]\u001b[0m\u001b[0;34m)\u001b[0m\u001b[0;34m[\u001b[0m\u001b[0;36m0\u001b[0m\u001b[0;34m]\u001b[0m\u001b[0;34m)\u001b[0m\u001b[0;34m\u001b[0m\u001b[0m\n\u001b[0m\u001b[1;32m     19\u001b[0m \u001b[0mplt\u001b[0m\u001b[0;34m.\u001b[0m\u001b[0mtitle\u001b[0m\u001b[0;34m(\u001b[0m\u001b[0;34m'Rotation'\u001b[0m\u001b[0;34m)\u001b[0m\u001b[0;34m\u001b[0m\u001b[0m\n\u001b[1;32m     20\u001b[0m \u001b[0mplt\u001b[0m\u001b[0;34m.\u001b[0m\u001b[0msubplot\u001b[0m\u001b[0;34m(\u001b[0m\u001b[0mgs\u001b[0m\u001b[0;34m[\u001b[0m\u001b[0;36m1\u001b[0m\u001b[0;34m,\u001b[0m \u001b[0;36m1\u001b[0m\u001b[0;34m]\u001b[0m\u001b[0;34m)\u001b[0m\u001b[0;34m\u001b[0m\u001b[0m\n",
      "\u001b[0;32m<ipython-input-54-d50a33e808c8>\u001b[0m in \u001b[0;36mfiner_rotate_images\u001b[0;34m(X_imgs)\u001b[0m\n\u001b[1;32m     88\u001b[0m     \u001b[0mX\u001b[0m \u001b[0;34m=\u001b[0m \u001b[0mtf\u001b[0m\u001b[0;34m.\u001b[0m\u001b[0mplaceholder\u001b[0m\u001b[0;34m(\u001b[0m\u001b[0mtf\u001b[0m\u001b[0;34m.\u001b[0m\u001b[0mfloat32\u001b[0m\u001b[0;34m,\u001b[0m \u001b[0mshape\u001b[0m\u001b[0;34m=\u001b[0m\u001b[0;34m[\u001b[0m\u001b[0;32mNone\u001b[0m\u001b[0;34m,\u001b[0m \u001b[0mIMAGE_SIZE\u001b[0m\u001b[0;34m,\u001b[0m \u001b[0mIMAGE_SIZE\u001b[0m\u001b[0;34m,\u001b[0m \u001b[0;36m3\u001b[0m\u001b[0;34m]\u001b[0m\u001b[0;34m)\u001b[0m\u001b[0;34m\u001b[0m\u001b[0m\n\u001b[1;32m     89\u001b[0m     \u001b[0mradian\u001b[0m \u001b[0;34m=\u001b[0m \u001b[0mtf\u001b[0m\u001b[0;34m.\u001b[0m\u001b[0mplaceholder\u001b[0m\u001b[0;34m(\u001b[0m\u001b[0mtf\u001b[0m\u001b[0;34m.\u001b[0m\u001b[0mfloat32\u001b[0m\u001b[0;34m,\u001b[0m \u001b[0mshape\u001b[0m\u001b[0;34m=\u001b[0m\u001b[0;34m[\u001b[0m\u001b[0mlen\u001b[0m\u001b[0;34m(\u001b[0m\u001b[0mX_imgs\u001b[0m\u001b[0;34m)\u001b[0m\u001b[0;34m]\u001b[0m\u001b[0;34m)\u001b[0m\u001b[0;34m\u001b[0m\u001b[0m\n\u001b[0;32m---> 90\u001b[0;31m     \u001b[0mtf_img\u001b[0m \u001b[0;34m=\u001b[0m \u001b[0mtf\u001b[0m\u001b[0;34m.\u001b[0m\u001b[0mcontrib\u001b[0m\u001b[0;34m.\u001b[0m\u001b[0mimage\u001b[0m\u001b[0;34m.\u001b[0m\u001b[0mrotate\u001b[0m\u001b[0;34m(\u001b[0m\u001b[0mX\u001b[0m\u001b[0;34m,\u001b[0m \u001b[0mradian\u001b[0m\u001b[0;34m)\u001b[0m\u001b[0;34m\u001b[0m\u001b[0m\n\u001b[0m\u001b[1;32m     91\u001b[0m \u001b[0;34m\u001b[0m\u001b[0m\n\u001b[1;32m     92\u001b[0m     \u001b[0mn_rotations\u001b[0m \u001b[0;34m=\u001b[0m \u001b[0mnp\u001b[0m\u001b[0;34m.\u001b[0m\u001b[0mlinspace\u001b[0m\u001b[0;34m(\u001b[0m\u001b[0;34m-\u001b[0m\u001b[0;36m15\u001b[0m\u001b[0;34m,\u001b[0m \u001b[0;36m15\u001b[0m\u001b[0;34m,\u001b[0m \u001b[0;36m6\u001b[0m\u001b[0;34m)\u001b[0m\u001b[0;34m\u001b[0m\u001b[0m\n",
      "\u001b[0;31mAttributeError\u001b[0m: module 'tensorflow.contrib' has no attribute 'image'"
     ]
    },
    {
     "name": "stderr",
     "output_type": "stream",
     "text": [
      "/home/carnd/anaconda3/envs/carnd-term1/lib/python3.5/site-packages/matplotlib/font_manager.py:1297: UserWarning: findfont: Font family ['sans-serif'] not found. Falling back to DejaVu Sans\n",
      "  (prop.get_family(), self.defaultFamily[fontext]))\n"
     ]
    },
    {
     "data": {
      "image/png": "[encoded data removed]",
      "text/plain": [
       "<matplotlib.figure.Figure at 0x7f7abf6c6f60>"
      ]
     },
     "metadata": {},
     "output_type": "display_data"
    }
   ],
   "source": [
    "# Visualise the different data augmentation techniques on an image from the data set\n",
    "img = X_train[2238]\n",
    "\n",
    "gs = gridspec.GridSpec(2, 3)\n",
    "gs.update(wspace = 0.30, hspace = 0.0005)\n",
    "\n",
    "fig, ax = plt.subplots(figsize = (12, 12))\n",
    "plt.subplot(gs[0, 0])\n",
    "plt.imshow(img)\n",
    "plt.title('Base Image')\n",
    "plt.subplot(gs[0, 1])\n",
    "plt.imshow(centrally_scale_images([img])[0])\n",
    "plt.title('Central Scaling')\n",
    "plt.subplot(gs[0, 2])\n",
    "plt.imshow(translate_images([img])[0])\n",
    "plt.title('Translation')\n",
    "plt.subplot(gs[1, 0])\n",
    "plt.imshow(finer_rotate_images([img])[0])\n",
    "plt.title('Rotation')\n",
    "plt.subplot(gs[1, 1])\n",
    "plt.imshow(add_gaussian_noise([img])[0])\n",
    "plt.title('Gaussian Noise')\n",
    "plt.subplot(gs[1, 2])\n",
    "plt.imshow(motion_blur([img])[0])\n",
    "plt.title('Motion Blur')\n",
    "plt.show()"
   ]
  },
  {
   "cell_type": "code",
   "execution_count": null,
   "metadata": {
    "scrolled": false
   },
   "outputs": [],
   "source": [
    "# Perform data augmentation for the training set\n",
    "X_train_aug, y_train_aug = augment_data(X_train, y_train)\n",
    "\n",
    "# Sanity check\n",
    "assert(len(X_train_aug) == len(y_train_aug))"
   ]
  },
  {
   "cell_type": "code",
   "execution_count": null,
   "metadata": {},
   "outputs": [],
   "source": [
    "### Image augmentation summary\n",
    "print('Total # images prior to augmentation {}'.format(len(X_train)))\n",
    "print('Total # of augmented images {}'.format(len(X_train_aug)))\n",
    "\n",
    "# Combine the augmented data with existing training set\n",
    "X_train = np.concatenate((X_train, X_train_aug), axis=0)\n",
    "y_train = np.concatenate((y_train, y_train_aug), axis=0)\n",
    "print('Total # of images after combination with aug data {}'.format(len(X_train)))\n",
    "\n",
    "### Visualise the new label distribution\n",
    "plot_labels_dist([(y_train, 'Train', 'c')])"
   ]
  },
  {
   "cell_type": "code",
   "execution_count": null,
   "metadata": {
    "collapsed": true
   },
   "outputs": [],
   "source": [
    "# def mean_normalisation(data):\n",
    "#     image_values = np.arange(0, 256)\n",
    "#     mu, sigma = np.mean(image_values), np.std(image_values)\n",
    "#     data = (data - mu) / sigma\n",
    "#     return data\n",
    "\n",
    "# def rgb2gray(X):\n",
    "#     X = 0.2989 * X[...,0] + 0.5870 * X[...,1] + 0.1140 * X[...,2]\n",
    "#     X = np.sum(X/3, axis=2, keepdims=True)\n",
    "#     return X.squeeze()\n",
    "# \n",
    "# plt.imshow(rgb2gray(X_train[71030]).squeeze(), cmap='gray')\n",
    "# a = rgb2gray(mean_normalisation(X_train[25500]))\n",
    "# a = mean_normalisation(rgb2gray(X_train[23500]))\n",
    "# a = rgb2gray(X_train[34561] - X_train.mean(axis=0))\n",
    "\n",
    "# a = mean_normalisation(X_train[2350])\n",
    "# a.shape\n",
    "# plt.imshow(a, cmap='gray')\n",
    "# plt.imshow(X_train[25500])\n",
    "# X_train[2900]\n",
    "# plt.imshow(rgb2gray(centrally_scale_images([X_train[2350]])[0]), cmap='gray')"
   ]
  },
  {
   "cell_type": "code",
   "execution_count": null,
   "metadata": {
    "collapsed": true
   },
   "outputs": [],
   "source": [
    "### Preprocess the data here. It is required to normalize the data. Other preprocessing steps could include \n",
    "### converting to grayscale, etc.\n",
    "\n",
    "# def mean_normalisation(data):\n",
    "#     image_values = np.arange(0, 256)\n",
    "#     mu, sigma = np.mean(image_values), np.std(image_values)\n",
    "#     data = (data - mu) / sigma\n",
    "#     return data    \n",
    "\n",
    "# # Convert the color space for the Training set from RGB -> Gray scale\n",
    "# def rgb2gray(X):\n",
    "#     X = 0.2989 * X[...,0] + 0.5870 * X[...,1] + 0.1140 * X[...,2]\n",
    "#     return X\n",
    "\n",
    "# # Perform normalisation over the training/validation/test set to achieve mu = 0 and sigma = 1\n",
    "# X_train = rgb2gray(mean_normalisation(X_train))\n",
    "# X_valid = rgb2gray(mean_normalisation(X_valid))\n",
    "# X_test  = rgb2gray(mean_normalisation(X_test))"
   ]
  },
  {
   "cell_type": "code",
   "execution_count": 9,
   "metadata": {},
   "outputs": [],
   "source": [
    "from skimage import exposure\n",
    "\n",
    "def pre_process_image(img):\n",
    "    img_p = cv2.cvtColor(img, (cv2.COLOR_BGR2YUV))[:,:,0]\n",
    "    img_p = (img_p / 255.0).astype(np.float32) # [0-1] interval\n",
    "    img_p = (exposure.equalize_adapthist(img_p) - 0.5) # [-0.5, +0.5] interval\n",
    "\n",
    "    return img_p\n",
    "\n",
    "def pre_process_images(X):\n",
    "    print('Input shape: {}'.format(X.shape))\n",
    "    X_out = np.empty([X.shape[0], X.shape[1], X.shape[2]]).astype(np.float32) \n",
    "    print('Output shape: {}'.format(X_out.shape))\n",
    "    \n",
    "    for idx, img in tqdm(enumerate(X)):\n",
    "        X_out[idx] = pre_process_image(img)\n",
    "    return X_out\n",
    "\n",
    "# Perform normalisation over the training/validation/test set to achieve mu = 0 and sigma = 1\n",
    "# X_train = pre_process_images(X_train)\n",
    "# X_valid = pre_process_images(X_valid)\n",
    "# X_test  = pre_process_images(X_test)"
   ]
  },
  {
   "cell_type": "code",
   "execution_count": null,
   "metadata": {
    "collapsed": true
   },
   "outputs": [],
   "source": [
    "# Sanity check the shape after color space change from RGB -> Gray scale\n",
    "assert(len(X_train) == len(y_train))\n",
    "assert(len(X_valid) == len(y_valid))\n",
    "assert(len(X_test) == len(y_test))\n",
    "\n",
    "print('Shape {} Mean {:.3f} Std {:.3f} Min {:.3f} Max {:.3f}'\n",
    "      .format(X_train.shape, X_train.mean(), X_train.std(), X_train.min(), X_train.max()))\n",
    "\n",
    "# Visualise some of the gray scale images\n",
    "plt.imshow(X_train[2350], cmap='gray')"
   ]
  },
  {
   "cell_type": "code",
   "execution_count": null,
   "metadata": {
    "collapsed": true
   },
   "outputs": [],
   "source": [
    "### Pickle the pre-processed data sets\n",
    "print('CHECKPOINT: Pickling the pre-processed data sets...')\n",
    "try:\n",
    "    with open('./preprocessed_dataset_1.p', 'wb') as f:\n",
    "        d = {\n",
    "            'features_train': X_train,\n",
    "            'labels_train': y_train,\n",
    "            'features_valid': X_valid,\n",
    "            'labels_valid': y_valid,\n",
    "            'features_test': X_test,\n",
    "            'labels_test': y_test,\n",
    "        }\n",
    "\n",
    "        pickle.dump(d, f)\n",
    "except e:\n",
    "    print('Failed to pickle the data sets! Exception: ' + e)\n",
    "    \n",
    "print('Successfully pickled the data sets!')"
   ]
  },
  {
   "cell_type": "markdown",
   "metadata": {},
   "source": [
    "### Model Architecture"
   ]
  },
  {
   "cell_type": "code",
   "execution_count": 3,
   "metadata": {},
   "outputs": [],
   "source": [
    "# Necessary imports\n",
    "import pickle\n",
    "import tensorflow as tf\n",
    "import numpy as np\n",
    "import pandas as pd\n",
    "import seaborn as sns\n",
    "import matplotlib\n",
    "import matplotlib.pyplot as plt\n",
    "import matplotlib.gridspec as gridspec\n",
    "import cv2\n",
    "from sklearn.utils import shuffle\n",
    "from collections import Counter\n",
    "import math\n",
    "from tqdm import tnrange\n",
    "from tqdm import tqdm_notebook as tqdm\n",
    "\n",
    "%matplotlib inline\n",
    "EPOCHS = 20\n",
    "BATCH_SIZE = 128\n",
    "\n",
    "# # Load the pickled data\n",
    "data_file = './preprocessed_dataset_1.p'\n",
    "with open(data_file, mode='rb') as f:\n",
    "    data = pickle.load(f)\n",
    "    \n",
    "X_train, y_train = data['features_train'], data['labels_train']\n",
    "X_valid, y_valid = data['features_valid'], data['labels_valid']\n",
    "X_test, y_test = data['features_test'], data['labels_test']\n",
    "\n",
    "# Sanity checks\n",
    "assert(len(X_train) == len(y_train))\n",
    "assert(len(X_valid) == len(y_valid))\n",
    "assert(len(X_test) == len(y_test))\n",
    "\n",
    "# # train_p ############################################\n",
    "# with open(\"./data/traffic-signs-data/train_p.p\", mode='rb') as f:\n",
    "#     dataset = pickle.load(f)\n",
    "# X_train_p, y_train_p = dataset['features'], dataset['labels']\n",
    "\n",
    "# # train_aug_p ############################################\n",
    "# with open(\"./data/traffic-signs-data/train_aug_p.p\", mode='rb') as f:\n",
    "#     dataset = pickle.load(f)\n",
    "# X_train_aug_p, y_train_aug_p = dataset['features'], dataset['labels']\n",
    "\n",
    "# # train_aug_mb_p ############################################\n",
    "# with open(\"./data/traffic-signs-data/train_aug_mb_p.p\", mode='rb') as f:\n",
    "#     dataset = pickle.load(f)\n",
    "# X_train_aug_mb_p, y_train_aug_mb_p = dataset['features'], dataset['labels']\n",
    "\n",
    "# # valid_p  ############################################\n",
    "# with open(\"./data/traffic-signs-data/valid_p.p\", mode='rb') as f:\n",
    "#     dataset = pickle.load(f)\n",
    "# X_valid, y_valid = dataset['features'].squeeze(), dataset['labels']\n",
    "\n",
    "# # valid_p  ############################################\n",
    "# with open(\"./data/traffic-signs-data/test_p.p\", mode='rb') as f:\n",
    "#     dataset = pickle.load(f)\n",
    "# X_test, y_test = dataset['features'].squeeze(), dataset['labels']\n",
    "\n",
    "# from sklearn.utils import shuffle\n",
    "# X_train_p = np.concatenate((X_train_p, X_train_aug_p,X_train_aug_mb_p), axis=0).squeeze()\n",
    "# y_train_p = np.concatenate((y_train_p, y_train_aug_p,y_train_aug_mb_p), axis=0)\n",
    "# print(\"Before concatenation:\")\n",
    "# print(X_train_aug_p.shape)\n",
    "\n",
    "# X_train, y_train = shuffle(X_train_p, y_train_p)\n",
    "# print(\"After concatenation:\")\n",
    "# print(X_test.shape)\n",
    "\n",
    "tf.reset_default_graph()\n",
    "\n",
    "n_classes = 43"
   ]
  },
  {
   "cell_type": "code",
   "execution_count": 4,
   "metadata": {},
   "outputs": [
    {
     "name": "stdout",
     "output_type": "stream",
     "text": [
      "Training phase -> perform Dropout\n",
      "[None, 7, 7, 16]\n",
      "[None, 784]\n",
      "[None, 1584]\n"
     ]
    }
   ],
   "source": [
    "from tensorflow.contrib.layers import flatten\n",
    "\n",
    "x = tf.placeholder(tf.float32, (None, 32, 32))\n",
    "# x = tf.placeholder(tf.float32, (None, 32, 32, 1))\n",
    "y = tf.placeholder(tf.int32, (None))\n",
    "learning_rate = tf.placeholder(tf.float32)\n",
    "one_hot_y = tf.one_hot(y, n_classes)\n",
    "apply_dropout = tf.placeholder(tf.bool)\n",
    "BATCH_SIZE = 128\n",
    "EPOCHS = 10\n",
    "dropout = tf.placeholder(tf.float32, shape=[4])\n",
    "def LeNet(x, weights, biases, apply_dropout):\n",
    "    if apply_dropout is not None:\n",
    "        print (\"Training phase -> perform Dropout\")\n",
    "    else:\n",
    "        print (\"Evalutation phase -> not performing Dropout\") \n",
    "    x = tf.expand_dims(x, -1)    \n",
    "    layer = 0\n",
    "    # Layer 1: Convolutional. Input = 32x32x1. Output = 28x28x12.\n",
    "    conv1   = tf.nn.conv2d(x, weights[layer], strides=[1, 1, 1, 1], padding='VALID') + biases[layer]\n",
    "    layer += 1\n",
    "\n",
    "    # Activation.\n",
    "    conv1 = tf.nn.relu(conv1, name = 'act1')\n",
    "\n",
    "    # Pooling. Input = 28x28x12. Output = 14x14x12.\n",
    "    conv1 = tf.nn.max_pool(conv1, ksize=[1, 2, 2, 1], strides=[1, 2, 2, 1], padding='VALID')\n",
    "    # Dropout\n",
    "    conv1 = tf.cond(apply_dropout, lambda: tf.nn.dropout(conv1, keep_prob = dropout[0]), lambda: conv1)\n",
    "\n",
    "    # Layer 2: Convolutional. Output = 10x10x24.\n",
    "    conv2   = tf.nn.conv2d(conv1, weights[layer], strides=[1, 1, 1, 1], padding='VALID') +  biases[layer]\n",
    "    layer += 1\n",
    "    \n",
    "    # Activation.\n",
    "    conv2 = tf.nn.relu(conv2, name = 'act2')\n",
    "\n",
    "    # Pooling. Input = 10x10x24. Output = 5x5x24.\n",
    "    conv2 = tf.nn.max_pool(conv2, ksize=[1, 2, 2, 1], strides=[1, 2, 2, 1], padding='VALID')\n",
    "    # Dropout\n",
    "    conv2 = tf.cond(apply_dropout, lambda: tf.nn.dropout(conv2, keep_prob = dropout[1]), lambda: conv2)\n",
    "####\n",
    "    conv3   = tf.nn.conv2d(conv2, weights[layer], strides=[1, 1, 1, 1], padding='SAME') +  biases[layer]\n",
    "    layer += 1\n",
    "    \n",
    "    # Activation.\n",
    "    conv3 = tf.nn.relu(conv3, name = 'act3')\n",
    "\n",
    "    # Dropout\n",
    "    conv3 = tf.cond(apply_dropout, lambda: tf.nn.dropout(conv3, keep_prob = dropout[2]), lambda: conv3)\n",
    "\n",
    "###\n",
    "    # Input = 14x14x12. Output = 7x7x12 = 588\n",
    "    conv1_1 = tf.nn.max_pool(conv1, ksize=[1, 2, 2, 1], strides=[1, 2, 2, 1], padding='VALID')\n",
    "    shape = conv1_1.get_shape().as_list()\n",
    "    print(shape)\n",
    "    conv1_1 = tf.reshape(conv1_1, [-1, shape[1] * shape[2] * shape[3]])    \n",
    "    shape = conv1_1.get_shape().as_list()\n",
    "    print(shape)\n",
    "    \n",
    "    # Flatten conv2 Input = 5x5x24. Output = 600\n",
    "    shape = conv3.get_shape().as_list()\n",
    "    conv3 = tf.reshape(conv3, [-1, shape[1] * shape[2] * shape[3]])\n",
    "    \n",
    "    fc0 = tf.concat(1, [conv1_1, conv3])\n",
    "    shape = fc0.get_shape().as_list()\n",
    "    print(shape)\n",
    "    # Layer 3: Fully Connected. Input = 588+600 = 1188. Output = 320.\n",
    "    fc1   = tf.matmul(fc0, weights[layer]) + biases[layer]\n",
    "    layer += 1\n",
    "    \n",
    "    # Activation.\n",
    "    fc1    = tf.nn.relu(fc1)\n",
    "    # Dropout\n",
    "    fc1 = tf.cond(apply_dropout, lambda: tf.nn.dropout(fc1, keep_prob = dropout[3]), lambda: fc1)\n",
    "    logits = tf.matmul(fc1, weights[layer]) + biases[layer]\n",
    "    \n",
    "    return logits\n",
    "\n",
    "rate = 0.001\n",
    "\n",
    "# Arguments used for tf.truncated_normal, randomly defines variables for the weights and biases for each layer\n",
    "mu = 0\n",
    "sigma = 0.1\n",
    "beta = 0.001\n",
    "def kaiming_he_init(weight_shape, layer_type='fc'):\n",
    "    fan_in, init_value = None, None\n",
    "    \n",
    "    if layer_type == 'conv':\n",
    "        fan_in = weight_shape[0] * weight_shape[1] * weight_shape[2]\n",
    "        init_value = tf.truncated_normal(weight_shape) * tf.sqrt(2 / fan_in)\n",
    "    elif layer_type == 'fc':\n",
    "        fan_in = weight_shape[0]\n",
    "        init_value = tf.truncated_normal(weight_shape) * tf.sqrt(2 / fan_in)\n",
    "    \n",
    "    return tf.Variable(init_value)\n",
    "\n",
    "weights = [\n",
    "    kaiming_he_init((5, 5, 1, 16), 'conv'),\n",
    "    kaiming_he_init((5, 5, 16, 32), 'conv'),\n",
    "    kaiming_he_init((3, 3, 32, 32), 'conv'),\n",
    "    kaiming_he_init((1584, 320)),\n",
    "    kaiming_he_init((320, n_classes))\n",
    "]\n",
    "biases = [\n",
    "    tf.Variable(tf.zeros(16)),\n",
    "    tf.Variable(tf.zeros(32)),\n",
    "    tf.Variable(tf.zeros(32)),\n",
    "    tf.Variable(tf.zeros(320)),\n",
    "    tf.Variable(tf.zeros(n_classes))\n",
    "]\n",
    "\n",
    "\n",
    "logits = LeNet(x, weights, biases, apply_dropout)\n",
    "cross_entropy = tf.nn.softmax_cross_entropy_with_logits(logits=logits, labels=one_hot_y)\n",
    "loss_operation = tf.reduce_mean(cross_entropy)\n",
    "\n",
    "regularizer = tf.reduce_sum([tf.nn.l2_loss(w) for w in weights])\n",
    "loss = tf.reduce_mean(loss_operation + beta * regularizer)\n",
    "\n",
    "optimizer = tf.train.AdamOptimizer(learning_rate = learning_rate)\n",
    "training_operation = optimizer.minimize(loss)\n",
    "\n",
    "correct_prediction = tf.equal(tf.argmax(logits, 1), tf.argmax(one_hot_y, 1))\n",
    "accuracy_operation = tf.reduce_mean(tf.cast(correct_prediction, tf.float32))\n",
    "saver = tf.train.Saver()\n",
    "\n",
    "def evaluate(X_data, y_data):\n",
    "    num_examples = len(X_data)\n",
    "    total_accuracy = 0\n",
    "    sess = tf.get_default_session()\n",
    "    for offset in range(0, num_examples, BATCH_SIZE):\n",
    "        batch_x, batch_y = X_data[offset:offset+BATCH_SIZE], y_data[offset:offset+BATCH_SIZE]\n",
    "        accuracy = sess.run(accuracy_operation, feed_dict={x: batch_x, y: batch_y, apply_dropout: False, dropout: [1.0, 1.0, 1.0, 1.0]})\n",
    "        total_accuracy += (accuracy * len(batch_x))\n",
    "    return total_accuracy / num_examples"
   ]
  },
  {
   "cell_type": "code",
   "execution_count": null,
   "metadata": {
    "collapsed": true
   },
   "outputs": [],
   "source": [
    "global best_validation_accuracy\n",
    "best_validation_accuracy = 0.0"
   ]
  },
  {
   "cell_type": "code",
   "execution_count": null,
   "metadata": {},
   "outputs": [],
   "source": [
    "### Train your model here.\n",
    "### Calculate and report the accuracy on the training and validation set.\n",
    "### Once a final model architecture is selected, \n",
    "### the accuracy on the test set should be calculated and reported as well.\n",
    "### Feel free to use as many code cells as needed.\n",
    "\n",
    "with tf.Session() as sess:\n",
    "#     sess.run(tf.global_variables_initializer())\n",
    "    #saver.restore(sess, tf.train.latest_checkpoint('.'))\n",
    "    saver.restore(sess, './test')\n",
    "\n",
    "    num_examples = len(X_train)\n",
    "    \n",
    "    print(\"Training...\")\n",
    "    print()\n",
    "    for i in range(EPOCHS):\n",
    "        X_train, y_train = shuffle(X_train, y_train)\n",
    "        \n",
    "#         if i > 4:\n",
    "#             rate = 0.0001\n",
    "            \n",
    "        for offset in tnrange(0, num_examples, BATCH_SIZE):\n",
    "            end = offset + BATCH_SIZE\n",
    "            batch_x, batch_y = X_train[offset:end], y_train[offset:end]\n",
    "            sess.run(training_operation, feed_dict={x: batch_x, y: batch_y, apply_dropout: True,\n",
    "                                                   learning_rate: 0.0001, dropout:[0.8,0.8,0.8, 0.8]})\n",
    "            \n",
    "        validation_accuracy = evaluate(X_valid, y_valid)\n",
    "        training_accuracy = evaluate(X_train, y_train)\n",
    "        print(\"EPOCH {} ...\".format(i+1))\n",
    "        print(\"Training Accuracy = {:.5f}\".format(training_accuracy))\n",
    "        print(\"Validation Accuracy = {:.5f}\".format(validation_accuracy))\n",
    "        print()\n",
    "        if (validation_accuracy > best_validation_accuracy):\n",
    "            best_validation_accuracy = validation_accuracy\n",
    "            saver.save(sess, './test')\n",
    "            print(\"Model saved\")"
   ]
  },
  {
   "cell_type": "code",
   "execution_count": null,
   "metadata": {
    "collapsed": true
   },
   "outputs": [],
   "source": [
    "### Define the model hyper params\n",
    "### Implement the model architecture\n",
    "\n",
    "# LEARNING_RATE = 0.005\n",
    "# LEARNING_RATE = 0.001\n",
    "# N_LABELS = n_classes\n",
    "# DROPOUT = 0.8\n",
    "# IMAGE_SIZE = 32\n",
    "\n",
    "# X = tf.placeholder(tf.float32, shape=[None, IMAGE_SIZE, IMAGE_SIZE])\n",
    "# labels = tf.placeholder(tf.int32, shape=[None])\n",
    "# one_hot_labels = tf.one_hot(labels, N_LABELS) # One-hot encode the labels\n",
    "# keep_prob = tf.placeholder(tf.float32)\n",
    "# keep_prob_conv = tf.placeholder(tf.float32)\n",
    "# learning_rate = tf.placeholder(tf.float32)\n",
    "\n",
    "\n",
    "# def kaiming_he_init(weight_shape, layer_type='fc'):\n",
    "#     fan_in, init_value = None, None\n",
    "    \n",
    "#     if layer_type == 'conv':\n",
    "#         fan_in = weight_shape[0] * weight_shape[1] * weight_shape[2]\n",
    "#         init_value = tf.truncated_normal(weight_shape) * tf.sqrt(2 / fan_in)\n",
    "#     elif layer_type == 'fc':\n",
    "#         fan_in = weight_shape[0]\n",
    "#         init_value = tf.truncated_normal(weight_shape) * tf.sqrt(2 / fan_in)\n",
    "    \n",
    "#     return tf.Variable(init_value)\n",
    "\n",
    "# layer_depth = {\n",
    "#     'layer_1': 12,\n",
    "#     'layer_2': 32,\n",
    "#     'layer_3': 32,\n",
    "#     'fully_connected_1': 512,\n",
    "#     'fully_connected_2': 256,\n",
    "#     'out': n_classes,\n",
    "# }\n",
    "\n",
    "# weights = {\n",
    "#     'layer_1': kaiming_he_init((5, 5, 1, layer_depth['layer_1']), 'conv'),\n",
    "#     'layer_2': kaiming_he_init((5, 5, layer_depth['layer_1'], layer_depth['layer_2']), 'conv'),\n",
    "#     'layer_3': kaiming_he_init((3, 3, layer_depth['layer_2'], layer_depth['layer_3']), 'conv'),\n",
    "#     'fully_connected_1': kaiming_he_init((5*5*layer_depth['layer_3'], layer_depth['fully_connected_1'])),\n",
    "#     'fully_connected_2': kaiming_he_init((layer_depth['fully_connected_1'], layer_depth['fully_connected_2'])),\n",
    "#     'out': kaiming_he_init((layer_depth['fully_connected_2'], layer_depth['out']))\n",
    "# }\n",
    "# #+0.3 over the first epochs than +-0\n",
    "\n",
    "# biases = {\n",
    "#     'layer_1': tf.Variable(tf.zeros(layer_depth['layer_1'])),\n",
    "#     'layer_2': tf.Variable(tf.zeros(layer_depth['layer_2'])),\n",
    "#     'layer_3': tf.Variable(tf.zeros(layer_depth['layer_3'])),\n",
    "#     'fully_connected_1': tf.Variable(tf.zeros(layer_depth['fully_connected_1'])),\n",
    "#     'fully_connected_2': tf.Variable(tf.zeros(layer_depth['fully_connected_2'])),\n",
    "#     'out': tf.Variable(tf.zeros(layer_depth['out'])),\n",
    "# }\n",
    "\n",
    "# # Define helper functions\n",
    "# def conv2d(x, W, b, strides=1, padding='VALID'):\n",
    "#     x = tf.nn.conv2d(x, W, strides=[1, strides, strides, 1], padding = padding)\n",
    "#     x = tf.nn.bias_add(x, b)\n",
    "#     return tf.nn.relu(x)\n",
    "\n",
    "# def maxpool2d(x, k=2):\n",
    "#     return tf.nn.max_pool(x, ksize=[1, k, k, 1],\n",
    "#                          strides=[1, k, k, 1],\n",
    "#                          padding='VALID')\n",
    "\n",
    "# def LeNetTransformed(x):\n",
    "#     # Input = 32x32x1. Output = 28x28x12.\n",
    "#     x = tf.expand_dims(x, -1)\n",
    "#     conv1 = conv2d(x, weights['layer_1'], biases['layer_1'])\n",
    "#     conv1 = maxpool2d(conv1)\n",
    "    \n",
    "#     # Output = 10x10x32.\n",
    "#     conv2 = conv2d(conv1, weights['layer_2'], biases['layer_2'])\n",
    "#     conv3 = conv2d(conv2, weights['layer_3'], biases['layer_3'], padding='SAME')\n",
    "#     conv3 = maxpool2d(conv3)\n",
    "\n",
    "#     # Input = 5x5x32. Output = 320.\n",
    "#     fc0 = tf.contrib.layers.flatten(conv3)\n",
    "    \n",
    "#     # Input = 320. Output = 512.\n",
    "#     fc1 = tf.add(tf.matmul(fc0, weights['fully_connected_1']), biases['fully_connected_1'])\n",
    "#     fc1 = tf.nn.relu(fc1)\n",
    "#     fc1 = tf.nn.dropout(fc1, keep_prob=keep_prob)\n",
    "    \n",
    "#     # Input = 512. Output = 256.\n",
    "#     fc2 = tf.add(tf.matmul(fc1, weights['fully_connected_2']), biases['fully_connected_2'])   \n",
    "#     fc2 = tf.nn.relu(fc2)\n",
    "#     fc2 = tf.nn.dropout(fc2, keep_prob=keep_prob)\n",
    "    \n",
    "#     # Input = 256. Output = 43.\n",
    "#     logits = tf.add(tf.matmul(fc2, weights['out']), biases['out'])\n",
    "    \n",
    "#     return logits\n",
    "\n",
    "### Training pipeline\n",
    "# logits = LeNetTransformed(x, weights, biases)\n",
    "# loss = tf.reduce_mean(tf.nn.softmax_cross_entropy_with_logits(logits=logits, labels=one_hot_labels)) +\\\n",
    "#         0.01 * tf.nn.l2_loss(weights['fully_connected_1']) + 0.01 * tf.nn.l2_loss(weights['fully_connected_2'])\n",
    "\n",
    "# logits = traffic_sign_cnn(X, weights, biases, keep_prob, keep_prob_conv)\n",
    "# logits = lenet(X, weights, biases, keep_prob)\n",
    "\n",
    "# loss = tf.reduce_mean(tf.nn.softmax_cross_entropy_with_logits(logits=logits, labels=one_hot_labels)) +\\\n",
    "#         0.0005 * tf.nn.l2_loss(weights['fully_connected_1']) + 0.0005 * tf.nn.l2_loss(weights['fully_connected_2'])\n",
    "\n",
    "# optimiser = tf.train.AdamOptimizer(learning_rate=learning_rate)\\\n",
    "#                 .minimize(loss)\n",
    "\n",
    "### Model Evaluation Pipeline\n",
    "# correct_predictions = tf.equal(tf.argmax(logits, 1), tf.argmax(one_hot_labels, 1))\n",
    "# accuracy = tf.reduce_mean(tf.cast(correct_predictions, dtype=tf.float32))\n",
    "\n",
    "# saver = tf.train.Saver()\n",
    "\n",
    "# def evaluate(X_data, y_data):\n",
    "#     num_examples = len(X_data)\n",
    "#     total_accuracy = 0.0\n",
    "#     session = tf.get_default_session()\n",
    "    \n",
    "#     for offset in range(0, num_examples, BATCH_SIZE):\n",
    "#         X_batch, y_batch = X_data[offset: offset+BATCH_SIZE], y_data[offset: offset+BATCH_SIZE]\n",
    "#         data_accuracy = session.run(accuracy, feed_dict={\n",
    "#             X: X_batch,\n",
    "#             labels: y_batch,\n",
    "#             keep_prob: 1.0,\n",
    "#             keep_prob_conv: 1.0\n",
    "#         })\n",
    "#         total_accuracy += (data_accuracy * len(X_batch))\n",
    "    \n",
    "#     return total_accuracy / num_examples"
   ]
  },
  {
   "cell_type": "code",
   "execution_count": null,
   "metadata": {
    "collapsed": true
   },
   "outputs": [],
   "source": [
    "# import time\n",
    "# with tf.Session() as session:\n",
    "#     session.run(tf.global_variables_initializer())\n",
    "#     print('Training...')\n",
    "#     num_examples = len(X_train)\n",
    "          \n",
    "#     for epoch_i in range(20):\n",
    "#         X_train, y_train = shuffle(X_train, y_train)\n",
    "#         for offset in tnrange(0, num_examples, BATCH_SIZE, desc='Epoch {:>2}'.format(epoch_i + 1)):\n",
    "#             end = offset + BATCH_SIZE\n",
    "#             X_batch, y_batch = X_train[offset:end], y_train[offset:end]\n",
    "#             if epoch_i > 4:                \n",
    "#                 LEARNING_RATE = 0.0005\n",
    "                \n",
    "#             if epoch_i > 10:\n",
    "#                 LEARNING_RATE = 0.0001\n",
    "                \n",
    "#             session.run(optimiser, feed_dict={X: X_batch, labels: y_batch, keep_prob: DROPOUT,\n",
    "#                                              learning_rate: LEARNING_RATE, keep_prob_conv: 0.7})\n",
    "            \n",
    "#         accuracy_train = evaluate(X_train, y_train)\n",
    "#         accuracy_valid = evaluate(X_valid, y_valid)\n",
    "#         print(\"EPOCH {} ...\".format(epoch_i + 1))\n",
    "#         print(\"Training Accuracy = {:.5f}\".format(accuracy_train))\n",
    "#         print(\"Validation Accuracy = {:.5f}\".format(accuracy_valid))\n",
    "#         print()\n",
    "    \n",
    "#     ckpt_file = 'ckpts/model-{}-{}-{}'.format(int(accuracy_train*10000), int(accuracy_valid*10000), time.time())\n",
    "#     saver.save(session, ckpt_file)\n",
    "#     print(\"Model saved at {}\".format(ckpt_file))\n"
   ]
  },
  {
   "cell_type": "markdown",
   "metadata": {},
   "source": [
    "### Train, Validate and Test the Model"
   ]
  },
  {
   "cell_type": "markdown",
   "metadata": {},
   "source": [
    "A validation set can be used to assess how well the model is performing. A low accuracy on the training and validation\n",
    "sets imply underfitting. A high accuracy on the training set but low accuracy on the validation set implies overfitting."
   ]
  },
  {
   "cell_type": "code",
   "execution_count": null,
   "metadata": {
    "collapsed": true
   },
   "outputs": [],
   "source": []
  },
  {
   "cell_type": "code",
   "execution_count": null,
   "metadata": {},
   "outputs": [],
   "source": [
    "with tf.Session() as session:\n",
    "    saver.restore(session, './test')\n",
    "    accuracy_test = evaluate(X_test, y_test)\n",
    "    print(\"Test Acccuracy: {:.4f}\".format(accuracy_test))"
   ]
  },
  {
   "cell_type": "markdown",
   "metadata": {},
   "source": [
    "## Step 3: Test a Model on New Images\n",
    "\n",
    "To give yourself more insight into how your model is working, download at least five pictures of German traffic signs from the web and use your model to predict the traffic sign type.\n",
    "\n",
    "You may find `signnames.csv` useful as it contains mappings from the class id (integer) to the actual sign name."
   ]
  },
  {
   "cell_type": "markdown",
   "metadata": {},
   "source": [
    "### Load and Output the Images"
   ]
  },
  {
   "cell_type": "code",
   "execution_count": 5,
   "metadata": {},
   "outputs": [
    {
     "name": "stdout",
     "output_type": "stream",
     "text": [
      "['./images_4/11_Rightofway.jpg', './images_4/12_PriorityRoad.jpg', './images_4/14_Stop.jpg', './images_4/17_Noentry.jpg', './images_4/25_RoadWork.jpg', './images_4/33_RightOnly.jpg']\n",
      "\n",
      "Total # images: 6\n"
     ]
    }
   ],
   "source": [
    "### Load the images and plot them here.\n",
    "### Feel free to use as many code cells as needed.\n",
    "\n",
    "import matplotlib.image as mpimg\n",
    "import matplotlib.pyplot as plt\n",
    "import os\n",
    "%matplotlib inline\n",
    "IMAGE_SIZE = 32\n",
    "def get_image_paths(dirname):\n",
    "    try:\n",
    "        files = os.listdir(dirname)\n",
    "    except Exception as e:\n",
    "        print('Unable to load the images. Exception: {}'.format(e))\n",
    "    \n",
    "    files.sort()\n",
    "    files = ['{}/{}'.format(dirname, f) for f in files]\n",
    "    return files\n",
    "\n",
    "X_prod_image_paths = get_image_paths('./images_4')\n",
    "print(X_prod_image_paths)\n",
    "print()\n",
    "print('Total # images: {}'.format(len(X_prod_image_paths)))"
   ]
  },
  {
   "cell_type": "code",
   "execution_count": 6,
   "metadata": {},
   "outputs": [
    {
     "name": "stdout",
     "output_type": "stream",
     "text": [
      "(6, 32, 32, 3)\n"
     ]
    }
   ],
   "source": [
    "# Resize the images and display them\n",
    "\n",
    "def resize_images(image_paths):\n",
    "    X_data = []\n",
    "    b_image = tf.placeholder(tf.float32, shape=[None, None, 3])\n",
    "    tf_img = tf.image.resize_images(b_image, [IMAGE_SIZE, IMAGE_SIZE],\n",
    "                             tf.image.ResizeMethod.NEAREST_NEIGHBOR)\n",
    "\n",
    "    with tf.Session() as session:\n",
    "        for index, image_path in enumerate(image_paths):\n",
    "            img = mpimg.imread(image_path)[:,:,:3]\n",
    "            if img.shape != (IMAGE_SIZE, IMAGE_SIZE, 3):\n",
    "                resized_img = session.run(tf_img, feed_dict={b_image: img})\n",
    "                X_data.append(resized_img)\n",
    "            else:\n",
    "                 X_data.append(img)\n",
    "\n",
    "    X_data = np.array(X_data, dtype=np.uint8)\n",
    "    return X_data\n",
    "\n",
    "X_prod = resize_images(X_prod_image_paths)\n",
    "print(X_prod.shape)"
   ]
  },
  {
   "cell_type": "code",
   "execution_count": 7,
   "metadata": {},
   "outputs": [
    {
     "name": "stderr",
     "output_type": "stream",
     "text": [
      "/home/carnd/anaconda3/envs/carnd-term1/lib/python3.5/site-packages/matplotlib/font_manager.py:1297: UserWarning: findfont: Font family ['sans-serif'] not found. Falling back to DejaVu Sans\n",
      "  (prop.get_family(), self.defaultFamily[fontext]))\n"
     ]
    },
    {
     "data": {
      "image/png": "[encoded data removed]",
      "text/plain": [
       "<matplotlib.figure.Figure at 0x7f7ad6db0be0>"
      ]
     },
     "metadata": {},
     "output_type": "display_data"
    }
   ],
   "source": [
    "fig, ax = plt.subplots(figsize=(16, 16))\n",
    "\n",
    "for idx, img in enumerate(X_prod):\n",
    "    plt.subplot(3, 4, idx + 1)\n",
    "    plt.imshow(img)"
   ]
  },
  {
   "cell_type": "code",
   "execution_count": 10,
   "metadata": {},
   "outputs": [
    {
     "name": "stdout",
     "output_type": "stream",
     "text": [
      "Input shape: (6, 32, 32, 3)\n",
      "Output shape: (6, 32, 32)\n",
      "\n"
     ]
    },
    {
     "name": "stderr",
     "output_type": "stream",
     "text": [
      "/home/carnd/anaconda3/envs/carnd-term1/lib/python3.5/site-packages/skimage/util/dtype.py:122: UserWarning: Possible precision loss when converting from float32 to uint16\n",
      "  .format(dtypeobj_in, dtypeobj_out))\n",
      "/home/carnd/anaconda3/envs/carnd-term1/lib/python3.5/site-packages/matplotlib/font_manager.py:1297: UserWarning: findfont: Font family ['sans-serif'] not found. Falling back to DejaVu Sans\n",
      "  (prop.get_family(), self.defaultFamily[fontext]))\n"
     ]
    },
    {
     "data": {
      "image/png": "[encoded data removed]",
      "text/plain": [
       "<matplotlib.figure.Figure at 0x7f7ad420f240>"
      ]
     },
     "metadata": {},
     "output_type": "display_data"
    }
   ],
   "source": [
    "X_prod = pre_process_images(X_prod)\n",
    "X_prod.shape\n",
    "plt.imshow(X_prod[0], cmap='gray')\n",
    "y_prod = np.asarray([11, 12, 14, 17, 25, 33])\n",
    "\n",
    "assert(len(X_prod) == len(y_prod))"
   ]
  },
  {
   "cell_type": "code",
   "execution_count": 21,
   "metadata": {},
   "outputs": [
    {
     "name": "stdout",
     "output_type": "stream",
     "text": [
      "Test Acccuracy: 1.0000\n"
     ]
    }
   ],
   "source": [
    "with tf.Session() as session:\n",
    "    saver.restore(session, './lenet11_pmbt')\n",
    "    scores, accuracy_prod = session.run([logits, accuracy_operation], feed_dict= {\n",
    "        x: X_prod, y: y_prod, apply_dropout: False, dropout: [1.0, 1.0, 1.0, 1.0]\n",
    "    })\n",
    "    b = session.run(tf.nn.softmax(scores))\n",
    "    a = session.run(tf.nn.top_k(b, k=5))\n",
    "\n",
    "    print(\"Test Acccuracy: {:.4f}\".format(accuracy_prod))"
   ]
  },
  {
   "cell_type": "markdown",
   "metadata": {},
   "source": [
    "### Predict the Sign Type for Each Image"
   ]
  },
  {
   "cell_type": "code",
   "execution_count": 49,
   "metadata": {},
   "outputs": [],
   "source": [
    "### Run the predictions here and use the model to output the prediction for each image.\n",
    "### Make sure to pre-process the images with the same pre-processing pipeline used earlier.\n",
    "### Feel free to use as many code cells as needed.\n"
   ]
  },
  {
   "cell_type": "markdown",
   "metadata": {},
   "source": [
    "### Analyze Performance"
   ]
  },
  {
   "cell_type": "code",
   "execution_count": 48,
   "metadata": {},
   "outputs": [
    {
     "name": "stderr",
     "output_type": "stream",
     "text": [
      "/home/carnd/anaconda3/envs/carnd-term1/lib/python3.5/site-packages/matplotlib/font_manager.py:1297: UserWarning: findfont: Font family ['sans-serif'] not found. Falling back to DejaVu Sans\n",
      "  (prop.get_family(), self.defaultFamily[fontext]))\n"
     ]
    },
    {
     "data": {
      "image/png": "[encoded data removed]",
      "text/plain": [
       "<matplotlib.figure.Figure at 0x7f7acc397a20>"
      ]
     },
     "metadata": {},
     "output_type": "display_data"
    },
    {
     "data": {
      "image/png": "[encoded data removed]",
      "text/plain": [
       "<matplotlib.figure.Figure at 0x7f7acc258940>"
      ]
     },
     "metadata": {},
     "output_type": "display_data"
    },
    {
     "data": {
      "image/png": "[encoded data removed]",
      "text/plain": [
       "<matplotlib.figure.Figure at 0x7f7acc4e9358>"
      ]
     },
     "metadata": {},
     "output_type": "display_data"
    },
    {
     "data": {
      "image/png": "[encoded data removed]",
      "text/plain": [
       "<matplotlib.figure.Figure at 0x7f7acc196630>"
      ]
     },
     "metadata": {},
     "output_type": "display_data"
    },
    {
     "data": {
      "image/png": "[encoded data removed]",
      "text/plain": [
       "<matplotlib.figure.Figure at 0x7f7ad403cdd8>"
      ]
     },
     "metadata": {},
     "output_type": "display_data"
    },
    {
     "data": {
      "image/png": "[encoded data removed]",
      "text/plain": [
       "<matplotlib.figure.Figure at 0x7f7abfe3ea58>"
      ]
     },
     "metadata": {},
     "output_type": "display_data"
    }
   ],
   "source": [
    "### Calculate the accuracy for these 5 new images. \n",
    "### For example, if the model predicted 1 out of 5 signs correctly, it's 20% accurate on these new images.\n",
    "import matplotlib.gridspec as gridspec\n",
    "\n",
    "for idx, img in enumerate(X_prod):\n",
    "    plt.figure(figsize=(6, 3))\n",
    "    gs = gridspec.GridSpec(1, 2)\n",
    "    plt.subplot(gs[0])\n",
    "    plt.axis('off')\n",
    "    plt.imshow(X_prod[idx])\n",
    "    plt.subplot(gs[1])\n",
    "    plt.barh(5-np.arange(5), a[0][idx]*100 , 0.75, color=\"green\")\n",
    "    plt.axis('off')\n",
    "    for i, label in enumerate(a[1][idx]):\n",
    "        plt.text(50, 5 - i - .15, str(a[1][idx][i]), color='black', fontweight='bold')\n"
   ]
  },
  {
   "cell_type": "markdown",
   "metadata": {},
   "source": [
    "### Output Top 5 Softmax Probabilities For Each Image Found on the Web"
   ]
  },
  {
   "cell_type": "markdown",
   "metadata": {},
   "source": [
    "For each of the new images, print out the model's softmax probabilities to show the **certainty** of the model's predictions (limit the output to the top 5 probabilities for each image). [`tf.nn.top_k`](https://www.tensorflow.org/versions/r0.12/api_docs/python/nn.html#top_k) could prove helpful here. \n",
    "\n",
    "The example below demonstrates how tf.nn.top_k can be used to find the top k predictions for each image.\n",
    "\n",
    "`tf.nn.top_k` will return the values and indices (class ids) of the top k predictions. So if k=3, for each sign, it'll return the 3 largest probabilities (out of a possible 43) and the correspoding class ids.\n",
    "\n",
    "Take this numpy array as an example. The values in the array represent predictions. The array contains softmax probabilities for five candidate images with six possible classes. `tf.nn.top_k` is used to choose the three classes with the highest probability:\n",
    "\n",
    "```\n",
    "# (5, 6) array\n",
    "a = np.array([[ 0.24879643,  0.07032244,  0.12641572,  0.34763842,  0.07893497,\n",
    "         0.12789202],\n",
    "       [ 0.28086119,  0.27569815,  0.08594638,  0.0178669 ,  0.18063401,\n",
    "         0.15899337],\n",
    "       [ 0.26076848,  0.23664738,  0.08020603,  0.07001922,  0.1134371 ,\n",
    "         0.23892179],\n",
    "       [ 0.11943333,  0.29198961,  0.02605103,  0.26234032,  0.1351348 ,\n",
    "         0.16505091],\n",
    "       [ 0.09561176,  0.34396535,  0.0643941 ,  0.16240774,  0.24206137,\n",
    "         0.09155967]])\n",
    "```\n",
    "\n",
    "Running it through `sess.run(tf.nn.top_k(tf.constant(a), k=3))` produces:\n",
    "\n",
    "```\n",
    "TopKV2(values=array([[ 0.34763842,  0.24879643,  0.12789202],\n",
    "       [ 0.28086119,  0.27569815,  0.18063401],\n",
    "       [ 0.26076848,  0.23892179,  0.23664738],\n",
    "       [ 0.29198961,  0.26234032,  0.16505091],\n",
    "       [ 0.34396535,  0.24206137,  0.16240774]]), indices=array([[3, 0, 5],\n",
    "       [0, 1, 4],\n",
    "       [0, 5, 1],\n",
    "       [1, 3, 5],\n",
    "       [1, 4, 3]], dtype=int32))\n",
    "```\n",
    "\n",
    "Looking just at the first row we get `[ 0.34763842,  0.24879643,  0.12789202]`, you can confirm these are the 3 largest probabilities in `a`. You'll also notice `[3, 0, 5]` are the corresponding indices."
   ]
  },
  {
   "cell_type": "code",
   "execution_count": null,
   "metadata": {
    "collapsed": true
   },
   "outputs": [],
   "source": [
    "### Print out the top five softmax probabilities for the predictions on the German traffic sign images found on the web. \n",
    "### Feel free to use as many code cells as needed."
   ]
  },
  {
   "cell_type": "markdown",
   "metadata": {},
   "source": [
    "### Project Writeup\n",
    "\n",
    "Once you have completed the code implementation, document your results in a project writeup using this [template](https://github.com/udacity/CarND-Traffic-Sign-Classifier-Project/blob/master/writeup_template.md) as a guide. The writeup can be in a markdown or pdf file. "
   ]
  },
  {
   "cell_type": "markdown",
   "metadata": {},
   "source": [
    "> **Note**: Once you have completed all of the code implementations and successfully answered each question above, you may finalize your work by exporting the iPython Notebook as an HTML document. You can do this by using the menu above and navigating to  \\n\",\n",
    "    \"**File -> Download as -> HTML (.html)**. Include the finished document along with this notebook as your submission."
   ]
  },
  {
   "cell_type": "markdown",
   "metadata": {},
   "source": [
    "---\n",
    "\n",
    "## Step 4 (Optional): Visualize the Neural Network's State with Test Images\n",
    "\n",
    " This Section is not required to complete but acts as an additional excersise for understaning the output of a neural network's weights. While neural networks can be a great learning device they are often referred to as a black box. We can understand what the weights of a neural network look like better by plotting their feature maps. After successfully training your neural network you can see what it's feature maps look like by plotting the output of the network's weight layers in response to a test stimuli image. From these plotted feature maps, it's possible to see what characteristics of an image the network finds interesting. For a sign, maybe the inner network feature maps react with high activation to the sign's boundary outline or to the contrast in the sign's painted symbol.\n",
    "\n",
    " Provided for you below is the function code that allows you to get the visualization output of any tensorflow weight layer you want. The inputs to the function should be a stimuli image, one used during training or a new one you provided, and then the tensorflow variable name that represents the layer's state during the training process, for instance if you wanted to see what the [LeNet lab's](https://classroom.udacity.com/nanodegrees/nd013/parts/fbf77062-5703-404e-b60c-95b78b2f3f9e/modules/6df7ae49-c61c-4bb2-a23e-6527e69209ec/lessons/601ae704-1035-4287-8b11-e2c2716217ad/concepts/d4aca031-508f-4e0b-b493-e7b706120f81) feature maps looked like for it's second convolutional layer you could enter conv2 as the tf_activation variable.\n",
    "\n",
    "For an example of what feature map outputs look like, check out NVIDIA's results in their paper [End-to-End Deep Learning for Self-Driving Cars](https://devblogs.nvidia.com/parallelforall/deep-learning-self-driving-cars/) in the section Visualization of internal CNN State. NVIDIA was able to show that their network's inner weights had high activations to road boundary lines by comparing feature maps from an image with a clear path to one without. Try experimenting with a similar test to show that your trained network's weights are looking for interesting features, whether it's looking at differences in feature maps from images with or without a sign, or even what feature maps look like in a trained network vs a completely untrained one on the same sign image.\n",
    "\n",
    "<figure>\n",
    " <img src=\"visualize_cnn.png\" width=\"380\" alt=\"Combined Image\" />\n",
    " <figcaption>\n",
    " <p></p> \n",
    " <p style=\"text-align: center;\"> Your output should look something like this (above)</p> \n",
    " </figcaption>\n",
    "</figure>\n",
    " <p></p> \n"
   ]
  },
  {
   "cell_type": "code",
   "execution_count": null,
   "metadata": {
    "collapsed": true
   },
   "outputs": [],
   "source": [
    "### Visualize your network's feature maps here.\n",
    "### Feel free to use as many code cells as needed.\n",
    "\n",
    "# image_input: the test image being fed into the network to produce the feature maps\n",
    "# tf_activation: should be a tf variable name used during your training procedure that represents the calculated state of a specific weight layer\n",
    "# activation_min/max: can be used to view the activation contrast in more detail, by default matplot sets min and max to the actual min and max values of the output\n",
    "# plt_num: used to plot out multiple different weight feature map sets on the same block, just extend the plt number for each new feature map entry\n",
    "\n",
    "def outputFeatureMap(image_input, tf_activation, activation_min=-1, activation_max=-1 ,plt_num=1):\n",
    "    # Here make sure to preprocess your image_input in a way your network expects\n",
    "    # with size, normalization, ect if needed\n",
    "    # image_input =\n",
    "    # Note: x should be the same name as your network's tensorflow data placeholder variable\n",
    "    # If you get an error tf_activation is not defined it may be having trouble accessing the variable from inside a function\n",
    "    activation = tf_activation.eval(session=sess,feed_dict={x : image_input})\n",
    "    featuremaps = activation.shape[3]\n",
    "    plt.figure(plt_num, figsize=(15,15))\n",
    "    for featuremap in range(featuremaps):\n",
    "        plt.subplot(6,8, featuremap+1) # sets the number of feature maps to show on each row and column\n",
    "        plt.title('FeatureMap ' + str(featuremap)) # displays the feature map number\n",
    "        if activation_min != -1 & activation_max != -1:\n",
    "            plt.imshow(activation[0,:,:, featuremap], interpolation=\"nearest\", vmin =activation_min, vmax=activation_max, cmap=\"gray\")\n",
    "        elif activation_max != -1:\n",
    "            plt.imshow(activation[0,:,:, featuremap], interpolation=\"nearest\", vmax=activation_max, cmap=\"gray\")\n",
    "        elif activation_min !=-1:\n",
    "            plt.imshow(activation[0,:,:, featuremap], interpolation=\"nearest\", vmin=activation_min, cmap=\"gray\")\n",
    "        else:\n",
    "            plt.imshow(activation[0,:,:, featuremap], interpolation=\"nearest\", cmap=\"gray\")"
   ]
  }
 ],
 "metadata": {
  "anaconda-cloud": {},
  "kernelspec": {
   "display_name": "Python 3",
   "language": "python",
   "name": "python3"
  },
  "language_info": {
   "codemirror_mode": {
    "name": "ipython",
    "version": 3
   },
   "file_extension": ".py",
   "mimetype": "text/x-python",
   "name": "python",
   "nbconvert_exporter": "python",
   "pygments_lexer": "ipython3",
   "version": "3.5.2"
  },
  "widgets": {
   "state": {
    "007c5a2a6a074ee8a9e16ded54cd363f": {
     "views": []
    },
    "0089013874e2402cbb29e929873825a3": {
     "views": []
    },
    "00bfaee50a7f49098b2729596d92ae5e": {
     "views": [
      {
       "cell_index": 26
      }
     ]
    },
    "00ea70899ce94fb6ab335516f85130cd": {
     "views": []
    },
    "012fa4056e6449808251cda367b857ae": {
     "views": []
    },
    "01370e02a67a497494b9130ae1a1c4d2": {
     "views": [
      {
       "cell_index": 26
      }
     ]
    },
    "019199f07e5a40379242a775fdc4c33a": {
     "views": []
    },
    "01a6090dde054a69bfc9741f30175587": {
     "views": []
    },
    "01df0617666f48c38be2995db4c1bb74": {
     "views": [
      {
       "cell_index": 26
      }
     ]
    },
    "0207452648ea4240b430e0f12fda10d0": {
     "views": []
    },
    "02511e37108c4ad7bbd7a56e88cc61c3": {
     "views": []
    },
    "02694dff95f1489fb451633f0e26c620": {
     "views": []
    },
    "02750cc5bf114a5b90344305f25671e5": {
     "views": []
    },
    "02786732ef5f4d17b3fb02589ec07af1": {
     "views": [
      {
       "cell_index": 26
      }
     ]
    },
    "028de4d8add9431cbec7287d11ccbfcc": {
     "views": []
    },
    "02a5de20a39140ec92d419f0d4b62a82": {
     "views": []
    },
    "02b52fb7c035423b9ecd4ae610491e3e": {
     "views": []
    },
    "03169c83590c4e6cb35424f1458a75bd": {
     "views": []
    },
    "035ebe18c1a54621a505aeaef7554a40": {
     "views": []
    },
    "03fe952fde1741d98cfe471910da2497": {
     "views": []
    },
    "0447dd7846cc407d81e88c2be50fa463": {
     "views": []
    },
    "048f6e7b359542a78e466c1f510f4b48": {
     "views": []
    },
    "04b33296902f4521b375cec66ae15efb": {
     "views": []
    },
    "04b90c1ce9ae4b9e96476e052b85e40e": {
     "views": []
    },
    "04d7ff81d11847c488112dc132613b0f": {
     "views": []
    },
    "04f605addbd34c258c132b724eec187e": {
     "views": []
    },
    "04f8648b0b6e417b88804a3a99feda89": {
     "views": []
    },
    "0509efc7d6544f418289cd945533e2ec": {
     "views": [
      {
       "cell_index": 26
      }
     ]
    },
    "0548d018ab02428dbb15058bedb02b5c": {
     "views": [
      {
       "cell_index": 26
      }
     ]
    },
    "0570fcbb84da43e391d67d6273733848": {
     "views": []
    },
    "059eafc1a6394fda800b5adaa9ba8a53": {
     "views": []
    },
    "05f8b391a4fc4066a3cfb7a537ddf0ce": {
     "views": []
    },
    "06029279162b4b48883617b2439e7d7d": {
     "views": []
    },
    "0635a7ad5a4c4554a4eb7d0da31a791c": {
     "views": [
      {
       "cell_index": 26
      }
     ]
    },
    "066b875dad0448b49a5dc3428ab150b9": {
     "views": []
    },
    "06881cd984ca46bf8f6c0a7ca248a0f1": {
     "views": []
    },
    "06a823d619264372bec3bb8f99566b71": {
     "views": []
    },
    "06afd99288ce4b36a30a4c3598589fc7": {
     "views": []
    },
    "06ca142c671b40098847c8973cd4f18d": {
     "views": []
    },
    "06e58cd581194e6380bcbb37ae1d7b5f": {
     "views": []
    },
    "06eca24f35f04761aded3c2d8c1eaddd": {
     "views": []
    },
    "06f7c2031bcd4ac5ab10273b7b4d506b": {
     "views": []
    },
    "06f88c64be3b46d2a033848921f73a41": {
     "views": []
    },
    "06fc934e7c3b422489492c3dc02d6cf0": {
     "views": []
    },
    "06fe32d72d3846429017b29f4a115b0b": {
     "views": []
    },
    "0736599e5ada44c99f82773152246fa3": {
     "views": []
    },
    "0748dbbeeda64fa6b218b6b00e69a039": {
     "views": []
    },
    "07503adfa9fe48a29949b663f401b1d1": {
     "views": []
    },
    "075e206f67544cf588ec8497d1bec94d": {
     "views": []
    },
    "0778a87cb9c74fbd946b71604b0e8ff8": {
     "views": []
    },
    "078da1e4a6234a8dacc6eff7f5c089df": {
     "views": []
    },
    "07a8c074e8814e22a59669db7fd25650": {
     "views": []
    },
    "080681f433bd429094aef41884d413ed": {
     "views": []
    },
    "082796add3e9409087bc6c5ee916489d": {
     "views": []
    },
    "084d83316a1c4420adfad681a5fdab4d": {
     "views": []
    },
    "0856a930f6354618a18a9e3a1eef06f5": {
     "views": []
    },
    "088072c53d5e41daaad5f65b12638430": {
     "views": []
    },
    "08e0c26c58db4748bb61bc0de74f1f94": {
     "views": []
    },
    "08e1fe238775452db0e49369a97d9e24": {
     "views": []
    },
    "09147cf4871846c79c10311a382295c8": {
     "views": []
    },
    "092775ec56e342ed90646e1b258264fb": {
     "views": []
    },
    "0952156b5dd148d1bd0433f57aeed3b4": {
     "views": []
    },
    "095eaff034ad43ee95efe842f2f12b68": {
     "views": []
    },
    "09f33a6f75214a0099f144d61b2c0362": {
     "views": [
      {
       "cell_index": 26
      }
     ]
    },
    "0a06a7f814874b0d92fe4a29dc522066": {
     "views": []
    },
    "0a1a0e8363584ef8a4406bb2457e6845": {
     "views": []
    },
    "0a3a5b843b8a42bf95bc0d1b8d95630c": {
     "views": []
    },
    "0a4fd177d6b5423a8d2fda85315ac916": {
     "views": []
    },
    "0a73408119c7485bb8b51eaaa85b5a13": {
     "views": []
    },
    "0a850046d12649d99166f52e2d5180a6": {
     "views": []
    },
    "0a966e84fd964da092198158ffa5995e": {
     "views": []
    },
    "0ac1aa23fc9f466cbbad8b0a78621aa4": {
     "views": []
    },
    "0aeb4aaac96b4a66bb5574cae4546b09": {
     "views": []
    },
    "0af5308dd77242108adb56ac4ad89f43": {
     "views": []
    },
    "0b386d280caf4580a31d3567282ce31c": {
     "views": [
      {
       "cell_index": 26
      }
     ]
    },
    "0b3a240c43874a96b7cb12840f44fff3": {
     "views": []
    },
    "0b5181c0ab9c4f51a0fd8abbc4ace69d": {
     "views": []
    },
    "0b57830c03c847959807a69919511a38": {
     "views": []
    },
    "0b7717dcaeb54076ac38b4d818eadd67": {
     "views": []
    },
    "0b8e589d189d4163896421042e52ec1a": {
     "views": []
    },
    "0ba2a028ec5a4481a9a034d408996662": {
     "views": []
    },
    "0bc5d5709c09428dbf5319fa8278cb21": {
     "views": []
    },
    "0c2522706f5e4f67af1726384fdc8c4c": {
     "views": []
    },
    "0c3df88f05ed48f8ad578bb8c272d290": {
     "views": []
    },
    "0c5636fc9faa4707bc61e1b2c34e3180": {
     "views": []
    },
    "0c7bf41c94514c6bb9b8d8985af08135": {
     "views": []
    },
    "0d2fd330a9af4060a179c0bdfbc0c3d5": {
     "views": []
    },
    "0da358c7d6b84501b45d747ca8f37967": {
     "views": []
    },
    "0dabf9f257874855aa731df707be0037": {
     "views": [
      {
       "cell_index": 26
      }
     ]
    },
    "0db2046a0afb4dc391f88f2d7be480a9": {
     "views": []
    },
    "0dc68aa2e16142bfab9c01766d12d941": {
     "views": []
    },
    "0de8fc6179de4293ad7cba3eda68ea4a": {
     "views": []
    },
    "0e3524968b2246a7ac6b814f068d5f55": {
     "views": []
    },
    "0e4f7f3e950b4f5ca904338b0067e9e2": {
     "views": []
    },
    "0e555317fab147d084433d225de3d421": {
     "views": []
    },
    "0e8459be4e784024958e4ef9d4ca9298": {
     "views": []
    },
    "0e964cb723d54121b9877c5cff417e95": {
     "views": []
    },
    "0e99f25c2e884eecaf111d29e4c121ad": {
     "views": []
    },
    "0efb6b23a88a4342946e261d9eb422c1": {
     "views": []
    },
    "0f01da3c105e48a3882e1cc1142130fc": {
     "views": []
    },
    "0f17104ef7314cde9073e08a69130e08": {
     "views": []
    },
    "0f56af3166c346988237e049be6953c5": {
     "views": []
    },
    "0f67e2b4ea3f47e1bf13c66e92ca11ba": {
     "views": []
    },
    "0f9d8b2772d4421d914f2353f0c1476c": {
     "views": []
    },
    "0fd63c7323944cbda041d8c592825e18": {
     "views": []
    },
    "0fdf9c30cd3e4dcda943605710a4d843": {
     "views": []
    },
    "10871526f5b24714b0d79ccb6875c4d8": {
     "views": [
      {
       "cell_index": 26
      }
     ]
    },
    "113f6e84ce2145a997849b75ddc05023": {
     "views": []
    },
    "116cf180ebe64edcb3e3a26908ebbf23": {
     "views": []
    },
    "11978a59be4e4c078a0044e08337fcf9": {
     "views": []
    },
    "11aa446e769c4208a3d778ccdf18443c": {
     "views": []
    },
    "11cc8c47d2b64718a7a6df5078bf5dfb": {
     "views": []
    },
    "11d30ec0984c4de0881a4f293bbd521b": {
     "views": []
    },
    "11f60317691f4cc9aeffd6c0fbe79997": {
     "views": []
    },
    "11f9fa5cdb6345b2922aa91d46a70f99": {
     "views": []
    },
    "12471bc22b5a4b7abd45a3d676da1f7a": {
     "views": []
    },
    "124b860660664b7fa686bdf25de19ec9": {
     "views": []
    },
    "128e0c9c9273482baf2a84ded5bb3f89": {
     "views": []
    },
    "12938532d79b47dba7e82fa0673b5688": {
     "views": []
    },
    "1294d1aa2c9949638144b9c335b0eb7e": {
     "views": []
    },
    "12b942a013d34eb5bb1023e587dd06e3": {
     "views": []
    },
    "12c16ced3ecd4ea6bcdfb26af9c0e8d3": {
     "views": []
    },
    "136323f03c704f8ca388f94e94c0177b": {
     "views": []
    },
    "13deed41f9644cc88d1b2b7fc77ee6c7": {
     "views": []
    },
    "13f45d2bf1924c2f82516f232b1e1dc0": {
     "views": []
    },
    "13fac590ad784de483f1775708b7cf27": {
     "views": []
    },
    "14130b879ac143d3a3576954adb74a51": {
     "views": []
    },
    "14142f41c4dc4fcfb349d96fe543fea0": {
     "views": []
    },
    "1426c72649a64115ada607ee0f8dd599": {
     "views": []
    },
    "1434637d20a64ace93c681d8fc2865f9": {
     "views": []
    },
    "143a35cee6164b0ebb785e5479233c49": {
     "views": []
    },
    "14a69f89bb374035a573004425826b5d": {
     "views": []
    },
    "14dac4c21c394703a36bb814a2a26d3e": {
     "views": []
    },
    "1502e4270bb846dfb9c6d5e351a107c1": {
     "views": []
    },
    "1510e6e00e314ea1bac1d154a10d402d": {
     "views": []
    },
    "15238203ea9c4c42a8b5c71d3ad099a9": {
     "views": []
    },
    "15391221d1da4029881ec88df571bda4": {
     "views": []
    },
    "1593b53e86054ca3a8151d46dc2f7354": {
     "views": []
    },
    "15ad88ffc23849d1872802de0f69d55f": {
     "views": []
    },
    "15b3986b5c69495785fa9b0f981de6b7": {
     "views": []
    },
    "15ef4c95b402414c98c0692b71442b72": {
     "views": []
    },
    "161de1df668e42a3b084009d85fa999e": {
     "views": []
    },
    "162551ada1904f5bb3385a3bcfd12baa": {
     "views": []
    },
    "16968aca724e459b9d039a3ca0e0b284": {
     "views": []
    },
    "169d92d62d05448d9442182a4d7e65cb": {
     "views": []
    },
    "16b97082bc7b4d0db4bcfdca664c4d5d": {
     "views": []
    },
    "16f00530d1f94296b8ebeac125785f0d": {
     "views": []
    },
    "173771760f8c45a690ae1cf0b3b5ab30": {
     "views": []
    },
    "174540650f2343b993ca15231c570c74": {
     "views": []
    },
    "174c970a1184443f806572ee0e4bd838": {
     "views": []
    },
    "177a017640454c118bb2a67d688e7316": {
     "views": []
    },
    "17a063f4b5324d0aa0c8f8b233290fbb": {
     "views": [
      {
       "cell_index": 26
      }
     ]
    },
    "17b56c05c5ab4455ab738e40d0cfaa72": {
     "views": []
    },
    "17ec675849b844a8bd35ec11013a38af": {
     "views": []
    },
    "180b3f1add1d4c1ba35eb863126767c6": {
     "views": []
    },
    "18199e7ea5ce492da4c7397e952eef0d": {
     "views": []
    },
    "1857aaf2a39e4ef198183f10eb43614c": {
     "views": []
    },
    "185f4a3486f34ea5ac02b38604a892db": {
     "views": []
    },
    "18a69f6a0efb46299175783fbd37d015": {
     "views": []
    },
    "18b7c9bf0b904179967b08582a49577d": {
     "views": []
    },
    "18c795fc74824bc0b00beecf5506748a": {
     "views": []
    },
    "18fa03c1b913455fafff46a640aaa50a": {
     "views": []
    },
    "197fe2e467294430b8d18998f87d7018": {
     "views": []
    },
    "19b35f4dccd8457a8b5a6064cb4ae9f4": {
     "views": []
    },
    "19d9318eaaf64c74a7056809d1672bc7": {
     "views": []
    },
    "1a1a71d9a9a74dbfb636e07b0cc8ed5c": {
     "views": []
    },
    "1a5b4e957a00403abcca846724fc34c7": {
     "views": [
      {
       "cell_index": 26
      }
     ]
    },
    "1a773d3bbfeb4191a55b0760207e29f9": {
     "views": []
    },
    "1a8110cbfe444dea9ba98603dfca6016": {
     "views": []
    },
    "1ae1681e709c4f41a49857dc3e969f0b": {
     "views": []
    },
    "1af648fcf0554b67b8097826593d1d1d": {
     "views": []
    },
    "1b5258bf12e74499a2511cdbc866ae8f": {
     "views": [
      {
       "cell_index": 26
      }
     ]
    },
    "1b8e28f6bd3240e58ff7bdfc470e9556": {
     "views": []
    },
    "1bd534d1add7479cacddf2d1c884c194": {
     "views": []
    },
    "1bd596c8d0b34fb187a2a211819b29f5": {
     "views": []
    },
    "1bda5bbc94894354b34f55febbdd46f5": {
     "views": []
    },
    "1c39b2df46a8410c95c7dd8e1a465f70": {
     "views": []
    },
    "1c56a8a917eb479e990657aa2462ec6d": {
     "views": []
    },
    "1c66b103d3bc425ab3299c7f99d9b05a": {
     "views": []
    },
    "1c6ce1406b22463c9bd346060ea590f7": {
     "views": []
    },
    "1c82d97d418649d695daf35f9b82b2c4": {
     "views": []
    },
    "1caf2a758e7047e8bf142d08f6312bb9": {
     "views": []
    },
    "1cb5d67462f245808d9fb2a0a10c1356": {
     "views": []
    },
    "1cd2ccd6c5f6484fb1d3068d38c3b17f": {
     "views": []
    },
    "1d1b05a998d54824bc919c6bd3ca9889": {
     "views": []
    },
    "1d1e16ef059c424487e40a9479227aef": {
     "views": []
    },
    "1d27ac5d8ab64cb88c7b633fe89d9a87": {
     "views": []
    },
    "1d61b07fd2074f6b9b673fb69ffd6f91": {
     "views": []
    },
    "1db8ad89208f4f2eaac5d9e6c48bf4cc": {
     "views": []
    },
    "1de7cefc05104781bf41200df336898f": {
     "views": []
    },
    "1dfd503d940741c2ac87409efb7c9370": {
     "views": []
    },
    "1e1fc1a4b31c48a78394d10a5a457150": {
     "views": []
    },
    "1e282771eaff4cdda8dfa8ad44b76f4c": {
     "views": []
    },
    "1e7ad3806ec24a0da2fc19be1d9a52b5": {
     "views": []
    },
    "1e85944d37bd4dbba5d7ff3812763844": {
     "views": []
    },
    "1ea81eff24c7420384752efe21b13ee9": {
     "views": [
      {
       "cell_index": 26
      }
     ]
    },
    "1eaf8640e4d24ae69e3c06a62c786e10": {
     "views": []
    },
    "1ed8e1252673457cb0452e6a98504d1c": {
     "views": []
    },
    "1f2d1df88c424b5f945d9c522b395d62": {
     "views": []
    },
    "1f5e1858b8fd47b9a8a00117fbc3993e": {
     "views": []
    },
    "1f9d492c4e064dbba3ffdb854437eadf": {
     "views": []
    },
    "1fc0fa0d05fa457795273bf43d7b9e38": {
     "views": []
    },
    "1ff1380fdf9845dcac8e2215c0aacffa": {
     "views": []
    },
    "201b095c1d9b40acb6412d8b4b59866d": {
     "views": []
    },
    "2025c77202cc428c9c1a20239409925f": {
     "views": []
    },
    "202b2aad24ca410e9eca8146fd4074a0": {
     "views": []
    },
    "20340eb24ae543278819b66c3b75dac2": {
     "views": []
    },
    "20616fd5d4cb410488850f3ff9c0e06f": {
     "views": []
    },
    "20820767ac7b4ad3a92f544fac33d364": {
     "views": []
    },
    "20953374152b4d7ab13435e83e1f1a2a": {
     "views": []
    },
    "20ad1936b03d41048d7ccbdd5e7220f8": {
     "views": []
    },
    "20bc7fe94aab4f0c8e951c790378a0ee": {
     "views": []
    },
    "20de61f604724c0d97aa61ac65e9e1f2": {
     "views": []
    },
    "2101ae505f4a41e9a3b7796e574b74b7": {
     "views": []
    },
    "21bb1bf570fd4843a331e308c3321f6f": {
     "views": []
    },
    "21f53db78254432a88071be55a86c6b7": {
     "views": []
    },
    "226ad0df63964564a57018c61976ce16": {
     "views": []
    },
    "22738189fe37496ebec30f17d361bbe8": {
     "views": []
    },
    "227701728ca34d82a2efe4101b3cb98d": {
     "views": []
    },
    "2278a010e0754735b6fecaf84631a5cc": {
     "views": []
    },
    "22b121e0401343f688f70e7dafab6433": {
     "views": []
    },
    "22b1cd43f3b845b89a03c690ae4b808b": {
     "views": []
    },
    "22b700f737174d1a8032caf75cf6c1aa": {
     "views": []
    },
    "2308427ff09c4e789c99ad7a97514b58": {
     "views": []
    },
    "230a665d28c74dc3806d536a0bdbb149": {
     "views": []
    },
    "23967d5059144072850b4e36b9057ebd": {
     "views": []
    },
    "239fd23ab13245b280c468031af17943": {
     "views": []
    },
    "23b5df9c50024cf68a322826ade3f73a": {
     "views": []
    },
    "23b9b740c5a24fcd987e4f12c985cde1": {
     "views": []
    },
    "240aab83ab31449383fcb36d48c55eed": {
     "views": []
    },
    "241a1d7931cf428b80e265c9378ae13d": {
     "views": []
    },
    "242821cf8c7d46f1b0bf17b9fb3163a3": {
     "views": []
    },
    "246678a2895c48c3b46318673cde0bc5": {
     "views": []
    },
    "24dcccaf966f4136b94272af3b6e893b": {
     "views": []
    },
    "2512d45a03de44e88c28c49517ec3f82": {
     "views": []
    },
    "2522a04e8cb74472af87dcefee44b68d": {
     "views": []
    },
    "2540ce61f24f4212af5c15a1b27353a3": {
     "views": []
    },
    "254eddf40b9748e2932ec160df7ebbaf": {
     "views": []
    },
    "25783903cf774b8bb9a32826a7839a48": {
     "views": []
    },
    "2578927646214a9d94e10ac05bac43bb": {
     "views": []
    },
    "2597990e88404345b3a87fbad4352235": {
     "views": []
    },
    "259bdd1e2e794e0da741b1230fc927d1": {
     "views": []
    },
    "260eb80068cc4adba32d9ffb5e072b4b": {
     "views": []
    },
    "26125d233503441e9921f4a68f7ee69c": {
     "views": [
      {
       "cell_index": 26
      }
     ]
    },
    "26654d8efa3a4a98861629e86203c7d2": {
     "views": []
    },
    "2678c1004c0f47398aa481cd4279467f": {
     "views": []
    },
    "2690526f212f48d5b77db0118a6fc9f9": {
     "views": []
    },
    "26bfc1984c9d4763ab818b52cc653013": {
     "views": []
    },
    "26eca968370845a28224924cbcddadd0": {
     "views": []
    },
    "27360ae935e34745ac84328d458f5a2d": {
     "views": []
    },
    "27377554acb64587b26092d491f0105d": {
     "views": [
      {
       "cell_index": 26
      }
     ]
    },
    "279e17d15e39449eb3a41730d112b0fa": {
     "views": []
    },
    "27d57a228b754105966cc20641644de3": {
     "views": []
    },
    "27f1224ab2a64f988b4c4d6fa9864d53": {
     "views": []
    },
    "28215aa9d05849e3a4e1aac8acd04a84": {
     "views": []
    },
    "285104ad143c48f7a29a37bc04efe515": {
     "views": []
    },
    "285471b9c35343498df7392b4f5c4b1f": {
     "views": [
      {
       "cell_index": 26
      }
     ]
    },
    "28582f8657cb43918628d00c59c02e87": {
     "views": []
    },
    "28e049fca812491989d797ac195869d6": {
     "views": []
    },
    "293135a59bfb4b1697270f876a600da8": {
     "views": []
    },
    "295450bfc64c44d9a332ce0d30a7dec8": {
     "views": []
    },
    "2a0faffc66c743ebaddc17f1e8429927": {
     "views": [
      {
       "cell_index": 26
      }
     ]
    },
    "2a2d11eec3884bc0a1d532f933440bd2": {
     "views": []
    },
    "2a85ce74dda742d6883ad787d77e4c38": {
     "views": []
    },
    "2abc46849f3747a0888d036950773e87": {
     "views": []
    },
    "2acaea6e861e4f32a0d02524049cebb3": {
     "views": []
    },
    "2ae8b93d473042729319edb46c4f216f": {
     "views": []
    },
    "2af864ae42f74f90bb2c1fdadd84bba6": {
     "views": []
    },
    "2b14b03ae0c14ab2b0cb0973eca25a10": {
     "views": []
    },
    "2b2115d5510f462cace5b4a6f8b050f0": {
     "views": []
    },
    "2b41cd3eeb5e4ffca0d9cf100f5a8809": {
     "views": []
    },
    "2b7f6a1e488b4b7fbf6fa34cf3287325": {
     "views": []
    },
    "2b87407942ec4f4ea7cae801db50807c": {
     "views": []
    },
    "2bd2e3b26fd04bb6b7930ec275b6cd97": {
     "views": []
    },
    "2bf00f450ad04865988a0c7d73d0c335": {
     "views": []
    },
    "2c0855fab11e4462b8691ba7ee5923d0": {
     "views": []
    },
    "2c4ea9114df74a22ad4d1b628acaa77c": {
     "views": []
    },
    "2c757e89a5b346bbad208cc325d158b8": {
     "views": []
    },
    "2c80c222ccb44a2686f1668740028e20": {
     "views": []
    },
    "2c8781a1d12a48ed978223e174116618": {
     "views": [
      {
       "cell_index": 26
      }
     ]
    },
    "2c87c52da60b43debf6140c724615448": {
     "views": []
    },
    "2cf884d8e3c94cfd90478112ce877161": {
     "views": []
    },
    "2d495b242a6f4af0a03b65c2ed9024f8": {
     "views": []
    },
    "2d6141ee1fef4fc6a4e61ce7acc21765": {
     "views": [
      {
       "cell_index": 26
      }
     ]
    },
    "2d801a21080248598e6d595c418060a0": {
     "views": []
    },
    "2d9f03eb94b44eac827c05c7b494a241": {
     "views": []
    },
    "2db9deb8c95e4fa382eaf856bf0a3086": {
     "views": []
    },
    "2de58d6ba8ae42a4b8f741b4c046126a": {
     "views": []
    },
    "2e0ebed6f3d04d34be6f6f2fb5b00fda": {
     "views": []
    },
    "2e3cad88f00b4f489705b2c06a0f5119": {
     "views": []
    },
    "2e76a2f72c47490ba130f9f1640bf82c": {
     "views": []
    },
    "2e7a2fc1ea9247e6be8df638e99a6072": {
     "views": []
    },
    "2ecbf10631a2452592af9657e5c70f1a": {
     "views": [
      {
       "cell_index": 26
      }
     ]
    },
    "2ecca323cc214da59a62c301ac410cc7": {
     "views": []
    },
    "2ee48b6e776a456e8d211481c9b2f467": {
     "views": []
    },
    "2f08ef14e04a4c2a94487dfb81f4538e": {
     "views": []
    },
    "2f17c71a1874447fa827f8526dd714fa": {
     "views": []
    },
    "2f2eda76c3bc4bcaaae3799ed69b2e4b": {
     "views": []
    },
    "2f305b68b9b44b3e8558594aa48cfb49": {
     "views": []
    },
    "2f7f0fc162024701902dc7b9854607e7": {
     "views": []
    },
    "2fa421617dd441a8b890fe2ccc320a6d": {
     "views": []
    },
    "3035d7d21ac24d65809c4dc7bc75f616": {
     "views": []
    },
    "306ec75d55cf4836a5fd270f392ac735": {
     "views": []
    },
    "3078dbd8d8a5443fb19a61a43f79d358": {
     "views": [
      {
       "cell_index": 26
      }
     ]
    },
    "307c82267dfb42f28fa53a1d1ac2f4a5": {
     "views": []
    },
    "308d35c2ddda4cd09de21e43f6025dd1": {
     "views": []
    },
    "3130618c217547a388b6aebf9d629dfc": {
     "views": []
    },
    "317a6b6032ca4e518a30a0c924c5b155": {
     "views": []
    },
    "31a424ddc96540f0b331808bf25a8aac": {
     "views": []
    },
    "31a52c228bac40d3b2d64450cfab5d5b": {
     "views": []
    },
    "31b3417583e047c3b370f8e9dc84e3e4": {
     "views": [
      {
       "cell_index": 26
      }
     ]
    },
    "31d1bd3d1b6c4942b368be92d72e4dee": {
     "views": []
    },
    "3231b11ac4a5433a97f730079516edcd": {
     "views": []
    },
    "32431f5cfcd2428993c9bc03c200c94a": {
     "views": []
    },
    "3244887fa97a4a4ab99e7a51834c927e": {
     "views": []
    },
    "325a38347e7b4a31a28d60ffadea87a5": {
     "views": []
    },
    "329a23c0994d46ed98b1ec0e615c2714": {
     "views": []
    },
    "32a2bf0ae0c649ac8af17c3a64c83ed0": {
     "views": []
    },
    "32a6faa774f440a8994fbd0671f96dd7": {
     "views": []
    },
    "32e822dec65f4c7e8705e4f5116ccdc6": {
     "views": []
    },
    "331d80dcc40d46af9ecd2133d0330df0": {
     "views": []
    },
    "33271b26ab6140c4b404e68c80acb9df": {
     "views": []
    },
    "333b1e8137f34c6c9034f0e318425e4d": {
     "views": []
    },
    "3357259a08404e28b2e554f42cc5bdad": {
     "views": []
    },
    "339f30bcb2e940199ac188740e555353": {
     "views": []
    },
    "33b1dd0591f549ecb82674f91afb70b8": {
     "views": []
    },
    "33e1fb6eaa8f45708b50e58d590591f2": {
     "views": []
    },
    "34527788a76143a69d9e6260292dbbf7": {
     "views": []
    },
    "347a8c93ee6342cc8f6052b919ba5318": {
     "views": []
    },
    "3498c0617ce64c22b8e44400c62a2ad4": {
     "views": []
    },
    "349caf798a77419d980a06a0e8d321ec": {
     "views": []
    },
    "34a61af0b8104b4abd6b62d18ebf3140": {
     "views": []
    },
    "34ed5929545b4a09ac2750e6ac7172af": {
     "views": []
    },
    "3510f6048f7d4264887c978496377ad5": {
     "views": []
    },
    "35129c98b4b94506af96d1d8ce6e20f0": {
     "views": []
    },
    "355eb2dfd7c7414ca49bd2c5c5cb2873": {
     "views": []
    },
    "35815a9a442244338b4b7ca3e065544a": {
     "views": []
    },
    "35cdc184a3e6471d9f8aa0339cf06665": {
     "views": []
    },
    "35f3dfd75a4b482894796f6c839cd62f": {
     "views": []
    },
    "3607f6d588144a5297881eeb8c75ebdc": {
     "views": []
    },
    "362434c841644ce9a4b54076ba288cff": {
     "views": []
    },
    "363b77d8b3e04c27b10812f6c743feec": {
     "views": []
    },
    "367403f08282402d8e85415915038aa4": {
     "views": []
    },
    "36b698cd06df41179e7d0ac78f735558": {
     "views": [
      {
       "cell_index": 26
      }
     ]
    },
    "37088e70a3a148b3a6fab7454d471ac7": {
     "views": []
    },
    "3736741c148f4a5fa24da8b8bcd23aa0": {
     "views": []
    },
    "378430a29ed049c88cc9400d9232190a": {
     "views": []
    },
    "37ca670f2f604c488b269a76bf1d0c62": {
     "views": []
    },
    "37cbf5c4bf61410d9a780299e7516587": {
     "views": []
    },
    "37d316ae2722457a9017c4c22ddde82b": {
     "views": []
    },
    "38050c09ba3549d59c393f30d14ac5f1": {
     "views": []
    },
    "38170817c1fc45c3b34d1cb1fd7ed832": {
     "views": [
      {
       "cell_index": 26
      }
     ]
    },
    "382660c361fc4b9da16318593b056b88": {
     "views": []
    },
    "3851092b4b6b41f2a27f7979be6d8d21": {
     "views": []
    },
    "38692e482c1f4672a2e45ff0820b382a": {
     "views": []
    },
    "389ef55e6c2a4551b69d89e9b7edfea2": {
     "views": []
    },
    "38b227eaa5494c4b963e375d451ca1fa": {
     "views": []
    },
    "38c83a6b282843dd98ac1cf7a463510d": {
     "views": []
    },
    "3963aede49c747f882e7161c4b65c33c": {
     "views": []
    },
    "39660239633f43cb979bcccd7f39c83f": {
     "views": []
    },
    "39d3ede87063456898b78172dfb1c1b9": {
     "views": []
    },
    "3a5316827fb5458d925969183f3f8ca8": {
     "views": []
    },
    "3ac71c01b6744bf29573679d69c3f14f": {
     "views": [
      {
       "cell_index": 26
      }
     ]
    },
    "3ae1c97de9d1405aa961440fb126f115": {
     "views": []
    },
    "3afd993ebd6a4bd9aeccd3e30d5ce69f": {
     "views": []
    },
    "3b68eba6ec6b41e78838f2fa5928fd71": {
     "views": []
    },
    "3bb92b63303b46daaaf086fccd9f9621": {
     "views": []
    },
    "3bdf4c66f51b44c082652da0d38399a2": {
     "views": []
    },
    "3bf4d5a87fab48a7961f6544d18dfbae": {
     "views": []
    },
    "3bf812fe68e544f7acae8e5dd92f9329": {
     "views": []
    },
    "3c33fb202d8e41f1ab919273213dfb5a": {
     "views": []
    },
    "3c7652e45fe240249bbd896c604e5e7f": {
     "views": []
    },
    "3c9939e290b54976acd8624b5f380ca8": {
     "views": []
    },
    "3cb46b526fdf4d2691df0b2934eb6cc0": {
     "views": []
    },
    "3cc09c772abf47b7a7459881964cdf1d": {
     "views": []
    },
    "3cc89e3f52a44167b84b13412c79bbf4": {
     "views": []
    },
    "3cdb4ad7599a4bdb860e9ad769b5a0b6": {
     "views": []
    },
    "3d418f6dedf84a7296c41109a3f579d2": {
     "views": []
    },
    "3d4a4425f69b46bfb99d3456076efaed": {
     "views": [
      {
       "cell_index": 26
      }
     ]
    },
    "3d702091f2bf4aa7b6798e8e275b2ac5": {
     "views": []
    },
    "3d7fd7ca28a74b91a29c75474cd6d7bf": {
     "views": [
      {
       "cell_index": 26
      }
     ]
    },
    "3d8c532e9e4e4592904fa6baa6d09f31": {
     "views": []
    },
    "3db2b8dd51684a51826abfdbe20c314d": {
     "views": []
    },
    "3dd9d2d9388a490ebfd29db4d9ebd02e": {
     "views": []
    },
    "3df1b9ff4fd64a9d850bc66929feb5dc": {
     "views": []
    },
    "3df83d02949941df94fce84bf9b2e72b": {
     "views": []
    },
    "3dfffa7bb38b40f4a9489f5037d48058": {
     "views": []
    },
    "3e0da613817f4c7aa7b59c8b363c2c4a": {
     "views": []
    },
    "3e1f121189fe4b40bda9d76c930d17ed": {
     "views": [
      {
       "cell_index": 26
      }
     ]
    },
    "3e42a24afcc24150a887e50ed44f17a4": {
     "views": []
    },
    "3e4516a0ad164f31b42a4037c4a2f3a4": {
     "views": []
    },
    "3e45bac59b9e4abb8958588d0b9a2d95": {
     "views": []
    },
    "3e7f993e09b24457868abf744f625a5c": {
     "views": []
    },
    "3ec44d00145f4465b0f6af29a1324f98": {
     "views": []
    },
    "3ed3827826e0463fb7cf2289ddd643e6": {
     "views": []
    },
    "3f268e2a22824fa4a874d29d81fa673e": {
     "views": []
    },
    "3f3aa9362cfc4e55a119f5ac1ceaa345": {
     "views": []
    },
    "3f4bf366bd5b4e068bb0e3617bc30bd0": {
     "views": []
    },
    "3f5562291f224124acd59f988f4e1fcd": {
     "views": []
    },
    "3f56e260ab664c14beac2ebf1fb3e1e9": {
     "views": []
    },
    "3f69fa8fc465469ab62f505bd8a79a55": {
     "views": []
    },
    "3fe4766242fb40009665ece5a6e9b395": {
     "views": []
    },
    "4008d7a8618e418e8a25b180f3ee812c": {
     "views": []
    },
    "408a5f6003304ba6af2d7becbf68b8c3": {
     "views": []
    },
    "4098e62aa1ec472fbe25fa24b89221b8": {
     "views": []
    },
    "40c0c59c8d064187a8485eb1c0b76af0": {
     "views": []
    },
    "40c544397f944418a28a4a0e9e62de06": {
     "views": []
    },
    "40ca63deae3940eaba8d3d250fe0494a": {
     "views": [
      {
       "cell_index": 26
      }
     ]
    },
    "40df43dbd8f04dcc88a12ac715d6ef4a": {
     "views": []
    },
    "418b97275a5d44539b9ba7d9ddb80dc8": {
     "views": []
    },
    "418c6a89b5c644a9ad1a25822116580d": {
     "views": []
    },
    "41c0b7bc4b0a44ff81d0a8265fb6c1fb": {
     "views": []
    },
    "41e66158cf14466da9cae477bcf956be": {
     "views": []
    },
    "41ee8ad9a1a44575ad5aea90eac34c15": {
     "views": []
    },
    "41fce2c2c005440bba9b18e8e813e26b": {
     "views": []
    },
    "421ab8cdec1e43049303de1311bbe956": {
     "views": []
    },
    "4295595bfa0b4a55864e61c5dff80104": {
     "views": []
    },
    "42a8943e38af4418a47c02141edaf194": {
     "views": []
    },
    "42abdf499c72445ea0285cacd05cfb2b": {
     "views": []
    },
    "42b052a5f950461da08626be1274abc9": {
     "views": []
    },
    "42bac510028f4f768e884e5019e50ee7": {
     "views": []
    },
    "42ebd0445df44401861d922bac01d2a6": {
     "views": []
    },
    "42fba52fc5e04fe68b9f1bc7b6e2f354": {
     "views": []
    },
    "43143c4c4470400f86e4ac4c98745dd9": {
     "views": []
    },
    "433b6c8fb13c4cb1b45cb83fffbf1a29": {
     "views": []
    },
    "433fa7669f464dd2b99a675edaf91295": {
     "views": []
    },
    "442e2f169e704d8493bf34f457127dc5": {
     "views": []
    },
    "443c121eaac94d5b8aa72fc167513819": {
     "views": []
    },
    "443eaf329d3b4ebc91247a97c0b01c62": {
     "views": []
    },
    "44da0d1869fd487493885bec5f0c55e9": {
     "views": []
    },
    "44ece6047af94dc4aca3d467aeb9d278": {
     "views": []
    },
    "44f8fe2487a04506bc24b9a9dc9fa722": {
     "views": []
    },
    "450e13b1bb494a6d96195d7620a6c750": {
     "views": []
    },
    "451fb7878d0e4d4cba0ee10ab2e1a19a": {
     "views": []
    },
    "455f0f0374054df8b18dac1e199eb55e": {
     "views": []
    },
    "456064b867d049bfafb49d90d076e766": {
     "views": []
    },
    "4570ef8fbe8f47f7b7e9f4dd62628143": {
     "views": []
    },
    "45d71177426a4f318e6878be1e4961ab": {
     "views": []
    },
    "45f70a87e8914369a8f6120e1622d012": {
     "views": []
    },
    "4652626ddba248369fcce53038d16ae8": {
     "views": []
    },
    "4654b1b33e984dd6817b4b6ffec00388": {
     "views": []
    },
    "46a06177bc384d34bd28ff547154749d": {
     "views": []
    },
    "46fd0b319de44c108ec8d2a34d8e09d5": {
     "views": [
      {
       "cell_index": 26
      }
     ]
    },
    "471daccad69f4a2193386f412ac3d7fb": {
     "views": []
    },
    "473592f5dc72450b9dcb49afd62a2aa3": {
     "views": []
    },
    "475369c6df3e418fa40f95a5830bf20b": {
     "views": []
    },
    "47c69af4979c423abd08dede921be15e": {
     "views": []
    },
    "484960f4b017455c890039c288e588bf": {
     "views": []
    },
    "484ca6845d0b4ba4be1306e2e288e57e": {
     "views": []
    },
    "48883aeecd5e415ba2df840a618dae56": {
     "views": []
    },
    "488ed26c7ac64af4a37f6d64800aa72e": {
     "views": []
    },
    "48fa8023bfc6401eaae7c61908adfec3": {
     "views": []
    },
    "4908296a899c49bdbe922dbd57852e64": {
     "views": []
    },
    "4958ba66f0144462965b82bad6dbef6b": {
     "views": []
    },
    "49c64c9ec90643e6901eda5909a6b4e7": {
     "views": []
    },
    "49e3c9781da54636a5cb89b4738d3505": {
     "views": []
    },
    "4a01b54260cc4a4dacb715fd09baf92b": {
     "views": []
    },
    "4a2152a18cdd47aca267eec949565a34": {
     "views": []
    },
    "4a40df57e8414ee3912e3a599ac69abd": {
     "views": []
    },
    "4b029e62fb64448eb04ea8b12b014e76": {
     "views": []
    },
    "4b386193db29467ab607f51b110100bf": {
     "views": []
    },
    "4b3f9fb359d64d7e96996bd53d628eeb": {
     "views": [
      {
       "cell_index": 26
      }
     ]
    },
    "4b5ab85da90f4a21a0ae9606b968c15c": {
     "views": []
    },
    "4beb1397eae84f3d98a5b35100eccd79": {
     "views": []
    },
    "4c02f99d52e842dabde30cd1787a23b3": {
     "views": []
    },
    "4c4178c0b4324f9c8373f89eca9668f0": {
     "views": []
    },
    "4cabae8778a0419a89268d63099adef3": {
     "views": []
    },
    "4ccaef995a0b433db4267e92c6be2ce4": {
     "views": []
    },
    "4d081c1564134a00bae5a5b8e2ae33c7": {
     "views": []
    },
    "4d19fd237faf4cb0af427c9da0122314": {
     "views": []
    },
    "4d58d6b2cfda486ea4d4bbec3bc1d318": {
     "views": []
    },
    "4d7859ed74ad46579f37b25291ef38bc": {
     "views": []
    },
    "4d7cb6a8dade4527bddf12c615a05969": {
     "views": []
    },
    "4d7d36c21a374e8ba7a9d1d4f6fe2703": {
     "views": []
    },
    "4d8468e43f5748c4a77de6b3822851f1": {
     "views": []
    },
    "4dde28efd3f34c7a998a382c674e25b5": {
     "views": []
    },
    "4e78ee71b71f4cd596c65898a6a24f53": {
     "views": [
      {
       "cell_index": 26
      }
     ]
    },
    "4e84ecda92ad4cecaa8d8a4b05da52bb": {
     "views": [
      {
       "cell_index": 26
      }
     ]
    },
    "4ecc3f75713c49ea91f2d858b8a9ec8b": {
     "views": []
    },
    "4eccdfb7faf143fcbefe538576a809c5": {
     "views": []
    },
    "4ed9c482c508483a9a3f75dd8cdef9af": {
     "views": []
    },
    "4f0290afe695463ca34e489d1575a72d": {
     "views": []
    },
    "4f18544eb8de4c72b93980ccefa20b1b": {
     "views": []
    },
    "4f2ec559d2224156b86ac32364903188": {
     "views": []
    },
    "4f6981ebada14212943fcae7568e2d6d": {
     "views": []
    },
    "4f7a1da802e248a5b480d2b1abbb3078": {
     "views": []
    },
    "4fee1a4da4f741baa9fea60c4dcadf0e": {
     "views": [
      {
       "cell_index": 26
      }
     ]
    },
    "505a25416add452ebba65b494e99f6ed": {
     "views": []
    },
    "505b1faa6e6a46a3ab0941703598b9bf": {
     "views": []
    },
    "507f1b23adfd49c3a1196aeb2b512928": {
     "views": [
      {
       "cell_index": 26
      }
     ]
    },
    "509044244930453d83b98d9235c4fd06": {
     "views": []
    },
    "509fe0a5536845b6b6937b11a7abaf95": {
     "views": []
    },
    "50a0d0e9506844a4aa5d8d2011fbc0db": {
     "views": []
    },
    "50dcf5e40f344bd3a0591d55a32ba26b": {
     "views": []
    },
    "50f585a0e5794e8a91283eaf8890e871": {
     "views": []
    },
    "50f84909db264c8baaeefe515a83a194": {
     "views": []
    },
    "510f8a2b8479458e86c1cab44ae9264b": {
     "views": []
    },
    "51269a6237584250bcf263a81878be69": {
     "views": []
    },
    "51966535a95d4afea750a9718994218c": {
     "views": []
    },
    "51989cc23339411f9e525aa2b745a863": {
     "views": []
    },
    "51a0506d74dc434f87cf19a1585303d1": {
     "views": []
    },
    "51cecb0297d54e4faaa5a87aee569a78": {
     "views": []
    },
    "51e66a08c9594e7489422f78b3f86f21": {
     "views": []
    },
    "51fc1e15dabb4b3abce17ccd97448a15": {
     "views": []
    },
    "520bf80445a444b4a81b3c3abf8d88ff": {
     "views": []
    },
    "52110020cf7849479a41b2ec26623f9c": {
     "views": []
    },
    "5245f28cae544b16bc148bf30cda2fb6": {
     "views": []
    },
    "525be043959e4893bb0dce0a6ebac03f": {
     "views": []
    },
    "52799887296346df84fd1e7c189ea299": {
     "views": []
    },
    "52ad32a8202e4e86b0e61eb5fd1554bd": {
     "views": []
    },
    "52b9e16342d14fa2ad5f3f4a70dc0bdb": {
     "views": []
    },
    "5335e9213ecc423aac4b509dc9b1ee39": {
     "views": []
    },
    "53471e4b01eb4394842a6016d0673d26": {
     "views": []
    },
    "53521f8ace6d44da8e76505134b30447": {
     "views": [
      {
       "cell_index": 26
      }
     ]
    },
    "5378c1013b164f20977011b22a0fb765": {
     "views": []
    },
    "537fa8175a2c452ab737f72a0e5047a0": {
     "views": []
    },
    "53876556ab904bfe8331a5c34017156e": {
     "views": []
    },
    "53a56edf1d9b4f59ba21dee7d127a5b4": {
     "views": []
    },
    "53a5b11022a74f7cb0cf941e5e368b79": {
     "views": []
    },
    "53a9e552a42c44c7bfa2e2265f8d8544": {
     "views": []
    },
    "53bf73f43f0a4a80837ebd607a979c68": {
     "views": []
    },
    "53e59c365c9847489e25d57ca7bf83b8": {
     "views": []
    },
    "53fc2c3379b14a1381174424114783a9": {
     "views": []
    },
    "540c1e836fda4fa6b931acfbf3f4310e": {
     "views": []
    },
    "5451c4f4f1c549b8940f945e6aee7724": {
     "views": []
    },
    "548996c7cdd143d086cede2c505b0444": {
     "views": []
    },
    "54e5e49584184908a5dd2525281f6dc6": {
     "views": []
    },
    "556aa41d26954bde9daeea8b4dc14629": {
     "views": []
    },
    "556c1658174b4aaaa7e514a394eda5b3": {
     "views": []
    },
    "559e135b33c148f48e813f6c7d1ca0f6": {
     "views": []
    },
    "55fe9bdd71684a61b8396adcc98376ed": {
     "views": []
    },
    "560b862933db4aacae1a0c3a32a953e1": {
     "views": []
    },
    "56690e0d5d3a4a42b8e28fdbb703021d": {
     "views": []
    },
    "56711bce1f3f4d808fa5d1149622a9de": {
     "views": []
    },
    "56741092a3884ce9adba4fbc629f27c8": {
     "views": []
    },
    "56d14271f1284c05b4e7a4fc853d3755": {
     "views": [
      {
       "cell_index": 26
      }
     ]
    },
    "57381ffee3e44ba4a890258e5507cf29": {
     "views": []
    },
    "5749aedd9a0e46db9e2f24c0b651afc8": {
     "views": []
    },
    "57511f00239b4dc9b60bf03eccb0bd3c": {
     "views": []
    },
    "5773c60c3cd34214bb7459dd36be3086": {
     "views": []
    },
    "5783f167ca364c8693c587a9318a44a3": {
     "views": []
    },
    "5791879ca00c4804aaeb2ee8b8d7f681": {
     "views": []
    },
    "57aa2ee1d3304e058b352bbca5e83c75": {
     "views": []
    },
    "57e8544baadd481fac211a3dcf98e3df": {
     "views": []
    },
    "580a0ee68efc4a308ab25c0075372ec4": {
     "views": []
    },
    "584ce4849b18480f8091adb24e738a28": {
     "views": []
    },
    "584e3c43d30f4949bcda65daaba20b5d": {
     "views": []
    },
    "5859611a5ab44b609132ab00fdf5aa5d": {
     "views": []
    },
    "586f38f2b6344704a2006c8b2b905cb6": {
     "views": []
    },
    "58852b24f553412c812e086eccaa01a3": {
     "views": []
    },
    "589e952934f342bbb8432716c617b2b0": {
     "views": [
      {
       "cell_index": 26
      }
     ]
    },
    "58ad9395b9d744deb9d68528056e3f9c": {
     "views": []
    },
    "590670b664e74cf9b9d9cfcd97135374": {
     "views": []
    },
    "598f81f2d38b42299de824e960524238": {
     "views": []
    },
    "5a271fc95ad64de1b18928e9b4fb4eac": {
     "views": []
    },
    "5a346448d6bf41b1ab2e367f0327638d": {
     "views": []
    },
    "5a6c84f087514a7f9635723abdfd2a10": {
     "views": []
    },
    "5a742a09311440af9175b30dbece1e65": {
     "views": []
    },
    "5a9fd0ece8634d0d98967c8f4fc245c1": {
     "views": [
      {
       "cell_index": 26
      }
     ]
    },
    "5abfe69a607b43efbb1d9690f4724094": {
     "views": []
    },
    "5ad3e7e3d38b43449519433fa54d8fee": {
     "views": []
    },
    "5adfc03e99674c6fb27f11c6df753c63": {
     "views": []
    },
    "5b6d0c794edf42e29dc91379d993984b": {
     "views": []
    },
    "5b856b92633447a5900636271bfb3f3f": {
     "views": []
    },
    "5b9b9600c3b34ac9934c8c3b633c184d": {
     "views": []
    },
    "5bd7c9404be34136a733f5737481f83d": {
     "views": []
    },
    "5bda69c93ad94b04957814fdfb188df6": {
     "views": []
    },
    "5c11730480324ce98710eedeb6444c3d": {
     "views": []
    },
    "5c3a50c945f243038645491d4bdaced8": {
     "views": []
    },
    "5c42a3c140384604a9edb6335d5beef2": {
     "views": []
    },
    "5c456c16d04142d8ba6e0f844f76675b": {
     "views": []
    },
    "5c6e5236027347daad75e3f50f88daa7": {
     "views": []
    },
    "5ca44c0e03a24c438d3bf2244840a6b3": {
     "views": []
    },
    "5cc74dcdd16445278ca32136b82d7947": {
     "views": [
      {
       "cell_index": 26
      }
     ]
    },
    "5cf75259ab864327af37e605f1c2b38b": {
     "views": []
    },
    "5cfa42944883447d94fa6f158adf212d": {
     "views": []
    },
    "5d3d96806a9f4cc6b5a971d3bccddb06": {
     "views": []
    },
    "5d707dfbf0304c04949978781747c1bf": {
     "views": []
    },
    "5e1e8deecb2b44e5a4accf11aab3186d": {
     "views": []
    },
    "5e4514da30af4ba199eafeb4a9568627": {
     "views": []
    },
    "5e53c599c6b941169407de77dba2e774": {
     "views": [
      {
       "cell_index": 26
      }
     ]
    },
    "5e9c230daec7475489b6aa544ea1c120": {
     "views": []
    },
    "5f0b5fc187244d1d96f3e5d44eeb08c1": {
     "views": []
    },
    "5f0e0078e50140d29764d3f6210bf24e": {
     "views": [
      {
       "cell_index": 26
      }
     ]
    },
    "5f82eb7a5c454b61b8d28a09dbbdb973": {
     "views": []
    },
    "5f88e472f34c4526a44d3789c5371bdc": {
     "views": [
      {
       "cell_index": 26
      }
     ]
    },
    "601b2a287bf24202a7a2204bf161813f": {
     "views": []
    },
    "603e64d022fe4f07a7ff1b9bb7e79b6b": {
     "views": []
    },
    "6062f26541b646bfacd6c038e329046f": {
     "views": []
    },
    "60db12017bb648f1a7810b42d1500e62": {
     "views": []
    },
    "614ce1891e1f4fdbbba9ed33260c1953": {
     "views": []
    },
    "61db857ea0d5464fa123ada5115b4ba7": {
     "views": []
    },
    "61e97f5bbfaa4f1590d2f590d554ade9": {
     "views": []
    },
    "61f9946272334f56b820c62c90535aa1": {
     "views": []
    },
    "625cd52544b44927ba123e15ca0280b4": {
     "views": []
    },
    "63046a4a9e844884ac3bae199d1899f8": {
     "views": []
    },
    "63aeb2359b984c28b3d6d1326d7f687a": {
     "views": []
    },
    "646e574f965942748e9ee4b829e9c9db": {
     "views": []
    },
    "649f51f3952c41ce82f4902d8459ef51": {
     "views": []
    },
    "64ad2c63ab554b8081cd88fadf71f7a2": {
     "views": []
    },
    "6500b53111084a639da3643ac2828ff3": {
     "views": []
    },
    "650f8aaf6aa44476b3c018c3eb993748": {
     "views": []
    },
    "652c79536cac4244baafac5ece182f25": {
     "views": []
    },
    "656e6f20d6994caa8bc757cb11e8ddac": {
     "views": []
    },
    "657c3676dc1146d1bbc5c04f08aad598": {
     "views": []
    },
    "659df1882d9f4d23a84e416ebdfb21c9": {
     "views": [
      {
       "cell_index": 26
      }
     ]
    },
    "65a6993e5276472faea017790ad1dd40": {
     "views": []
    },
    "65fd5d33fabf4597a46a3406f5eb2731": {
     "views": [
      {
       "cell_index": 26
      }
     ]
    },
    "6624e801a5b64b71be615cfbd7a2b8ba": {
     "views": []
    },
    "665df37864144d859bec5ae55e04d6f9": {
     "views": []
    },
    "666b2e99891d4ca4983f61c8d1288c8a": {
     "views": []
    },
    "66d577fdb282479896c2e8e098ddeeb6": {
     "views": []
    },
    "66f9de80772349e4b922c50600e8689b": {
     "views": []
    },
    "670db210a68b4296a797aca22115563b": {
     "views": []
    },
    "672ecefabd7e443299c05f01d0984308": {
     "views": []
    },
    "67e93fcceedd4c819106ed2712db6eda": {
     "views": []
    },
    "6813f4d119094822b4d4f7b440a0e672": {
     "views": []
    },
    "6832bb52bd7e467a81d8eec610e54e2a": {
     "views": []
    },
    "6843d94036414f97a27d43bfdfc7dec7": {
     "views": []
    },
    "68473e4ea8b945f3870965fc361dd36e": {
     "views": []
    },
    "688ceda8e5de4e8798dbda3ac019a016": {
     "views": []
    },
    "6897fca436aa45e8bf4d82696b1c8c70": {
     "views": []
    },
    "68b25c60709e46c0be76c40f8bc37b12": {
     "views": []
    },
    "68dbd95c2d9649978d3365ecc660a6d1": {
     "views": []
    },
    "69616f6f41294a3bbd910f14a88040d2": {
     "views": []
    },
    "69829be3af324dbcbae9906b6601814b": {
     "views": []
    },
    "69e8a0827dcf4723a5bc1b079bf46116": {
     "views": []
    },
    "6a160502621349e2bfc6dec0e3d488b8": {
     "views": []
    },
    "6a3940cf0a754e678ea5699764d195c5": {
     "views": []
    },
    "6a46183eddf04d2ab302249170f2f603": {
     "views": []
    },
    "6a471a2658a24914b791e4072c141bd6": {
     "views": []
    },
    "6a522853dd79481aa9ea58a632a8ce1a": {
     "views": []
    },
    "6a7ac4cc97d54615973c96ca157ee6f3": {
     "views": [
      {
       "cell_index": 26
      }
     ]
    },
    "6aa96a9b16454f848e9b7adbe49c1e5e": {
     "views": []
    },
    "6acfb10d8b124b6684e3d32ebbcd2fa2": {
     "views": []
    },
    "6adee0f9fa894ce3a903533d60a2164d": {
     "views": []
    },
    "6ae890f8b0c549fca2015448aebaf813": {
     "views": []
    },
    "6aeece5407b44fe4b32787ccaedad2ad": {
     "views": []
    },
    "6af4539773f14a4ca3abcd3608ad0887": {
     "views": []
    },
    "6b2b2f4e1c1b4e599d4999a877d7126b": {
     "views": []
    },
    "6b35e4c428f24dc9b2d6d9153043d180": {
     "views": []
    },
    "6bdab3e41b1e45d1a1c2834b2afe0d29": {
     "views": []
    },
    "6c1872408eea4a4c96f695c6a215533e": {
     "views": [
      {
       "cell_index": 26
      }
     ]
    },
    "6c6eb440ca6a4760b107f3d908c8ae88": {
     "views": []
    },
    "6c781b507c864b55a11568ba1df79b15": {
     "views": []
    },
    "6c9c15033d8c45e2a204eb71f00b521c": {
     "views": []
    },
    "6ca79ddc6a8a4f4fac0f8a739a093c7f": {
     "views": []
    },
    "6cfcf921a29147648aabcbe22609e711": {
     "views": []
    },
    "6d216f98b6da41159c5b3a08ae747b21": {
     "views": [
      {
       "cell_index": 26
      }
     ]
    },
    "6d364f3f3f6145c3a6394d39516e5c3f": {
     "views": []
    },
    "6d413d83e85e48b8ab1c215c040a071c": {
     "views": []
    },
    "6d6519d4cad1412a9a6eca547d2870ec": {
     "views": []
    },
    "6d740e2d7a8147a49aa813202df04926": {
     "views": []
    },
    "6d8527ae0c4b49b1ad7f2b84e7db3152": {
     "views": []
    },
    "6df06b283ea24bd38be8235ce5d5888b": {
     "views": [
      {
       "cell_index": 26
      }
     ]
    },
    "6dfe14b9357442b0903a8e561d48073e": {
     "views": []
    },
    "6e17f0d416c347a5bc054963c5548d07": {
     "views": []
    },
    "6e6abea63a2b490a92b4c137a62cb40b": {
     "views": []
    },
    "6e7b1a51ef1c4cdf9b12ce1bc2b6b6f5": {
     "views": []
    },
    "6e8c3cc7e4c2466985b5be4da3f8876e": {
     "views": []
    },
    "6ef63ed684b74aefb31bae9955fb6fcb": {
     "views": []
    },
    "6f3d4acc724b4b0fa326870ff30bd384": {
     "views": []
    },
    "6f99d218f05345988c24581f0af45e22": {
     "views": []
    },
    "6f9d8fea060141d8b0e2e037f1eb4bb9": {
     "views": []
    },
    "6fa6f813f6884b58ba805b42342bdc4d": {
     "views": []
    },
    "7019d914f25247228fd1a3fdac100442": {
     "views": []
    },
    "703bdcc895c44a01ac4d0e95463f5e95": {
     "views": []
    },
    "706ff01eece7434a975aa5d785c992fb": {
     "views": [
      {
       "cell_index": 26
      }
     ]
    },
    "70854fb0772342de9a03b97f9ed37311": {
     "views": []
    },
    "70d1ae6c5e3349a8914b123f9e375150": {
     "views": []
    },
    "7103f4efd2cb48c1ae9fc19b1f3cd80e": {
     "views": []
    },
    "712b936bea0442febd892a022302d0dd": {
     "views": []
    },
    "713c445e016c478d8d9bbb72a9b889bc": {
     "views": []
    },
    "7153e5edcc344a9283b871d79fcf3907": {
     "views": []
    },
    "7170caf92e0847b7b1995218f067704e": {
     "views": []
    },
    "7172fd6b9a8d40a48bbfedb889afee81": {
     "views": []
    },
    "71a107ebedd1480780174e9ddf0264b7": {
     "views": []
    },
    "71b3105bd1164d8aad559017a58aa3ea": {
     "views": []
    },
    "71b5dd9c306f449b84eeade9a3430300": {
     "views": [
      {
       "cell_index": 26
      }
     ]
    },
    "71c864d1b84d45e4871490ab2d7880b0": {
     "views": []
    },
    "71f26303ab42440d9097d861de441577": {
     "views": []
    },
    "72a17c3c49a2488c8be0922b65d71973": {
     "views": [
      {
       "cell_index": 26
      }
     ]
    },
    "72aeb0f7fd4343ef9e6b90bccae077e5": {
     "views": []
    },
    "72b42fc989184d108b4187e26d46a842": {
     "views": []
    },
    "72cd4b06064d4ff5b8067be46f3bd444": {
     "views": []
    },
    "72d32bdd411d404db9b9dad24fecc73a": {
     "views": []
    },
    "72dc4bf73bfa4ccf9371aed7455a05f3": {
     "views": []
    },
    "73410c5fa0cc4b6b95cb7ee6688b6b2d": {
     "views": []
    },
    "73aace805a974f3698370c1e4dd3dff5": {
     "views": []
    },
    "73e385de985146f2836167e6d0e46196": {
     "views": []
    },
    "740091e57c1e4f96b5c96e0310a851ad": {
     "views": []
    },
    "74bfcbe995b84b728d386f90babc5da7": {
     "views": []
    },
    "751dd4ebea2b4c1bb3200164335606bf": {
     "views": []
    },
    "75bee671614c4157a43f1e2d602e47c2": {
     "views": []
    },
    "75bf5bc4f8d643aea82a6c5860c52f36": {
     "views": []
    },
    "75decb69e6804cada6c5f392793d5276": {
     "views": []
    },
    "765e2c20119f4d91873d7d96b9a4214b": {
     "views": []
    },
    "7661ac7ec02441c590f6c0b0e47ed474": {
     "views": [
      {
       "cell_index": 26
      }
     ]
    },
    "76678aa99b6641dc879a502401f7a1d0": {
     "views": []
    },
    "7672c8affa3a4df494fb66f3cdd8cd31": {
     "views": []
    },
    "767516d563ac4c5888f0aa145b708f1f": {
     "views": []
    },
    "76c0623d956b476980e30b4a03ca4b3b": {
     "views": []
    },
    "76c22add15224b61a750c4c92b5af12c": {
     "views": []
    },
    "76e577321d92491f89e3f768a28d1399": {
     "views": []
    },
    "76ee45c4f74b4f0f8edd5bd38d3d15e9": {
     "views": []
    },
    "7768fd189156442a81635b32798d30e7": {
     "views": []
    },
    "779c2b59fc844c82b62970c64542518f": {
     "views": []
    },
    "77c41c47029048de9c4fd05901db6598": {
     "views": []
    },
    "77d13ec2331e466d9e0560f628224279": {
     "views": []
    },
    "77e57d249f534a20905b69f00cd1a9c4": {
     "views": []
    },
    "780ead3d976040c0a1b76ea1853fd83c": {
     "views": []
    },
    "785b29119b5540b18de27237cd877267": {
     "views": []
    },
    "787727115e634debbd11ced3453fa33e": {
     "views": []
    },
    "789a8f8f6102486eb642c10ccdc2d790": {
     "views": []
    },
    "78ccd73ba872416cb850210d553159bf": {
     "views": []
    },
    "78e498cad20c4e5b8c4c70208e6ae046": {
     "views": []
    },
    "790547f12e9e43e4b79ea501b6f431df": {
     "views": []
    },
    "7905b479328e468a83a216c323d5ffcb": {
     "views": []
    },
    "793a25234b54425eb8404b1ce69514d9": {
     "views": []
    },
    "79a29a84f22243a59fffecd4d81b345c": {
     "views": []
    },
    "79bb69aaec8d4d4497f9110d5fd156d4": {
     "views": []
    },
    "7a0e147fed5e4d5fa8a8d6487233da42": {
     "views": []
    },
    "7a30290287d141e9a55fc71a98addc35": {
     "views": []
    },
    "7a3b4ca0aa844099910e250114d92385": {
     "views": []
    },
    "7a4b2abec3534239b028530b630ace2e": {
     "views": []
    },
    "7accd770115844ba99df24a8ba65129f": {
     "views": []
    },
    "7ade4ceff83f4ffba635374e4ef74421": {
     "views": []
    },
    "7b2da44bc18940d09b32c3aa21ab55d0": {
     "views": []
    },
    "7b83e6aeeacf4be7a904720056250ea0": {
     "views": []
    },
    "7b8a6bf35a4a404b9bd93a927aff54b1": {
     "views": []
    },
    "7b8cb70569cf49a3adc1fd94ecd83e3d": {
     "views": []
    },
    "7b9caef737ff4ebaab28b60427604888": {
     "views": []
    },
    "7ba0ae561960476ba07f9ae5be904b75": {
     "views": []
    },
    "7baa234d260d4fbcba677a427f8c2408": {
     "views": []
    },
    "7bacc0ec3e304d3ba9fba86615bd8494": {
     "views": []
    },
    "7c190799514f43eba1c2d03534b469ae": {
     "views": [
      {
       "cell_index": 26
      }
     ]
    },
    "7c31caf188c34b88b9ed410163e2bafc": {
     "views": []
    },
    "7c579882e1364320a228979aee9f967c": {
     "views": []
    },
    "7c8ce17918db4461ab1af7addb2fd345": {
     "views": []
    },
    "7cc00d3e40924be4b3b30dceaa65b10e": {
     "views": []
    },
    "7cc4b52f6f924cfeb59137f2026405f5": {
     "views": []
    },
    "7cca20e0966543feb7874c0a00a6c00e": {
     "views": []
    },
    "7cf6f9c8bc104c6d80b6ad7492607e9c": {
     "views": []
    },
    "7d0d3704287345ef85663bbe7249f58b": {
     "views": []
    },
    "7d834a94eef0494aa969e59924cdf0c6": {
     "views": []
    },
    "7d9477292b184786a8efc67582f087ce": {
     "views": []
    },
    "7e13c45f4c45453a9834302bfb9e7f15": {
     "views": []
    },
    "7e163a0cc7d643958e7b5b86a01e6616": {
     "views": []
    },
    "7e1bf5cde9464044b8f4fd2dacc60ab8": {
     "views": []
    },
    "7e26ce631f7e430fa2df0c76dc6f023e": {
     "views": []
    },
    "7e29da2be48a4068b1200a19f5051615": {
     "views": []
    },
    "7e6773b45f0549e7886238f749be4b11": {
     "views": []
    },
    "7e95d08459b341b08d7daf552fc72050": {
     "views": []
    },
    "7eb4df56b88047d4a958238fa54434ba": {
     "views": []
    },
    "7ebc02f4a73e4d02801fa86de0ed9f13": {
     "views": []
    },
    "7f04919d82ed47ab87b8cbd0b78f41ec": {
     "views": []
    },
    "7f0a9e9488b4486f82cee166f03a2db2": {
     "views": []
    },
    "7f135fa9d9f247cd89e75e80fdb228cb": {
     "views": []
    },
    "7f646a532766408ea3a79fd527bc590b": {
     "views": []
    },
    "7f7b26babdbb41c793dc4bf43186d16c": {
     "views": []
    },
    "7f7f92d44682403c9f0c597dcf627f53": {
     "views": []
    },
    "7f876311c5d840aa9581e1c6bfd4abe4": {
     "views": []
    },
    "7f8ec28414b046c09d3c862aa5af8897": {
     "views": []
    },
    "7f9dd5d87d1c4ea3a50891e9d21daa02": {
     "views": []
    },
    "7fa22ed6eeee4c81b2a11d5d41efd905": {
     "views": []
    },
    "7fac22a92e894da79761520dcdfc2fd4": {
     "views": []
    },
    "7fb7de31567d476ca9c98c83ee9a2564": {
     "views": []
    },
    "80049365234543b69cb7b9c2f0451188": {
     "views": []
    },
    "802e5388b6fb48a69ba5b264c786fbcd": {
     "views": []
    },
    "8036273608284cf9bf80cd5b49f2103b": {
     "views": []
    },
    "809104190f8446fe899c30adc61f2fc9": {
     "views": []
    },
    "80aed99b6e9c4ad58e72600269f78b37": {
     "views": []
    },
    "80c497b6239a4fa0b617161d1c962013": {
     "views": []
    },
    "80e2fa54b2c441ad8491e52370b13b07": {
     "views": []
    },
    "81366ca5257f43bdb670ca782913ad6b": {
     "views": []
    },
    "8141b0c4741e4d3788c88b850aa75343": {
     "views": []
    },
    "8157e369ca01481b97b365e6e5c6bddc": {
     "views": []
    },
    "82330da524ee428da0782755c7f6d944": {
     "views": []
    },
    "82374a8f76d44b4792a063ac2ea1eace": {
     "views": [
      {
       "cell_index": 26
      }
     ]
    },
    "82560cf99ee64931b2d005bc79e9cbc8": {
     "views": []
    },
    "8259fddf7f63458baa6d6d7e6c0088ae": {
     "views": []
    },
    "82624a53e06546f9acd0ae7810e4291a": {
     "views": []
    },
    "82a3e7a118884bcaa358572991ac4a79": {
     "views": []
    },
    "82ec899106f04d1eb269fb8c85031b9c": {
     "views": []
    },
    "82f8989a2d2244aa9e50a32180d0579e": {
     "views": []
    },
    "83022db8d7c84b8abeccb94589ff827e": {
     "views": []
    },
    "835dc19e428146e7bc00a15fc0923b6f": {
     "views": []
    },
    "839ed8a26d6e44faaa8aab07aa256ca3": {
     "views": []
    },
    "83c9b442c2a24c669e97f826dafa0e91": {
     "views": []
    },
    "841bba97377240ffb7f090ab285453fc": {
     "views": []
    },
    "8440c83db5de45b89af2f574de1aa741": {
     "views": [
      {
       "cell_index": 26
      }
     ]
    },
    "84c78efe60764992a4c1ce0b9fc3cd94": {
     "views": []
    },
    "84cf81eb5f7b43ec94145b326125ab31": {
     "views": []
    },
    "84dd218d7bab4ff8bd8c10b4f84d1ee6": {
     "views": [
      {
       "cell_index": 26
      }
     ]
    },
    "84fe5d03c4db463ab6c23b2b230de256": {
     "views": []
    },
    "852497d123d64bdc9fbc247e82d17385": {
     "views": []
    },
    "8546da206876455f94e1f4ce229135e2": {
     "views": []
    },
    "856b5bfc8d1e4a92b87314a8795a5e2c": {
     "views": [
      {
       "cell_index": 26
      }
     ]
    },
    "8578301c733a4d98b0bed5f00c5d0d28": {
     "views": []
    },
    "85a2160faa6a4b3fa78f67bccb05466a": {
     "views": []
    },
    "85bcd07ad3e9452b8103596ac0ae2d3d": {
     "views": []
    },
    "85ef74f443d5491aa7a1ba72095ac063": {
     "views": []
    },
    "85fb96f5b0624c31b225e2c4e0b1e653": {
     "views": []
    },
    "8600dff19cfe41d5995d44b786a19dbd": {
     "views": []
    },
    "86067cf71da140bf94a2199ac5ad0446": {
     "views": []
    },
    "8622bdc268144f6690e004628c234783": {
     "views": []
    },
    "862f77df0078495786d136cca635c317": {
     "views": [
      {
       "cell_index": 26
      }
     ]
    },
    "864879af5d1a4202badd0b9efc99f466": {
     "views": []
    },
    "864a08b27fde4e19ac9edfe2c662af5f": {
     "views": []
    },
    "86d040349a24436e9115c548f9715d96": {
     "views": [
      {
       "cell_index": 26
      }
     ]
    },
    "86e9befcc27a489f84eeae907838abff": {
     "views": []
    },
    "8739f99a63614f0fa0483375c48b1536": {
     "views": []
    },
    "8747e0618d9d46b7982d0c73a407a7d3": {
     "views": [
      {
       "cell_index": 26
      }
     ]
    },
    "878fa4a23db0493b96ed9473bb9a925d": {
     "views": []
    },
    "87b1ebf5b33142ecac8004e59ead0e18": {
     "views": []
    },
    "87f5b0891e59493e9f0ce92955f45389": {
     "views": [
      {
       "cell_index": 26
      }
     ]
    },
    "8826be6fd4514bd7beaf57fdb18047b5": {
     "views": []
    },
    "884c03038d1940e0b97ae132173b70e8": {
     "views": []
    },
    "884d789c466241c289b99e224469ca4c": {
     "views": []
    },
    "88586d77ca1b4febb135de1ac271affa": {
     "views": []
    },
    "8870c5c5da6549d38347c8cd707a18ba": {
     "views": []
    },
    "88a26953e46f4b87bd51675d37f17300": {
     "views": []
    },
    "88d80977264d434297b12c237b34cfd3": {
     "views": []
    },
    "8919982731f84414a73836819ecfa566": {
     "views": []
    },
    "89d40eae994c48f5834227bfa30a5a33": {
     "views": []
    },
    "89e842d6531e44e8b5a34aa23ba07783": {
     "views": []
    },
    "8a16c33c2e274cbbb83edee5f4c409a2": {
     "views": []
    },
    "8a42516e3bfd4cc0b4125b55890e5f3c": {
     "views": []
    },
    "8a6318162cf6433eb9fbdadb158b938e": {
     "views": []
    },
    "8a773bbdb6354c9e84ba938db126779e": {
     "views": []
    },
    "8aa75ccfff4a49c78d7e330dfe7f0887": {
     "views": []
    },
    "8ab618753d36434c8e3a51b666fa2fd1": {
     "views": [
      {
       "cell_index": 26
      }
     ]
    },
    "8abea8378185462284c03b10ec17da35": {
     "views": []
    },
    "8adff707c5d3464cbe9c6fb507c571ae": {
     "views": []
    },
    "8b18cc727da94c4e99bcbdf7df3d9898": {
     "views": []
    },
    "8b25eeaab8e54160a53d2c83ffe0f6d2": {
     "views": [
      {
       "cell_index": 26
      }
     ]
    },
    "8b4822b462a24fd7b99dd6ef4fa06086": {
     "views": []
    },
    "8b86e6cb3bda432bb827eae50deafa91": {
     "views": []
    },
    "8b87d7b1a28b4046bf47473f1d8ef95a": {
     "views": []
    },
    "8c20eca421554fe184d25d6a7a1a9e6c": {
     "views": []
    },
    "8c2f3a7f845f4f138c8f93138b19f96c": {
     "views": []
    },
    "8c3b17184b3043d1a0a76c849d576f7f": {
     "views": []
    },
    "8c486291cba94974bd70230c64b272e5": {
     "views": []
    },
    "8c5e9a4fd4a340038fa8ae8bb67a272e": {
     "views": []
    },
    "8c75189cfb704950a03c6fd8dfac6a82": {
     "views": []
    },
    "8c763348ee7747de949c3d69690b86f0": {
     "views": []
    },
    "8cde121aa11c414db82d5de952b05361": {
     "views": []
    },
    "8ce729d619ca4e4a816ec016a03860d5": {
     "views": []
    },
    "8d0e52f3c3cb469ab15447096ca593ef": {
     "views": []
    },
    "8d2c52454422459591cbfe75f6c735cb": {
     "views": []
    },
    "8d5ffa42982640c9bbeee53f6cc16abc": {
     "views": []
    },
    "8d62d2e5e99a475881c631a5ba7ad793": {
     "views": []
    },
    "8e5808aed0184cd4bc30e98cbb376a30": {
     "views": []
    },
    "8e69c4b6008c4eb78439495828982f01": {
     "views": []
    },
    "8e832cde1034402da43047f104e2eb29": {
     "views": []
    },
    "8e985e016cf34a6dba2747846041ce11": {
     "views": []
    },
    "8eb6cf26299d4660856690175b832743": {
     "views": []
    },
    "8ebceed024cd4c96baf0940f6d55b9fe": {
     "views": []
    },
    "8f1bf288abb74c65966ff9619efcaf94": {
     "views": []
    },
    "8f3e1efff483453590d8607a75834724": {
     "views": []
    },
    "8f862c7df2ed48f4a5165e024a544f07": {
     "views": []
    },
    "8fc3f3bd820842efbcb1f401b1eae413": {
     "views": []
    },
    "8fed0bec3bef4b8bba8240622cb682b2": {
     "views": [
      {
       "cell_index": 26
      }
     ]
    },
    "8feeb4d92dbc42378ccc08da710588a9": {
     "views": []
    },
    "9019b640f0ca4b9b882345bedbc445bf": {
     "views": []
    },
    "904ca5c7187f4e709a846e245dcfb3c6": {
     "views": []
    },
    "9062739f5382477599ef8e1ca613c9a1": {
     "views": []
    },
    "906a6255ea4b4434a83591365cd02e46": {
     "views": []
    },
    "90b59ce998f94945be80506e5381482f": {
     "views": []
    },
    "90c0d43e57d243a1b670790e197a25bf": {
     "views": [
      {
       "cell_index": 26
      }
     ]
    },
    "90f632f6a15b42d39df51eeff71baa35": {
     "views": []
    },
    "911ddceb973f4b268f199f15ddd542eb": {
     "views": []
    },
    "916005a542754d92bf63cc7403fee9f7": {
     "views": []
    },
    "917f30069b2d4279883edea1dd9371c9": {
     "views": []
    },
    "91aa01753b814b8d9ec8453c0280b710": {
     "views": []
    },
    "91c2b430736348f5bd18e2ea8a5fe050": {
     "views": []
    },
    "91d5db495e6d4beeb881eb036e600680": {
     "views": []
    },
    "921158f8f8e04fdd8c8d7cf3bcfb75be": {
     "views": []
    },
    "92275076e89946aa872466e8951e7a9d": {
     "views": []
    },
    "923ba98db4894bc9beb2f34f0c51a307": {
     "views": []
    },
    "92a2c4a4f97b4f48822d76cbd0569590": {
     "views": []
    },
    "92b9e31ee93e4821ba8f13e5eecf8258": {
     "views": []
    },
    "92baf3be87604644bed66f94ad72257d": {
     "views": []
    },
    "92cd5093c0524fec8073fd402ebcf7d3": {
     "views": []
    },
    "92fec5bc172343adbc372d5ab5e9aa41": {
     "views": []
    },
    "93b8433792654d9c9f53929db4ac5997": {
     "views": []
    },
    "93d115e2a01148ef89606220223bfe85": {
     "views": []
    },
    "93ddcba305574763a546b1ed7e83aed2": {
     "views": [
      {
       "cell_index": 26
      }
     ]
    },
    "9411df622fdb475aad631c6f24a51d5d": {
     "views": []
    },
    "945b6fc6586a4d159c9c65e7b374b161": {
     "views": []
    },
    "94912a83d4754e6cbfed8b1a763b6f6d": {
     "views": []
    },
    "94c79fab9b18470b80d4970a2c76c4f5": {
     "views": []
    },
    "9503850bb3b94db98eb4857622f36510": {
     "views": []
    },
    "9616d7a8a4e34183b24cccb6c80052de": {
     "views": []
    },
    "96a0793c6675428ebd8fd51c0c6f0a65": {
     "views": []
    },
    "96c7ef5a07654f0e8e56f1b57c6974f4": {
     "views": [
      {
       "cell_index": 26
      }
     ]
    },
    "96ff417891384b97add108e41df42448": {
     "views": [
      {
       "cell_index": 26
      }
     ]
    },
    "97177fe0a3914d4889bc4896c3c1773f": {
     "views": []
    },
    "974892e2f1664364a5942e4dfec564db": {
     "views": []
    },
    "9751061f3f6f4e42b27ad51035ffddcf": {
     "views": []
    },
    "97787b37fbec425bb7faa130393d4478": {
     "views": [
      {
       "cell_index": 26
      }
     ]
    },
    "97bf23a850ca400bba690bcdd206434d": {
     "views": []
    },
    "97eae908a87e4248861aaa326b74ac60": {
     "views": []
    },
    "9845014e0b4f49949936fe8c5a246859": {
     "views": []
    },
    "9883f12f6a9f493c84a0029a1f1cccfa": {
     "views": []
    },
    "98ce9db49c214669b396de7ea60b7f0d": {
     "views": [
      {
       "cell_index": 26
      }
     ]
    },
    "98d89cc207124f35987f5471c746a745": {
     "views": []
    },
    "99336ff88dfc436689b6d5afb286d47d": {
     "views": []
    },
    "993a45090aea4bbda0a6b78a32692a1e": {
     "views": [
      {
       "cell_index": 26
      }
     ]
    },
    "9945c877fc554d54a91ca37ce3bc2642": {
     "views": []
    },
    "997fca50fd0e4e298ea6b76bb9d891d6": {
     "views": []
    },
    "99c8f15e5bdc4fc3b46cc4f23ee5ea80": {
     "views": []
    },
    "99faa5d50175405b9746c8d6915d3c28": {
     "views": [
      {
       "cell_index": 26
      }
     ]
    },
    "9a03597fb6ed447eb66c5ea7ecc9aa2e": {
     "views": []
    },
    "9a0ff429d159483288182fe76d370b76": {
     "views": []
    },
    "9a31e70057d84bc399feb7f1a6df9a39": {
     "views": []
    },
    "9a615d1507f74cf5a9dea7c28009645d": {
     "views": []
    },
    "9a6c7b41b6524960a5623b376b87c180": {
     "views": []
    },
    "9a843016517a49c2b7b911dffb5581c9": {
     "views": []
    },
    "9aa8de5d0ef94710b221c2f133c0095b": {
     "views": []
    },
    "9ab7e71ba1b34831a2eca70e84131166": {
     "views": []
    },
    "9abedde6eb864cfc8e49ebd817b5f31f": {
     "views": []
    },
    "9ad1ed3784a649b6b62f4da1b6a0c301": {
     "views": []
    },
    "9b614b73118949559e51edd3864f064e": {
     "views": []
    },
    "9bdbef15d0b8422d89f7d9df055d87eb": {
     "views": []
    },
    "9c3f70cf7c9441fd9369800a4ef1f566": {
     "views": []
    },
    "9c493475175b4a7692fc566b2a9a056b": {
     "views": [
      {
       "cell_index": 26
      }
     ]
    },
    "9c72f5bd369348c882a759e798df63d5": {
     "views": []
    },
    "9c9ca10ed3d04e01b4197bbf563f63f4": {
     "views": [
      {
       "cell_index": 26
      }
     ]
    },
    "9cbbaa3fe1654d838b52b801d3c1e829": {
     "views": []
    },
    "9ccec89391fa4d17baa553e26c160553": {
     "views": [
      {
       "cell_index": 26
      }
     ]
    },
    "9cd4074bf40c42e4b4ebb58f8bb813f0": {
     "views": []
    },
    "9d0e346b84b2405992cafcae7262dba4": {
     "views": []
    },
    "9d1b445ff97044f4bd67c9695ae4c0d1": {
     "views": [
      {
       "cell_index": 26
      }
     ]
    },
    "9d7b9e92f3714be88db4862d4e5cf320": {
     "views": []
    },
    "9dd9a36a313a4051b8e6f03e3c2249b4": {
     "views": []
    },
    "9df032b9fc234027bd8f5608330e7f8d": {
     "views": []
    },
    "9e80e9c95b2c447c9618a24f393f746f": {
     "views": [
      {
       "cell_index": 26
      }
     ]
    },
    "9f12bbc16cc8418dbe9c10893ca003da": {
     "views": []
    },
    "9f224248c6ed4534b056443ea84de328": {
     "views": []
    },
    "9f3a81f2ee49400da58180ed0eef911c": {
     "views": []
    },
    "9f457b1c3cf7422d956dfc6f04829825": {
     "views": []
    },
    "9f6af9fe97304eb08693e290d6e1c2d6": {
     "views": []
    },
    "9f8688f1bc9a47d4abdecf90910529b5": {
     "views": []
    },
    "9f8921c5acf7453db45a8cc59854f843": {
     "views": []
    },
    "9fd6620a6d2b4dadaaf55f25baed46f9": {
     "views": []
    },
    "9febd00eb08a4b9f9780c8e18de4c846": {
     "views": []
    },
    "a02efa3c64f244a0bd5afcc9748ed02b": {
     "views": []
    },
    "a02fb930502d4a15bbc9b43ca3743e3c": {
     "views": []
    },
    "a04e731a96c24ec29d3cf534a8b531f2": {
     "views": []
    },
    "a0bf29ec78f6420d9a5dcc543a68db46": {
     "views": []
    },
    "a118a8a8f41e4075a97375551535633b": {
     "views": []
    },
    "a122488303a04741b098e5f1e94a6fdb": {
     "views": []
    },
    "a138fd21a58a435791aafbc10a706fa3": {
     "views": []
    },
    "a14fade8db6d4fc98edfe204829f7451": {
     "views": []
    },
    "a170aea77baf4350893aeefbfe31dfee": {
     "views": []
    },
    "a184d4ed490947c0829377aaa84dee96": {
     "views": []
    },
    "a1a55ec987b64ecc8315965a9e4f1dcd": {
     "views": []
    },
    "a1ad0b9237e44bb8bc1d4564033a891c": {
     "views": []
    },
    "a225c54dc0fb41a3873a6b53d659d75a": {
     "views": []
    },
    "a24a9cced67841b89527623045635b75": {
     "views": []
    },
    "a25bc0caa2ad46fb9c68ac1dd73f35c0": {
     "views": []
    },
    "a2a455346c6f41b592ca7e82c006ab5b": {
     "views": []
    },
    "a2aae9a3086244aeb907bda8de59a166": {
     "views": [
      {
       "cell_index": 38
      }
     ]
    },
    "a2c81182340a4a648d19453a697a6140": {
     "views": []
    },
    "a2d0be30b6894783aa2c412c0d3af629": {
     "views": []
    },
    "a2f028d134544c1d95a4115663d105d6": {
     "views": []
    },
    "a3037fd9c16549eeb5262860c4a51bd6": {
     "views": []
    },
    "a31e0ed884b04940bf661974cb228e7a": {
     "views": []
    },
    "a3292655829e4c96aef6a11c88a9ce40": {
     "views": []
    },
    "a352b91d25144567a2813a5e98d77b96": {
     "views": []
    },
    "a3998bc2bbb448eab6c246e6a72156b8": {
     "views": [
      {
       "cell_index": 26
      }
     ]
    },
    "a3a53d972f91494f9c3addb96b073e95": {
     "views": []
    },
    "a3d2e9a467a84495a6c899cdbdd52694": {
     "views": []
    },
    "a4168bf478e848adb22481326a5ae053": {
     "views": []
    },
    "a431f1d93b4843b49678ca6b64f9ad27": {
     "views": []
    },
    "a437f09c62314612aba62f5472b10642": {
     "views": []
    },
    "a4a545e8fefd468588569b824b45a70f": {
     "views": []
    },
    "a4d52cd73ab348fc890fc6817ef8db2c": {
     "views": []
    },
    "a4e8ec0e05524d629c048819a693c3f2": {
     "views": [
      {
       "cell_index": 26
      }
     ]
    },
    "a4fccb4547df4e90938a8f35b3104e4e": {
     "views": []
    },
    "a537396769af4cd0836e1a188c1fbe18": {
     "views": []
    },
    "a5a28f21d151435f94ea3ac697f6db40": {
     "views": []
    },
    "a60f135d3ddd44b3a097be5488c30dd0": {
     "views": []
    },
    "a6553a42991149488e1bb267c76dafbe": {
     "views": []
    },
    "a6614fc5493545caa54a5e73f7ce863d": {
     "views": []
    },
    "a6c4f11c451d40eca68e92f9c365028a": {
     "views": []
    },
    "a6d814f6a7764560937c83fe28c1fed7": {
     "views": []
    },
    "a6e54c3923f9412da527f7b75fd148bd": {
     "views": []
    },
    "a704ca3005984eac88769416ad12971b": {
     "views": []
    },
    "a71b374bebb0474ea8c6fc9b4b9caa4e": {
     "views": []
    },
    "a72df6430dfd48849d7afb157168e9e8": {
     "views": []
    },
    "a74e5d44b29a450e9571bd4e056b3796": {
     "views": []
    },
    "a7ae212db5044fea948eee306e932913": {
     "views": []
    },
    "a7d6dba53d494a0a9e43b574d3111b4b": {
     "views": []
    },
    "a816b36ace34456e954e67af79da8d61": {
     "views": []
    },
    "a828ce5fe5ac433d82ea6479854bb76d": {
     "views": []
    },
    "a853c0a8c3544d3f8f4866cff3f11542": {
     "views": [
      {
       "cell_index": 26
      }
     ]
    },
    "a8a4d568dded4e85a98b107de7de5053": {
     "views": []
    },
    "a904dd400c7240a39eea5c224d48493b": {
     "views": []
    },
    "a928bb2c0e124a5ab009a57ea3eb459e": {
     "views": []
    },
    "a951709ab6184583b46319c234260653": {
     "views": []
    },
    "a961806b3e334dbfbdefce0fffa1839a": {
     "views": []
    },
    "a9e449e84bf242449c74dfa5f704246e": {
     "views": []
    },
    "a9e96056e1f540d0b8e9078fb16c9436": {
     "views": []
    },
    "a9f54c50812546208e9aae29e9165654": {
     "views": []
    },
    "aa1f00f4fc5f49899cc064fbd1ef00ad": {
     "views": []
    },
    "aa3d46d89ffe408cb1c2e2522e7753cb": {
     "views": []
    },
    "aa5db7c131e44193be0eb80c72141487": {
     "views": []
    },
    "aa604c1f1b23433cba0671213f6cbdd1": {
     "views": []
    },
    "aa79ae7a13894f659807812af2a687ec": {
     "views": []
    },
    "aaa008df0daf4fefbb4d419cd9ccfa9a": {
     "views": []
    },
    "ab0e7cd8642b43a99d7e16c0ffd8d035": {
     "views": []
    },
    "ab237d08c6a842ccb29934e2d5e9c28c": {
     "views": []
    },
    "ab3ab644363e4c0799701896fa409138": {
     "views": []
    },
    "ab97975e60fe430ab82415a297cec028": {
     "views": []
    },
    "abdcbc7259934942924a011428dcc871": {
     "views": []
    },
    "abe64fcbdf1e419c9aff9e9851431d1d": {
     "views": []
    },
    "ac3fe6a91e684622a7dd084eeaca5ffb": {
     "views": []
    },
    "ac732a5ef04146558d449fc119c27761": {
     "views": []
    },
    "ac881d615c724293a82d9f3b984f98b9": {
     "views": []
    },
    "ac8f3c734cce4f79a7408eacf94b98b1": {
     "views": []
    },
    "acbdae4b0d7641ada8c6b8e336871464": {
     "views": []
    },
    "acfbf364956942a1b0f6614f833b7cea": {
     "views": []
    },
    "ad0f4563ee6b4f1c9af744576cb1bca4": {
     "views": []
    },
    "ad2e2f6b42f34ce2ab45f7c43b3c9005": {
     "views": []
    },
    "ad30f72895ab4cabbab4d25cae72cae0": {
     "views": []
    },
    "ad56c92b37794135a12cee876787d3c7": {
     "views": [
      {
       "cell_index": 26
      }
     ]
    },
    "adc5742541cd4aa799becb989ed90e99": {
     "views": []
    },
    "adc5fc93197145b8a145c7f494ffc32c": {
     "views": [
      {
       "cell_index": 26
      }
     ]
    },
    "ae0d9b9ef9174c18a7a8bdc02e5cb2f6": {
     "views": []
    },
    "ae0dde1ae7154244b0c3f8bc20aebe03": {
     "views": []
    },
    "ae3b8e56427045d49c015870475410e7": {
     "views": []
    },
    "ae7efc1d4e9f4bd38ff85263b13a9e3f": {
     "views": []
    },
    "ae9a7488d1dd441b95da106c80d10951": {
     "views": []
    },
    "aea37992f7bb448aab7b115073e68161": {
     "views": []
    },
    "aeeba67d31b84a23a32aa3089237a432": {
     "views": [
      {
       "cell_index": 26
      }
     ]
    },
    "aefb3a7e06954cb8a0b1e9a96fd2c2f3": {
     "views": []
    },
    "af02b2462e2f43bdb9a8c2b03da6997f": {
     "views": []
    },
    "af0ea28e7e7a490fae2eb836b71eb7a5": {
     "views": []
    },
    "af1b5e6593194f169b616d771d182c58": {
     "views": [
      {
       "cell_index": 26
      }
     ]
    },
    "af288ebb41ee470ca096d4a8155101df": {
     "views": []
    },
    "af292414a88243a28e40494fdacf47b6": {
     "views": []
    },
    "af2f545269e448139626ffe4158d25cb": {
     "views": []
    },
    "af78a61dbbaf46d4bc537610b4c87d70": {
     "views": []
    },
    "afe295b6aa2d4b9da360a5c8e4b29549": {
     "views": []
    },
    "afed4bfc34844b96b74a943dd2ff42fe": {
     "views": []
    },
    "b01e40d0ffce4ee2a0792a45f39bdde9": {
     "views": []
    },
    "b033988b9c5c4b95a723b9001e34182b": {
     "views": [
      {
       "cell_index": 26
      }
     ]
    },
    "b04afdf8a117453da5162cbdf019225d": {
     "views": [
      {
       "cell_index": 26
      }
     ]
    },
    "b065b147e31c4a1480143e3eff1cdca0": {
     "views": []
    },
    "b093930763934cc79f336a2d77e0e1bf": {
     "views": []
    },
    "b095f455d4d24a978f48fa5c6edd2718": {
     "views": []
    },
    "b10ef5d5e01f467a97bb45acb26ef0ff": {
     "views": []
    },
    "b13d049428fe47fb802e5462da94c77e": {
     "views": [
      {
       "cell_index": 26
      }
     ]
    },
    "b15dd5e849b0478d9bd16766f6528929": {
     "views": [
      {
       "cell_index": 26
      }
     ]
    },
    "b17b44ac20554cb1ab1fb8993254941b": {
     "views": []
    },
    "b237a7ab55dd4d598d68869237134217": {
     "views": []
    },
    "b243f7d5eba7455dac3727af8768b7c8": {
     "views": []
    },
    "b247f356258e4008901cf46737d1fcc6": {
     "views": []
    },
    "b262acfee9cb43489237f1507df2d722": {
     "views": []
    },
    "b28cdc9c6247409da8231315bd24748b": {
     "views": []
    },
    "b3053683b12d47efa328b5d73d13e837": {
     "views": []
    },
    "b341acbc76d44871a75821dd6dd85678": {
     "views": []
    },
    "b34454ba8d0b4c0cb185e4112cb45ae4": {
     "views": []
    },
    "b3a675cd262e4c36b6130d74aaf19f18": {
     "views": []
    },
    "b3c9a388429d4adb93db5b0ddbd71d32": {
     "views": []
    },
    "b3e0e75bf27544dca959668093b09c90": {
     "views": []
    },
    "b430ecaeedc045f1a393ceade5bc760c": {
     "views": []
    },
    "b488aee2bcc442b4a34f60216d93a699": {
     "views": []
    },
    "b489df6bec8b4181bb8e92ce0bcc461e": {
     "views": []
    },
    "b48b42f71b02463cb6a0dca23a9277c7": {
     "views": [
      {
       "cell_index": 26
      }
     ]
    },
    "b524267cc51e4aadb0bd9e019e5e36d7": {
     "views": []
    },
    "b541ce9437c847709665b0f3312f09ca": {
     "views": []
    },
    "b58ddf9b0a0845699bffd80415973764": {
     "views": [
      {
       "cell_index": 26
      }
     ]
    },
    "b5b042abb3a5473b9f0b69bf8b985e6b": {
     "views": []
    },
    "b5c675b798f54dad9dbada08efed2bfd": {
     "views": [
      {
       "cell_index": 26
      }
     ]
    },
    "b5e5ee5e52c24bfbbdeb62fbb158ac52": {
     "views": []
    },
    "b619424df933419496aa3b926a5f4adb": {
     "views": []
    },
    "b6497e808b054c759337e18e1ea06c83": {
     "views": []
    },
    "b6687d4754384e3a880b6fa4018907a2": {
     "views": []
    },
    "b6bcb9dc10fd4924bbfd9f0c7578bfdf": {
     "views": []
    },
    "b7059442aae64c0baabf3ed539b3afb5": {
     "views": []
    },
    "b74e7f6e68a948e9918fd134275c8769": {
     "views": []
    },
    "b76e43390d104f05825dc8c070e2886b": {
     "views": []
    },
    "b77517b3e383475088cd64df9bb04adc": {
     "views": []
    },
    "b79cf88e664b4e608a29180cad0a5fdd": {
     "views": []
    },
    "b7c27842a9624956ad399323a92ffb61": {
     "views": []
    },
    "b7e6101c388748cb93ec16932219a554": {
     "views": []
    },
    "b817590db99140639d3bf274af680212": {
     "views": []
    },
    "b82faf5af89e4a8fa0e243b229de9d9c": {
     "views": []
    },
    "b8401ea6bde54846a8b774fa93fb413e": {
     "views": []
    },
    "b840afe9a7284fae96fe91ba36e29adc": {
     "views": []
    },
    "b8659a9461a346e28f324ee9c43fbd66": {
     "views": []
    },
    "b8b88902cbd449e2b560637d6c459343": {
     "views": []
    },
    "b8be859922a643c29b948c4ac5b358f5": {
     "views": []
    },
    "b8cb0d4bf21f4bb491c6b09aa72a2996": {
     "views": []
    },
    "b8dc4273c3e142f880d90c4daaa1367a": {
     "views": []
    },
    "b9030ded56f94edfbe2e00bd6f316c10": {
     "views": []
    },
    "b920b562e6fe43ea9b911c6ab8bcc500": {
     "views": []
    },
    "b9ef053bef2d4b57b6a90c8a2cc7b5cf": {
     "views": []
    },
    "ba0d390ab3164739ad95869d3618dc36": {
     "views": []
    },
    "ba4c8957b51c417fa8f1d18318fa33a6": {
     "views": []
    },
    "ba561c10df6947a59a60f6ed7124347b": {
     "views": []
    },
    "babc085d91a14beeb6d67bed26745bac": {
     "views": []
    },
    "baee110df9ec4682be69550a50479169": {
     "views": []
    },
    "bb200bf387b944c6a2608021e0450f16": {
     "views": []
    },
    "bb2ae1cd49074bb3ab47cffc14ddca41": {
     "views": []
    },
    "bb659e71d0894c1d83fedf0017fdaafc": {
     "views": []
    },
    "bb76bac1a2814807bd97d64b5dd04b52": {
     "views": []
    },
    "bb9ab7cf12b44e0ba83b6f7a6825e508": {
     "views": []
    },
    "bc33c71c8f9a4e4982cb4f4bfdf6b4f8": {
     "views": []
    },
    "bc449d9aead24b90bd5e6709dcc74929": {
     "views": []
    },
    "bc82436f148e44b187871872d849fd4a": {
     "views": []
    },
    "bccd4b1908404a158817bf46c342bc9f": {
     "views": []
    },
    "bcd44a129ba147f4abe1989e0c0852d9": {
     "views": []
    },
    "bcfe7cc7418f4026aca9fb1667ab63fd": {
     "views": []
    },
    "bd0ce88b22be42abb2611c08cfc42818": {
     "views": []
    },
    "bd312d5fd7734904903361dfca0225d1": {
     "views": []
    },
    "bd7bcd8f49e7430a82bab5056d44751e": {
     "views": []
    },
    "bde09a4c27354beab420b0d464772d71": {
     "views": []
    },
    "be5b4fcffd7541668471e080bf48cc26": {
     "views": []
    },
    "be5cab6cb228455a979e51ad359ee0f8": {
     "views": []
    },
    "bea016ae40c24a7185b0e424d5d0ba07": {
     "views": []
    },
    "bea24a7e08c149228306a05ed5cb1cfb": {
     "views": [
      {
       "cell_index": 26
      }
     ]
    },
    "bebdea8363c347d9ad4befac544cee39": {
     "views": []
    },
    "bebfe37acc59447abd600e0c5b0656e7": {
     "views": []
    },
    "bf04f911572e49d7af37d04f7f5a12b4": {
     "views": []
    },
    "bf308744f2be4d9da6b0ff62cdc4315d": {
     "views": []
    },
    "bf324af084074de3a1de5397b7e72b2a": {
     "views": []
    },
    "bf6d8fc6b46041c5a184d91e9dfe8c07": {
     "views": []
    },
    "c097c2c2df604934b7e402b4138635c2": {
     "views": []
    },
    "c0a58e4bc1d8437bb399449db2f0145b": {
     "views": [
      {
       "cell_index": 26
      }
     ]
    },
    "c121e263cf5a4af48de6064553996a93": {
     "views": []
    },
    "c126e670b8e349ccba46c8e3350eb018": {
     "views": []
    },
    "c12f1b72228b47d3921f28d8f5108f7d": {
     "views": []
    },
    "c16ca9dc232c46199c8cee0dcf0c7d21": {
     "views": []
    },
    "c17653f87ec7486fa6410c1c838ab59e": {
     "views": []
    },
    "c18503f2df1d45b896199a4b904b737b": {
     "views": []
    },
    "c1bb59b564ed46c2ac145bd0e1c2fa44": {
     "views": []
    },
    "c1cc8dfaec3e4785b7e99105ece43219": {
     "views": []
    },
    "c1dc9417315b4759ac686333d5a1dc80": {
     "views": []
    },
    "c22b931a77c5447db5477e0320e643e4": {
     "views": []
    },
    "c22f91872b1a40fb9853b83851fe8194": {
     "views": []
    },
    "c2898174cab84ec195fb9e836d9ac62e": {
     "views": []
    },
    "c32197185cea4962a4854a2fcfff684b": {
     "views": []
    },
    "c34933795ab0468b83d9ff46ac3d21f3": {
     "views": []
    },
    "c34bb9ac6b854f5c8d0da470aafb5891": {
     "views": [
      {
       "cell_index": 26
      }
     ]
    },
    "c34db3a86ec242fea334e31e89c5c6b3": {
     "views": []
    },
    "c397bf3f2460461fb574f03c0dac01ef": {
     "views": []
    },
    "c3a7d266bf6e44f8ac2b72eb4909e1bd": {
     "views": []
    },
    "c3cec8f45950465aa3022c00c4df47eb": {
     "views": []
    },
    "c3e67b8d37914e00bd842aaa7f8f996b": {
     "views": []
    },
    "c418de7751644e2aa6b8eab31e333c06": {
     "views": []
    },
    "c428b728d8284bfaa5038cba165223c2": {
     "views": [
      {
       "cell_index": 26
      }
     ]
    },
    "c440b5ff6f004ddcb27ed6d1466dfcc4": {
     "views": []
    },
    "c445b67720ed4316892c40077c2e7f6a": {
     "views": []
    },
    "c462e5c05184479794f1645d82ec85db": {
     "views": []
    },
    "c476169306a3490fa7c8887f31b7197b": {
     "views": []
    },
    "c4838c2bb4514bac85d46e07f3afe5a7": {
     "views": []
    },
    "c4b84fae10694983a00b8080f744f0a7": {
     "views": []
    },
    "c4f55abe30514496bf0472929d8dc96d": {
     "views": []
    },
    "c52bfff84e6b4b9e8944e6995baf4b13": {
     "views": []
    },
    "c550bbc72f284190a3d56bd7eb9ccb53": {
     "views": [
      {
       "cell_index": 26
      }
     ]
    },
    "c560ea7b2a43427ca40ac07c5b252b78": {
     "views": []
    },
    "c570e1cb378b40128249cec0fa85b22b": {
     "views": [
      {
       "cell_index": 26
      }
     ]
    },
    "c581871891fb47b28f8eb9ed356c5790": {
     "views": []
    },
    "c62190fbd7274e88b90547f60d8c02e5": {
     "views": []
    },
    "c6736d63526c440c9acb27f573624f5f": {
     "views": []
    },
    "c6be4fcc102d4b0c98bf3fda7f0239f8": {
     "views": []
    },
    "c6d6c3aef7714566826bcfa0f4f6ffc0": {
     "views": []
    },
    "c6e1088be6fd4edbaba8a7cf5a9ef43c": {
     "views": []
    },
    "c6f51b56440e4d1c9ede86977904d2c6": {
     "views": []
    },
    "c737f970a8cf4a34b8bc91f159aecca6": {
     "views": []
    },
    "c75b3c7cc4f1457aabb55b1440ca73a8": {
     "views": [
      {
       "cell_index": 26
      }
     ]
    },
    "c77e061605c34717b26f458e886fbce5": {
     "views": [
      {
       "cell_index": 26
      }
     ]
    },
    "c798e844475d4b8981ee52eb701e0120": {
     "views": [
      {
       "cell_index": 26
      }
     ]
    },
    "c88b1d8504924b119737a23d84113dde": {
     "views": []
    },
    "c898db8a3b2f422799ff10557464d1c4": {
     "views": []
    },
    "c8bb2ea5c6fb41fc8dd0a01215d98f1f": {
     "views": []
    },
    "c8bdad5db9d443ddaff20b33129f8547": {
     "views": []
    },
    "c8ccff772d7543b18efa62f323935c55": {
     "views": []
    },
    "c92356a8203c4b4db2a29933ac63f405": {
     "views": []
    },
    "c97e23b69c084eb8954476e2acd9cd12": {
     "views": []
    },
    "c99b5f377fee4ebf84310bcb6b78c712": {
     "views": []
    },
    "c9c863fdc9e1439b8231502d306ff474": {
     "views": []
    },
    "c9c9269a4398454da77bd54f89c68d08": {
     "views": []
    },
    "ca2d2dc14f2c4282a04ea1d4e63c5ef9": {
     "views": []
    },
    "ca2eb7d0b08e49a0a81f49fac6d9d47f": {
     "views": []
    },
    "ca5c4e12abd345eaa8b431c71791beb0": {
     "views": []
    },
    "ca89446821ed42329d77e7b25322ec25": {
     "views": []
    },
    "ca97284c784348bfa8859387ec33b7b4": {
     "views": []
    },
    "cab4129f8c8a4c8dba33445ae90a9817": {
     "views": []
    },
    "cabedf920dca4a3c86c46e9c3903579c": {
     "views": []
    },
    "cac47542cb89407491c602d838307fa6": {
     "views": []
    },
    "caccf1a9a3c64e2f96bf13059a0c337c": {
     "views": []
    },
    "cafc5ed4c01441329b536feffbfa3012": {
     "views": []
    },
    "cb65481fd3e74ad6bc812de86f594632": {
     "views": []
    },
    "cb898c046fcd47668f716c5fb4243518": {
     "views": []
    },
    "cb95b56e0bfe4f9698e21ad08ef9c72a": {
     "views": []
    },
    "cbb3cad87fdd4d6094099a8bfb284101": {
     "views": []
    },
    "cbf681590fd84733a1b9d997b41ff79d": {
     "views": []
    },
    "cc5d4681f4544f4bb6a2451c11f4de3c": {
     "views": []
    },
    "ccc4d24ab97c4385b7fd9c51026645a3": {
     "views": []
    },
    "ccd1e10eec9d428a8e82a011151c7257": {
     "views": []
    },
    "cd1a295f49854298baca1cbbf145cda1": {
     "views": []
    },
    "cd4b144af5a149239e85f9eabac44041": {
     "views": []
    },
    "cd65ab315f91428e938f4f982d92d8f4": {
     "views": []
    },
    "cdf2555f548041f7a64394b5c5a124f8": {
     "views": []
    },
    "ce1099f933a04197b3b2dd8362281efc": {
     "views": [
      {
       "cell_index": 26
      }
     ]
    },
    "ce1dd4e1453147e2868e11e93ba2fd3c": {
     "views": []
    },
    "ce3b135068f34ccfaff619f34946f240": {
     "views": []
    },
    "ce9360179c074ea69071cd5b9d13b519": {
     "views": []
    },
    "cea09b2743444fa88c4e2fae63a98b29": {
     "views": []
    },
    "cea6800bb1ea484bb096c1d8eface35e": {
     "views": []
    },
    "cee92647612b4f23adef84379150084c": {
     "views": []
    },
    "cf0b651e6d884103be811f80017f3700": {
     "views": []
    },
    "cf38e32e6e324ccdbeb46c8ccb3bcb26": {
     "views": []
    },
    "cf406112e04d4af9b14a1d7a882409a3": {
     "views": []
    },
    "cf5e5af970204c9a8e2594b8f96f4b44": {
     "views": []
    },
    "cf64cfa3c74c478297c775b6bac0c45a": {
     "views": []
    },
    "cf707523514f4f949599537d61b886c5": {
     "views": []
    },
    "cf9c734d567046758c0b9b5940ef91a4": {
     "views": []
    },
    "d025ffe949b14a09a70d001889dae8c5": {
     "views": []
    },
    "d036da458d954ab08e45a3039af5bd7c": {
     "views": []
    },
    "d0a887122c464a82b2ec973547b5348e": {
     "views": []
    },
    "d0edbcf0725946eeb297d3a67ed0aaab": {
     "views": []
    },
    "d15bfb7dd6e0453295cb45795a905cd9": {
     "views": []
    },
    "d15e571ede384579aa35b1123b3a1566": {
     "views": []
    },
    "d160429ad7374953ab9a22c96f308a5d": {
     "views": []
    },
    "d17bb10240164e74b6dcfe40ca13e967": {
     "views": []
    },
    "d17d87b7ecd74c70a67fbe1c3a3e6193": {
     "views": []
    },
    "d1d8b89e3ec14cca9d5db4d5a8b1700b": {
     "views": []
    },
    "d24f29fde59946faaf3839adb7954dff": {
     "views": []
    },
    "d255227e2d7a4a3f876cad75b94f5e99": {
     "views": []
    },
    "d25d43ebb8c44ac8aec446a0eab1bf63": {
     "views": []
    },
    "d275c18035394038b08a3fe8f9ef900e": {
     "views": []
    },
    "d282729b965d46d28db294168eb1eab8": {
     "views": [
      {
       "cell_index": 26
      }
     ]
    },
    "d2a33d36e3a14990b780579d738a3388": {
     "views": []
    },
    "d2dc375851c24ed981c3e1a103b127b0": {
     "views": []
    },
    "d2dd1a6cff1741ac8420eced10b7d90f": {
     "views": []
    },
    "d2ed282118b243cb81935ca966cbbf22": {
     "views": []
    },
    "d2f6f29998de4c1294d4c49e92b343c5": {
     "views": []
    },
    "d31e1e65939a495aa94d9dff35812d07": {
     "views": []
    },
    "d31e66f4add6411fb17d6668ec97bafd": {
     "views": []
    },
    "d31ea20e79854557b48b0df12160e4e6": {
     "views": []
    },
    "d343f1846b244b5eaf4225903b2f6a15": {
     "views": []
    },
    "d35631867f96458d92ad6fb1a506fa29": {
     "views": []
    },
    "d3879bfcb57b40998257ef8ccb6b19df": {
     "views": []
    },
    "d391c63fd44e41edb443fc5c3f5302f5": {
     "views": [
      {
       "cell_index": 26
      }
     ]
    },
    "d3c490f4f16548e2b96bdba473857709": {
     "views": []
    },
    "d3c4cd047666485fa0f8dde577a45186": {
     "views": []
    },
    "d3dc9ed95b07443da6f56b27a016daea": {
     "views": []
    },
    "d3e699325e524c3e888426f371caeae6": {
     "views": []
    },
    "d3e69ff40905428789a5f0b6a18c2461": {
     "views": []
    },
    "d3fc8a6a5e354c05ab7cda03a740e91c": {
     "views": []
    },
    "d4006e985f0b4d1f869a0d2b1d5d73cf": {
     "views": []
    },
    "d443617b6c76459f85389d6e1c26bc43": {
     "views": []
    },
    "d473e500647c48cbb37cadbbb41439d2": {
     "views": []
    },
    "d476b78eed314ca49b7cdae7de8e24c2": {
     "views": []
    },
    "d4857fb05e2b4c548f9c930040e672b2": {
     "views": []
    },
    "d4c9dc797ad545aaba22cc5893c2934d": {
     "views": []
    },
    "d4d4fbb752a743bca15aedb02e45073c": {
     "views": []
    },
    "d4ef9d3173924e348fb526f80afd708b": {
     "views": []
    },
    "d579960cea7145cfa3223d7a3a7777be": {
     "views": []
    },
    "d59274e510b54ce6882a1359800918d2": {
     "views": []
    },
    "d59cd99ad59f4c48a08afa8611a6ccb7": {
     "views": []
    },
    "d5cec1a9161a4518976884e90016c31a": {
     "views": [
      {
       "cell_index": 26
      }
     ]
    },
    "d5d5b27ee0b8444fbb1aa822fd8c00ac": {
     "views": []
    },
    "d61b492f170843de8a8a5d01519c07e0": {
     "views": []
    },
    "d647eea47a56413f97a7948e88d2642f": {
     "views": []
    },
    "d66f744866474f039acec10cdbcb866c": {
     "views": []
    },
    "d6b23c5ab8f248e3b3bc08a35a57d121": {
     "views": []
    },
    "d6b6f79d49ee4e4c823b292050a5419f": {
     "views": []
    },
    "d6c7bd2b99214371ae9c3f38b609f688": {
     "views": []
    },
    "d70f9391369b421096f19ed6ffd581e3": {
     "views": []
    },
    "d71851f2626941b58d861d389585226b": {
     "views": []
    },
    "d731873c5e9d473b9ca66e427559121a": {
     "views": []
    },
    "d749d33b671f41f6a6bc5e7d31e4f41d": {
     "views": []
    },
    "d765ba41b78e477b9c3cba393f326e24": {
     "views": []
    },
    "d7873f9393ae474dbcc201c366de8d3e": {
     "views": []
    },
    "d78f27ae783e4f419fe8fe71df85cf77": {
     "views": []
    },
    "d7a352563fa543658c0c4a09278c8fa6": {
     "views": []
    },
    "d7f020fac2ec44d58374c79bb69bc025": {
     "views": []
    },
    "d7fb2882e3cd4db5b2d94d9a50bbfa80": {
     "views": []
    },
    "d813341a3c2f42838520cff299195983": {
     "views": []
    },
    "d81947550a7a4cbfa1a96586f06edbf5": {
     "views": []
    },
    "d81ea8bdc710444f85543d859783d292": {
     "views": []
    },
    "d82a85db278646f18717af705262658d": {
     "views": [
      {
       "cell_index": 26
      }
     ]
    },
    "d85b06f5d73a4465ab370eaf38043929": {
     "views": []
    },
    "d86354ac921e4d5fb923eb373ef3e9da": {
     "views": []
    },
    "d8d4d2ec33fe4538911813c3d1a5100f": {
     "views": []
    },
    "d8f8e2565c284c4fb4c657a4b433ae71": {
     "views": []
    },
    "d9058d6f42f8449b959110c5ab5529d6": {
     "views": []
    },
    "d9081c413d2f42d285bec78b6ee89d38": {
     "views": [
      {
       "cell_index": 26
      }
     ]
    },
    "d926b2ffb9a54930a40ce4dbc8de5232": {
     "views": []
    },
    "d92c5f91aee34046a90fe0cdaa124e0d": {
     "views": []
    },
    "d93e5f6c7ddf479a82a38daff754cfce": {
     "views": []
    },
    "d97fecbff2494640908c6cf8539b22cc": {
     "views": []
    },
    "d9a20c01d6cd405c9439188c086bbbfa": {
     "views": []
    },
    "d9a8976f61454f718ff06eeffbcb7413": {
     "views": []
    },
    "d9d486ee4ff04f688cce3f382facd357": {
     "views": []
    },
    "d9eb1ccfecc0497aa09e9d628b96d35a": {
     "views": []
    },
    "da21649fd6d44abbb857fdf6ed4700b8": {
     "views": []
    },
    "da8dfaa0fa5b485c835669f98a8206a2": {
     "views": []
    },
    "dabe78749a25425082558f0acadb8669": {
     "views": []
    },
    "dabec68374274f3688de8dfb1a0cca73": {
     "views": []
    },
    "dad925910de9436bbef4b63ce01c443b": {
     "views": [
      {
       "cell_index": 26
      }
     ]
    },
    "db1918e7049b40879aab990d94c165f2": {
     "views": []
    },
    "db33cbb3c0e2474f8f39b32831504b25": {
     "views": []
    },
    "db396355d8a84974beb30ae0baa564b2": {
     "views": []
    },
    "db46f58dd57e4afd87667c0f8bd3307e": {
     "views": []
    },
    "db5d9d1dbc57468ab8774124cdf5e65d": {
     "views": []
    },
    "db643110d21d4f909bcb2e2533becf95": {
     "views": []
    },
    "db6af520e98f41b684eb1140eaadfea7": {
     "views": []
    },
    "dc384c72bdee4a82ae53ba8db99f45f9": {
     "views": []
    },
    "dcb77558f5c44f70b47fb90cffc32e20": {
     "views": [
      {
       "cell_index": 26
      }
     ]
    },
    "dccd8acce8124babab405b95e5c3ccb9": {
     "views": []
    },
    "dcd0cccbb5684dcd92d67afdee6c54aa": {
     "views": []
    },
    "dd091f48b8584c5fb9e586d731c04a0a": {
     "views": []
    },
    "dd5cadae7b32492c947c545abd5721cc": {
     "views": []
    },
    "dd662f44ce4e4e6cb229f8be6322e220": {
     "views": []
    },
    "dd6a4bcdbffa414cb53899dc5e9a1093": {
     "views": [
      {
       "cell_index": 26
      }
     ]
    },
    "dd8ae5c1bf7a485093381192f0e5a563": {
     "views": [
      {
       "cell_index": 26
      }
     ]
    },
    "ddaf550e569b45a6b6d583001efc2f55": {
     "views": []
    },
    "ddc6b87719b542e4879958ccf6b97961": {
     "views": []
    },
    "de128fff4a084b578499d3fc49483db7": {
     "views": []
    },
    "de2a0800391f49dfa335a5e4445cbdac": {
     "views": [
      {
       "cell_index": 26
      }
     ]
    },
    "dedf9de08f0843ab96afdfaf5bd733fd": {
     "views": []
    },
    "df0e3ed567494c57b22fa2d4bb50ece0": {
     "views": []
    },
    "df13df46d1c24e1da3dc95fd26d1ce31": {
     "views": []
    },
    "df29f61ad2114196b4e81d9c4016c0ad": {
     "views": []
    },
    "dfb4acc105cc406f87f475c2192d84fa": {
     "views": []
    },
    "dff81a96a31f48ce932ebe508fc8ac02": {
     "views": []
    },
    "e00eb255293c416dafa232c633f94534": {
     "views": []
    },
    "e064a6d6e1b4476fb3f029f03492b6b7": {
     "views": []
    },
    "e0666df96b9b445abeb7b30d220a63b0": {
     "views": []
    },
    "e06aaf654d354e4b9601604f814d8026": {
     "views": []
    },
    "e0d102f5595f47319ee0fff409b3d6a4": {
     "views": []
    },
    "e0db021d05d645cc965df43cb8a88ded": {
     "views": []
    },
    "e11fc4ffe6dd4f0d952bfe51f5f1ec32": {
     "views": []
    },
    "e12528e9bbac4b33895f710df1f289b3": {
     "views": []
    },
    "e18c8adb17894b3bb235036a53351951": {
     "views": []
    },
    "e1e59876bc464798a270ef0bce51dc7a": {
     "views": []
    },
    "e206823d8c4e4bd98cadf0b4e1c02be9": {
     "views": []
    },
    "e206d8223cfd43929ebec72479e67eb3": {
     "views": []
    },
    "e22826f8908e4c44aad6e946f498a82a": {
     "views": []
    },
    "e28d8d19c70f4ab6b212698eded59d5f": {
     "views": []
    },
    "e29714e449624654afe4c1a3424fe9cc": {
     "views": []
    },
    "e2b2e489401f446996d1a95c1d39e6fa": {
     "views": []
    },
    "e2cf65f40108475c90e83b97a771e20c": {
     "views": []
    },
    "e2ed596f3634402f832666726756cf4c": {
     "views": [
      {
       "cell_index": 26
      }
     ]
    },
    "e2f435d95baf4bd2ac1c53308447f9f1": {
     "views": []
    },
    "e308c51cd3d24459a9107c6063bffbad": {
     "views": []
    },
    "e30ddef15bcb4270b1cb5ad50c316f7a": {
     "views": []
    },
    "e3224dcbd117401cbf8c523abc97cf3f": {
     "views": []
    },
    "e3669fea58884df8a85103e4ad0e6383": {
     "views": []
    },
    "e386ddf8ff5049b09e4cf136d1341b4f": {
     "views": [
      {
       "cell_index": 26
      }
     ]
    },
    "e3fc0b6c060e4518af8f87e461852769": {
     "views": []
    },
    "e41430ce04fd405bb20847d3f9c2fec8": {
     "views": []
    },
    "e43ddef35994499ab831d72880670a7a": {
     "views": []
    },
    "e48a9f88398c455da588b7b4e52b48e7": {
     "views": []
    },
    "e4c44f0904a04dfeb4c3fa53d3ad02d4": {
     "views": []
    },
    "e4d915d55624434c905397e411f0179d": {
     "views": []
    },
    "e4e59a65d4c54841955302ef158c9b46": {
     "views": []
    },
    "e50f44e7807e47569293dbafcbe4d999": {
     "views": []
    },
    "e53f7d79d21e422a851d89878db61b82": {
     "views": []
    },
    "e555884650584a72ba3bae080cc1c1d1": {
     "views": []
    },
    "e5600fd87d4f479f9e2c59ed523cdba9": {
     "views": []
    },
    "e5db11f0903f4dcfa98f3d2f7984b27d": {
     "views": []
    },
    "e610123c1428405b9f5494b902c1737e": {
     "views": []
    },
    "e615df22b7404954a2cca271ccf916c5": {
     "views": []
    },
    "e62326ae412d4c3b8db3bc27c3955efe": {
     "views": []
    },
    "e6406602d51742e9a8eca577362849a8": {
     "views": []
    },
    "e6995fc608f142cab6d7c25a76b24d3a": {
     "views": [
      {
       "cell_index": 26
      }
     ]
    },
    "e6cdb54eb1fb41e2b03a4f8f54269b43": {
     "views": []
    },
    "e6d10d11f6cb439eb6bc9ce55f3827f6": {
     "views": []
    },
    "e6d728941fe947108be3b9d56e026faa": {
     "views": []
    },
    "e6f32d83084945499c3adf62e3f89150": {
     "views": []
    },
    "e7737e5648d345c4b4897462798d4e38": {
     "views": []
    },
    "e7cd536e54614dc4aceea53f4cd52c4a": {
     "views": []
    },
    "e85ec2d77b8e484cbfe7cebad344e97d": {
     "views": []
    },
    "e8a3b8946faf4821817a6547cae6a505": {
     "views": []
    },
    "e8d3bc74cf69446f81bc5cbebe8e729c": {
     "views": []
    },
    "e8e08cf213c5435f9e0de653c44971d1": {
     "views": []
    },
    "e8e26106d2cf430b8614fffd7132f519": {
     "views": []
    },
    "e8f158a584414ca490a1eee4ae1a48da": {
     "views": []
    },
    "e91bf607802a4806aec0f05471df3e2a": {
     "views": []
    },
    "e9c02fcfc961483693e9ff2e905ad003": {
     "views": []
    },
    "ea07ce846d68466cac9cb188611422d6": {
     "views": []
    },
    "ea3f9ce7f14d45ef92942c970eaee3b8": {
     "views": []
    },
    "ea5a8da56a1447ceb573562f738a6cf2": {
     "views": []
    },
    "ea6d814228034562899b74228511a2ef": {
     "views": []
    },
    "ea7026e84b404898b43301ffb96deafb": {
     "views": []
    },
    "ea7fde18ccd246bb9036de1d07ccc4ec": {
     "views": []
    },
    "eaf3abccb5034362a6826f499b801d90": {
     "views": []
    },
    "eb14f81f799c4b9b8d50fbaa2824d45f": {
     "views": []
    },
    "eb310efe704147ff8e5bd1547d3c4ad1": {
     "views": [
      {
       "cell_index": 26
      }
     ]
    },
    "eb52971238b44a6ca9c4feb6480f2743": {
     "views": []
    },
    "eb717a9ec9de48e0b21c8186007543d6": {
     "views": [
      {
       "cell_index": 26
      }
     ]
    },
    "eb9012ecc4ee4c168e562cf9fc613263": {
     "views": []
    },
    "eb9b2c3c1dd0410d962fa6e9f8383d36": {
     "views": []
    },
    "ebcc867b3e854a488a8104ab96333ce4": {
     "views": []
    },
    "ebd5b40751e447ad917cdcf79b3dd2f3": {
     "views": []
    },
    "ebd9b7a8c5e747a7bbb916144d5622bf": {
     "views": []
    },
    "ec23be8afd1140c08901998dab65a0f3": {
     "views": []
    },
    "ec82c923a6024a0e98c71c56dbcb6271": {
     "views": []
    },
    "ece64c670f874391939841f0c801095b": {
     "views": []
    },
    "ed2db6626505448d860cf3a9bac450ac": {
     "views": []
    },
    "ed455112042e453ca4f49db70a7b59b0": {
     "views": []
    },
    "ed88450777974100a591204063c989e3": {
     "views": []
    },
    "edb75dfb6d0440d0beb8c4869cdca871": {
     "views": []
    },
    "edbf3c34c07743228bd2683267f57d57": {
     "views": []
    },
    "ede986b0f2344c4d83ae856ad2dd02eb": {
     "views": []
    },
    "edf94420d12f43fca1a779d1367f998a": {
     "views": []
    },
    "ee3889674f8c4f299bd004f726068bab": {
     "views": []
    },
    "ee5a9708858740f090116e613053338c": {
     "views": []
    },
    "eeead05c0392442f88a6f27c419d7d52": {
     "views": []
    },
    "eefeaa385bc1424ba2c337cadac209b9": {
     "views": []
    },
    "ef2eb94005d444a7b6a5aa5672943cb3": {
     "views": []
    },
    "ef65a471468e43c9a7430dd60e6c6784": {
     "views": []
    },
    "ef92c44a959e4d7a920d3732f82c97d0": {
     "views": []
    },
    "ef9804ab79d84bb68debc28455730454": {
     "views": []
    },
    "f00ddf83bd5343f19fb3c719c50fb630": {
     "views": []
    },
    "f020493f58c4491fadeecabaee8db796": {
     "views": []
    },
    "f06bb39874d948e5b4d141cbcd8bcec9": {
     "views": []
    },
    "f0738768905c420aa071d445999e0cc6": {
     "views": []
    },
    "f07b87c589f3488aab25ae0fba4a12f9": {
     "views": []
    },
    "f0994aebd5714275880cbb838eca6d69": {
     "views": []
    },
    "f0b9114cce564f0290e6039c777ef5d6": {
     "views": []
    },
    "f0f05b904d174e3083a04ac2daee8ee6": {
     "views": []
    },
    "f164019996704f7189c90877a10fb35a": {
     "views": [
      {
       "cell_index": 26
      }
     ]
    },
    "f19de191cbde4feda44d1f0adead4502": {
     "views": []
    },
    "f1a6f4c4035645418a7f7c8446be6c1d": {
     "views": []
    },
    "f1f3ac7c9b004e31affe04df25e3e019": {
     "views": []
    },
    "f1fb9cb7bbfa4d4e968c0e5c97a7a939": {
     "views": []
    },
    "f21b1a2df82c472f865d0a299097e4ad": {
     "views": []
    },
    "f24b9eb1f3104298a09005fcbfda4b7e": {
     "views": []
    },
    "f2d05af486004f9cb5ca3f48959204bf": {
     "views": []
    },
    "f31c9dbd11e04c7d8e9b024f215a57a0": {
     "views": []
    },
    "f326850fd4ca415291d089f35047ee34": {
     "views": []
    },
    "f34e14f57a2c43da83b9e2d800e9aa12": {
     "views": []
    },
    "f3542ffcf64c498b95884c843ff1ce1b": {
     "views": []
    },
    "f361a48c2c9f499f8d1b3c6e30f5dd9b": {
     "views": []
    },
    "f36305b6423048d09222bc33b599996e": {
     "views": []
    },
    "f3665f1c94914da0b2dda02bdb24414f": {
     "views": []
    },
    "f37a443140fa4ba887668eb503066105": {
     "views": []
    },
    "f38b12ae964b4abaab71caff0a227018": {
     "views": []
    },
    "f3997818bc1045e29ee24ed205b321d2": {
     "views": []
    },
    "f39bf4a2279d4697a5df35651779e55e": {
     "views": []
    },
    "f3ba79679c5c46f0996ee8305eb3c9c9": {
     "views": []
    },
    "f3dc0292b8d44b5d8932ccb8aeb0aec1": {
     "views": [
      {
       "cell_index": 26
      }
     ]
    },
    "f3ec27a0f7e542ff8ce555aaabf214b2": {
     "views": []
    },
    "f41fff5906c64c2a8e9d1fbdfadc92b9": {
     "views": []
    },
    "f441081243c34c97a16a11f4739e53a6": {
     "views": []
    },
    "f4525aafac5e4954bfc2d4c99202d44a": {
     "views": [
      {
       "cell_index": 26
      }
     ]
    },
    "f45f49c9748745e181b70de9b93816d8": {
     "views": []
    },
    "f48424fc68f542c48e63ce4d157e2e61": {
     "views": []
    },
    "f4ca11c1517742f98bb9265b16bdad66": {
     "views": []
    },
    "f4f00f4c7b03459091fe10da4d008230": {
     "views": []
    },
    "f508444917214203b3115f29696f72a0": {
     "views": []
    },
    "f55c531541de4fa89f6bde41c96164fe": {
     "views": []
    },
    "f58d5add431d49d19c61e6066c3045e5": {
     "views": []
    },
    "f5d90fa0b48b4103bd831f4cbeed9bb7": {
     "views": []
    },
    "f61f662fc629450687fe12c23a78728e": {
     "views": []
    },
    "f62bc876112b42f49eb31326ce33f66c": {
     "views": []
    },
    "f6b3c18ffabc48c0b5fc4c8857538d1a": {
     "views": [
      {
       "cell_index": 26
      }
     ]
    },
    "f6c7927ee7e14c41a9250052fa15d09c": {
     "views": []
    },
    "f6ca37dcca6346bbb17651a215d6511a": {
     "views": []
    },
    "f6ca58e7a56546dc820a1bd9f1bdf8b9": {
     "views": []
    },
    "f71a4abbb8ac41c3abe786a21812c587": {
     "views": []
    },
    "f74b3d0d3ed046d6ab727f1206a747c3": {
     "views": [
      {
       "cell_index": 26
      }
     ]
    },
    "f74fc1ffa1a94ac5842b72f5ab785347": {
     "views": []
    },
    "f772d11274ff44f0ace7f341c7e8b4ac": {
     "views": []
    },
    "f77f2ee5cad14c9d9beab567459425d9": {
     "views": []
    },
    "f7868fcc53024e8f8e24ced5661fd153": {
     "views": []
    },
    "f7b734bcb5914b8e812237bdb53458ad": {
     "views": []
    },
    "f7d08d68fb824f78a7c62b481b84bc2e": {
     "views": []
    },
    "f85101bdd4e74b1a9b38d0ff997fb653": {
     "views": []
    },
    "f89c8b62916049af9a54b019b62c259c": {
     "views": []
    },
    "f8b5c675a21343feae3a3e0a26cf30b5": {
     "views": []
    },
    "f8c1750b8ebc4dc2a515323ea802f7a8": {
     "views": []
    },
    "f8eee8a958b34edb810ebdbccb3d8856": {
     "views": []
    },
    "f8fe1ecee3f24306aa4e77453cfce816": {
     "views": []
    },
    "f8fe5110f8db4cc39bf225f8b6458391": {
     "views": []
    },
    "f91d60a153ae4ca4881f1f0edec52fb4": {
     "views": []
    },
    "f9919c04e43f45c7bcfba487d1e22cf2": {
     "views": []
    },
    "f9a909bac6224887b9fe8402d778a777": {
     "views": []
    },
    "f9a924b3d5a348e69b9032b3e190d277": {
     "views": []
    },
    "f9b902f441a84e069b7c490774afe29a": {
     "views": []
    },
    "f9bba219b508420795c827909bf41175": {
     "views": []
    },
    "f9eb9750cbac4973b1304cd686146324": {
     "views": []
    },
    "fa48459052c544ccb5e914beff48bcf5": {
     "views": []
    },
    "fa4da6ac29b64f0380820c6f9dc76cd3": {
     "views": []
    },
    "fa507c418dd74952af69f49148895372": {
     "views": []
    },
    "fa83caa5620c4847bd42a389834b75b8": {
     "views": []
    },
    "faa2168c585540b29b001d8756cd5716": {
     "views": []
    },
    "fabfe9a8d15643f482c9ad87991461b5": {
     "views": []
    },
    "fad5a4e5a2e142679695922c2899853c": {
     "views": []
    },
    "fb33d554d5e243668afb79eb4798ec75": {
     "views": []
    },
    "fb79aed334524e108ec9f92322e27014": {
     "views": []
    },
    "fb8d92997e6a47d0ada4dde74a3d5c5d": {
     "views": []
    },
    "fb92e2714405491d9d192627de296298": {
     "views": []
    },
    "fbd3896178b5464db462a2b7c91a27b3": {
     "views": []
    },
    "fc22541a0578401bbd5106e3f8077706": {
     "views": []
    },
    "fc40df8df04c4c82955c01420e8a0000": {
     "views": []
    },
    "fc46a0f98a904590ac050ac1f5b020ee": {
     "views": []
    },
    "fc6b752195e542fea9b9f99efe4d68f7": {
     "views": []
    },
    "fca91800dbc64f96bc4f02c6adeecdf6": {
     "views": []
    },
    "fccdbf5870644b84bb33a28102efc65e": {
     "views": []
    },
    "fcf5b2ef687a47b69d33236a6c4cece0": {
     "views": []
    },
    "fcf682590fdf4e9b895f655b2cdf8f52": {
     "views": []
    },
    "fd00d00fbc204bbe9dbeea582cdc2d35": {
     "views": []
    },
    "fd606d9535d645d199edeacf807711fa": {
     "views": [
      {
       "cell_index": 26
      }
     ]
    },
    "fd739b3d086847f3bd60e7499557b1d2": {
     "views": []
    },
    "fda6732e552e4674b7b01797afbbe151": {
     "views": []
    },
    "fdbb6002aa3549ea85fecfafa0cb8791": {
     "views": []
    },
    "fdca9f2e8ced4f3f901026257ec8415d": {
     "views": []
    },
    "fdf65c63ba3b42219bfb0db3bd656ee6": {
     "views": []
    },
    "fe0b8c411a434fb3b789f332c72d28c0": {
     "views": [
      {
       "cell_index": 26
      }
     ]
    },
    "fe3b4b5b1c9a4df48b5781f508c3827e": {
     "views": []
    },
    "fe457e326b3d4088852d9c2705473387": {
     "views": []
    },
    "fe909c1cfed94754961862954e26f093": {
     "views": []
    },
    "feca86634c6e4f28ac2e3f143843b504": {
     "views": []
    },
    "fed33b4d0c3a4e588fc4a02f8f60942e": {
     "views": []
    },
    "fed98862dc4847a4ad82ad77f4f79a2d": {
     "views": []
    },
    "ff23aca424e448d09c10ccfa0e60b41f": {
     "views": []
    },
    "ff51db5827c14b2c9c4a64b14ee1836b": {
     "views": []
    },
    "ffbbfa5a0db049d786edd6db237dbff2": {
     "views": []
    },
    "ffdac97cd3a64450881754c8348574df": {
     "views": [
      {
       "cell_index": 26
      }
     ]
    }
   },
   "version": "1.1.2"
  }
 },
 "nbformat": 4,
 "nbformat_minor": 1
}
