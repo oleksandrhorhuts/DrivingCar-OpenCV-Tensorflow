{
 "cells": [
  {
   "cell_type": "markdown",
   "metadata": {},
   "source": [
    "# Self-Driving Car Engineer Nanodegree\n",
    "\n",
    "## Deep Learning\n",
    "\n",
    "## Project: Build a Traffic Sign Recognition Classifier\n",
    "\n",
    "In this notebook, a template is provided for you to implement your functionality in stages, which is required to successfully complete this project. If additional code is required that cannot be included in the notebook, be sure that the Python code is successfully imported and included in your submission if necessary. \n",
    "\n",
    "> **Note**: Once you have completed all of the code implementations, you need to finalize your work by exporting the iPython Notebook as an HTML document. Before exporting the notebook to html, all of the code cells need to have been run so that reviewers can see the final implementation and output. You can then export the notebook by using the menu above and navigating to  \\n\",\n",
    "    \"**File -> Download as -> HTML (.html)**. Include the finished document along with this notebook as your submission. \n",
    "\n",
    "In addition to implementing code, there is a writeup to complete. The writeup should be completed in a separate file, which can be either a markdown file or a pdf document. There is a [write up template](https://github.com/udacity/CarND-Traffic-Sign-Classifier-Project/blob/master/writeup_template.md) that can be used to guide the writing process. Completing the code template and writeup template will cover all of the [rubric points](https://review.udacity.com/#!/rubrics/481/view) for this project.\n",
    "\n",
    "The [rubric](https://review.udacity.com/#!/rubrics/481/view) contains \"Stand Out Suggestions\" for enhancing the project beyond the minimum requirements. The stand out suggestions are optional. If you decide to pursue the \"stand out suggestions\", you can include the code in this Ipython notebook and also discuss the results in the writeup file.\n",
    "\n",
    "\n",
    ">**Note:** Code and Markdown cells can be executed using the **Shift + Enter** keyboard shortcut. In addition, Markdown cells can be edited by typically double-clicking the cell to enter edit mode."
   ]
  },
  {
   "cell_type": "markdown",
   "metadata": {},
   "source": [
    "---\n",
    "## Step 0: Load The Data"
   ]
  },
  {
   "cell_type": "code",
   "execution_count": null,
   "metadata": {
    "collapsed": true
   },
   "outputs": [],
   "source": [
    "# Necessary imports\n",
    "import pickle\n",
    "import tensorflow as tf\n",
    "import numpy as np\n",
    "import pandas as pd\n",
    "import seaborn as sns\n",
    "import matplotlib\n",
    "import matplotlib.pyplot as plt\n",
    "import matplotlib.gridspec as gridspec\n",
    "import cv2\n",
    "from sklearn.utils import shuffle\n",
    "from collections import Counter\n",
    "import math\n",
    "from tqdm import tnrange\n",
    "from tqdm import tqdm_notebook as tqdm\n",
    "\n",
    "%matplotlib inline\n",
    "\n",
    "# Load the pickled data\n",
    "training_file = './traffic_signs_data/train.p'\n",
    "validation_file= './traffic_signs_data/valid.p'\n",
    "testing_file = './traffic_signs_data/test.p'\n",
    "\n",
    "with open(training_file, mode='rb') as f:\n",
    "    train = pickle.load(f)\n",
    "with open(validation_file, mode='rb') as f:\n",
    "    valid = pickle.load(f)\n",
    "with open(testing_file, mode='rb') as f:\n",
    "    test = pickle.load(f)\n",
    "    \n",
    "X_train, y_train = train['features'], train['labels']\n",
    "X_valid, y_valid = valid['features'], valid['labels']\n",
    "X_test, y_test = test['features'], test['labels']\n",
    "\n",
    "# Sanity checks\n",
    "assert(len(X_train) == len(y_train))\n",
    "assert(len(X_valid) == len(y_valid))\n",
    "assert(len(X_test) == len(y_test))\n",
    "\n",
    "# Load in the 'signnames.csv' as a pd.DataFrame\n",
    "sign_names_df = pd.read_csv('signnames.csv')"
   ]
  },
  {
   "cell_type": "markdown",
   "metadata": {},
   "source": [
    "---\n",
    "\n",
    "## Step 1: Dataset Summary & Exploration\n",
    "\n",
    "The pickled data is a dictionary with 4 key/value pairs:\n",
    "\n",
    "- `'features'` is a 4D array containing raw pixel data of the traffic sign images, (num examples, width, height, channels).\n",
    "- `'labels'` is a 1D array containing the label/class id of the traffic sign. The file `signnames.csv` contains id -> name mappings for each id.\n",
    "- `'sizes'` is a list containing tuples, (width, height) representing the original width and height the image.\n",
    "- `'coords'` is a list containing tuples, (x1, y1, x2, y2) representing coordinates of a bounding box around the sign in the image. **THESE COORDINATES ASSUME THE ORIGINAL IMAGE. THE PICKLED DATA CONTAINS RESIZED VERSIONS (32 by 32) OF THESE IMAGES**\n",
    "\n",
    "Complete the basic data summary below. Use python, numpy and/or pandas methods to calculate the data summary rather than hard coding the results. For example, the [pandas shape method](http://pandas.pydata.org/pandas-docs/stable/generated/pandas.DataFrame.shape.html) might be useful for calculating some of the summary results. "
   ]
  },
  {
   "cell_type": "markdown",
   "metadata": {},
   "source": [
    "### Provide a Basic Summary of the Data Set Using Python, Numpy and/or Pandas"
   ]
  },
  {
   "cell_type": "code",
   "execution_count": null,
   "metadata": {
    "collapsed": true
   },
   "outputs": [],
   "source": [
    "### Replace each question mark with the appropriate value. \n",
    "### Use python, pandas or numpy methods rather than hard coding the results\n",
    "\n",
    "# Number of training examples\n",
    "n_train = len(X_train)\n",
    "\n",
    "# Number of validation examples\n",
    "n_validation = len(X_valid)\n",
    "\n",
    "# Number of testing examples.\n",
    "n_test = len(X_test)\n",
    "\n",
    "# What's the shape of an traffic sign image?\n",
    "image_shape = X_train[0].shape\n",
    "\n",
    "# How many unique classes/labels there are in the dataset.\n",
    "n_classes = sign_names_df.shape[0]\n",
    "\n",
    "print(\"Number of training examples =\", n_train)\n",
    "print(\"Number of validation examples =\", n_validation)\n",
    "print(\"Number of testing examples =\", n_test)\n",
    "print(\"Image data shape =\", image_shape)\n",
    "print(\"Number of classes =\", n_classes)"
   ]
  },
  {
   "cell_type": "markdown",
   "metadata": {},
   "source": [
    "### Include an exploratory visualization of the dataset"
   ]
  },
  {
   "cell_type": "markdown",
   "metadata": {},
   "source": [
    "Visualize the German Traffic Signs Dataset using the pickled file(s). This is open ended, suggestions include: plotting traffic sign images, plotting the count of each sign, etc. \n",
    "\n",
    "The [Matplotlib](http://matplotlib.org/) [examples](http://matplotlib.org/examples/index.html) and [gallery](http://matplotlib.org/gallery.html) pages are a great resource for doing visualizations in Python.\n",
    "\n",
    "**NOTE:** It's recommended you start with something simple first. If you wish to do more, come back to it after you've completed the rest of the sections. It can be interesting to look at the distribution of classes in the training, validation and test set. Is the distribution the same? Are there more examples of some classes than others?"
   ]
  },
  {
   "cell_type": "code",
   "execution_count": null,
   "metadata": {
    "collapsed": true
   },
   "outputs": [],
   "source": [
    "### Data exploration visualization code goes here.\n",
    "plt.rcParams['image.interpolation'] = 'nearest'\n",
    "\n",
    "fig, ax = plt.subplots(figsize=(12, 25))\n",
    "counter = Counter(y_train)\n",
    "for c in range(n_classes):\n",
    "    class_idxs = np.where(y_train == c)[0]\n",
    "    with sns.axes_style('white'):\n",
    "        plt.subplot(9, 5, c + 1)\n",
    "        \n",
    "    plt.imshow(X_train[np.random.choice(class_idxs)])\n",
    "    plt.tick_params(\n",
    "        which='both', bottom='off', left='off', top='off', right='off', labelbottom='off', labelleft='off')\n",
    "    plt.ylabel(sign_names_df.loc[c].SignName, fontsize=200/(np.max([20,len(sign_names_df.loc[c].SignName)])))\n",
    "    plt.title('n = {}'.format(counter[c]))   \n",
    "\n",
    "plt.show()"
   ]
  },
  {
   "cell_type": "code",
   "execution_count": null,
   "metadata": {
    "collapsed": true
   },
   "outputs": [],
   "source": [
    "### 2. Plot Bar charts to see the distribution of the labels across the training/validation/test sets\n",
    "matplotlib.rcParams['axes.labelsize'] = 20\n",
    "matplotlib.rcParams['ytick.labelsize'] = 20\n",
    "matplotlib.rcParams['xtick.labelsize'] = 20\n",
    "matplotlib.rcParams['font.size'] = 20\n",
    "\n",
    "def plot_labels_dist(data):\n",
    "    n_plots = len(data)\n",
    "    height = 10 * n_plots\n",
    "    fig, axes = plt.subplots(n_plots, figsize=(30, height))\n",
    "\n",
    "    # TODO: add alpha for bar chart\n",
    "    for idx, ele in enumerate(data):    \n",
    "        labels, title, color = ele\n",
    "        counter = Counter(labels)\n",
    "        x_coordinates = np.arange(len(counter))\n",
    "        frequencies = counter.values()\n",
    "        mean = np.mean(list(frequencies))\n",
    "        \n",
    "        if n_plots == 1:\n",
    "            ax = axes\n",
    "        else:  \n",
    "            ax = axes[idx]\n",
    "        \n",
    "        ax.set_title(title)\n",
    "        ax.bar(x_coordinates, frequencies, align='center', color=color)\n",
    "        print('The mean # examples for the {} set is: {:.1f}'.format(title, mean))\n",
    "\n",
    "\n",
    "        ax.xaxis.set_major_locator(plt.FixedLocator(x_coordinates))\n",
    "        ax.set_xlabel('Label Id')\n",
    "        ax.set_ylabel('Frequencies')\n",
    "\n",
    "        # Plotting a dashed line for the mean frequency\n",
    "        ax.plot([0., 43.], [mean, mean], \"k--\")\n",
    "\n",
    "    plt.show()\n",
    "\n",
    "plot_labels_dist([(y_train, 'Train', 'c'), (y_valid, 'Validation', 'm'), (y_test, 'Test', 'g')])"
   ]
  },
  {
   "cell_type": "markdown",
   "metadata": {},
   "source": [
    "----\n",
    "\n",
    "## Step 2: Design and Test a Model Architecture\n",
    "\n",
    "Design and implement a deep learning model that learns to recognize traffic signs. Train and test your model on the [German Traffic Sign Dataset](http://benchmark.ini.rub.de/?section=gtsrb&subsection=dataset).\n",
    "\n",
    "The LeNet-5 implementation shown in the [classroom](https://classroom.udacity.com/nanodegrees/nd013/parts/fbf77062-5703-404e-b60c-95b78b2f3f9e/modules/6df7ae49-c61c-4bb2-a23e-6527e69209ec/lessons/601ae704-1035-4287-8b11-e2c2716217ad/concepts/d4aca031-508f-4e0b-b493-e7b706120f81) at the end of the CNN lesson is a solid starting point. You'll have to change the number of classes and possibly the preprocessing, but aside from that it's plug and play! \n",
    "\n",
    "With the LeNet-5 solution from the lecture, you should expect a validation set accuracy of about 0.89. To meet specifications, the validation set accuracy will need to be at least 0.93. It is possible to get an even higher accuracy, but 0.93 is the minimum for a successful project submission. \n",
    "\n",
    "There are various aspects to consider when thinking about this problem:\n",
    "\n",
    "- Neural network architecture (is the network over or underfitting?)\n",
    "- Play around preprocessing techniques (normalization, rgb to grayscale, etc)\n",
    "- Number of examples per label (some have more than others).\n",
    "- Generate fake data.\n",
    "\n",
    "Here is an example of a [published baseline model on this problem](http://yann.lecun.com/exdb/publis/pdf/sermanet-ijcnn-11.pdf). It's not required to be familiar with the approach used in the paper but, it's good practice to try to read papers like these."
   ]
  },
  {
   "cell_type": "markdown",
   "metadata": {},
   "source": [
    "### Pre-process the Data Set (normalization, grayscale, etc.)"
   ]
  },
  {
   "cell_type": "markdown",
   "metadata": {},
   "source": [
    "Minimally, the image data should be normalized so that the data has mean zero and equal variance. For image data, `(pixel - 128)/ 128` is a quick way to approximately normalize the data and can be used in this project. \n",
    "\n",
    "Other pre-processing steps are optional. You can try different techniques to see if it improves performance. \n",
    "\n",
    "Use the code cell (or multiple code cells, if necessary) to implement the first step of your project."
   ]
  },
  {
   "cell_type": "code",
   "execution_count": null,
   "metadata": {
    "collapsed": true
   },
   "outputs": [],
   "source": [
    "# Peform data augmentation\n",
    "IMAGE_SIZE = 32\n",
    "\n",
    "def centrally_scale_images(X_imgs):\n",
    "    scales = np.linspace(0.6, 1.1, 5)\n",
    "    # Calculating tf.image.crop_and_resize() params\n",
    "    boxes = np.zeros([len(scales), 4], dtype=np.float32)\n",
    "    for index, scale in enumerate(scales):\n",
    "        x1 = y1 = 0.5 - 0.5 * scale # To scale centrally\n",
    "        x2 = y2 = 0.5 + 0.5 * scale\n",
    "        boxes[index] = np.array([y1, x1, y2, x2], dtype=np.float32)\n",
    "\n",
    "    box_ind = np.zeros(len(scales), dtype=np.int32)\n",
    "    crop_size = np.array([IMAGE_SIZE, IMAGE_SIZE], dtype=np.int32)\n",
    "\n",
    "    X_scale_data = []\n",
    "    tf.reset_default_graph()\n",
    "    X = tf.placeholder(tf.float32, shape=[1, IMAGE_SIZE, IMAGE_SIZE, 3])\n",
    "    tf_img = tf.image.crop_and_resize(X, boxes, box_ind, crop_size)\n",
    "\n",
    "    with tf.Session() as session:\n",
    "        for img in X_imgs:\n",
    "            batch_img = np.expand_dims(img, axis=0)\n",
    "            scaled_imgs = session.run(tf_img, feed_dict={X: batch_img})\n",
    "            X_scale_data.extend(scaled_imgs)\n",
    "\n",
    "        X_scale_data = np.array(X_scale_data, dtype=np.uint8)\n",
    "        return X_scale_data\n",
    "\n",
    "def get_translate_params(index): \n",
    "    if index == 0: # Translate left 20%\n",
    "        offset = np.array([0.0, 0.2], dtype=np.float32)\n",
    "        size = np.array([IMAGE_SIZE, math.ceil(0.8 * IMAGE_SIZE)], dtype=np.float32)\n",
    "        w_start = 0\n",
    "        w_end = int(math.ceil(0.8 * IMAGE_SIZE))\n",
    "        h_start = 0\n",
    "        h_end = IMAGE_SIZE\n",
    "    elif index == 1: # Translate right 20%\n",
    "        offset = np.array([0.0, -0.2], dtype=np.float32)\n",
    "        size = np.array([IMAGE_SIZE, math.ceil(0.8 * IMAGE_SIZE)], dtype=np.float32)\n",
    "        w_start = int(math.floor(0.2 * IMAGE_SIZE))\n",
    "        w_end = IMAGE_SIZE\n",
    "        h_start = 0\n",
    "        h_end = IMAGE_SIZE\n",
    "    elif index == 2: # Translate top 20%\n",
    "        offset = np.array([0.2, 0.0], dtype=np.float32)\n",
    "        size = np.array([math.ceil(0.8 * IMAGE_SIZE), IMAGE_SIZE], dtype=np.float32)\n",
    "        w_start = 0\n",
    "        w_end = IMAGE_SIZE\n",
    "        h_start = 0\n",
    "        h_end = int(math.ceil(0.8 * IMAGE_SIZE))    \n",
    "    elif index == 3: # Translate bottom 20%\n",
    "        offset = np.array([-0.2, 0.0], dtype=np.float32)\n",
    "        size = np.array([math.ceil(0.8 * IMAGE_SIZE), IMAGE_SIZE], dtype=np.float32)\n",
    "        w_start = 0\n",
    "        w_end = IMAGE_SIZE\n",
    "        h_start = int(math.floor(0.2 * IMAGE_SIZE))\n",
    "        h_end = IMAGE_SIZE \n",
    "        \n",
    "    return offset, size, w_start, w_end, h_start, h_end\n",
    "\n",
    "def translate_images(X_imgs):\n",
    "    X_imgs = np.array(X_imgs, dtype=np.float32)\n",
    "    offsets = np.zeros([len(X_imgs), 2], dtype=np.float32)\n",
    "    n_translations = 4\n",
    "    X_translated_data = []\n",
    "\n",
    "    tf.reset_default_graph()\n",
    "    with tf.Session() as session:\n",
    "        for i in range(n_translations):\n",
    "            X_translated =\\\n",
    "                np.zeros([len(X_imgs), IMAGE_SIZE, IMAGE_SIZE, 3], dtype=np.float32)\n",
    "                \n",
    "            base_offset, size, w_start, w_end, h_start, h_end = get_translate_params(i)\n",
    "            offsets[:,:] = base_offset\n",
    "            glimpses = tf.image.extract_glimpse(X_imgs, size, offsets)\n",
    "            glimpses = session.run(glimpses)\n",
    "            \n",
    "            X_translated[:, h_start:h_end, w_start:w_end, :] = glimpses\n",
    "            X_translated_data.extend(X_translated)\n",
    "     \n",
    "    X_translated_data = np.array(X_translated_data, dtype=np.uint8)\n",
    "    return X_translated_data\n",
    "\n",
    "def finer_rotate_images(X_imgs):\n",
    "    tf.reset_default_graph()\n",
    "    \n",
    "    X_rotate_data = []\n",
    "    X = tf.placeholder(tf.float32, shape=[None, IMAGE_SIZE, IMAGE_SIZE, 3])\n",
    "    radian = tf.placeholder(tf.float32, shape=[len(X_imgs)])\n",
    "    tf_img = tf.contrib.image.rotate(X, radian)\n",
    "    \n",
    "    n_rotations = np.linspace(-15, 15, 6)\n",
    "    with tf.Session() as session:\n",
    "        for degree in n_rotations:\n",
    "            radian_val = degree * np.pi / 180\n",
    "            radian_arr = [radian_val] * len(X_imgs)\n",
    "            rotated_imgs = session.run(tf_img, feed_dict={\n",
    "                X: X_imgs, radian: radian_arr\n",
    "            })\n",
    "            X_rotate_data.extend(rotated_imgs)\n",
    "\n",
    "    X_rotate_data = np.array(X_rotate_data, dtype=np.uint8)\n",
    "    return X_rotate_data\n",
    "\n",
    "def add_gaussian_noise(X_imgs):\n",
    "    gaussian_noise_imgs = []\n",
    "    row, col, _ = X_imgs[0].shape\n",
    "    \n",
    "    # Gaussian distribution params\n",
    "    mean = 0.0; var = 0.1; std = var ** 0.5\n",
    "    for X_img in X_imgs:\n",
    "        X_img = X_img.astype(np.float32)\n",
    "        gaussian = np.random.random((row, col, 1)).astype(np.float32)\n",
    "        gaussian = np.concatenate((gaussian, gaussian, gaussian), axis = 2)\n",
    "        gaussian_img = cv2.addWeighted(X_img, 0.75, 0.25 * gaussian, 0.25, 0)\n",
    "        gaussian_noise_imgs.append(gaussian_img)\n",
    "\n",
    "    gaussian_noise_imgs = np.array(gaussian_noise_imgs, dtype = np.uint8)\n",
    "\n",
    "    return gaussian_noise_imgs\n",
    "\n",
    "def augment_data(X_data, y_data):\n",
    "    # Get a list of labels that have low samples\n",
    "    # Get all the images for those labels\n",
    "    # for each one fo those images choose from 1of4 tranforms\n",
    "    # extend the training set\n",
    "    #plot the resulting dist\n",
    "    # The density param allows us to get values of the pdf at the bin\n",
    "    augmented_X_data = []\n",
    "    augmented_y_data = []\n",
    "    \n",
    "    hist, _ = np.histogram(y_data, n_classes, density=True)\n",
    "    labels_to_augment = np.where(hist < 0.02)[0]\n",
    "    \n",
    "    for label in labels_to_augment:\n",
    "        images = X_data[y_data == label]\n",
    "        gen_images = []\n",
    "        \n",
    "        for img in tqdm(images, desc='Label {}'.format(label)):\n",
    "            aug_type = np.random.randint(0, 3)\n",
    "            if aug_type == 0:\n",
    "                gen_images.extend(centrally_scale_images([img]))\n",
    "            elif aug_type == 1:\n",
    "                gen_images.extend(translate_images([img]))\n",
    "            elif aug_type == 2:\n",
    "                gen_images.extend(finer_rotate_images([img]))\n",
    "            elif aug_type == 3:\n",
    "                gen_images.extend(add_gaussian_noise([img]))\n",
    "        \n",
    "        print('Generated {} new images for label {}.'.format(len(gen_images), label))\n",
    "        augmented_X_data.extend(gen_images)\n",
    "        augmented_y_data.extend([label] * len(gen_images))\n",
    "\n",
    "    print('Image augmentation process complete.')\n",
    "    return np.array(augmented_X_data, dtype=np.uint8), np.array(augmented_y_data, dtype=np.uint8)"
   ]
  },
  {
   "cell_type": "code",
   "execution_count": null,
   "metadata": {
    "collapsed": true,
    "scrolled": false
   },
   "outputs": [],
   "source": [
    "# Visualise the different data augmentation techniques on an image from the data set\n",
    "img = X_train[2238]\n",
    "\n",
    "gs = gridspec.GridSpec(1, 5)\n",
    "gs.update(wspace = 0.30, hspace = 2)\n",
    "\n",
    "fig, ax = plt.subplots(figsize = (16, 16))\n",
    "plt.subplot(gs[0])\n",
    "plt.imshow(img)\n",
    "plt.title('Base Image')\n",
    "plt.subplot(gs[1])\n",
    "plt.imshow(centrally_scale_images([img])[0])\n",
    "plt.title('Central Scaling')\n",
    "plt.subplot(gs[2])\n",
    "plt.imshow(translate_images([img])[0])\n",
    "plt.title('Translation')\n",
    "plt.subplot(gs[3])\n",
    "plt.imshow(finer_rotate_images([img])[0])\n",
    "plt.title('Rotation')\n",
    "plt.subplot(gs[4])\n",
    "plt.imshow(add_gaussian_noise([img])[0])\n",
    "plt.title('Gaussian Noise')\n",
    "plt.show()"
   ]
  },
  {
   "cell_type": "code",
   "execution_count": null,
   "metadata": {
    "collapsed": true,
    "scrolled": true
   },
   "outputs": [],
   "source": [
    "# Perform data augmentation for the training set\n",
    "X_train_aug, y_train_aug = augment_data(X_train, y_train)\n",
    "\n",
    "# Sanity check\n",
    "assert(len(X_train_aug) == len(y_train_aug))"
   ]
  },
  {
   "cell_type": "code",
   "execution_count": null,
   "metadata": {
    "collapsed": true
   },
   "outputs": [],
   "source": [
    "### Image augmentation summary\n",
    "print('Total # images prior to augmentation {}'.format(len(X_train)))\n",
    "print('Total # of augmented images {}'.format(len(X_train_aug)))\n",
    "\n",
    "# Combine the augmented data with existing training set\n",
    "X_train = np.concatenate((X_train, X_train_aug), axis=0)\n",
    "y_train = np.concatenate((y_train, y_train_aug), axis=0)\n",
    "print('Total # of images after combination with aug data {}'.format(len(X_train)))\n",
    "\n",
    "### Visualise the new label distribution\n",
    "plot_labels_dist([(y_train, 'Train', 'c')])"
   ]
  },
  {
   "cell_type": "code",
   "execution_count": null,
   "metadata": {
    "collapsed": true
   },
   "outputs": [],
   "source": [
    "# def mean_normalisation(data):\n",
    "#     image_values = np.arange(0, 256)\n",
    "#     mu, sigma = np.mean(image_values), np.std(image_values)\n",
    "#     data = (data - mu) / sigma\n",
    "#     return data\n",
    "\n",
    "# def rgb2gray(X):\n",
    "#     X = 0.2989 * X[...,0] + 0.5870 * X[...,1] + 0.1140 * X[...,2]\n",
    "#     X = np.sum(X/3, axis=2, keepdims=True)\n",
    "#     return X.squeeze()\n",
    "# \n",
    "# plt.imshow(rgb2gray(X_train[71030]).squeeze(), cmap='gray')\n",
    "# a = rgb2gray(mean_normalisation(X_train[25500]))\n",
    "# a = mean_normalisation(rgb2gray(X_train[23500]))\n",
    "# a = rgb2gray(X_train[34561] - X_train.mean(axis=0))\n",
    "\n",
    "# a = mean_normalisation(X_train[2350])\n",
    "# a.shape\n",
    "# plt.imshow(a, cmap='gray')\n",
    "# plt.imshow(X_train[25500])\n",
    "# X_train[2900]\n",
    "# plt.imshow(rgb2gray(centrally_scale_images([X_train[2350]])[0]), cmap='gray')"
   ]
  },
  {
   "cell_type": "code",
   "execution_count": null,
   "metadata": {
    "collapsed": true
   },
   "outputs": [],
   "source": [
    "### Preprocess the data here. It is required to normalize the data. Other preprocessing steps could include \n",
    "### converting to grayscale, etc.\n",
    "\n",
    "def mean_normalisation(data):\n",
    "    image_values = np.arange(0, 256)\n",
    "    mu, sigma = np.mean(image_values), np.std(image_values)\n",
    "    data = (data - mu) / sigma\n",
    "    return data    \n",
    "\n",
    "# Convert the color space for the Training set from RGB -> Gray scale\n",
    "def rgb2gray(X):\n",
    "    X = 0.2989 * X[...,0] + 0.5870 * X[...,1] + 0.1140 * X[...,2]\n",
    "    return X\n",
    "\n",
    "# Perform normalisation over the training/validation/test set to achieve mu = 0 and sigma = 1\n",
    "X_train = rgb2gray(mean_normalisation(X_train))\n",
    "X_valid = rgb2gray(mean_normalisation(X_valid))\n",
    "X_test  = rgb2gray(mean_normalisation(X_test))"
   ]
  },
  {
   "cell_type": "code",
   "execution_count": null,
   "metadata": {
    "collapsed": true
   },
   "outputs": [],
   "source": [
    "# Sanity check the shape after color space change from RGB -> Gray scale\n",
    "print('Shape {} Mean {:.3f} Std {:.3f} Min {:.3f} Max {:.3f}'\n",
    "      .format(X_train.shape, X_train.mean(), X_train.std(), X_train.min(), X_train.max()))\n",
    "\n",
    "# Visualise some of the gray scale images\n",
    "plt.imshow(X_train[2350], cmap='gray')"
   ]
  },
  {
   "cell_type": "code",
   "execution_count": null,
   "metadata": {
    "collapsed": true
   },
   "outputs": [],
   "source": [
    "### Pickle the pre-processed data sets\n",
    "print('CHECKPOINT: Pickling the pre-processed data sets...')\n",
    "try:\n",
    "    with open('./preprocessed_dataset.p', 'wb') as f:\n",
    "        d = {\n",
    "            'features_train': X_train,\n",
    "            'labels_train': y_train,\n",
    "            'features_valid': X_valid,\n",
    "            'labels_valid': y_valid,\n",
    "            'features_test': X_test,\n",
    "            'labels_test': y_test,\n",
    "        }\n",
    "\n",
    "        pickle.dump(d, f)\n",
    "except e:\n",
    "    print('Failed to pickle the data sets! Exception: ' + e)\n",
    "    \n",
    "print('Successfully pickled the data sets!')"
   ]
  },
  {
   "cell_type": "markdown",
   "metadata": {},
   "source": [
    "### Model Architecture"
   ]
  },
  {
   "cell_type": "code",
   "execution_count": 1,
   "metadata": {
    "collapsed": true
   },
   "outputs": [],
   "source": [
    "# Necessary imports\n",
    "import pickle\n",
    "import tensorflow as tf\n",
    "import numpy as np\n",
    "import pandas as pd\n",
    "import seaborn as sns\n",
    "import matplotlib\n",
    "import matplotlib.pyplot as plt\n",
    "import matplotlib.gridspec as gridspec\n",
    "import cv2\n",
    "from sklearn.utils import shuffle\n",
    "from collections import Counter\n",
    "import math\n",
    "from tqdm import tnrange\n",
    "from tqdm import tqdm_notebook as tqdm\n",
    "\n",
    "%matplotlib inline\n",
    "\n",
    "# # Load the pickled data\n",
    "data_file = './preprocessed_dataset.p'\n",
    "with open(data_file, mode='rb') as f:\n",
    "    data = pickle.load(f)\n",
    "    \n",
    "X_train, y_train = data['features_train'], data['labels_train']\n",
    "X_valid, y_valid = data['features_valid'], data['labels_valid']\n",
    "X_test, y_test = data['features_test'], data['labels_test']\n",
    "\n",
    "# Sanity checks\n",
    "assert(len(X_train) == len(y_train))\n",
    "assert(len(X_valid) == len(y_valid))\n",
    "assert(len(X_test) == len(y_test))\n",
    "\n",
    "n_classes = 43"
   ]
  },
  {
   "cell_type": "code",
   "execution_count": 2,
   "metadata": {
    "collapsed": true
   },
   "outputs": [],
   "source": [
    "### Define the model hyper params\n",
    "EPOCHS = 20\n",
    "BATCH_SIZE = 128\n",
    "# LEARNING_RATE = 0.005\n",
    "# LEARNING_RATE = 0.001\n",
    "# N_LABELS = n_classes\n",
    "# DROPOUT = 0.8\n",
    "# IMAGE_SIZE = 32\n",
    "\n",
    "# X = tf.placeholder(tf.float32, shape=[None, IMAGE_SIZE, IMAGE_SIZE])\n",
    "# labels = tf.placeholder(tf.int32, shape=[None])\n",
    "# one_hot_labels = tf.one_hot(labels, N_LABELS) # One-hot encode the labels\n",
    "# keep_prob = tf.placeholder(tf.float32)\n",
    "# keep_prob_conv = tf.placeholder(tf.float32)\n",
    "# learning_rate = tf.placeholder(tf.float32)"
   ]
  },
  {
   "cell_type": "code",
   "execution_count": 3,
   "metadata": {
    "collapsed": true
   },
   "outputs": [],
   "source": [
    "### Implement the model architecture\n",
    "\n",
    "def kaiming_he_init(weight_shape, layer_type='fc'):\n",
    "    fan_in, init_value = None, None\n",
    "    \n",
    "    if layer_type == 'conv':\n",
    "        fan_in = weight_shape[0] * weight_shape[1] * weight_shape[2]\n",
    "        init_value = tf.truncated_normal(weight_shape) * tf.sqrt(2 / fan_in)\n",
    "    elif layer_type == 'fc':\n",
    "        fan_in = weight_shape[0]\n",
    "        init_value = tf.truncated_normal(weight_shape) * tf.sqrt(2 / fan_in)\n",
    "    \n",
    "    return tf.Variable(init_value)\n",
    "\n",
    "# layer_depth = {\n",
    "#     'c1': 8,\n",
    "#     'c2': 8,\n",
    "#     'c3': 16,\n",
    "#     'c4': 16,\n",
    "#     'c5': 32,\n",
    "#     'c6': 32,\n",
    "#     'fc1': 128,\n",
    "# #     'fc2': 64,\n",
    "#     'out': N_LABELS\n",
    "# }\n",
    "\n",
    "# weights = {\n",
    "#     'c1': kaiming_he_init([5, 5, 1, layer_depth['c1']], 'conv'),\n",
    "#     'c2': kaiming_he_init([5, 5, layer_depth['c1'], layer_depth['c2']], 'conv'),\n",
    "#     'c3': kaiming_he_init([3, 3, layer_depth['c2'], layer_depth['c3']], 'conv'),\n",
    "#     'c4': kaiming_he_init([3, 3, layer_depth['c3'], layer_depth['c4']], 'conv'),\n",
    "#     'c5': kaiming_he_init([3, 3, layer_depth['c4'], layer_depth['c5']], 'conv'),\n",
    "#     'c6': kaiming_he_init([3, 3, layer_depth['c5'], layer_depth['c6']], 'conv'),\n",
    "#     'fc1': kaiming_he_init([4 * 4 *  layer_depth['c6'], layer_depth['fc1']]),\n",
    "# #     'fc2': kaiming_he_init([layer_depth['fc1'], layer_depth['fc2']]),\n",
    "#     'out': kaiming_he_init([layer_depth['fc1'], layer_depth['out']])\n",
    "# }\n",
    "\n",
    "# biases = {\n",
    "#     'c1': tf.Variable(tf.truncated_normal([layer_depth['c1']])),\n",
    "#     'c2': tf.Variable(tf.truncated_normal([layer_depth['c2']])),\n",
    "#     'c3': tf.Variable(tf.truncated_normal([layer_depth['c3']])),\n",
    "#     'c4': tf.Variable(tf.truncated_normal([layer_depth['c4']])),\n",
    "#     'c5': tf.Variable(tf.truncated_normal([layer_depth['c5']])),\n",
    "#     'c6': tf.Variable(tf.truncated_normal([layer_depth['c6']])),\n",
    "#     'fc1': tf.Variable(tf.truncated_normal([layer_depth['fc1']])),\n",
    "# #     'fc2': tf.Variable(tf.truncated_normal([layer_depth['fc2']])),\n",
    "#     'out': tf.Variable(tf.truncated_normal([layer_depth['out']]))\n",
    "# }\n",
    "\n",
    "# def conv2d(input_vol, W, b, stride=1, padding='SAME'):\n",
    "#     conv_layer = tf.nn.conv2d(input_vol, W, strides=[1, stride, stride, 1], padding=padding)\n",
    "#     conv_layer = tf.nn.bias_add(conv_layer, b)\n",
    "#     conv_layer = tf.nn.relu(conv_layer)\n",
    "#     return conv_layer\n",
    "    \n",
    "# def maxpool2d(input_vol, k=2, stride=2):\n",
    "#     pool = tf.nn.max_pool(input_vol, ksize=[1, k, k, 1], strides=[1, stride, stride, 1], padding='SAME')\n",
    "#     return pool\n",
    "\n",
    "# def traffic_sign_cnn(X, weights, biases, keep_prob, keep_prob_conv):\n",
    "#     # CONV1    Input = [32x32x1] Output = [32x32x16]\n",
    "#     X = tf.expand_dims(X, -1)\n",
    "#     conv1 = conv2d(X, weights['c1'], biases['c1'])\n",
    "    \n",
    "#     # CONV2    Input = [32x32x16] Output = [32x32x16]\n",
    "#     # MAXPOOL  Input = [32x32x16] Output = [16x16x16]\n",
    "#     conv2 = conv2d(conv1, weights['c2'], biases['c2'])\n",
    "#     conv2 = maxpool2d(conv2)\n",
    "#     con2 = tf.nn.dropout(conv2, keep_prob=keep_prob_conv)\n",
    "    \n",
    "#     # CONV3    Input = [16x16x16] Output = [16x16x32]\n",
    "#     conv3 = conv2d(conv2, weights['c3'], biases['c3'])\n",
    "\n",
    "#     # CONV4    Input = [16x16x32] Output = [16x16x32]\n",
    "#     # MAXPOOL  Input = [16x16x32] Output = [8x8x32]\n",
    "#     conv4 = conv2d(conv3, weights['c4'], biases['c4'])\n",
    "#     conv4 = maxpool2d(conv4)\n",
    "#     con4 = tf.nn.dropout(conv4, keep_prob=keep_prob_conv)\n",
    "    \n",
    "#     # CONV5    Input = [8x8x32] Output = [8x8x64]\n",
    "#     conv5 = conv2d(conv4, weights['c5'], biases['c5'])\n",
    "\n",
    "#     # CONV6    Input = [8x8x64] Output = [8x8x64]\n",
    "#     # MAXPOOL  Input = [8x8x64] Output = [4x4x64]\n",
    "#     conv6 = conv2d(conv5, weights['c6'], biases['c6'])\n",
    "#     conv6 = maxpool2d(conv6)\n",
    "#     con6 = tf.nn.dropout(conv6, keep_prob=keep_prob_conv)\n",
    "    \n",
    "#     # FC1     Input = [1024] Output =  [256]\n",
    "#     fc1 = tf.contrib.layers.flatten(conv6)\n",
    "#     fc1 = tf.matmul(fc1, weights['fc1']) + biases['fc1']\n",
    "#     fc1 = tf.nn.relu(fc1)\n",
    "#     fc1 = tf.nn.dropout(fc1, keep_prob=keep_prob)\n",
    "    \n",
    "#     # FC2     Input = [256] Output =  [128]\n",
    "# #     fc2 = tf.matmul(fc1, weights['fc2']) + biases['fc2']\n",
    "# #     fc2 = tf.nn.relu(fc2)\n",
    "# #     fc2 = tf.nn.dropout(fc2, keep_prob=keep_prob)\n",
    "\n",
    "#     # OUT     Input = [128] Output =  [10]\n",
    "#     out = tf.matmul(fc1, weights['out']) + biases['out']\n",
    "    \n",
    "#     return out"
   ]
  },
  {
   "cell_type": "code",
   "execution_count": 4,
   "metadata": {
    "collapsed": true
   },
   "outputs": [],
   "source": [
    "# layer_depth = {\n",
    "#     'layer_1': 12,\n",
    "#     'layer_2': 32,\n",
    "#     'layer_3': 32,\n",
    "#     'fully_connected_1': 512,\n",
    "#     'fully_connected_2': 256,\n",
    "#     'out': n_classes,\n",
    "# }\n",
    "\n",
    "# weights = {\n",
    "#     'layer_1': kaiming_he_init((5, 5, 1, layer_depth['layer_1']), 'conv'),\n",
    "#     'layer_2': kaiming_he_init((5, 5, layer_depth['layer_1'], layer_depth['layer_2']), 'conv'),\n",
    "#     'layer_3': kaiming_he_init((3, 3, layer_depth['layer_2'], layer_depth['layer_3']), 'conv'),\n",
    "#     'fully_connected_1': kaiming_he_init((5*5*layer_depth['layer_3'], layer_depth['fully_connected_1'])),\n",
    "#     'fully_connected_2': kaiming_he_init((layer_depth['fully_connected_1'], layer_depth['fully_connected_2'])),\n",
    "#     'out': kaiming_he_init((layer_depth['fully_connected_2'], layer_depth['out']))\n",
    "# }\n",
    "# #+0.3 over the first epochs than +-0\n",
    "\n",
    "# biases = {\n",
    "#     'layer_1': tf.Variable(tf.zeros(layer_depth['layer_1'])),\n",
    "#     'layer_2': tf.Variable(tf.zeros(layer_depth['layer_2'])),\n",
    "#     'layer_3': tf.Variable(tf.zeros(layer_depth['layer_3'])),\n",
    "#     'fully_connected_1': tf.Variable(tf.zeros(layer_depth['fully_connected_1'])),\n",
    "#     'fully_connected_2': tf.Variable(tf.zeros(layer_depth['fully_connected_2'])),\n",
    "#     'out': tf.Variable(tf.zeros(layer_depth['out'])),\n",
    "# }\n",
    "\n",
    "# # Define helper functions\n",
    "# def conv2d(x, W, b, strides=1, padding='VALID'):\n",
    "#     x = tf.nn.conv2d(x, W, strides=[1, strides, strides, 1], padding = padding)\n",
    "#     x = tf.nn.bias_add(x, b)\n",
    "#     return tf.nn.relu(x)\n",
    "\n",
    "# def maxpool2d(x, k=2):\n",
    "#     return tf.nn.max_pool(x, ksize=[1, k, k, 1],\n",
    "#                          strides=[1, k, k, 1],\n",
    "#                          padding='VALID')\n",
    "\n",
    "# def LeNetTransformed(x):\n",
    "#     # Input = 32x32x1. Output = 28x28x12.\n",
    "#     x = tf.expand_dims(x, -1)\n",
    "#     conv1 = conv2d(x, weights['layer_1'], biases['layer_1'])\n",
    "#     conv1 = maxpool2d(conv1)\n",
    "    \n",
    "#     # Output = 10x10x32.\n",
    "#     conv2 = conv2d(conv1, weights['layer_2'], biases['layer_2'])\n",
    "#     conv3 = conv2d(conv2, weights['layer_3'], biases['layer_3'], padding='SAME')\n",
    "#     conv3 = maxpool2d(conv3)\n",
    "\n",
    "#     # Input = 5x5x32. Output = 320.\n",
    "#     fc0 = tf.contrib.layers.flatten(conv3)\n",
    "    \n",
    "#     # Input = 320. Output = 512.\n",
    "#     fc1 = tf.add(tf.matmul(fc0, weights['fully_connected_1']), biases['fully_connected_1'])\n",
    "#     fc1 = tf.nn.relu(fc1)\n",
    "#     fc1 = tf.nn.dropout(fc1, keep_prob=keep_prob)\n",
    "    \n",
    "#     # Input = 512. Output = 256.\n",
    "#     fc2 = tf.add(tf.matmul(fc1, weights['fully_connected_2']), biases['fully_connected_2'])   \n",
    "#     fc2 = tf.nn.relu(fc2)\n",
    "#     fc2 = tf.nn.dropout(fc2, keep_prob=keep_prob)\n",
    "    \n",
    "#     # Input = 256. Output = 43.\n",
    "#     logits = tf.add(tf.matmul(fc2, weights['out']), biases['out'])\n",
    "    \n",
    "#     return logits\n",
    "\n",
    "# weights = {\n",
    "#     'c1': tf.Variable(tf.truncated_normal([5, 5, 1, 6], mean=0, stddev=0.1)),\n",
    "#     'c2': tf.Variable(tf.truncated_normal([5, 5, 6, 16], mean=0, stddev=0.1)),\n",
    "#     'fc1': tf.Variable(tf.truncated_normal([400, 120], mean=0, stddev=0.1)),\n",
    "#     'fc2': tf.Variable(tf.truncated_normal([120, 84], mean=0, stddev=0.1)),\n",
    "#     'out': tf.Variable(tf.truncated_normal([84, 43], mean=0, stddev=0.1))\n",
    "# }\n",
    "\n",
    "# biases = {\n",
    "#     'c1': tf.Variable(tf.truncated_normal([6], mean=0, stddev=0.1)),\n",
    "#     'c2': tf.Variable(tf.truncated_normal([16], mean=0, stddev=0.1)),\n",
    "#     'fc1': tf.Variable(tf.truncated_normal([120], mean=0, stddev=0.1)),\n",
    "#     'fc2': tf.Variable(tf.truncated_normal([84], mean=0, stddev=0.1)),\n",
    "#     'out': tf.Variable(tf.truncated_normal([43], mean=0, stddev=0.1))\n",
    "# }\n",
    "\n",
    "# def conv2d(input_vol, W, b, stride=1, padding='SAME'):\n",
    "#     conv_layer = tf.nn.conv2d(input_vol, W, strides=[1, stride, stride, 1], padding=padding)\n",
    "#     conv_layer = tf.nn.bias_add(conv_layer, b)\n",
    "#     conv_layer = tf.nn.relu(conv_layer)\n",
    "#     return conv_layer\n",
    "\n",
    "# def pool2d(input_vol, k=2, stride=2):\n",
    "#     return tf.nn.max_pool(input_vol, ksize=[1, k, k, 1], strides=[1, stride, stride, 1], padding='SAME')\n",
    "\n",
    "# def lenet(images, weights, biases, keep_probab):\n",
    "#     # CONV1 Input = [32x32x1] Output = [28x28x6]\n",
    "#     images = tf.expand_dims(images, -1)\n",
    "#     conv1 = conv2d(images, weights['c1'], biases['c1'], padding='VALID')\n",
    "    \n",
    "#     # POOL1 Input = [28x28x6] Output = [14x14x6]\n",
    "#     pool1 = pool2d(conv1)\n",
    "    \n",
    "#     # CONV2 Input = [14x14x6] Output = [10x10x16]\n",
    "#     conv2 = conv2d(pool1, weights['c2'], biases['c2'], padding='VALID')\n",
    "    \n",
    "#     # POOL2 Input = [10x10x16] Output = [5x5x16]\n",
    "#     pool2 = pool2d(conv2)\n",
    "    \n",
    "#     # FC1 Input = 400 Output = 120\n",
    "#     fc1 = tf.reshape(pool2, shape=[-1, weights['fc1'].get_shape().as_list()[0]])\n",
    "#     fc1 = tf.matmul(fc1, weights['fc1']) + biases['fc1']\n",
    "#     fc1 = tf.nn.relu(fc1)\n",
    "    \n",
    "#     # FC2 Input = 120 Output = 84\n",
    "#     fc2 = tf.matmul(fc1, weights['fc2']) + biases['fc2']\n",
    "#     fc2 = tf.nn.relu(fc2)\n",
    "    \n",
    "#     # OUT Input = 84 Output = 10\n",
    "#     out = tf.matmul(fc2, weights['out']) + biases['out']\n",
    "#     return out"
   ]
  },
  {
   "cell_type": "code",
   "execution_count": 5,
   "metadata": {},
   "outputs": [
    {
     "name": "stdout",
     "output_type": "stream",
     "text": [
      "Training phase -> perform Dropout\n"
     ]
    }
   ],
   "source": [
    "from tensorflow.contrib.layers import flatten\n",
    "\n",
    "x = tf.placeholder(tf.float32, (None, 32, 32))\n",
    "y = tf.placeholder(tf.int32, (None))\n",
    "one_hot_y = tf.one_hot(y, n_classes)\n",
    "apply_dropout = tf.placeholder(tf.bool)\n",
    "\n",
    "def LeNet(x, weights, biases, apply_dropout):\n",
    "    if apply_dropout is not None:\n",
    "        print (\"Training phase -> perform Dropout\")\n",
    "    else:\n",
    "        print (\"Evalutation phase -> not performing Dropout\") \n",
    "    x = tf.expand_dims(x, -1)    \n",
    "    layer = 0\n",
    "    # Layer 1: Convolutional. Input = 32x32x1. Output = 28x28x12.\n",
    "    conv1   = tf.nn.conv2d(x, weights[layer], strides=[1, 1, 1, 1], padding='VALID') + biases[layer]\n",
    "    layer += 1\n",
    "\n",
    "    # Activation.\n",
    "    conv1 = tf.nn.relu(conv1, name = 'act1')\n",
    "\n",
    "    # Pooling. Input = 28x28x12. Output = 14x14x12.\n",
    "    conv1 = tf.nn.max_pool(conv1, ksize=[1, 2, 2, 1], strides=[1, 2, 2, 1], padding='VALID')\n",
    "    # Dropout\n",
    "    conv1 = tf.cond(apply_dropout, lambda: tf.nn.dropout(conv1, keep_prob = 0.8), lambda: conv1)\n",
    "\n",
    "    # Layer 2: Convolutional. Output = 10x10x24.\n",
    "    conv2   = tf.nn.conv2d(conv1, weights[layer], strides=[1, 1, 1, 1], padding='VALID') +  biases[layer]\n",
    "    layer += 1\n",
    "    \n",
    "    # Activation.\n",
    "    conv2 = tf.nn.relu(conv2, name = 'act2')\n",
    "\n",
    "    # Pooling. Input = 10x10x24. Output = 5x5x24.\n",
    "    conv2 = tf.nn.max_pool(conv2, ksize=[1, 2, 2, 1], strides=[1, 2, 2, 1], padding='VALID')\n",
    "    # Dropout\n",
    "    conv2 = tf.cond(apply_dropout, lambda: tf.nn.dropout(conv2, keep_prob = 0.7), lambda: conv2)\n",
    "\n",
    "    # Input = 14x14x12. Output = 7x7x12 = 588\n",
    "    conv1_1 = tf.nn.max_pool(conv1, ksize=[1, 2, 2, 1], strides=[1, 2, 2, 1], padding='VALID')\n",
    "    shape = conv1_1.get_shape().as_list()\n",
    "    conv1_1 = tf.reshape(conv1_1, [-1, shape[1] * shape[2] * shape[3]])    \n",
    "    \n",
    "    # Flatten conv2 Input = 5x5x24. Output = 600\n",
    "    shape = conv2.get_shape().as_list()\n",
    "    conv2 = tf.reshape(conv2, [-1, shape[1] * shape[2] * shape[3]])\n",
    "    \n",
    "    fc0 = tf.concat(1, [conv1_1, conv2])\n",
    "    # Layer 3: Fully Connected. Input = 588+600 = 1188. Output = 320.\n",
    "    fc1   = tf.matmul(fc0, weights[layer]) + biases[layer]\n",
    "    layer += 1\n",
    "    \n",
    "    # Activation.\n",
    "    fc1    = tf.nn.relu(fc1)\n",
    "    # Dropout\n",
    "    fc1 = tf.cond(apply_dropout, lambda: tf.nn.dropout(fc1, keep_prob = 0.6), lambda: fc1)\n",
    "    logits = tf.matmul(fc1, weights[layer]) + biases[layer]\n",
    "    \n",
    "    return logits\n",
    "\n",
    "rate = 0.001\n",
    "\n",
    "# Arguments used for tf.truncated_normal, randomly defines variables for the weights and biases for each layer\n",
    "mu = 0\n",
    "sigma = 0.1\n",
    "beta = 0.001\n",
    "\n",
    "\n",
    "weights = [\n",
    "    tf.Variable(tf.truncated_normal(shape=(5, 5, 1, 12), mean = mu, stddev = sigma)),\n",
    "    tf.Variable(tf.truncated_normal(shape=(5, 5, 12, 24), mean = mu, stddev = sigma)),\n",
    "    tf.Variable(tf.truncated_normal(shape=(1188, 320), mean = mu, stddev = sigma)),\n",
    "    tf.Variable(tf.truncated_normal(shape=(320, n_classes), mean = mu, stddev = sigma))\n",
    "]\n",
    "biases = [\n",
    "   tf.Variable(tf.zeros(12)),\n",
    "   tf.Variable(tf.zeros(24)),\n",
    "   tf.Variable(tf.zeros(320)),\n",
    "   tf.Variable(tf.zeros(n_classes))\n",
    "]\n",
    "\n",
    "\n",
    "logits = LeNet(x, weights, biases, apply_dropout)\n",
    "cross_entropy = tf.nn.softmax_cross_entropy_with_logits(logits, one_hot_y)\n",
    "loss_operation = tf.reduce_mean(cross_entropy)\n",
    "\n",
    "regularizer = tf.reduce_sum([tf.nn.l2_loss(w) for w in weights])\n",
    "loss = tf.reduce_mean(loss_operation + beta * regularizer)\n",
    "\n",
    "optimizer = tf.train.AdamOptimizer(learning_rate = rate)\n",
    "training_operation = optimizer.minimize(loss)\n",
    "\n",
    "correct_prediction = tf.equal(tf.argmax(logits, 1), tf.argmax(one_hot_y, 1))\n",
    "accuracy_operation = tf.reduce_mean(tf.cast(correct_prediction, tf.float32))\n",
    "saver = tf.train.Saver()\n",
    "\n",
    "def evaluate(X_data, y_data):\n",
    "    num_examples = len(X_data)\n",
    "    total_accuracy = 0\n",
    "    sess = tf.get_default_session()\n",
    "    for offset in range(0, num_examples, BATCH_SIZE):\n",
    "        batch_x, batch_y = X_data[offset:offset+BATCH_SIZE], y_data[offset:offset+BATCH_SIZE]\n",
    "        accuracy = sess.run(accuracy_operation, feed_dict={x: batch_x, y: batch_y, apply_dropout: False})\n",
    "        total_accuracy += (accuracy * len(batch_x))\n",
    "    return total_accuracy / num_examples"
   ]
  },
  {
   "cell_type": "code",
   "execution_count": 6,
   "metadata": {},
   "outputs": [],
   "source": [
    "### Training pipeline\n",
    "# logits = LeNetTransformed(x, weights, biases)\n",
    "# loss = tf.reduce_mean(tf.nn.softmax_cross_entropy_with_logits(logits=logits, labels=one_hot_labels)) +\\\n",
    "#         0.01 * tf.nn.l2_loss(weights['fully_connected_1']) + 0.01 * tf.nn.l2_loss(weights['fully_connected_2'])\n",
    "\n",
    "# logits = traffic_sign_cnn(X, weights, biases, keep_prob, keep_prob_conv)\n",
    "# logits = lenet(X, weights, biases, keep_prob)\n",
    "\n",
    "# loss = tf.reduce_mean(tf.nn.softmax_cross_entropy_with_logits(logits=logits, labels=one_hot_labels)) +\\\n",
    "#         0.0005 * tf.nn.l2_loss(weights['fully_connected_1']) + 0.0005 * tf.nn.l2_loss(weights['fully_connected_2'])\n",
    "\n",
    "# optimiser = tf.train.AdamOptimizer(learning_rate=learning_rate)\\\n",
    "#                 .minimize(loss)"
   ]
  },
  {
   "cell_type": "code",
   "execution_count": 7,
   "metadata": {
    "collapsed": true
   },
   "outputs": [],
   "source": [
    "### Model Evaluation Pipeline\n",
    "# correct_predictions = tf.equal(tf.argmax(logits, 1), tf.argmax(one_hot_labels, 1))\n",
    "# accuracy = tf.reduce_mean(tf.cast(correct_predictions, dtype=tf.float32))\n",
    "\n",
    "# saver = tf.train.Saver()\n",
    "\n",
    "# def evaluate(X_data, y_data):\n",
    "#     num_examples = len(X_data)\n",
    "#     total_accuracy = 0.0\n",
    "#     session = tf.get_default_session()\n",
    "    \n",
    "#     for offset in range(0, num_examples, BATCH_SIZE):\n",
    "#         X_batch, y_batch = X_data[offset: offset+BATCH_SIZE], y_data[offset: offset+BATCH_SIZE]\n",
    "#         data_accuracy = session.run(accuracy, feed_dict={\n",
    "#             X: X_batch,\n",
    "#             labels: y_batch,\n",
    "#             keep_prob: 1.0,\n",
    "#             keep_prob_conv: 1.0\n",
    "#         })\n",
    "#         total_accuracy += (data_accuracy * len(X_batch))\n",
    "    \n",
    "#     return total_accuracy / num_examples"
   ]
  },
  {
   "cell_type": "markdown",
   "metadata": {},
   "source": [
    "### Train, Validate and Test the Model"
   ]
  },
  {
   "cell_type": "markdown",
   "metadata": {},
   "source": [
    "A validation set can be used to assess how well the model is performing. A low accuracy on the training and validation\n",
    "sets imply underfitting. A high accuracy on the training set but low accuracy on the validation set implies overfitting."
   ]
  },
  {
   "cell_type": "code",
   "execution_count": 8,
   "metadata": {
    "scrolled": false
   },
   "outputs": [
    {
     "name": "stdout",
     "output_type": "stream",
     "text": [
      "Training...\n",
      "\n",
      "\n",
      "EPOCH 1 ...\n",
      "Training Accuracy = 0.889\n",
      "Validation Accuracy = 0.851\n",
      "\n",
      "Model saved\n",
      "\n",
      "EPOCH 2 ...\n",
      "Training Accuracy = 0.950\n",
      "Validation Accuracy = 0.885\n",
      "\n",
      "Model saved\n",
      "\n",
      "EPOCH 3 ...\n",
      "Training Accuracy = 0.972\n",
      "Validation Accuracy = 0.907\n",
      "\n",
      "Model saved\n",
      "\n",
      "EPOCH 4 ...\n",
      "Training Accuracy = 0.980\n",
      "Validation Accuracy = 0.914\n",
      "\n",
      "Model saved\n",
      "\n",
      "EPOCH 5 ...\n",
      "Training Accuracy = 0.986\n",
      "Validation Accuracy = 0.935\n",
      "\n",
      "Model saved\n",
      "\n",
      "EPOCH 6 ...\n",
      "Training Accuracy = 0.986\n",
      "Validation Accuracy = 0.935\n",
      "\n",
      "\n",
      "EPOCH 7 ...\n",
      "Training Accuracy = 0.990\n",
      "Validation Accuracy = 0.938\n",
      "\n",
      "Model saved\n",
      "\n",
      "EPOCH 8 ...\n",
      "Training Accuracy = 0.988\n",
      "Validation Accuracy = 0.933\n",
      "\n",
      "\n",
      "EPOCH 9 ...\n",
      "Training Accuracy = 0.990\n",
      "Validation Accuracy = 0.933\n",
      "\n",
      "\n",
      "EPOCH 10 ...\n",
      "Training Accuracy = 0.991\n",
      "Validation Accuracy = 0.939\n",
      "\n",
      "Model saved\n",
      "\n",
      "EPOCH 11 ...\n",
      "Training Accuracy = 0.990\n",
      "Validation Accuracy = 0.948\n",
      "\n",
      "Model saved\n",
      "\n",
      "EPOCH 12 ...\n",
      "Training Accuracy = 0.992\n",
      "Validation Accuracy = 0.931\n",
      "\n",
      "\n",
      "EPOCH 13 ...\n",
      "Training Accuracy = 0.991\n",
      "Validation Accuracy = 0.927\n",
      "\n",
      "\n",
      "EPOCH 14 ...\n",
      "Training Accuracy = 0.993\n",
      "Validation Accuracy = 0.943\n",
      "\n",
      "\n",
      "EPOCH 15 ...\n",
      "Training Accuracy = 0.993\n",
      "Validation Accuracy = 0.946\n",
      "\n",
      "\n",
      "EPOCH 16 ...\n",
      "Training Accuracy = 0.991\n",
      "Validation Accuracy = 0.939\n",
      "\n",
      "\n",
      "EPOCH 17 ...\n",
      "Training Accuracy = 0.994\n",
      "Validation Accuracy = 0.953\n",
      "\n",
      "Model saved\n",
      "\n",
      "EPOCH 18 ...\n",
      "Training Accuracy = 0.991\n",
      "Validation Accuracy = 0.932\n",
      "\n",
      "\n",
      "EPOCH 19 ...\n",
      "Training Accuracy = 0.994\n",
      "Validation Accuracy = 0.937\n",
      "\n",
      "\n",
      "EPOCH 20 ...\n",
      "Training Accuracy = 0.992\n",
      "Validation Accuracy = 0.944\n",
      "\n"
     ]
    }
   ],
   "source": [
    "### Train your model here.\n",
    "### Calculate and report the accuracy on the training and validation set.\n",
    "### Once a final model architecture is selected, \n",
    "### the accuracy on the test set should be calculated and reported as well.\n",
    "### Feel free to use as many code cells as needed.\n",
    "# import time\n",
    "# with tf.Session() as session:\n",
    "#     session.run(tf.global_variables_initializer())\n",
    "#     print('Training...')\n",
    "#     num_examples = len(X_train)\n",
    "          \n",
    "#     for epoch_i in range(20):\n",
    "#         X_train, y_train = shuffle(X_train, y_train)\n",
    "#         for offset in tnrange(0, num_examples, BATCH_SIZE, desc='Epoch {:>2}'.format(epoch_i + 1)):\n",
    "#             end = offset + BATCH_SIZE\n",
    "#             X_batch, y_batch = X_train[offset:end], y_train[offset:end]\n",
    "#             if epoch_i > 4:                \n",
    "#                 LEARNING_RATE = 0.0005\n",
    "                \n",
    "#             if epoch_i > 10:\n",
    "#                 LEARNING_RATE = 0.0001\n",
    "                \n",
    "#             session.run(optimiser, feed_dict={X: X_batch, labels: y_batch, keep_prob: DROPOUT,\n",
    "#                                              learning_rate: LEARNING_RATE, keep_prob_conv: 0.7})\n",
    "            \n",
    "#         accuracy_train = evaluate(X_train, y_train)\n",
    "#         accuracy_valid = evaluate(X_valid, y_valid)\n",
    "#         print(\"EPOCH {} ...\".format(epoch_i + 1))\n",
    "#         print(\"Training Accuracy = {:.5f}\".format(accuracy_train))\n",
    "#         print(\"Validation Accuracy = {:.5f}\".format(accuracy_valid))\n",
    "#         print()\n",
    "    \n",
    "#     ckpt_file = 'ckpts/model-{}-{}-{}'.format(int(accuracy_train*10000), int(accuracy_valid*10000), time.time())\n",
    "#     saver.save(session, ckpt_file)\n",
    "#     print(\"Model saved at {}\".format(ckpt_file))\n",
    "global best_validation_accuracy\n",
    "best_validation_accuracy = 0.0\n",
    "\n",
    "with tf.Session() as sess:\n",
    "    sess.run(tf.global_variables_initializer())\n",
    "    #saver.restore(sess, tf.train.latest_checkpoint('.'))\n",
    "    #saver.restore(sess, './lenet11')\n",
    "\n",
    "\n",
    "    num_examples = len(X_train)\n",
    "    \n",
    "    print(\"Training...\")\n",
    "    print()\n",
    "    for i in range(EPOCHS):\n",
    "        X_train, y_train = shuffle(X_train, y_train)\n",
    "        for offset in tnrange(0, num_examples, BATCH_SIZE):\n",
    "            end = offset + BATCH_SIZE\n",
    "            batch_x, batch_y = X_train[offset:end], y_train[offset:end]\n",
    "            sess.run(training_operation, feed_dict={x: batch_x, y: batch_y, apply_dropout: True })\n",
    "            \n",
    "        validation_accuracy = evaluate(X_valid, y_valid)\n",
    "        training_accuracy = evaluate(X_train, y_train)\n",
    "        print(\"EPOCH {} ...\".format(i+1))\n",
    "        print(\"Training Accuracy = {:.3f}\".format(training_accuracy))\n",
    "        print(\"Validation Accuracy = {:.3f}\".format(validation_accuracy))\n",
    "        print()\n",
    "        if (validation_accuracy > best_validation_accuracy):\n",
    "            best_validation_accuracy = validation_accuracy\n",
    "            saver.save(sess, './lenet11')\n",
    "            print(\"Model saved\")"
   ]
  },
  {
   "cell_type": "code",
   "execution_count": null,
   "metadata": {},
   "outputs": [],
   "source": [
    "with tf.Session() as session:\n",
    "    saver.restore(session, 'ckpts/model-10000-9773-1512087898.6379907')\n",
    "#     print(len(X_train))\n",
    "    accuracy_test = evaluate(X_test, y_test)\n",
    "    print(\"Test Acccuracy: {:.4f}\".format(accuracy_test))"
   ]
  },
  {
   "cell_type": "markdown",
   "metadata": {},
   "source": [
    "## Step 3: Test a Model on New Images\n",
    "\n",
    "To give yourself more insight into how your model is working, download at least five pictures of German traffic signs from the web and use your model to predict the traffic sign type.\n",
    "\n",
    "You may find `signnames.csv` useful as it contains mappings from the class id (integer) to the actual sign name."
   ]
  },
  {
   "cell_type": "markdown",
   "metadata": {},
   "source": [
    "### Load and Output the Images"
   ]
  },
  {
   "cell_type": "code",
   "execution_count": null,
   "metadata": {},
   "outputs": [],
   "source": [
    "### Load the images and plot them here.\n",
    "### Feel free to use as many code cells as needed.\n",
    "\n",
    "import matplotlib.image as mpimg\n",
    "import matplotlib.pyplot as plt\n",
    "import os\n",
    "%matplotlib inline\n",
    "\n",
    "def get_image_paths(dirname):\n",
    "    try:\n",
    "        files = os.listdir(dirname)\n",
    "    except Exception as e:\n",
    "        print('Unable to load the images. Exception: {}'.format(e))\n",
    "    \n",
    "    files.sort()\n",
    "    files = ['{}/{}'.format(dirname, f) for f in files]\n",
    "    return files\n",
    "\n",
    "X_prod_image_paths = get_image_paths('./images_2')\n",
    "print(X_prod_image_paths)\n",
    "print()\n",
    "print('Total # images: {}'.format(len(X_prod_image_paths)))"
   ]
  },
  {
   "cell_type": "code",
   "execution_count": null,
   "metadata": {},
   "outputs": [],
   "source": [
    "mpimg.imread(X_prod_image_paths[1])"
   ]
  },
  {
   "cell_type": "code",
   "execution_count": null,
   "metadata": {},
   "outputs": [],
   "source": [
    "# Resize the images and display them\n",
    "\n",
    "def resize_images(image_paths):\n",
    "    X_data = []\n",
    "    b_image = tf.placeholder(tf.float32, shape=[None, None, 3])\n",
    "    tf_img = tf.image.resize_images(b_image, [IMAGE_SIZE, IMAGE_SIZE],\n",
    "                             tf.image.ResizeMethod.NEAREST_NEIGHBOR)\n",
    "\n",
    "    with tf.Session() as session:\n",
    "        for index, image_path in enumerate(image_paths):\n",
    "            img = mpimg.imread(image_path)[:,:,:3]\n",
    "            if img.shape != (IMAGE_SIZE, IMAGE_SIZE, 3):\n",
    "                resized_img = session.run(tf_img, feed_dict={b_image: img})\n",
    "                X_data.append(resized_img)\n",
    "            else:\n",
    "                 X_data.append(img)\n",
    "\n",
    "    X_data = np.array(X_data, dtype=np.float32)\n",
    "    return X_data\n",
    "\n",
    "X_prod = resize_images(X_prod_image_paths)\n",
    "print(X_prod.shape)"
   ]
  },
  {
   "cell_type": "code",
   "execution_count": null,
   "metadata": {},
   "outputs": [],
   "source": [
    "X_prod[0]"
   ]
  },
  {
   "cell_type": "code",
   "execution_count": null,
   "metadata": {},
   "outputs": [],
   "source": [
    "fig, ax = plt.subplots(figsize=(16, 16))\n",
    "\n",
    "for idx, img in enumerate(X_prod):\n",
    "    plt.subplot(3, 4, idx + 1)\n",
    "    plt.imshow(img)"
   ]
  },
  {
   "cell_type": "code",
   "execution_count": null,
   "metadata": {},
   "outputs": [],
   "source": [
    "def mean_normalisation(data):\n",
    "    image_values = np.arange(0, 256)\n",
    "    mu, sigma = np.mean(image_values), np.std(image_values)\n",
    "    data = (data - mu) / sigma\n",
    "    return data    \n",
    "\n",
    "# Convert the color space for the Training set from RGB -> Gray scale\n",
    "def rgb2gray(X):\n",
    "    X = 0.2989 * X[...,0] + 0.5870 * X[...,1] + 0.1140 * X[...,2]\n",
    "    return X\n",
    "\n",
    "# X_prod = rgb2gray(mean_normalisation(X_prod))\n",
    "X_prod = rgb2gray(X_prod)\n",
    "X_prod.shape"
   ]
  },
  {
   "cell_type": "code",
   "execution_count": null,
   "metadata": {},
   "outputs": [],
   "source": [
    "plt.imshow(X_prod[0], cmap='gray')\n",
    "print(X_prod.mean(), X_prod.std(), X_prod.min(), X_prod.max())\n",
    "# 1\n",
    "# y_prod = np.asarray([14, 14, 11, 25, 40, 28])\n",
    "# 3\n",
    "# y_prod = np.asarray([11, 3, 1, 12, 38, 34, 18, 25])\n",
    "# 2\n",
    "y_prod = np.asarray([17, 1, 5, 9, 35, 35, 1, 2, 14])\n",
    "# 4\n",
    "# y_prod = np.asarray([11, 12, 14, 17, 25, 33])\n",
    "\n",
    "assert(len(X_prod) == len(y_prod))"
   ]
  },
  {
   "cell_type": "code",
   "execution_count": null,
   "metadata": {},
   "outputs": [],
   "source": [
    "with tf.Session() as session:\n",
    "    saver.restore(session, 'ckpts/model-10000-9773-1512087898.6379907')\n",
    "    accuracy_test = evaluate(X_prod, y_prod)\n",
    "    print(\"Test Acccuracy: {:.4f}\".format(accuracy_test))"
   ]
  },
  {
   "cell_type": "markdown",
   "metadata": {},
   "source": [
    "### Predict the Sign Type for Each Image"
   ]
  },
  {
   "cell_type": "code",
   "execution_count": null,
   "metadata": {
    "collapsed": true
   },
   "outputs": [],
   "source": [
    "### Run the predictions here and use the model to output the prediction for each image.\n",
    "### Make sure to pre-process the images with the same pre-processing pipeline used earlier.\n",
    "### Feel free to use as many code cells as needed."
   ]
  },
  {
   "cell_type": "markdown",
   "metadata": {},
   "source": [
    "### Analyze Performance"
   ]
  },
  {
   "cell_type": "code",
   "execution_count": null,
   "metadata": {
    "collapsed": true
   },
   "outputs": [],
   "source": [
    "### Calculate the accuracy for these 5 new images. \n",
    "### For example, if the model predicted 1 out of 5 signs correctly, it's 20% accurate on these new images."
   ]
  },
  {
   "cell_type": "markdown",
   "metadata": {},
   "source": [
    "### Output Top 5 Softmax Probabilities For Each Image Found on the Web"
   ]
  },
  {
   "cell_type": "markdown",
   "metadata": {},
   "source": [
    "For each of the new images, print out the model's softmax probabilities to show the **certainty** of the model's predictions (limit the output to the top 5 probabilities for each image). [`tf.nn.top_k`](https://www.tensorflow.org/versions/r0.12/api_docs/python/nn.html#top_k) could prove helpful here. \n",
    "\n",
    "The example below demonstrates how tf.nn.top_k can be used to find the top k predictions for each image.\n",
    "\n",
    "`tf.nn.top_k` will return the values and indices (class ids) of the top k predictions. So if k=3, for each sign, it'll return the 3 largest probabilities (out of a possible 43) and the correspoding class ids.\n",
    "\n",
    "Take this numpy array as an example. The values in the array represent predictions. The array contains softmax probabilities for five candidate images with six possible classes. `tf.nn.top_k` is used to choose the three classes with the highest probability:\n",
    "\n",
    "```\n",
    "# (5, 6) array\n",
    "a = np.array([[ 0.24879643,  0.07032244,  0.12641572,  0.34763842,  0.07893497,\n",
    "         0.12789202],\n",
    "       [ 0.28086119,  0.27569815,  0.08594638,  0.0178669 ,  0.18063401,\n",
    "         0.15899337],\n",
    "       [ 0.26076848,  0.23664738,  0.08020603,  0.07001922,  0.1134371 ,\n",
    "         0.23892179],\n",
    "       [ 0.11943333,  0.29198961,  0.02605103,  0.26234032,  0.1351348 ,\n",
    "         0.16505091],\n",
    "       [ 0.09561176,  0.34396535,  0.0643941 ,  0.16240774,  0.24206137,\n",
    "         0.09155967]])\n",
    "```\n",
    "\n",
    "Running it through `sess.run(tf.nn.top_k(tf.constant(a), k=3))` produces:\n",
    "\n",
    "```\n",
    "TopKV2(values=array([[ 0.34763842,  0.24879643,  0.12789202],\n",
    "       [ 0.28086119,  0.27569815,  0.18063401],\n",
    "       [ 0.26076848,  0.23892179,  0.23664738],\n",
    "       [ 0.29198961,  0.26234032,  0.16505091],\n",
    "       [ 0.34396535,  0.24206137,  0.16240774]]), indices=array([[3, 0, 5],\n",
    "       [0, 1, 4],\n",
    "       [0, 5, 1],\n",
    "       [1, 3, 5],\n",
    "       [1, 4, 3]], dtype=int32))\n",
    "```\n",
    "\n",
    "Looking just at the first row we get `[ 0.34763842,  0.24879643,  0.12789202]`, you can confirm these are the 3 largest probabilities in `a`. You'll also notice `[3, 0, 5]` are the corresponding indices."
   ]
  },
  {
   "cell_type": "code",
   "execution_count": null,
   "metadata": {
    "collapsed": true
   },
   "outputs": [],
   "source": [
    "### Print out the top five softmax probabilities for the predictions on the German traffic sign images found on the web. \n",
    "### Feel free to use as many code cells as needed."
   ]
  },
  {
   "cell_type": "markdown",
   "metadata": {},
   "source": [
    "### Project Writeup\n",
    "\n",
    "Once you have completed the code implementation, document your results in a project writeup using this [template](https://github.com/udacity/CarND-Traffic-Sign-Classifier-Project/blob/master/writeup_template.md) as a guide. The writeup can be in a markdown or pdf file. "
   ]
  },
  {
   "cell_type": "markdown",
   "metadata": {},
   "source": [
    "> **Note**: Once you have completed all of the code implementations and successfully answered each question above, you may finalize your work by exporting the iPython Notebook as an HTML document. You can do this by using the menu above and navigating to  \\n\",\n",
    "    \"**File -> Download as -> HTML (.html)**. Include the finished document along with this notebook as your submission."
   ]
  },
  {
   "cell_type": "markdown",
   "metadata": {},
   "source": [
    "---\n",
    "\n",
    "## Step 4 (Optional): Visualize the Neural Network's State with Test Images\n",
    "\n",
    " This Section is not required to complete but acts as an additional excersise for understaning the output of a neural network's weights. While neural networks can be a great learning device they are often referred to as a black box. We can understand what the weights of a neural network look like better by plotting their feature maps. After successfully training your neural network you can see what it's feature maps look like by plotting the output of the network's weight layers in response to a test stimuli image. From these plotted feature maps, it's possible to see what characteristics of an image the network finds interesting. For a sign, maybe the inner network feature maps react with high activation to the sign's boundary outline or to the contrast in the sign's painted symbol.\n",
    "\n",
    " Provided for you below is the function code that allows you to get the visualization output of any tensorflow weight layer you want. The inputs to the function should be a stimuli image, one used during training or a new one you provided, and then the tensorflow variable name that represents the layer's state during the training process, for instance if you wanted to see what the [LeNet lab's](https://classroom.udacity.com/nanodegrees/nd013/parts/fbf77062-5703-404e-b60c-95b78b2f3f9e/modules/6df7ae49-c61c-4bb2-a23e-6527e69209ec/lessons/601ae704-1035-4287-8b11-e2c2716217ad/concepts/d4aca031-508f-4e0b-b493-e7b706120f81) feature maps looked like for it's second convolutional layer you could enter conv2 as the tf_activation variable.\n",
    "\n",
    "For an example of what feature map outputs look like, check out NVIDIA's results in their paper [End-to-End Deep Learning for Self-Driving Cars](https://devblogs.nvidia.com/parallelforall/deep-learning-self-driving-cars/) in the section Visualization of internal CNN State. NVIDIA was able to show that their network's inner weights had high activations to road boundary lines by comparing feature maps from an image with a clear path to one without. Try experimenting with a similar test to show that your trained network's weights are looking for interesting features, whether it's looking at differences in feature maps from images with or without a sign, or even what feature maps look like in a trained network vs a completely untrained one on the same sign image.\n",
    "\n",
    "<figure>\n",
    " <img src=\"visualize_cnn.png\" width=\"380\" alt=\"Combined Image\" />\n",
    " <figcaption>\n",
    " <p></p> \n",
    " <p style=\"text-align: center;\"> Your output should look something like this (above)</p> \n",
    " </figcaption>\n",
    "</figure>\n",
    " <p></p> \n"
   ]
  },
  {
   "cell_type": "code",
   "execution_count": null,
   "metadata": {
    "collapsed": true
   },
   "outputs": [],
   "source": [
    "### Visualize your network's feature maps here.\n",
    "### Feel free to use as many code cells as needed.\n",
    "\n",
    "# image_input: the test image being fed into the network to produce the feature maps\n",
    "# tf_activation: should be a tf variable name used during your training procedure that represents the calculated state of a specific weight layer\n",
    "# activation_min/max: can be used to view the activation contrast in more detail, by default matplot sets min and max to the actual min and max values of the output\n",
    "# plt_num: used to plot out multiple different weight feature map sets on the same block, just extend the plt number for each new feature map entry\n",
    "\n",
    "def outputFeatureMap(image_input, tf_activation, activation_min=-1, activation_max=-1 ,plt_num=1):\n",
    "    # Here make sure to preprocess your image_input in a way your network expects\n",
    "    # with size, normalization, ect if needed\n",
    "    # image_input =\n",
    "    # Note: x should be the same name as your network's tensorflow data placeholder variable\n",
    "    # If you get an error tf_activation is not defined it may be having trouble accessing the variable from inside a function\n",
    "    activation = tf_activation.eval(session=sess,feed_dict={x : image_input})\n",
    "    featuremaps = activation.shape[3]\n",
    "    plt.figure(plt_num, figsize=(15,15))\n",
    "    for featuremap in range(featuremaps):\n",
    "        plt.subplot(6,8, featuremap+1) # sets the number of feature maps to show on each row and column\n",
    "        plt.title('FeatureMap ' + str(featuremap)) # displays the feature map number\n",
    "        if activation_min != -1 & activation_max != -1:\n",
    "            plt.imshow(activation[0,:,:, featuremap], interpolation=\"nearest\", vmin =activation_min, vmax=activation_max, cmap=\"gray\")\n",
    "        elif activation_max != -1:\n",
    "            plt.imshow(activation[0,:,:, featuremap], interpolation=\"nearest\", vmax=activation_max, cmap=\"gray\")\n",
    "        elif activation_min !=-1:\n",
    "            plt.imshow(activation[0,:,:, featuremap], interpolation=\"nearest\", vmin=activation_min, cmap=\"gray\")\n",
    "        else:\n",
    "            plt.imshow(activation[0,:,:, featuremap], interpolation=\"nearest\", cmap=\"gray\")"
   ]
  }
 ],
 "metadata": {
  "anaconda-cloud": {},
  "kernelspec": {
   "display_name": "Python 3",
   "language": "python",
   "name": "python3"
  },
  "language_info": {
   "codemirror_mode": {
    "name": "ipython",
    "version": 3
   },
   "file_extension": ".py",
   "mimetype": "text/x-python",
   "name": "python",
   "nbconvert_exporter": "python",
   "pygments_lexer": "ipython3",
   "version": "3.5.2"
  },
  "widgets": {
   "state": {
    "0066f1a8dd5f4efcb2f3013800f82198": {
     "views": [
      {
       "cell_index": 30
      }
     ]
    },
    "006f0572f8a6493b8ce65b9dc5ad9352": {
     "views": []
    },
    "0081bbbb4b58478b8e41087ae4b7b926": {
     "views": []
    },
    "00b8c786d67e4fc0a41107105e6fc1c2": {
     "views": []
    },
    "00c9443bfc5840439b984803e97a27ea": {
     "views": []
    },
    "00e063427a4a418fa82565b4a0cb9cdb": {
     "views": []
    },
    "00eabd0ffc0e4326a3ea0b1701e0004a": {
     "views": []
    },
    "0111d10bb3f3487697f65229fc704225": {
     "views": []
    },
    "011a1eb22b5f44a3bb31a4740861a2e0": {
     "views": []
    },
    "0142a3cf2b1e4fc4b3da60afe98119e7": {
     "views": []
    },
    "0166a4cabf3e4a1f879d3a9a68a94beb": {
     "views": []
    },
    "01d34a07eb364e36a8e8387b02b532e7": {
     "views": []
    },
    "01d8ceba68ec4d76bf22456934226e80": {
     "views": []
    },
    "01f522f2bd2141c49b519e0e4000eb9e": {
     "views": [
      {
       "cell_index": 30
      }
     ]
    },
    "0235d0e6e1dc4a748f6db2c015fc2d1b": {
     "views": []
    },
    "0256a78ec155441cb547dcfceaad7c4a": {
     "views": []
    },
    "02644576d87244acbe6e4fc90c2e9284": {
     "views": [
      {
       "cell_index": 30
      }
     ]
    },
    "026566a409f84d03b948194bb97f0272": {
     "views": []
    },
    "026b2a0b611a479aafb8f4253b0acb4f": {
     "views": []
    },
    "030f6c44425e4a9697880e4e93b7fbf6": {
     "views": []
    },
    "034ffb7b7c474fc6a129a310ef8595d0": {
     "views": []
    },
    "038cbe63e71643deb7519137c2866e80": {
     "views": []
    },
    "03a7658692bf43609f19c3d27bc1faf3": {
     "views": []
    },
    "0415d0aad28c42c0873386bd2d81e987": {
     "views": []
    },
    "04163025215d462b87de1596942692cd": {
     "views": []
    },
    "04600395e00049c6aa9c3c28ea84ea0a": {
     "views": []
    },
    "049d9bab9df1471182ff5a85b3e26b88": {
     "views": []
    },
    "04a54c2ec7c04feaba47961654825594": {
     "views": []
    },
    "04ac8de9c97a48b6b54a26831b1c9aa8": {
     "views": []
    },
    "04ce575193764b7aad17d8fe3f7ae0a4": {
     "views": []
    },
    "04d53f2373fd40168c033f5ec99f4216": {
     "views": []
    },
    "05449c6c11854a57a1d71c2dfdb06e6a": {
     "views": []
    },
    "0557f8562cf046e2bf4909dc8be30ea0": {
     "views": []
    },
    "0558e7a75b504ffb9b7e620c4cb14e6f": {
     "views": []
    },
    "05d4046cb4b545d28f8f1d3e6daeecf7": {
     "views": [
      {
       "cell_index": 30
      }
     ]
    },
    "05d57628c5994563b7a211d664100e1c": {
     "views": []
    },
    "05f990365e214a829bd697ce85cc9a8b": {
     "views": []
    },
    "0660f7719e6a49f7893a11cde74256ed": {
     "views": [
      {
       "cell_index": 31
      }
     ]
    },
    "06dc60e6292b4a8b876f3d32b49b4970": {
     "views": []
    },
    "07234be58ef74a36941b4384af36f03b": {
     "views": []
    },
    "07289d434a004469b2c39d43393f1ff5": {
     "views": []
    },
    "07518113910d4e009c872a34853e6f57": {
     "views": []
    },
    "077cde3eb5ed492aaf441fe92e807c8f": {
     "views": [
      {
       "cell_index": 31
      }
     ]
    },
    "078173e3de304bbb8d1c771c3d325992": {
     "views": []
    },
    "085a3c8b9b02484da97815a86ecebf3c": {
     "views": []
    },
    "08c10982fac34d46bfde9175bdba161e": {
     "views": []
    },
    "08c7a3ba61df475b9e8e6d432b67a891": {
     "views": [
      {
       "cell_index": 30
      }
     ]
    },
    "08db1f776b23420cb3d72b4bffe4cec5": {
     "views": []
    },
    "0934626ca14449478a43f9b3a7a20202": {
     "views": []
    },
    "09984ff53cb6445099e931e2e1a5e643": {
     "views": [
      {
       "cell_index": 30
      }
     ]
    },
    "09c2138981124417b608653c5ee80da1": {
     "views": []
    },
    "09d384a07950434fb1b39a85efa939a9": {
     "views": []
    },
    "09de68d176894c9aaa1a52a60f6a2c3c": {
     "views": []
    },
    "0a049d6641324254ac249b05ebe043e5": {
     "views": []
    },
    "0a2b783f907449418c838f777c23a351": {
     "views": []
    },
    "0ae48c77b4e94279b0e36cf7a2670701": {
     "views": []
    },
    "0b5ba091e41b45a7b892c95f868a0460": {
     "views": []
    },
    "0b71bf14d0ff4bf096045f8de8603ffb": {
     "views": []
    },
    "0b7b4ad4617f408b86b8589ea59990ee": {
     "views": []
    },
    "0bf1b20c4edf474dae1c8c0e9d7d9555": {
     "views": [
      {
       "cell_index": 30
      }
     ]
    },
    "0c535a3e897944c5a7ce5c2e42195495": {
     "views": []
    },
    "0c59754a71904663b65a84434cb7e82a": {
     "views": []
    },
    "0c5a8c200a794cd5978c13a0dd452043": {
     "views": []
    },
    "0d0be0840d854a7b845c06fd4894f37d": {
     "views": []
    },
    "0d1c526b9d034bf0b8cac63b010d8534": {
     "views": []
    },
    "0d786db745524c119507b185326e76b4": {
     "views": []
    },
    "0da20e29badb48b683774c81684a6bf6": {
     "views": []
    },
    "0dacca9b93874bd69727f6466e56ee92": {
     "views": []
    },
    "0dc4fbdb7628498f8babf8e91c3f8e15": {
     "views": [
      {
       "cell_index": 31
      }
     ]
    },
    "0dcde86617084547989e52754190163d": {
     "views": [
      {
       "cell_index": 31
      }
     ]
    },
    "0dd70532f86142be86ff739b4a26c5b6": {
     "views": []
    },
    "0ddfe4c2ee5d4ca18c2737b0aad6bc82": {
     "views": []
    },
    "0e377f4e6680400fa9337ed2eb1ced61": {
     "views": []
    },
    "0e5b7690fa2b4143be354d3332f089fa": {
     "views": []
    },
    "0e9c89f89b3940ea9a4232099cbc5141": {
     "views": []
    },
    "0f3e22f3dff144bdad442dc138bc3c7c": {
     "views": []
    },
    "0f460f15619a4781b8d22029bff13e6c": {
     "views": []
    },
    "101047a6369944f088667131457bb8ed": {
     "views": []
    },
    "1040f3a1027142348b5d77a44c465253": {
     "views": []
    },
    "10c79a94fb404aaeb0987b4d1f9e2475": {
     "views": []
    },
    "10f0c7ef498542209d7c9dafb31eaf4d": {
     "views": []
    },
    "112b2cf37d234d13bc949d1a5f69d9df": {
     "views": []
    },
    "1164f55c869d482aaff7277e45df3c0f": {
     "views": [
      {
       "cell_index": 30
      }
     ]
    },
    "11675ffa856343e482069b2e00478d9e": {
     "views": []
    },
    "1171f008a310440fbdfaa2ccbff726b5": {
     "views": [
      {
       "cell_index": 31
      }
     ]
    },
    "11851620473d4a34aca1b6db06ec1659": {
     "views": []
    },
    "11ab856cdfba4df3a59e55132bf03483": {
     "views": []
    },
    "11d2eaa65cfe4c7aae22d1bbcb195168": {
     "views": [
      {
       "cell_index": 31
      }
     ]
    },
    "122510feafae40069e6aabdb35f48def": {
     "views": []
    },
    "12a054a12e01464da93a0960d3886c9c": {
     "views": []
    },
    "13a927d8368141dcbf3588fc55c9ac5f": {
     "views": []
    },
    "13c08eb1261042dfb0f2bbbc9e9309d5": {
     "views": []
    },
    "13c4f8ed46984b9cbb31596c60fa4d41": {
     "views": []
    },
    "13e1b47867734ba990e2d8ce2a2bf5f3": {
     "views": []
    },
    "1427a6a86dd74f96b6ef4985180b2c66": {
     "views": []
    },
    "14c1fff5adf54674baca889ca56054bc": {
     "views": []
    },
    "14cbfa383aac4e1a81eccfe447bc5122": {
     "views": []
    },
    "14f4804db1d84709b95da0838c656f35": {
     "views": [
      {
       "cell_index": 30
      }
     ]
    },
    "152050670ae44279a4d63dfc33d284a5": {
     "views": []
    },
    "154d18510c684574a3ebd1140ba5023d": {
     "views": []
    },
    "155f31accdf24eadb0e6a8597f719710": {
     "views": []
    },
    "15b1ffb5866348ae93baec6a08830dda": {
     "views": []
    },
    "162eee397d034bda8788526c555c4ff6": {
     "views": []
    },
    "164cef57d1ea4076a16517ce236f1173": {
     "views": []
    },
    "1653b6997a7a44b796afbb8e8981dce5": {
     "views": []
    },
    "16879d8076014e118e44b7b6bc8f9f4a": {
     "views": []
    },
    "16886a90f4e04f959868ef4b8e737635": {
     "views": [
      {
       "cell_index": 30
      }
     ]
    },
    "16b37754adeb4135a40f29b1b59b0c53": {
     "views": []
    },
    "16bf02e827e8482891ec040b263a1158": {
     "views": []
    },
    "16e6dec4077341b9b52dae7ac067891e": {
     "views": []
    },
    "173d29a53d6f4c8c866e35041c8c4d2e": {
     "views": [
      {
       "cell_index": 30
      }
     ]
    },
    "1769d39af2d146fb82430dc73779fd48": {
     "views": []
    },
    "17e873cf47c8475abaa3bea986e88c98": {
     "views": []
    },
    "18304798ee654b16a82dffb921b60cb8": {
     "views": []
    },
    "18751767b80d48aeba26a5ec4a54feb3": {
     "views": [
      {
       "cell_index": 30
      }
     ]
    },
    "1879321695f4408888d71e608ba987fb": {
     "views": []
    },
    "18819ea5242649a8bd828718eb1c1a9f": {
     "views": []
    },
    "18cce3cbff264e989406362402019609": {
     "views": []
    },
    "195c0dcb081c482f843c8cd6dd9c1ada": {
     "views": [
      {
       "cell_index": 31
      }
     ]
    },
    "199c6bcf190f441c99a69e900a0a5897": {
     "views": []
    },
    "19b0724706b842da9554f26c4149326a": {
     "views": []
    },
    "19effae351ce4e369d7d1d4ef389b577": {
     "views": []
    },
    "1a150baee7bb472f8c7911fee7ffc269": {
     "views": []
    },
    "1a212072917246e1875652a2710d6ac4": {
     "views": []
    },
    "1a2c211517a54608b91085727b7bb8a8": {
     "views": []
    },
    "1a691b67684b4fe290e78d22678c940b": {
     "views": []
    },
    "1a7b821f7a80473a8c4fd0b18f9fbbba": {
     "views": []
    },
    "1a89f00c8716453e811256208467b5e2": {
     "views": []
    },
    "1b40dc700f544763883be18fbc1bdc81": {
     "views": []
    },
    "1b455504ae3d49e19e30c159e9051355": {
     "views": []
    },
    "1bc654704e0f4ed2a6146fd22c95660f": {
     "views": []
    },
    "1bcca03f0974471a84ce1d56562ed63b": {
     "views": []
    },
    "1c03e99913d94cbd9c56a18dc10c6ff9": {
     "views": []
    },
    "1c0cf6ef235e42eb8c8a3ee7906aadeb": {
     "views": []
    },
    "1c3f4616f44242e4836a8653b40cef5d": {
     "views": []
    },
    "1c4cf3aedf0743f8ab5896145109f3b8": {
     "views": [
      {
       "cell_index": 31
      }
     ]
    },
    "1c7ececdf89b4d01bec608e44a87c139": {
     "views": []
    },
    "1c8ceab918a745f1ae9cecfbb8f914b4": {
     "views": [
      {
       "cell_index": 30
      }
     ]
    },
    "1cd64492257e4dfda8d6571c261c1dae": {
     "views": []
    },
    "1d2f84248a4449098848fc0b1d5cb81c": {
     "views": []
    },
    "1d4a670b63e8449fafb54e2b91802cb2": {
     "views": []
    },
    "1d7eda8333554ecead26d40ff7985826": {
     "views": []
    },
    "1db78bfb92f84c6a8f35d445df3bf560": {
     "views": []
    },
    "1dc54bae8344490988a96c0efa5f2e23": {
     "views": []
    },
    "1e1278d36c154785aab7aa569a3983aa": {
     "views": []
    },
    "1e2bf201868e4ed9a6b019d3f51cf853": {
     "views": []
    },
    "1e6418ef18e641e3af0b8de1af421d70": {
     "views": []
    },
    "1e712f1c308443c69d263f6ea2b488f9": {
     "views": []
    },
    "1eb92273197d4d209e5b1632ec393bd2": {
     "views": []
    },
    "1f98a5fc6e4842be8a4d4cc9f50cae26": {
     "views": []
    },
    "1fc4df025da5468595db530f129ccaa9": {
     "views": []
    },
    "1fe35d46663143939c0d32ba64d67590": {
     "views": []
    },
    "203c0cc7f235480b984e87259a3c15eb": {
     "views": []
    },
    "2055663a2c564e9a85b3e87e699a6afa": {
     "views": []
    },
    "20949b894c52486b8acd1647c0d9e0a6": {
     "views": [
      {
       "cell_index": 30
      }
     ]
    },
    "20a59b52b4d2472f8f5ad27163a19439": {
     "views": []
    },
    "20ac5a7ca4e445f0b25b0a40c4036dba": {
     "views": []
    },
    "20cddaed8dbe4564822b0eada60b0da1": {
     "views": []
    },
    "2112b29d2c9e4957b670693f60e0534f": {
     "views": []
    },
    "2124f011b7d249ebb7a47f2f5e27c6e7": {
     "views": []
    },
    "213d401560fc4ac180da3b228e20bdca": {
     "views": []
    },
    "217ff66fb3e84ed584d2cf789268f4c5": {
     "views": []
    },
    "21d352b2bc8a4c4e91daa62006e54d57": {
     "views": []
    },
    "21e14a78f873489781dce0801bea4b36": {
     "views": []
    },
    "21ed4475f5a9402b996942ae0cb2d579": {
     "views": []
    },
    "227bfa090bd346a3992abc408cabecb2": {
     "views": []
    },
    "22962a5ec23f47c2889671772740140c": {
     "views": []
    },
    "22b6318470404fa68b8647c9a1d61e7b": {
     "views": []
    },
    "22dc3f0226f84ae1848d90b5b5c5e8c9": {
     "views": []
    },
    "2301f8f7b2494cf9b2662c2101cfc14b": {
     "views": []
    },
    "231108f2af804d0d88d17fb59788b751": {
     "views": []
    },
    "2328d013ba00421bbc64d59027dd4d9d": {
     "views": []
    },
    "23411823def94b4b8db1f7ca4367deeb": {
     "views": []
    },
    "2376ea9584b14f7c8e52a041d2d856bf": {
     "views": []
    },
    "240e3ff243f54d8fb9c8a40451cedaea": {
     "views": []
    },
    "24342859fd42494cad9b5848d9d4b0a4": {
     "views": []
    },
    "243a320325a94d5f9a75aff33eb23a1f": {
     "views": []
    },
    "24525d934d6643bf84277c3b24b92914": {
     "views": []
    },
    "246741bbc60d45d3bca7df76a063063e": {
     "views": []
    },
    "2502990b54bb40ad955b66eb0231bcbf": {
     "views": []
    },
    "251372f1338a42baa0c95b2bcaf1299a": {
     "views": []
    },
    "254be514e79e43518a46542aa0f810f9": {
     "views": []
    },
    "25512948e7f74987b9656f753d2ad598": {
     "views": []
    },
    "2569032d407348dc82150cabdbdee410": {
     "views": []
    },
    "25bd2ab1ee844c6b88271d80013de4d7": {
     "views": []
    },
    "25e354ac79994bcd9597d0c9d2c14186": {
     "views": []
    },
    "2633b6ca280c410bb5f2f444fee64dda": {
     "views": []
    },
    "26c38024d6ef4ab88c4f0df5073f3a14": {
     "views": []
    },
    "26fc97ed908347bc91f6d71ec505449f": {
     "views": []
    },
    "275813a4140f49f1be90d1c74165b31a": {
     "views": []
    },
    "27a8676e2b6e4a2e855b5d51dc3e6687": {
     "views": []
    },
    "27d7dbbda66543818c966382b961d549": {
     "views": []
    },
    "27e02383a18243a685279601690aedb2": {
     "views": []
    },
    "282d8881604a4c2d902e3bf56d5b28f5": {
     "views": []
    },
    "293d7f4206a74db195131373ec4f315d": {
     "views": []
    },
    "29ae8b0208f64715b015689daa537a0c": {
     "views": []
    },
    "29d09302ef494db3989178b708b6f1fc": {
     "views": []
    },
    "2a531c702b50488eb31cd1a754d9e7a4": {
     "views": []
    },
    "2a74f15a71c34883834bd6c9c4368933": {
     "views": []
    },
    "2ab46010eba74cf28e1d8d7c4457836d": {
     "views": []
    },
    "2aba731b8e9d4f85b06bfdd6c5a2f4ff": {
     "views": []
    },
    "2af6211e1a194a4c87aa97198a1852eb": {
     "views": []
    },
    "2b1601545f3b4535b44dfe4165b27ed5": {
     "views": []
    },
    "2b2e1fcbb89f479f98244157847318b4": {
     "views": []
    },
    "2b5e07c58f5b404ca4b36407ad5ddfd3": {
     "views": []
    },
    "2b6d7c51c48c43d2bf5f765523a8c908": {
     "views": []
    },
    "2b7de95b54954d12b5f77c0759ccc203": {
     "views": []
    },
    "2c67b82c842e4e5b8bab9c463b7bcd69": {
     "views": []
    },
    "2c8577b49bed4658bc8f143ed092cb34": {
     "views": []
    },
    "2c896ab16ef140a580da85826043961b": {
     "views": []
    },
    "2d59675011e946dc86c43086c9d97d41": {
     "views": []
    },
    "2d6f990966b04be2a67d8c73f585592c": {
     "views": []
    },
    "2d6fe93c8e2b47ebbe8226e0f5aa0250": {
     "views": []
    },
    "2d922beb709c49d1ac938818d056b9d8": {
     "views": []
    },
    "2e064315513941658da4e56ac5a109e9": {
     "views": []
    },
    "2e59f34bfbf34ec2a6dba6bfdd5928ac": {
     "views": []
    },
    "2e60b7daa7b44472bb5a424f5fb8bd96": {
     "views": []
    },
    "2ea0bae403714ca0bf31ad0eddcc0f58": {
     "views": []
    },
    "2efa9b1340154f1ca83b108726b57d63": {
     "views": []
    },
    "2f2f81fc6b0a427dbbaf3f9153334bea": {
     "views": []
    },
    "2f59936c46ca45329b13dec56c801d5a": {
     "views": []
    },
    "2fca2738557646448f3a46b1bd285bb7": {
     "views": []
    },
    "2fd2d3f35f974feb9e31fd17241a3fce": {
     "views": []
    },
    "2fdba101ad7941fa82531fe15868f69d": {
     "views": []
    },
    "3039f6500d9b43c69a687465dff3731d": {
     "views": []
    },
    "3093bfd4284648dd9d656fde8cb7171f": {
     "views": []
    },
    "30c5e16f986e475784251e1e61de0b5f": {
     "views": []
    },
    "310bb6dde6e64e7aba5cc7dcc1dbc7d2": {
     "views": []
    },
    "310f7c10ad694289bc615302557f3d79": {
     "views": []
    },
    "317522a7083d4673acec7e61fae1e653": {
     "views": []
    },
    "31891229ba46403196d826cdca557f86": {
     "views": []
    },
    "3195dd1db13841789043a557e5abc3bd": {
     "views": []
    },
    "31a0b172970a48dca624126768cec069": {
     "views": []
    },
    "31d3692b601f4fc5a41af4b51a6ac0c3": {
     "views": []
    },
    "31e4575aa8444f19bae6a32eca68cd4c": {
     "views": []
    },
    "3249ff8e566743789d5d50306d9e8cec": {
     "views": []
    },
    "32ba886097cb4b6fa944055fece54cd7": {
     "views": []
    },
    "32bd7d1cf0564478aea3373e224fdc91": {
     "views": []
    },
    "32eb4a4f93a242e98d52cb9cd922f5a0": {
     "views": []
    },
    "334cde55db274ab9a72ca7ea7d2d488e": {
     "views": []
    },
    "33eca8a628054813a26981df9ff00669": {
     "views": []
    },
    "34532735f75544a8b9512098f44f5e7b": {
     "views": []
    },
    "345763cc7b504ddfb7197e1c24362511": {
     "views": [
      {
       "cell_index": 30
      }
     ]
    },
    "347d9ed960754186ad1dc55db4c792b5": {
     "views": []
    },
    "348a2ea9ca0e4279a7445384c93850ff": {
     "views": []
    },
    "34a47c8080af43c6947665671fd968f0": {
     "views": []
    },
    "34afdd1f6281416ea63d4d6309da5ab9": {
     "views": [
      {
       "cell_index": 31
      }
     ]
    },
    "34eb46f680bb4db286cfe36e7a363f44": {
     "views": []
    },
    "3575cfadce4a4cf1be3ea1d42df6713a": {
     "views": []
    },
    "359ce51e1a5d47fcb88640baaf67de3c": {
     "views": []
    },
    "35a0a05ed6d64a2ca1417b10bca22c63": {
     "views": []
    },
    "360b843f79d74c0999e0fa3ee59142eb": {
     "views": []
    },
    "365c427671a049d7b2cf095235770440": {
     "views": []
    },
    "365eef246884488fb435eb210e25d1a0": {
     "views": []
    },
    "36878817e06c4506981a0d24105e8f7f": {
     "views": []
    },
    "36af41dafd214f618a2102abde6823ed": {
     "views": [
      {
       "cell_index": 30
      }
     ]
    },
    "36b48f63b76a42bdbef8aafa0328512e": {
     "views": []
    },
    "36d7c226474040d7aba179b33ecc4132": {
     "views": []
    },
    "36e34e507d03463f91cfcb39c87e305e": {
     "views": []
    },
    "36fecee9b42e46618b028e2bd617b63c": {
     "views": []
    },
    "3716acb3f1704090a4ba6c652388a455": {
     "views": []
    },
    "37690c7c51b44ae7a9641bdcb093c8d3": {
     "views": []
    },
    "379e7d8d67bb46b0a790075af4806785": {
     "views": []
    },
    "37a632fd6056445bbd821507b1940e9e": {
     "views": []
    },
    "37d05f0d3df24838bed11559d12a5743": {
     "views": []
    },
    "37dd012eba434f86aea991aa40feb1d2": {
     "views": []
    },
    "390e8bee66f547e0ac2c7e731f3085be": {
     "views": []
    },
    "39517d15f48d4e55a0cda50131f11fbf": {
     "views": []
    },
    "3958fca211ae4aedad9b454f58712ed1": {
     "views": []
    },
    "398caeeaec3d4df5a2c776b5aa883806": {
     "views": []
    },
    "399ea66c0c9d4ffeb9c503bc4d71573b": {
     "views": []
    },
    "39c13758a983497fa6f7b354203c0564": {
     "views": []
    },
    "3a0f3ad59cca4714b0df8bf260ed4ac1": {
     "views": []
    },
    "3a717921139b49eda44f3b7e5f3e3c3e": {
     "views": []
    },
    "3a8d2812fcae40f2bf733d3c7a2197c4": {
     "views": []
    },
    "3a9bf674f21e4fed9b06cf4606d44194": {
     "views": []
    },
    "3aa62e103aaa4a1a8b95419b8c526761": {
     "views": []
    },
    "3ac149c65cd445248f3ad99486f018ee": {
     "views": []
    },
    "3adca71bdefc4234ae793fab0c981ff4": {
     "views": []
    },
    "3af294afe8bf42028724bcb056893953": {
     "views": []
    },
    "3b2c0598f4bb4d50ab7e05f0c68b42d5": {
     "views": []
    },
    "3b396b85336a427597764addf8d2be15": {
     "views": []
    },
    "3b7fa7aa3ef440f8888364c2c6538195": {
     "views": []
    },
    "3be8db5a45bb44678517acc0e40f02bb": {
     "views": []
    },
    "3c27e4f0c0f34efd8f3fc1a541dc0249": {
     "views": []
    },
    "3c2e3e1f5463434b83ca95be57c04472": {
     "views": []
    },
    "3c50897d0db945a79f968df363631cf2": {
     "views": []
    },
    "3cb9524b790d4f29b4cd86595c31051f": {
     "views": [
      {
       "cell_index": 30
      }
     ]
    },
    "3cdf65b2b1cc42359b9f2eadf49d420e": {
     "views": []
    },
    "3d002c935c1647a9af651083ab814ff6": {
     "views": [
      {
       "cell_index": 30
      }
     ]
    },
    "3d2bcc3a796b4c27a8a5e5d65e883d41": {
     "views": []
    },
    "3d4ad03eb66b453891f79a1ec1d36bb0": {
     "views": []
    },
    "3daaabe9b53c4ab3abb2c4af2cd38ae8": {
     "views": []
    },
    "3dfb6a923e424ed4bf2e5478deff7116": {
     "views": []
    },
    "3e1a319009854a8fa9179951559c1323": {
     "views": []
    },
    "3e753759e7454c3b97e748833d421bae": {
     "views": [
      {
       "cell_index": 30
      }
     ]
    },
    "3e7bdd7187c64c03909c16d8c498a8e8": {
     "views": []
    },
    "3eb7a5ffeb0640b087dc7f744c2033aa": {
     "views": []
    },
    "3ef2a18d81f84d18bcc0cd3828d30aaa": {
     "views": []
    },
    "3f50a7065b01419080bdefd5ee3e1d34": {
     "views": [
      {
       "cell_index": 30
      }
     ]
    },
    "3f7fa85427db48ca83b8d7fb775ea255": {
     "views": []
    },
    "3f8cc372849b4b3aa78f09e53a5c90f8": {
     "views": []
    },
    "3fbc1dddd492425b8b1b4947fad194e3": {
     "views": []
    },
    "3fc860f2cd0144629062ff7de542b8dc": {
     "views": []
    },
    "3fd2ed3fcfd14a4f84981d9dfb7e0d9b": {
     "views": []
    },
    "4008b290b73c4ad49933359bfbae5696": {
     "views": []
    },
    "40117a15148b4ea0adbc84d0dc7a1c52": {
     "views": []
    },
    "4018680f4e004eeeae950210e4737f35": {
     "views": []
    },
    "4022e415ff0648d8abb85e7c5e0cce0a": {
     "views": []
    },
    "40431b519afa49f5962d360273a83675": {
     "views": []
    },
    "405802af3be842049b597f2e201546cc": {
     "views": []
    },
    "408c58bc5c014f23baf346b909e9e03d": {
     "views": []
    },
    "409e912ed62b4f53bf12d94b0ed4f222": {
     "views": []
    },
    "409f805f074a4c019486c8ba564832e4": {
     "views": []
    },
    "40bc4e1c8523412190ac54ff67e7bf8b": {
     "views": []
    },
    "40c1fa763e6649958891dea4960f993e": {
     "views": []
    },
    "40c75553d1fb4201b4171154364b3dd7": {
     "views": []
    },
    "40d5e6289995463980cc26a762980046": {
     "views": []
    },
    "4123dffc1bfa4e32aa6e1d8694963e86": {
     "views": []
    },
    "41249f09f2cd42d0925d1f0c22285e73": {
     "views": [
      {
       "cell_index": 31
      }
     ]
    },
    "419d43b13f0549728d80c923a44a7733": {
     "views": []
    },
    "41a0f600220c46d982e0cda550fffee4": {
     "views": []
    },
    "41a32b2f211d478b9932d5c9d5fbafef": {
     "views": []
    },
    "421a6802320a4910830d6bcd0fca217f": {
     "views": []
    },
    "422bf220661341fea5330da2a3d31df6": {
     "views": []
    },
    "42aff0e79e774a83ae6a57cd4e4a79fe": {
     "views": []
    },
    "42c81a423e83447c8797b4d4d5fc068f": {
     "views": []
    },
    "4305a89bfbcd4787a04b5277853b79eb": {
     "views": []
    },
    "434002cc0c3d48b3abf8eb8073046784": {
     "views": []
    },
    "434b13b167714e8f9675164ba4ab0384": {
     "views": []
    },
    "43f8d930e5e64598ba922e8072455fa3": {
     "views": [
      {
       "cell_index": 30
      }
     ]
    },
    "44095acae06948a9afc72baf58ee00ec": {
     "views": []
    },
    "4410f3415aa3445dbc053e7877aa0ac8": {
     "views": []
    },
    "4478393d014440a4ba8100f760a485ee": {
     "views": []
    },
    "44e7236cdbe9422eb4477d9cd7c58c9c": {
     "views": []
    },
    "4531981cb02f4884b089288794e41803": {
     "views": []
    },
    "45748f07a4d5465897b77b52e2465007": {
     "views": []
    },
    "45d1a0407c0d49a59ef1142375a3ec8f": {
     "views": [
      {
       "cell_index": 30
      }
     ]
    },
    "45de5ee09fe54de687d5fe3ca6a46d93": {
     "views": []
    },
    "4717993590f44aada5d6f17264661352": {
     "views": []
    },
    "479708c3de934e6b92ac8dba9704745d": {
     "views": []
    },
    "47995d43a74148b38a2cde3648c9cb09": {
     "views": []
    },
    "47bfd4ee974c4f2e9b3f37fd61aa4fdb": {
     "views": []
    },
    "47ccf28dfd754be99b9e8c9118e812b4": {
     "views": []
    },
    "480a6b81ad664fd3afd35530f7141ad3": {
     "views": []
    },
    "4853dd4e469f45eca0d2cd176d07876d": {
     "views": []
    },
    "488f3bf0c3db439399e140cd1b983247": {
     "views": []
    },
    "48caef7e73144a0582a52bc2e22f1837": {
     "views": [
      {
       "cell_index": 30
      }
     ]
    },
    "48d0a4807cf44a0e8593827ed0373511": {
     "views": [
      {
       "cell_index": 30
      }
     ]
    },
    "492d2abccf0748b38fd5db6506cd368a": {
     "views": []
    },
    "493139cea5be49aaaa3f49891b7d1edc": {
     "views": []
    },
    "4952f2181bf34188bda6444865ba4fb0": {
     "views": []
    },
    "49784b23bddb4fb39b583d4c3818f698": {
     "views": []
    },
    "49a861a46d42446b8e6e9b2a91e56a85": {
     "views": []
    },
    "49d9fe4a17244a9abd74894603edf2bd": {
     "views": []
    },
    "4a3feb342b9d4ffca19c552ac4946642": {
     "views": []
    },
    "4a48d61079ca402a8e34d8f72f45047e": {
     "views": []
    },
    "4a8857b410f04911be96e2f3fc61bba7": {
     "views": []
    },
    "4aa183cfceeb42798a0c0933066507fb": {
     "views": []
    },
    "4acb9937a72341d0b130ddcd06afffcc": {
     "views": []
    },
    "4af5f8c049ca4b0d96da25cdbefa804d": {
     "views": []
    },
    "4b09824f586d48eebcd0bc385bf21820": {
     "views": []
    },
    "4b9fb26525bf4d68877c17562c7b40e6": {
     "views": []
    },
    "4bab02cfb00c4dfdb1f8a8d4b43ea95d": {
     "views": []
    },
    "4bf934556ab441209bfdebd15c4a0c20": {
     "views": []
    },
    "4c0c9746eb0d448f851d88e05ee20cfa": {
     "views": []
    },
    "4c1434a2edbf43818fa652964fc3afa1": {
     "views": []
    },
    "4c17118e645e43d691705b1e51e57af2": {
     "views": []
    },
    "4c3030d96a4e4cf7aa770b17b3304cd1": {
     "views": []
    },
    "4c780082f7fa42e7b1ef7fa976fafb4c": {
     "views": []
    },
    "4c91b6d1e60f415baed9f6a62c46d213": {
     "views": []
    },
    "4d063cf32d16414895d06e948d453d08": {
     "views": []
    },
    "4d3ebc7e6f1c4a48a2db7871024a5756": {
     "views": []
    },
    "4d4ac0cbf659410a80bd314b3cb044c9": {
     "views": []
    },
    "4d4b972b05c84e38b03b746f4793cbdf": {
     "views": []
    },
    "4d5c5fa884874470b47e7be7b70185a2": {
     "views": []
    },
    "4dc66ba99a1346a4bde29f4c8053f968": {
     "views": []
    },
    "4dd39260dfa944228ba57dde53eb8c28": {
     "views": []
    },
    "4dd931be558a4c158d79be50ad382fa9": {
     "views": []
    },
    "4e172f1cc6b0470780fa120df98f4b00": {
     "views": []
    },
    "4e52f22a51c646269d2e0790e3e82fd2": {
     "views": []
    },
    "4e5c26a20b17453782ead4b8f3f462d9": {
     "views": [
      {
       "cell_index": 30
      }
     ]
    },
    "4ea2cabf34cc43878cafb283c0208ced": {
     "views": []
    },
    "4f01357869af4a8e9cbf764f5cc65783": {
     "views": []
    },
    "4f11275f97d54cf8801a7ca74ec3f14d": {
     "views": []
    },
    "4f2094bb5504478192ef12b917b3d31b": {
     "views": []
    },
    "4f34b3664ed64dc7bf805b14c3d4503e": {
     "views": []
    },
    "4f636f4ca09045eea344d00b098e77b7": {
     "views": []
    },
    "4fd1c602947846979f253564d4697fee": {
     "views": []
    },
    "4fd2a4109eb24ab4aa10e4ac717ec3b2": {
     "views": []
    },
    "4fd7b5f074074f3a94e7e5463babd25f": {
     "views": []
    },
    "4fd8bdad777a45c5a3c6762b8d1ddf8f": {
     "views": []
    },
    "505412bf445640ee8c0f6ca4c2327a4d": {
     "views": []
    },
    "507c5352b9f44dc1954155e865bbb631": {
     "views": []
    },
    "5085808f3b6846579612863d3c466d5e": {
     "views": []
    },
    "50b1b212a2124618b3545a3ccbcf25c3": {
     "views": []
    },
    "50bb1a87e90844bdaf0e81637e4280d9": {
     "views": []
    },
    "50e8e99792984e229f697184dbe55af4": {
     "views": []
    },
    "515f26461272492f88dd456e35463f5d": {
     "views": [
      {
       "cell_index": 30
      }
     ]
    },
    "518a3289860c4c12bdc2f04de050fc63": {
     "views": []
    },
    "51a7f321d1504cca8a006d02723bf145": {
     "views": [
      {
       "cell_index": 31
      }
     ]
    },
    "51b3aa536f7849c7a400253eec49f377": {
     "views": []
    },
    "52093b983cc1489f82f95d73a7b2287a": {
     "views": []
    },
    "5225a4acd8084ef48ca03c5a21fefdc9": {
     "views": [
      {
       "cell_index": 30
      }
     ]
    },
    "52314be974664ef698ddb2b077e3a6c0": {
     "views": []
    },
    "525cac8ae046484790250058e1d431cc": {
     "views": [
      {
       "cell_index": 30
      }
     ]
    },
    "525f19e3531e476d863140e19e9ae5f0": {
     "views": []
    },
    "526814929ddf4399a78057c6350a6cc4": {
     "views": []
    },
    "529843b3e1544668800fa9d0d9e2914f": {
     "views": []
    },
    "52dab8a85aa24c0e94982be20879e2f5": {
     "views": []
    },
    "52f4ff92552e436690cfc12d06a5e5e8": {
     "views": []
    },
    "5339f14f76f2495fa4379ad12e38f7a9": {
     "views": []
    },
    "53495f953f024e5eb3b527b2fae2de14": {
     "views": []
    },
    "534b07610f5c40a5990360783dc9b753": {
     "views": []
    },
    "537586ae79264cedb5efaf00c24af234": {
     "views": []
    },
    "537e48a7d56a41158c48bbe702ff737e": {
     "views": []
    },
    "53b899ae64644db2947ea439e853b085": {
     "views": []
    },
    "53c0c3c651bb4171985be2da4ceee3b7": {
     "views": []
    },
    "53d19cf1363b467497efdf4a00a11268": {
     "views": [
      {
       "cell_index": 30
      }
     ]
    },
    "53e763430f2a44e79fbf3690ff876c3e": {
     "views": []
    },
    "542b0dbd04f34fc58c9f885b677291e2": {
     "views": []
    },
    "54307113aaed4fae81d9427490ccbb0b": {
     "views": []
    },
    "543c39b5a4b740d085e4720cd867d7f8": {
     "views": []
    },
    "547e6cda86254047b99590fb7eefb05b": {
     "views": []
    },
    "54c9f14cdf2040a4a0c7aef8786e56b1": {
     "views": []
    },
    "54d819d985cb40ef9e4700b989c3909d": {
     "views": []
    },
    "55111435b5b9462f8e795a9c2ac268a3": {
     "views": [
      {
       "cell_index": 30
      }
     ]
    },
    "55267c76ceef47389f612e07881bb430": {
     "views": []
    },
    "553e7bd356f34db6b2c25339fee2a0e3": {
     "views": []
    },
    "5562958207e448dca795b37652f42801": {
     "views": []
    },
    "55a5465923fa4c179a956e7a1638dd32": {
     "views": []
    },
    "55b83de6ce674bdc90643bdc66dd2c5f": {
     "views": []
    },
    "577410307322484d9c4b0993329ba5d2": {
     "views": []
    },
    "57cfb3ed7cb24f2c9fa397f50c075a26": {
     "views": []
    },
    "57e9ca71e5844c57a265b9ae07df9813": {
     "views": []
    },
    "58526a845cde4f7180358fa1570e7cf6": {
     "views": []
    },
    "5853652eb18d4a30a4bf98ae7d54e893": {
     "views": []
    },
    "586bd927429644a0904625c7d8b2dca4": {
     "views": []
    },
    "58b587b595e24d2595ed352df38ad57d": {
     "views": []
    },
    "58c6fa0b9c194daba9964fb693a57544": {
     "views": []
    },
    "58f62f8c2b424b5c8228227d7d92fd4e": {
     "views": [
      {
       "cell_index": 30
      }
     ]
    },
    "59132eafb43947c4b1bc7be145a2db2e": {
     "views": []
    },
    "592cfc9168f647b28b3e587298ff0bd1": {
     "views": [
      {
       "cell_index": 30
      }
     ]
    },
    "5937d8b200f342e8a9afcdb36646c78e": {
     "views": []
    },
    "596dd0a358b843589d60b7f55da7c45e": {
     "views": []
    },
    "59b8ac0ef517433e9fd8f9e05ac04d8e": {
     "views": []
    },
    "59ddcc6b5ae7409a80d00f2490ce5a22": {
     "views": []
    },
    "5a20f9958a3a4feaa2a8acf1fcdf3a6e": {
     "views": []
    },
    "5a6d4f55a6fc4c60a1865ba507529433": {
     "views": []
    },
    "5a7ff9008b01422885d111c01ef095ac": {
     "views": [
      {
       "cell_index": 30
      }
     ]
    },
    "5b0feb609e364300a30790eb40862c20": {
     "views": []
    },
    "5b23fe64b3444a5a8c2c36d0200f96c9": {
     "views": []
    },
    "5b567e534b8c493e8a6682c69760e020": {
     "views": []
    },
    "5b658792fe2d4dff9f8018a866914f88": {
     "views": [
      {
       "cell_index": 31
      }
     ]
    },
    "5b832a42d0b9409c99cb65e2f6f6d8fe": {
     "views": []
    },
    "5ba8065d81f24b84ad0f739e1cac2550": {
     "views": []
    },
    "5bef6c2f17e449f0b22876b708cd0242": {
     "views": []
    },
    "5c016ea48eb04e9997757d418b90b49c": {
     "views": []
    },
    "5c2175e08afc459da39ff67471984be4": {
     "views": []
    },
    "5c427d348c3b4616ab81c41726bdd33e": {
     "views": []
    },
    "5c44ffddd8924234844c600a986a1f3c": {
     "views": []
    },
    "5c8e427454a94a8aba3abe0a5463df13": {
     "views": [
      {
       "cell_index": 30
      }
     ]
    },
    "5ceff09491134b078c6b8ca9087c32f8": {
     "views": []
    },
    "5d01024db3944b5d8cdb49b893ec4e3e": {
     "views": []
    },
    "5d09446f6a66413ea0175e267842fa12": {
     "views": []
    },
    "5d6c12112ece4af089b6e390b3e84162": {
     "views": []
    },
    "5d9a86fa4a98434d955bc2645c75ff3c": {
     "views": []
    },
    "5da61fc4528343afa72da970658d0e2a": {
     "views": []
    },
    "5db1a28986914c2fb4cdc1aac3b8f5d9": {
     "views": []
    },
    "5db1b2519db345869e388a92c8ea1b43": {
     "views": [
      {
       "cell_index": 30
      }
     ]
    },
    "5dd7294ceb084c25bbf0c7f72a75af51": {
     "views": []
    },
    "5e18a1ff11934e5092e7c48b3303d8f8": {
     "views": []
    },
    "5e2d016091844f5a9bf5038a821aa0df": {
     "views": []
    },
    "5e6e429736a04fc0aa33bf9bb51a79f3": {
     "views": []
    },
    "5e89691248094feb92c97e25a5711fc9": {
     "views": []
    },
    "5eb1a10b5a944817aa12ffee13c7cbd7": {
     "views": []
    },
    "5eb4e9138e564567bb73581c69a1dd12": {
     "views": []
    },
    "5ef033a4387c460897d4c818ef9860fd": {
     "views": []
    },
    "5f3e4dcd35da407d96f684e64cb54f91": {
     "views": []
    },
    "5fc7fa63f6b34264a70de6cac8fb6e4d": {
     "views": []
    },
    "60515edfccc447cebe8378506bd83379": {
     "views": []
    },
    "60d135f6da0746218fd82730fae876da": {
     "views": []
    },
    "610f493a3fa044ccaafc7af87ef781a4": {
     "views": []
    },
    "612c57c613cf41f28818ff9e70e95ace": {
     "views": []
    },
    "61a487cc1f90470f9e63b4fddd292df4": {
     "views": []
    },
    "61e7a4ccba0941818203b42c94431973": {
     "views": []
    },
    "623a694fba2b479bb8e50ae4708e0383": {
     "views": []
    },
    "626218276cf0431ba965058ca17b04b6": {
     "views": []
    },
    "626248e1f1004789b95ff0320f557e4c": {
     "views": []
    },
    "626964ef4161485f85c81b88ef9ea841": {
     "views": []
    },
    "627b91dfceba46faad9d4cbf8d2294a5": {
     "views": []
    },
    "6291cb2622c544e5b133efc0902bd298": {
     "views": []
    },
    "62991987d4dc4690b27c12627d0b9da7": {
     "views": [
      {
       "cell_index": 31
      }
     ]
    },
    "62b13db7837c42b6b978f49257add3b9": {
     "views": []
    },
    "62d2eaac60b6434d89c09f7e7c303613": {
     "views": []
    },
    "62f2522befc54ab88c7e182171016232": {
     "views": []
    },
    "6302d9b852d545ca80ac161fb9fdec54": {
     "views": []
    },
    "63141966e34e4ff9879ba8dcfd9e9902": {
     "views": []
    },
    "6352ecc74a474737b450d7f6b01135a6": {
     "views": []
    },
    "635303a3d11a4739897886e9bdc54bc7": {
     "views": []
    },
    "635e8175316e4c59849ca939a587839a": {
     "views": []
    },
    "636540895ede4841b33deb53dcb28b80": {
     "views": []
    },
    "637d989618f64f489913cb6511b65dbe": {
     "views": []
    },
    "63d68c5374ba44cabc1130c4f3ff5030": {
     "views": [
      {
       "cell_index": 30
      }
     ]
    },
    "63ec5b6e04344b54a06f88ab2b705673": {
     "views": []
    },
    "63f2f2919a954699a1cd481215440544": {
     "views": []
    },
    "642b45d5413a4cc785aed2a32881f6b2": {
     "views": []
    },
    "64335a556b644c8a8df98bec5301fce9": {
     "views": []
    },
    "643f4e507fc64b4e87bb6970b2bf50cc": {
     "views": [
      {
       "cell_index": 30
      }
     ]
    },
    "6446930dfc9744cf93e89a1094c97d81": {
     "views": [
      {
       "cell_index": 30
      }
     ]
    },
    "6491c9d23cbb4e58aca9bf2e27648cf6": {
     "views": []
    },
    "6540dd514f694fbaaf50a1649d332329": {
     "views": []
    },
    "65565afebcd5419b83df33046a158605": {
     "views": []
    },
    "65788ab7083b4e3ba80be334ca806244": {
     "views": []
    },
    "65a7b148bfce409fa8945e5155b1d30a": {
     "views": []
    },
    "65a8a965b6a04f239dfa28065bb5983a": {
     "views": []
    },
    "65cb0bd7b5de49f295f5622719c75709": {
     "views": []
    },
    "663f8fce4680425594dd1e1abd28bae8": {
     "views": []
    },
    "667f2fdbf51a4b50bc940f7a819012f5": {
     "views": [
      {
       "cell_index": 31
      }
     ]
    },
    "66a3d618bc7d49db97c9a6d7dc7e9dfd": {
     "views": []
    },
    "66b2b9e8bb9f45d5873e06743a6001b0": {
     "views": []
    },
    "67015f0079bd4e6299b3a4236804788e": {
     "views": []
    },
    "67257a4174c14abba58597e20b6f6327": {
     "views": []
    },
    "67879751ebd047b483a0ab6747121e3d": {
     "views": []
    },
    "67c4091a2ad54eb3911bc89a62d58011": {
     "views": []
    },
    "67f13d19bc444cd98fee889e3d85d214": {
     "views": []
    },
    "681d28566c754da1968c83c813226420": {
     "views": []
    },
    "68236593508e4c4da4f737dd029967eb": {
     "views": []
    },
    "683f1d360ac34b0dbda0ee4366c2956b": {
     "views": []
    },
    "68883120975145dab9a45b75e06a874a": {
     "views": []
    },
    "68a4496324ab44f4bbcc26e2733fff14": {
     "views": []
    },
    "68fd1b8b90054560ba2f17e8a4bbe700": {
     "views": []
    },
    "6904a8affbd1458a8fe4e839c7269643": {
     "views": [
      {
       "cell_index": 30
      }
     ]
    },
    "691c299627f940cf82b4d3df4f8475a8": {
     "views": []
    },
    "692d3eef8626482f9b7b2b1bb834a691": {
     "views": []
    },
    "692ffebaeee24588b9e76154f407ac47": {
     "views": []
    },
    "69ec276c054943b6ac249289d27ae478": {
     "views": []
    },
    "6a10733f487c4ea8b015c00519be88ba": {
     "views": []
    },
    "6a500ad86f8e464d848850ec5ba6c7d1": {
     "views": []
    },
    "6a836fe30ef045ebaec3d4de48b7636a": {
     "views": []
    },
    "6a88d508e8074a29a109c3644e0c054a": {
     "views": []
    },
    "6b38d9229a9248b981f7204baf539686": {
     "views": []
    },
    "6bae8c5edd7142c1b908a8500c976a36": {
     "views": []
    },
    "6be156688c8e43cd9e10ccde0303ce29": {
     "views": []
    },
    "6c0c3095d5b04cb2b441aee2ca18387d": {
     "views": []
    },
    "6c0e77be0911409388b471d19d54d0ed": {
     "views": []
    },
    "6c953a66196b4ac1ab6d0ae7ff8f84d0": {
     "views": []
    },
    "6c9ff5f045364fa0b20051189d393add": {
     "views": []
    },
    "6cd8bff561fb4404868731fd8d05c6ba": {
     "views": [
      {
       "cell_index": 30
      }
     ]
    },
    "6d153a54fd47451b91bdb8458ca2121c": {
     "views": []
    },
    "6d57b3fda6e6406480e7e6b69ff1dff3": {
     "views": []
    },
    "6d86c73fa6904d26877ec4eb36a48bc1": {
     "views": []
    },
    "6d8957d65f86412aa5755bcf4cec6ba8": {
     "views": [
      {
       "cell_index": 30
      }
     ]
    },
    "6d92fa88db07401c9e223d784abd9285": {
     "views": []
    },
    "6defdbf03d324ae08b248721c468abaf": {
     "views": []
    },
    "6dfdf51d92f84f28bb69cb35cea72dba": {
     "views": [
      {
       "cell_index": 30
      }
     ]
    },
    "6e04ffe5837145ab9f1a10140373cd3d": {
     "views": []
    },
    "6e56ddbe633f4825983b25d7e4e8ac5c": {
     "views": []
    },
    "6e72c96dfc4641e6b90ea5a71e4dcbe9": {
     "views": []
    },
    "6ef4c687fd6f4797951ec15d9b56481e": {
     "views": []
    },
    "6f08dfd7fbd14a0f8031aa2c9c4c376f": {
     "views": []
    },
    "6f208724c83246e88ca6ab5ca8883dce": {
     "views": []
    },
    "6f4be0b04cec4f829f2d67b40ad221df": {
     "views": []
    },
    "6f5a085ae08d43dca9083929569eb3a0": {
     "views": [
      {
       "cell_index": 30
      }
     ]
    },
    "7085fe64baee4e52a10baa13ffeadf9e": {
     "views": []
    },
    "715cbb5a98254c099398b8db1fb4c30a": {
     "views": []
    },
    "716975c090824bbc934feaff4e801355": {
     "views": []
    },
    "7179a10d7a324822b135966e3cd67464": {
     "views": []
    },
    "71c38ceaf5744d289dcc5738a00e8631": {
     "views": []
    },
    "71e089dc301b42739bc83a634132485c": {
     "views": []
    },
    "723117bc7ebd4a8fa142f2ecabef5683": {
     "views": []
    },
    "725e9d211a9d41e4ae8a52f4bb1a1126": {
     "views": []
    },
    "72a3c15af0ed48c2a59e8d4610906215": {
     "views": []
    },
    "72b200a4fa5d4a3192fa933d07a36789": {
     "views": []
    },
    "72bebe2ff7e0442db2460cc22f6400d4": {
     "views": [
      {
       "cell_index": 30
      }
     ]
    },
    "72ddc1792b5042b7896fa3d0f40a320b": {
     "views": []
    },
    "72f729381931462785e61d5fe5da46d8": {
     "views": []
    },
    "7344a8e05cc64887ab35b3681a08ea4b": {
     "views": []
    },
    "73794075fd174dd4a01f6141639a0c46": {
     "views": []
    },
    "73dd76f42a454aae8cc9f70091eabcb6": {
     "views": []
    },
    "741b7e9f126e401882606616dd98d8f3": {
     "views": []
    },
    "744ca40222364c188bb56ff2efc807d4": {
     "views": []
    },
    "7455478401764865810b8ca4ae47fb02": {
     "views": []
    },
    "7479e2d4e81d49e1b2097cd1ea86b328": {
     "views": []
    },
    "74813c1902fe4b2cbecc77d6cae77f8d": {
     "views": []
    },
    "74cb8b1efb8c4a788ec60cc3daf7b4a6": {
     "views": []
    },
    "74d28cc16b904f28b39a5f5bfb999155": {
     "views": []
    },
    "74def78bd5384da78ce0728f44128cbb": {
     "views": []
    },
    "74f1cfabd6d04e13968f64dc3c920f22": {
     "views": []
    },
    "74f21a0962724a6eb5757b067dbda337": {
     "views": []
    },
    "7513e825d4dc426a9a5a48df3dbc7c32": {
     "views": []
    },
    "75b683e7975d496c86df7c3999f633bb": {
     "views": []
    },
    "75ce962869ce42cf95a1fe2282c975ba": {
     "views": []
    },
    "75d0524ed25b41aab2ba00f949449076": {
     "views": []
    },
    "75f03c8f4db84ec290986b0c081194c6": {
     "views": []
    },
    "7609d766a95643a09f08e511a225de2e": {
     "views": []
    },
    "760a10751ace48d898ce74b1e30f1907": {
     "views": []
    },
    "766693286ddb47c69067c14635c8f10a": {
     "views": []
    },
    "767c6ba84b764be284da55734f0ad14b": {
     "views": []
    },
    "76c194333f0b404ab8477b4febb520ac": {
     "views": []
    },
    "76c2b85e55224b4abf5cfebac15edaec": {
     "views": []
    },
    "76ca10b03c59419dabff5760d556ca5c": {
     "views": []
    },
    "76f407a00f9c4945810e246c69d75f39": {
     "views": []
    },
    "77319d1c8f6d46ffae53deb17df35681": {
     "views": []
    },
    "777e6d250c4c48938c18c171d3ec73cc": {
     "views": []
    },
    "778ec767b90a4ae194e2b9d229352f18": {
     "views": []
    },
    "778f46b7d7d046c3b11444ca53b2d102": {
     "views": []
    },
    "77e5ed695b6f4a879ee9593bce07c120": {
     "views": [
      {
       "cell_index": 31
      }
     ]
    },
    "783048c77b0545c291681ea3a6a0ea67": {
     "views": []
    },
    "7867f474a0014998b604be48c523dfe9": {
     "views": [
      {
       "cell_index": 30
      }
     ]
    },
    "791fff9002bb41648e8b890ab4b76e93": {
     "views": []
    },
    "7923a4edd55c4840b57e0e5061ad7e1e": {
     "views": []
    },
    "79bd671db839454cbff2ae37aec0473e": {
     "views": []
    },
    "79ead768d91347beacb2c9a440349c07": {
     "views": []
    },
    "79f4adcdfa8f4f1fb443a0757679f30e": {
     "views": []
    },
    "79fae0520ea9457383d4917de97edac5": {
     "views": []
    },
    "7a20250fadc546f8bb75e7750bddcb17": {
     "views": []
    },
    "7a257c483eaa4b02a67dc5291944f49c": {
     "views": []
    },
    "7a6b91e0f3e641cea17d7a47a7ce265c": {
     "views": []
    },
    "7a83f69f267842beabc7d4a1653dc6b8": {
     "views": []
    },
    "7a86816aacac4ed0933a9b16ec87e39d": {
     "views": []
    },
    "7a8b16f70ce74d81bd4d69b47a460130": {
     "views": []
    },
    "7a958e5465ca431b95944bcdadfb9939": {
     "views": []
    },
    "7b42befd08fa43fe94c20a204c82e4c8": {
     "views": []
    },
    "7b9c04df4da045e4a990fa0e30716f4d": {
     "views": []
    },
    "7bb4e7f2783745ea8bdd908e7a0a8bb6": {
     "views": []
    },
    "7c148256adb54adf9c7dd6f7903d54ff": {
     "views": []
    },
    "7c392c2261b74e97bda7d4bfb9340a6c": {
     "views": []
    },
    "7c6e43b1ed024a63857d9d5e7442fe42": {
     "views": []
    },
    "7cfbaf8ce0f84b81a08f355348506c81": {
     "views": []
    },
    "7d075273d34947bdb8e4276517760ead": {
     "views": [
      {
       "cell_index": 30
      }
     ]
    },
    "7d331f1641ef4c7c9f1782999c7003e6": {
     "views": [
      {
       "cell_index": 30
      }
     ]
    },
    "7d3b9c97531f4962aad0082073d31ecc": {
     "views": [
      {
       "cell_index": 30
      }
     ]
    },
    "7db046fb29824d02ab3f17c0e4199f00": {
     "views": []
    },
    "7deca6521d534db991d99441847bfeff": {
     "views": []
    },
    "7e2e09b6f82d4ddd955d97bed79fc08c": {
     "views": []
    },
    "7e7a2d86866947c79e5dd0665f3af369": {
     "views": []
    },
    "7e871d7c35e44ff5968494843710fa6f": {
     "views": []
    },
    "7e9007550ec6448e92b112081bd4a5ca": {
     "views": []
    },
    "7ea6645ab5e645eeaeb971e157cbf1ae": {
     "views": []
    },
    "7ee68a77028e4a9eb520bb7da7783a7c": {
     "views": []
    },
    "7efbc64c55cb430a919950f144d2cb5f": {
     "views": []
    },
    "7f0f3acb59aa46f28c25d5825b7bce43": {
     "views": []
    },
    "7f1ce5f6c60c4a4ab29ad02ba78bdb5b": {
     "views": [
      {
       "cell_index": 30
      }
     ]
    },
    "7f1d040b83e64a0caaf2d6a5815e5b54": {
     "views": []
    },
    "7f1f64388ea94f939712a58d6c299e26": {
     "views": []
    },
    "7f3df956ac0748608c85d27700bf1266": {
     "views": []
    },
    "7f578e597f3d47678743423dee3eadc0": {
     "views": []
    },
    "7f7e240136194bebab3658ec266d213b": {
     "views": [
      {
       "cell_index": 30
      }
     ]
    },
    "7fa6150d64c2459dbe2e75e669cd5ee1": {
     "views": []
    },
    "7fdab4f33f734b87b9e28e2755f5015a": {
     "views": []
    },
    "804082e2c8f24f15951c7feebe023e41": {
     "views": []
    },
    "808b6fbdcdad4433ae0c4a95d84b0d6a": {
     "views": []
    },
    "810ea0872d954a5d81e8fe0510931627": {
     "views": []
    },
    "817aaee4c0654819bef3a50c9d33cb7f": {
     "views": []
    },
    "81bf20e1a646495aa4d180997e0784b5": {
     "views": []
    },
    "81c0b3d785d440b19cab8db83fae407f": {
     "views": []
    },
    "81df437e92dd4624bdf4f67fa153708e": {
     "views": []
    },
    "81e16c0825f843ec8a913b5418bd48b5": {
     "views": []
    },
    "81e729a244984f0e9a45b8811d743c7e": {
     "views": []
    },
    "82401d73fc7a484e815ea14d9b284a18": {
     "views": []
    },
    "82ac9030bdae4cfa9b9cc25ae951aab3": {
     "views": [
      {
       "cell_index": 30
      }
     ]
    },
    "82b09ab3cbdb4572b2e8e73620915c2c": {
     "views": []
    },
    "82ccf37fcd8d40179129d7d65c15caa5": {
     "views": []
    },
    "82fcf0a69f9640998ba7a187d15dcc1f": {
     "views": []
    },
    "8322cee44abe4918a9d4edddd278ec06": {
     "views": []
    },
    "837a0ffdec564e73b257af9ff7a9726c": {
     "views": []
    },
    "8425e21f7dc04e1d97c7ee8a6b08fb7f": {
     "views": [
      {
       "cell_index": 30
      }
     ]
    },
    "8496a36039804cd2a55757ad5fbcb9d3": {
     "views": []
    },
    "849d4d37fc7e4a77b52c52899ebdb858": {
     "views": []
    },
    "84b122793d294eaf806875111670c08a": {
     "views": []
    },
    "84bfe922397c4e1aadca49c2e0eefe5f": {
     "views": []
    },
    "84cdf59fa56d4f128075b3a1e2f67687": {
     "views": []
    },
    "84e4cafe478e4cfe8b764af62a5f8f3d": {
     "views": []
    },
    "84eaf79e363549a7a7bb5730715da5e9": {
     "views": []
    },
    "84eb0f239586475f9f084e3f6bbdeec3": {
     "views": []
    },
    "85048a9df5a24b23be066ef8084839d4": {
     "views": []
    },
    "85148b8689384c1897d8ba4eaf2006af": {
     "views": []
    },
    "854d6e84e2d34786880ad0d98a431c19": {
     "views": [
      {
       "cell_index": 30
      }
     ]
    },
    "85781938bd6a44aca5fed74a6804c612": {
     "views": []
    },
    "858ac9bdfae346fea88b9a4ccd49c6a1": {
     "views": []
    },
    "8651276387014fe390cbd5acf875ab62": {
     "views": []
    },
    "86c901dfc9924aecb2109812879b9065": {
     "views": []
    },
    "86dfdfdf81544f75bdf31441205746ac": {
     "views": []
    },
    "86e328e0a0104846a9ed75ab714fadbe": {
     "views": []
    },
    "874329f5c2d44bbab303dd46a4e7f052": {
     "views": []
    },
    "874de90e370e4cc29af6d7852c5a7a4f": {
     "views": [
      {
       "cell_index": 30
      }
     ]
    },
    "876feaf1ec34494e8eb69e3319011b44": {
     "views": []
    },
    "8794b398ef5b46dead431f3341175f34": {
     "views": []
    },
    "87b2a5da0f8e4985a129ac3c2efa6ab6": {
     "views": [
      {
       "cell_index": 30
      }
     ]
    },
    "87d312321547478bad7d9c098d54c2d7": {
     "views": []
    },
    "881978cc3c604ed9b405a2d17ffdac54": {
     "views": []
    },
    "88256dc5071c405a9559ea9e4c477322": {
     "views": []
    },
    "883fe1a1c20d4ff7a52c0386549562cc": {
     "views": []
    },
    "8864742868334c77b4d36138283c0259": {
     "views": []
    },
    "887e1b004947439d8d080a944bbc9947": {
     "views": [
      {
       "cell_index": 30
      }
     ]
    },
    "8889d623363243398cd87db300ac106a": {
     "views": []
    },
    "88ae9c92643c4e5b836c0590849f15a2": {
     "views": [
      {
       "cell_index": 31
      }
     ]
    },
    "8969bc6483af4d0c9abb83eefd774845": {
     "views": []
    },
    "8975ac2f10ab4a68bfaae811c02142cc": {
     "views": []
    },
    "898e0366f65140848301cdc6b951c742": {
     "views": [
      {
       "cell_index": 30
      }
     ]
    },
    "89f18b1ef54b4c24aa87516fe599998d": {
     "views": [
      {
       "cell_index": 30
      }
     ]
    },
    "8a164693399645968681c546ac1ed1d3": {
     "views": []
    },
    "8a180e92f2a949bebeadcf76064ef3d0": {
     "views": []
    },
    "8a1d42515915480a87cfbf7721af593d": {
     "views": []
    },
    "8a48a4faa5744534a2899d5b75e59460": {
     "views": []
    },
    "8acdbaf7f61a46dfbe407828329ea1a2": {
     "views": []
    },
    "8afa75cd6cfa410eacef58b2828b0eed": {
     "views": []
    },
    "8b1ea2e34d854a558d800f11c5914916": {
     "views": []
    },
    "8b367e50d16c4e52bf9563537572be32": {
     "views": []
    },
    "8b78f3f67b614d76b3feceb3639ae294": {
     "views": []
    },
    "8bc19e6bf0fe4f939af689a8305050c2": {
     "views": []
    },
    "8c039b02485d49119a77ffcd60c0d3dd": {
     "views": []
    },
    "8c08524b5ae64a60aea6003fbce3d302": {
     "views": []
    },
    "8c3c17e9f7b24ac8b5b834e03df4b708": {
     "views": []
    },
    "8c561d48e5aa4dcc8439a1d85ce4336f": {
     "views": []
    },
    "8c8031359c4b48f0b22a68fb2b07b7cd": {
     "views": [
      {
       "cell_index": 30
      }
     ]
    },
    "8c8becf9eae242bd94afe93bcc04c64b": {
     "views": []
    },
    "8c9a1d3dd0e54201be79fea4c65e5b84": {
     "views": []
    },
    "8cbab5b9ea954af088f545c62d7500a7": {
     "views": [
      {
       "cell_index": 30
      }
     ]
    },
    "8cc2a650cc4f40b9ab3c5a514e061c9a": {
     "views": []
    },
    "8ced47178a2c454da16bf9220b6c0ace": {
     "views": []
    },
    "8cef57e5b5d040ce928931a1668e4db0": {
     "views": []
    },
    "8d04f950eace48668cf5aaf98939e8ec": {
     "views": []
    },
    "8d0edd974f5e43538160eed920600013": {
     "views": []
    },
    "8d5761084b1946c896351b6e10070c9e": {
     "views": []
    },
    "8da32f1712444179bfadbec305f83499": {
     "views": []
    },
    "8e538dfdb9a940fda5b3984607e79f5e": {
     "views": []
    },
    "8f2fb4d099f84c0db5e1bd290adea007": {
     "views": []
    },
    "8f7d461e97a242f39c7501e2a1607a4d": {
     "views": []
    },
    "8f846a8963df4e9f91cd1677400dacaa": {
     "views": []
    },
    "8faa28f5743346df87b51c7f3af4ec8a": {
     "views": []
    },
    "8fc0cdd351e24320935ca87ce7b6a5a2": {
     "views": []
    },
    "8fcfaa2b2422487bb8b2966a1ec06e17": {
     "views": []
    },
    "900988dc291f4fe59f96dc5f5c9f8504": {
     "views": []
    },
    "9035c4df0b77436694ef406f0fa570da": {
     "views": []
    },
    "904e88d2cac6402299bd30879e4002e7": {
     "views": []
    },
    "9067c026d91c4628bb300d9419599a24": {
     "views": []
    },
    "9080a0ddb21a448f802d60735a280edb": {
     "views": []
    },
    "90939091f77d42e68c78f30e4daa98a7": {
     "views": []
    },
    "909f7d8c106e4062b5600b71b01b0c22": {
     "views": []
    },
    "90e535bc6d124592a543e68b0660e1b9": {
     "views": []
    },
    "911bd1b1134c4a5dad2a71f5f395109b": {
     "views": []
    },
    "916ecb4230f44818b343ba2257479320": {
     "views": []
    },
    "918c2f1af9bb4b80a121d444fb764c35": {
     "views": []
    },
    "91d53a3e45a4479487919e6bf2591665": {
     "views": [
      {
       "cell_index": 30
      }
     ]
    },
    "91fede103e474175bcb94c7f68989334": {
     "views": []
    },
    "925eaab5f1574b41b3da099ef8a10a92": {
     "views": []
    },
    "92665f8092f44d899361f22de4d62dad": {
     "views": []
    },
    "9282dcf1bc68482c859e804d760e5843": {
     "views": []
    },
    "92c6d83dbc9c4a9f8b0c91805b06d8c7": {
     "views": []
    },
    "92d14b0c2ba74f67ae298859be9e8c68": {
     "views": []
    },
    "92ecd37690f2402fa2c68a4f80b56739": {
     "views": []
    },
    "93344453654242568e45f1034a197761": {
     "views": []
    },
    "93481a8862ca4fd792d7b7395e48f625": {
     "views": []
    },
    "935f85329ff44fff9303ac38bb69d6d1": {
     "views": []
    },
    "93701c372c6d43f89e0659b64c19eae7": {
     "views": []
    },
    "93a83d5937f048b68f4d062e40073382": {
     "views": []
    },
    "93f453a967b046a58aead35a5a399c77": {
     "views": []
    },
    "940cd02a2e4b48b7a38a641bda2828cb": {
     "views": []
    },
    "94102cf2bd3a43a5ac562e82b99187a7": {
     "views": []
    },
    "941aea81d79f4a0eabb75d7a0dd9a416": {
     "views": []
    },
    "942a8a733ecf4e258e155927e5aaf341": {
     "views": []
    },
    "942e5da0116c4a899cb9a2360d8873d9": {
     "views": []
    },
    "942f30dfe7434739bfc43314dd9de1f9": {
     "views": []
    },
    "943ae49dda0247aabd7a5a1139998b85": {
     "views": []
    },
    "943de0c04f044135b5546dcba9406017": {
     "views": []
    },
    "94425636dd08407eb28fd2f3f2106573": {
     "views": []
    },
    "9447e623f8ae4ad594584a77edf09443": {
     "views": []
    },
    "9485b97fdb904fbdab9ed9d56b240789": {
     "views": []
    },
    "94e8129261234189a4775fa03c5d59f3": {
     "views": []
    },
    "94fc4fbf16ea4150a22cd28c206bf466": {
     "views": []
    },
    "9508f88f0c2a49b0bf8836417d510254": {
     "views": []
    },
    "956fee4ec3b54c498878f4703b36c52b": {
     "views": []
    },
    "957ccaa2d2b843a38476a87eddf22117": {
     "views": []
    },
    "95acc684c4c34f19b249e85f6c37f664": {
     "views": []
    },
    "95e9b5c38d094b0784dfd5c22550ee81": {
     "views": []
    },
    "95ee13969f5b436a8a5c961f8402d78f": {
     "views": []
    },
    "964fb4e39234447ab4a977a3dfe403fe": {
     "views": []
    },
    "968c636fef6d46cebc9afcf59836b79a": {
     "views": []
    },
    "96b762f864fe404eae5b8c0c37a4aa02": {
     "views": []
    },
    "9729c6ec0e1047d99b0529bad1719b1a": {
     "views": []
    },
    "97324a6688a84cfda8bf1f5422bdb379": {
     "views": []
    },
    "9777511f46e34497957bd183d6762741": {
     "views": []
    },
    "97a17546d63e4132b4497a5a980406e9": {
     "views": []
    },
    "97c98514aed3427ba11415fec100f65f": {
     "views": []
    },
    "9803711cfb1d455493c79e690c18f089": {
     "views": []
    },
    "98255d95d0174aefbac4e3c8e5a0d910": {
     "views": [
      {
       "cell_index": 30
      }
     ]
    },
    "986362fa655c43a0953e25a65c03394d": {
     "views": [
      {
       "cell_index": 31
      }
     ]
    },
    "9887861122174083927166acf936dfcc": {
     "views": []
    },
    "988c890b52cb49f59038bd47b562d91c": {
     "views": []
    },
    "98a69123f79540518cd2e1fe3122a121": {
     "views": []
    },
    "98c5d83792ea4a19ab771bd90de80ffc": {
     "views": []
    },
    "98eb44dbc10249f7b26b8c2af0e7b45a": {
     "views": []
    },
    "98f8d52e2214437aab262ecf893119e5": {
     "views": []
    },
    "99af146b9a8b42f182067bd22fbeca1b": {
     "views": []
    },
    "99e3c65de8344b9b8f2ca3d014928b54": {
     "views": []
    },
    "9a3799f3a860479b9e030a6d25655fd4": {
     "views": []
    },
    "9a4f8f7b79124f2ea3803c6a286d2d8f": {
     "views": []
    },
    "9a68a644e82245019e652a5f127d40df": {
     "views": []
    },
    "9a7e6813b6b44b67b5e719f84416d0a8": {
     "views": []
    },
    "9ba3d37a748b43f09e23d529a1281f14": {
     "views": []
    },
    "9c168a75e1d34dbf97f935c2c92fb13c": {
     "views": []
    },
    "9c2a00f46e694886987d2fbbfeef298d": {
     "views": []
    },
    "9c4b9305833d488cb21b11f748040a15": {
     "views": [
      {
       "cell_index": 30
      }
     ]
    },
    "9c9ac9405f4c43f7ae2452b56cf7e80e": {
     "views": []
    },
    "9d42fc1de5a547d18a71fae144dee0d0": {
     "views": []
    },
    "9d46109699024e459a9736cffa256fa6": {
     "views": [
      {
       "cell_index": 30
      }
     ]
    },
    "9dab98c0089048b1b4f23b88223eebcf": {
     "views": []
    },
    "9dbe7819c2b84a629adf0ecd6b4e9c5b": {
     "views": []
    },
    "9e3324515a524fbea690d4b15d102ab6": {
     "views": []
    },
    "9e440714f4e849658e087d05532245ad": {
     "views": []
    },
    "9e74e2cbd19b4859a85f2736331737c9": {
     "views": []
    },
    "9ef1c1a2afd44e4f84658e741b2fdb97": {
     "views": []
    },
    "9f4e14e71182443f9b48d15a1127aa92": {
     "views": []
    },
    "9f91c606169f4d589feca871d674b949": {
     "views": []
    },
    "9f9cfe8cc3184aea901821e548fc96de": {
     "views": []
    },
    "9f9dc1bb36754dc4860b68b95b9fba32": {
     "views": []
    },
    "9fa5086cbd2241368ba0d8876f3411ce": {
     "views": []
    },
    "a058a9cd4d8c42e282e7a7d73d2757bc": {
     "views": []
    },
    "a0aad0a914894809857a585dfd22697a": {
     "views": []
    },
    "a1960ba1807d4d20ab50e421b73fb987": {
     "views": []
    },
    "a1b00f1f5bb144bda9b48ffb80edf1c1": {
     "views": []
    },
    "a1b07737ffc3495b9ceee3ddc7b7a825": {
     "views": []
    },
    "a1e753aea40c4f5c99b8d4df8a182539": {
     "views": []
    },
    "a24bc39f4a5f4491afd001d7cad93bf4": {
     "views": []
    },
    "a26e10f4ceda4fef89317e635b9a503c": {
     "views": [
      {
       "cell_index": 31
      }
     ]
    },
    "a295e6c7c2874e6abd3be6fe8c94838d": {
     "views": []
    },
    "a29e13e8bb1a4583af573df9f891e9e5": {
     "views": []
    },
    "a2a3c3db51ea43a9b7a7456225b1b2f5": {
     "views": [
      {
       "cell_index": 30
      }
     ]
    },
    "a2dcd72c2eb64de1aee2f5cf1f83b243": {
     "views": []
    },
    "a2fd5808c7c445db90b84c2f296ab824": {
     "views": []
    },
    "a337a9ffa7de4bf298232888275605fc": {
     "views": []
    },
    "a3a1c20d58e1423682e9d516cd0c22b1": {
     "views": []
    },
    "a3aa106f27c449ff8045afafc0d5df68": {
     "views": []
    },
    "a3b81734d5894a2b8c06ec00d733a115": {
     "views": []
    },
    "a3eebaa06f984a58ba59e991b7d96b1e": {
     "views": []
    },
    "a410be0b61d24a48b0186d2afb29cada": {
     "views": []
    },
    "a42f3fdfa7f24a0eb857f3e8bf0a0d8b": {
     "views": []
    },
    "a449f587f4b145e998752c7fa6c4072b": {
     "views": []
    },
    "a4572f41ab984902b28c49518b3b8035": {
     "views": []
    },
    "a4b66e9c3cad48fba5e06d0ce0432d85": {
     "views": []
    },
    "a50c5bc322da4513876f71c096a06e57": {
     "views": []
    },
    "a50f915a5b5d427fa0185b044f5074fe": {
     "views": []
    },
    "a52b51177f6d4f32919f62656d6450c9": {
     "views": []
    },
    "a53aca1a43c34982ac2e83cbb825d5d6": {
     "views": []
    },
    "a53bf2fb5540458baf527452947bb42e": {
     "views": []
    },
    "a554783236f04b8c83a4c0fd31ae51a4": {
     "views": []
    },
    "a56ae6fbc0a04a7a8e68cd4797e43569": {
     "views": []
    },
    "a5a809e369444c44a4a8d9edb19d6177": {
     "views": []
    },
    "a5e76db3e7724f4e8767f3f6afe0ca89": {
     "views": []
    },
    "a5fe4ca28901445b9a31e788df240bc9": {
     "views": []
    },
    "a60eda911b5243e195b279a391eb5f7f": {
     "views": [
      {
       "cell_index": 30
      }
     ]
    },
    "a65efe9184614db9bfb2027b3db55525": {
     "views": []
    },
    "a698a02778f84c388e62944df7e09a08": {
     "views": []
    },
    "a6c11f53a4b6480a9fb04fb42c81814b": {
     "views": []
    },
    "a6d1d25da1374baab6218111675a88d3": {
     "views": []
    },
    "a6eac3ed52e844e1a1aa659b21ff741e": {
     "views": []
    },
    "a6f24f70af314323abcfb5ac965764ba": {
     "views": []
    },
    "a72de4bf942f4a7186b0e05008fe9f17": {
     "views": [
      {
       "cell_index": 30
      }
     ]
    },
    "a74f34b48f574dd7b579e9e7d70c6e74": {
     "views": []
    },
    "a7504c6307434b77afec621441cc36f6": {
     "views": []
    },
    "a77ad786bc7c42e3ae1c98b8440993da": {
     "views": []
    },
    "a79b2846fd684f8ca1a68804281a7163": {
     "views": []
    },
    "a7bc3eb288854e6fbf4f09f3d615aa7b": {
     "views": []
    },
    "a7c2f697787948eb921f817700dbd6eb": {
     "views": []
    },
    "a7ec4416113a4a43ac8dcaea90b51789": {
     "views": []
    },
    "a8622fdf5f824727b9b8f6fdccb5564e": {
     "views": []
    },
    "a8827e7eb9b24e40b34c4174dee26223": {
     "views": []
    },
    "a8da8906ff5b4378a27c81dd3eaa814a": {
     "views": []
    },
    "a8dec12984974af18c59caf9decf4716": {
     "views": [
      {
       "cell_index": 30
      }
     ]
    },
    "a8e593e3a4a74dd2a8ae1ccd4a8d083f": {
     "views": []
    },
    "a97fa18e2fed42fe9170103603c19068": {
     "views": []
    },
    "a9903494b3944452ad4262b336b6365e": {
     "views": []
    },
    "a9bc6140e78847cd9eea8b2388e9608f": {
     "views": []
    },
    "aa20801073394795bd78380f1d9978fc": {
     "views": []
    },
    "aa5775813d42422fa659d3bba2c157a0": {
     "views": []
    },
    "aa7e2403ab9b490a92922a9a51deb984": {
     "views": []
    },
    "aaa01977a2334d9ebb215f921d452b2d": {
     "views": []
    },
    "aab2dd539c95499c847379fed3c99b33": {
     "views": []
    },
    "aabb6f4ee78a42b38f96931a31312f93": {
     "views": []
    },
    "aabbcf4b64d646478a38fbea2987148a": {
     "views": []
    },
    "aaefb7b762fc472885daff1d222e8f5a": {
     "views": []
    },
    "ab11bb9d3e564ddf8e2c55a0d4cccf38": {
     "views": []
    },
    "ab27beb157a544619be53d57a675e472": {
     "views": []
    },
    "ab5ac389e9e148ae9ab03372f9e6110b": {
     "views": []
    },
    "abf09b60d4e3443e90853f5e4c1b5a80": {
     "views": []
    },
    "ac192a5a79c847008f5208b860ddb40a": {
     "views": []
    },
    "acc46034148d42eba9c45be4c887d441": {
     "views": []
    },
    "ad4b6559d23e4206a0be3c2ea79958da": {
     "views": []
    },
    "ad73e90bda8b45f3a4edd64afe0f8a4d": {
     "views": []
    },
    "adfc81ef3e8c4761ba6d62287e491d88": {
     "views": [
      {
       "cell_index": 31
      }
     ]
    },
    "ae2cd1ac010642fcaeb2cddcbb9a3441": {
     "views": []
    },
    "ae3503e227c54a56ad5b3e4c1b30be3f": {
     "views": [
      {
       "cell_index": 30
      }
     ]
    },
    "ae388744cbc143c2b77101c5b5a0e890": {
     "views": []
    },
    "ae8a96fa9a5e4c1fbfe136631f849068": {
     "views": []
    },
    "af426bd81db349388f933e3263f0e66a": {
     "views": []
    },
    "af53e831f76e42a9824fa5ac26a7379d": {
     "views": []
    },
    "af8d1dc92a414bf5aff4e42938a1e674": {
     "views": []
    },
    "af907d6d332a49cc8ee7f5c732ce1e6f": {
     "views": []
    },
    "b05fc158605740ccbdfb3b6e9a08ab08": {
     "views": []
    },
    "b0b0d2dfc5754aa888cbc2ad4f04421d": {
     "views": []
    },
    "b0ca2b74f0d74d1185cf60150edeb481": {
     "views": []
    },
    "b0de67c089f745db81a7fe1fe330c7f6": {
     "views": []
    },
    "b11162b406234e0badb1f983ab612d87": {
     "views": []
    },
    "b16d8325cd384103b3cedf442322a703": {
     "views": []
    },
    "b1fffb9277b84b7a93334fc2cd927645": {
     "views": []
    },
    "b243332fd6754de4a4c7477546080940": {
     "views": []
    },
    "b342832304ec44daa0a78870cb606201": {
     "views": []
    },
    "b3671c6fbb454e5f94e141399f0883b6": {
     "views": []
    },
    "b3b0467b7505419ea7fc08aa0d1ff821": {
     "views": []
    },
    "b3e231a960e74909874d95ed39992e7f": {
     "views": []
    },
    "b40d663d695d4add96a9235b62cde3a8": {
     "views": []
    },
    "b44275ac124042b69e14c286f83a2ac3": {
     "views": []
    },
    "b46b400de18f4c6c99c73f3fd7e0e125": {
     "views": [
      {
       "cell_index": 30
      }
     ]
    },
    "b47bb13e83f3456cb4ed59dfc6d34702": {
     "views": []
    },
    "b49c245d6cc54cd3acec2e50623a4c65": {
     "views": []
    },
    "b52764883a7846af9e3a3bbbfa120ebf": {
     "views": []
    },
    "b533ff4522ad487e99f65c6f1fa360cd": {
     "views": []
    },
    "b6615f13f3394aed8193b4f571b39d7a": {
     "views": []
    },
    "b67e1358d94e45b18b474a60b625980e": {
     "views": []
    },
    "b69b26d4a1c04164bd07d793b51ff3ff": {
     "views": []
    },
    "b6d2492390794374b245564169a8586a": {
     "views": []
    },
    "b6e4c0d3ba464713b6c2f1d57b443780": {
     "views": []
    },
    "b70758cc10824d7da9c05855f251fc7c": {
     "views": []
    },
    "b70ec739aa0e4282aa3666fcc1c671ef": {
     "views": [
      {
       "cell_index": 30
      }
     ]
    },
    "b741f544f73c478883c5eaeed5feeb51": {
     "views": []
    },
    "b80c9af6b3f24bd589082f2c71468595": {
     "views": []
    },
    "b82265904e484aad95ce26cf9e372448": {
     "views": []
    },
    "b83d103de64b4acb8d0ab67c9f891023": {
     "views": []
    },
    "b874dc258957441c9b3ea49dcd8bd8dd": {
     "views": []
    },
    "b89ec29e428f49b9b95a65cb2da53224": {
     "views": []
    },
    "b8b214d5d0c7419cb0911f89322fd7dc": {
     "views": []
    },
    "b8b92b7ef5404defaa1203cd6caf4884": {
     "views": []
    },
    "b9085a3cabbe4c50bc359a34db080ae4": {
     "views": [
      {
       "cell_index": 31
      }
     ]
    },
    "b9157cd362bd4aeebe9206d3007ddd0b": {
     "views": []
    },
    "b9461aa82b024b5fb7a3ec4d09f9b625": {
     "views": []
    },
    "b94f6ce32086475eb5daf408193db2d5": {
     "views": []
    },
    "b95ead8bc25a40f5ab25aa70137d9e11": {
     "views": []
    },
    "b99edbd7c2394bf1a15a930f95cef3a4": {
     "views": []
    },
    "b9ae69a8403d4d148941a396b9d01db0": {
     "views": []
    },
    "b9e0f2cf4cd3445bbf33389038ed6b41": {
     "views": []
    },
    "ba314540a3be4cd3abf1215efc309c4e": {
     "views": []
    },
    "ba94774b908f43d6b7c369ed8281a4f6": {
     "views": []
    },
    "babd18a8092d41ee80756b01d8dc86b6": {
     "views": []
    },
    "badd848f75e746129e1077c1e8526715": {
     "views": []
    },
    "bb477fa81c4b47d69b7a26244ee190d0": {
     "views": []
    },
    "bb7627484cb74ba3acd424484f87625e": {
     "views": []
    },
    "bb7dbf33c0394c899da6802c4e00b643": {
     "views": []
    },
    "bb8e924e0d2541b080f4ddaa53148912": {
     "views": []
    },
    "bba32ebef54b450da56bb843ef655463": {
     "views": []
    },
    "bbcd294830c24370b3f98b1d109051d1": {
     "views": []
    },
    "bbe8022e90f542ccb5f6a5f546ab969b": {
     "views": []
    },
    "bbf143150fed45b09f8021366bdf9f31": {
     "views": []
    },
    "bc6131c6a3fb4bb69ed512d8cda601b7": {
     "views": []
    },
    "bd1a27a19bec464fb0e9227281ebd86b": {
     "views": []
    },
    "bd86a023e4bc43dfaa846dd0f5e676c7": {
     "views": []
    },
    "bdd087a085a14833ad566d5b188532bc": {
     "views": []
    },
    "bde1467b0b9041cd983620f91a60049b": {
     "views": []
    },
    "bde75895416a4dfd8509a796e96f59b6": {
     "views": []
    },
    "be14038adca542dabfc530a888d3ade2": {
     "views": []
    },
    "be158a1417c748ca95dd7357ded3380a": {
     "views": []
    },
    "be451e9b275449b595b50c144515e489": {
     "views": []
    },
    "beb706eed6a54fa1a91616e4025c0367": {
     "views": []
    },
    "bf012e43ab934811b86cb451425b8b8e": {
     "views": [
      {
       "cell_index": 30
      }
     ]
    },
    "bf39869d0f3a43da98976ae61d6923b3": {
     "views": []
    },
    "bf5ea5c00af143a09d628a1578286c6a": {
     "views": []
    },
    "bf674cadb3a84971b3663e64dfad259e": {
     "views": []
    },
    "bf796fd8450140bd8eacf80cf17cd5eb": {
     "views": []
    },
    "bf8ab2bce819481cb9c8e15754b2858f": {
     "views": []
    },
    "bfad285496574431a6d82fb707602d85": {
     "views": []
    },
    "bfc312f24a704962bdbd30a04611e541": {
     "views": [
      {
       "cell_index": 30
      }
     ]
    },
    "bfed4d39798b46fabba3ea25f2208a84": {
     "views": []
    },
    "c06a017326cc48aea521599866a92faa": {
     "views": []
    },
    "c082334039424eb4a2523e53a04b65ca": {
     "views": []
    },
    "c10523986be946eebcc68cee6eebd10e": {
     "views": []
    },
    "c109cbf44f8e413b8bb56bbfe024ac22": {
     "views": []
    },
    "c12fdf718a4047269fe8c106dbc24ff7": {
     "views": []
    },
    "c15c45f407584f6a8eec1ad526c66e11": {
     "views": []
    },
    "c15e58e34bf34db1aaefc9202663bcc3": {
     "views": []
    },
    "c176e43e4fd54d15a452d0cafb516735": {
     "views": []
    },
    "c1b38095252445b095e553c7eb9b3b8c": {
     "views": []
    },
    "c1cb55d10c994c0fb36b1dbd17e009bf": {
     "views": []
    },
    "c1d68e3c290c49b08ae4bd869eccfc1d": {
     "views": []
    },
    "c1ddafd438ba43c1be3eec4dd385e972": {
     "views": []
    },
    "c21202efa86c4035850562e8fa0e67c3": {
     "views": []
    },
    "c23c3e1f96444199985312f8fe24b3fe": {
     "views": []
    },
    "c2a305cae6444b558c096fadf5acfaaa": {
     "views": []
    },
    "c2d458be691046c6a54247b56278b05e": {
     "views": []
    },
    "c2d5a9b80f4541b393bee7741e6baee8": {
     "views": []
    },
    "c2f1e7c8e5d445439d0f433b51e9429b": {
     "views": []
    },
    "c31522e8234048dbb89fac22d06eae1d": {
     "views": []
    },
    "c34b5898f2b94d55b209cd9c34bf82e3": {
     "views": []
    },
    "c38e910c7db24a048c1291162547fcb1": {
     "views": []
    },
    "c3bcbb8009814d199b4a75ce0cd1ea2c": {
     "views": []
    },
    "c3e286c09a7340a88b3283f30b28f6b7": {
     "views": []
    },
    "c406988dc1c24fb6bcc76bfcfda67e33": {
     "views": []
    },
    "c42fe61b43344d9bbb72769e4748165a": {
     "views": []
    },
    "c4558465abce48f9a9ae3216180a7f14": {
     "views": [
      {
       "cell_index": 30
      }
     ]
    },
    "c45e5b52e2754753b0321b4756ea3f64": {
     "views": []
    },
    "c461b9eda6244a698ad79ba95754620f": {
     "views": []
    },
    "c4d38b3913f9493f98df33268afb39d2": {
     "views": []
    },
    "c4d57ac8a28244a6a75ddc1b8c976cda": {
     "views": []
    },
    "c531b2fa5db74903afa2169c1a5716cc": {
     "views": []
    },
    "c5489ed461264c23b8bbfaa1c698cb3f": {
     "views": []
    },
    "c568b683cad14e8e9697ef904e6c07e8": {
     "views": []
    },
    "c5bd7b0f30974b43a17fc2186743f9e9": {
     "views": []
    },
    "c5ee65085a2047499eec74998756e9b1": {
     "views": []
    },
    "c5f39fc59ae2419ca72f07283dc81bc0": {
     "views": []
    },
    "c600bc9cf7084b2f80a35e0b18f0789d": {
     "views": []
    },
    "c62ceca172cb481cbed1420da1d120a8": {
     "views": []
    },
    "c678c74aba9242d9b8d278a261dfd3eb": {
     "views": []
    },
    "c6a1b3dc9a0043f4a49c2ea824a745d5": {
     "views": []
    },
    "c6a8173b9d414bc6ba132b82d7bb8acb": {
     "views": [
      {
       "cell_index": 30
      }
     ]
    },
    "c74829567a21430d95f9ec691c926363": {
     "views": []
    },
    "c76b34c62df0405daefe73f1a86eb627": {
     "views": []
    },
    "c78467bbfc08453fade26e24af0e4837": {
     "views": [
      {
       "cell_index": 31
      }
     ]
    },
    "c7a4a635d4b34d2d8a85e2d774302cc5": {
     "views": []
    },
    "c7bc47e4ba49432c994e2d5e2805cc2a": {
     "views": []
    },
    "c7cefe9d117f48548d3f2d3fae26c459": {
     "views": []
    },
    "c7f3cba5d430456ab94abce75023383a": {
     "views": []
    },
    "c7fcb5c66fa640f6a641329b7401f5f2": {
     "views": []
    },
    "c8414f4c43894acfb5c3eef91945067c": {
     "views": []
    },
    "c855b3b6b64d49829609cbedb8eda102": {
     "views": []
    },
    "c8593842872c4799934c0a05d6e33b40": {
     "views": []
    },
    "c85f45c579ad4d85b3770c024fef79d5": {
     "views": []
    },
    "c8d9853ea14e4feabd640578d9ca651d": {
     "views": []
    },
    "c8f11e5a3714430bae1ca388baf208db": {
     "views": []
    },
    "c90941b5955946fd9ec777586bbb4717": {
     "views": []
    },
    "c95d6eb52d9446bbbbe99d0b47be2753": {
     "views": []
    },
    "c972b6c6e7ff46e4a67a8577b0c7ba99": {
     "views": []
    },
    "c98a259f33d34589be6bced6f5bbefb9": {
     "views": []
    },
    "c9bac585770f4d9b9a85ed064feaf8f3": {
     "views": []
    },
    "c9d16ced924d48aab53dc23251e38ad1": {
     "views": []
    },
    "c9eb20cadf304e42b7eea075a2f449fb": {
     "views": []
    },
    "ca0d1069bc3146d3a1a17e8b79f107d0": {
     "views": []
    },
    "ca3038775c2048fd97f4ca0552aaea8c": {
     "views": []
    },
    "ca3ec8a30669405a810490c4efc1514c": {
     "views": []
    },
    "ca8a2fcb52cb47f7b55028e81f88ae6f": {
     "views": []
    },
    "caa9a9fd654a49a485bcc09c4744f7f2": {
     "views": []
    },
    "cb65a798a80b48169f5f785f75f74cbd": {
     "views": []
    },
    "cb76a0bef8cd454eaf821c12c4fba259": {
     "views": []
    },
    "cbc05d13ca164242b3ff8064ff3c9ceb": {
     "views": []
    },
    "cbddd609535b4afabec335615d7e864a": {
     "views": []
    },
    "cbf2804925de467db2eb2a13e44e2ffe": {
     "views": []
    },
    "cc3fb966b5c9439c85d80c424bf91212": {
     "views": []
    },
    "cc571a75a8cd49d2b58f25139ddd1438": {
     "views": []
    },
    "cc6c9b249c884979870400b979775de0": {
     "views": []
    },
    "cc8028a48f634d958c8a006844de1c5e": {
     "views": []
    },
    "ccb2d3f4d9e243d1859ee678f8fe42e9": {
     "views": []
    },
    "ccbca3ca75954609970fc6d003135968": {
     "views": []
    },
    "cd170634285342f6a9a1ec94ad4ed21a": {
     "views": []
    },
    "cd2add0d68b6445491c12018783e9601": {
     "views": []
    },
    "cd38afab8a344744a76bced53c45fdb9": {
     "views": []
    },
    "cd74e99f55b3442e9f5cca4ffc04c2d4": {
     "views": []
    },
    "cd9427b12bce4616a0f956c8593d9b4f": {
     "views": []
    },
    "cde2ca2c4654400fb242a4b6a842dd76": {
     "views": []
    },
    "ce087fa52b3142008f652c43f8f9066e": {
     "views": []
    },
    "ce1af354ac25433d9e7573ab31d7e5b0": {
     "views": []
    },
    "ce36c42b6da646bd800d6bd727d60bf7": {
     "views": []
    },
    "ce3d7bcb217642b0b07222746e2b1497": {
     "views": []
    },
    "ce3e5d724d3042798b9868182aa4c4a3": {
     "views": []
    },
    "ce48aded404e4ea18bc3477bd76918bf": {
     "views": []
    },
    "ced131b2d87940748c57b326c92efcf4": {
     "views": []
    },
    "cf0ac7689b7d4e0eb63ad5ee5871a120": {
     "views": []
    },
    "cf1f246a8ac44fca8842f85dba3e49df": {
     "views": []
    },
    "cf433031523848c38c4f33d43d37207f": {
     "views": []
    },
    "cf6ad9651582482583445f3d839d1c6f": {
     "views": []
    },
    "cf88577376bc49d39d4a1650f268d45c": {
     "views": [
      {
       "cell_index": 30
      }
     ]
    },
    "cf963daf83d64434bbbf0057ef63bd67": {
     "views": []
    },
    "cfde5ff7377d40b3acb4334b14d3b2bf": {
     "views": []
    },
    "d005e3a9e90240309698e0b55e8006e4": {
     "views": []
    },
    "d0097a262b024e75828718970c5b8197": {
     "views": []
    },
    "d02d0ee4f0794269a80bfd719f46f230": {
     "views": []
    },
    "d02e79dd0b2841faba2eb7cf56a98c93": {
     "views": []
    },
    "d12414da83444920b3154dc2675ed5f4": {
     "views": []
    },
    "d1684a831bd74d078c52e6354302b0c9": {
     "views": []
    },
    "d18ecf1068e54d80bb328b7a227296f9": {
     "views": [
      {
       "cell_index": 30
      }
     ]
    },
    "d1b20e7b645140cfa84bc5834534e4ed": {
     "views": []
    },
    "d1f4375ec88d4856b867d2eda0d730dd": {
     "views": []
    },
    "d23a6985960543b4b0fd08d9ebe6044c": {
     "views": []
    },
    "d25455d0810a43f384f8e5d7d6553604": {
     "views": []
    },
    "d273ecf290d745ffaef8f6813ef51307": {
     "views": []
    },
    "d29f4b6f3508464cb3e0220f878542a5": {
     "views": []
    },
    "d2b8c48d8310454d93b9557ff9ee0de2": {
     "views": []
    },
    "d2babbb2659446d4bedd34c4e668bda8": {
     "views": []
    },
    "d303f42851da4f1994fee710b195f42b": {
     "views": []
    },
    "d34e15caf5a04e1bbf5513d1c31fce09": {
     "views": []
    },
    "d369fc4383cc4b7abbdac6c8df2ea239": {
     "views": []
    },
    "d39d9152665d45e2a0011d41aac41faf": {
     "views": [
      {
       "cell_index": 30
      }
     ]
    },
    "d3bb1973b66940f1a0ca0a93f21b87a9": {
     "views": []
    },
    "d3d3e996d5d74c09a8129780e1766c7e": {
     "views": []
    },
    "d3e894294f48422989f11e1bffd66869": {
     "views": [
      {
       "cell_index": 30
      }
     ]
    },
    "d44a06f2a8154594b9a9be9a6e93d9a4": {
     "views": []
    },
    "d46d589f3ccd49af896ac588767edfec": {
     "views": []
    },
    "d4ce1ddda2f344afaea207d69acee1a9": {
     "views": []
    },
    "d4df0fa96a8c41eba9c9deb9095377c4": {
     "views": []
    },
    "d4e0e6abdb7f4c12a154fa81dc702f69": {
     "views": [
      {
       "cell_index": 30
      }
     ]
    },
    "d55c55f400e64235945ce2b13efdd620": {
     "views": []
    },
    "d57f0c5bf9894b5a9703423c203030e5": {
     "views": []
    },
    "d5957cbbb0de4836b16a79db5473246d": {
     "views": []
    },
    "d626b24b42d246c689e9854433ae4d51": {
     "views": []
    },
    "d69002a03d334b4ab7b2feeca4f2415a": {
     "views": []
    },
    "d6932f2529c942e692547d53a77aa8f4": {
     "views": []
    },
    "d6fca62d33b649da97c4a00f7cd6ef82": {
     "views": []
    },
    "d70036e0278748379150255ffdb28fae": {
     "views": []
    },
    "d7100cf783ed4a17b8582a92cf8096a2": {
     "views": []
    },
    "d711c070493040b8831c9e21c0ec096a": {
     "views": []
    },
    "d711d01a2efa4edbb88bf700fb92e8cf": {
     "views": []
    },
    "d72159bd4d014a1b88caaf794ada613b": {
     "views": []
    },
    "d722ec8818914cfcb301f21c05c27308": {
     "views": [
      {
       "cell_index": 31
      }
     ]
    },
    "d72ad08aab3345479094fd8b4df3100c": {
     "views": []
    },
    "d742543ab7794dd8bb4cd4813bfffd9d": {
     "views": []
    },
    "d788440e42d3439b9200537eae3808f4": {
     "views": []
    },
    "d7c1250b497b41f9b2b610de8c4c152d": {
     "views": []
    },
    "d7c5be09ad904c848823f69fde9d8ca7": {
     "views": []
    },
    "d7c7290deceb4803a8b141f61eec3875": {
     "views": []
    },
    "d7f3871b8c7843268227c7e8f36c84f5": {
     "views": []
    },
    "d7fff737a4004f50ad00c519218f73f8": {
     "views": []
    },
    "d89822af4906473793e6a2b1102916cb": {
     "views": []
    },
    "d8d4617ca1174b80ad79e6e32ed6a05f": {
     "views": []
    },
    "d93e9189c31d41c38a432ebbac7234ad": {
     "views": [
      {
       "cell_index": 30
      }
     ]
    },
    "d951bed5d97146d8a4386c9d5646e1e7": {
     "views": []
    },
    "d9576f9956d64b0dbfb5c38b5d04720d": {
     "views": []
    },
    "d97a1dc182ab4f4ea5d0ec282ecd782e": {
     "views": []
    },
    "d9d48848a3d34f2ebcf9161e84cbfbd3": {
     "views": []
    },
    "d9d886106cb545fc852c882a4bf8332e": {
     "views": []
    },
    "d9eee1ad255f49e6bb66568901d20ce9": {
     "views": []
    },
    "da37dfd644c44e25b6087f60eb012036": {
     "views": []
    },
    "da38f2f6bb8941639ff5167a170c1c07": {
     "views": [
      {
       "cell_index": 30
      }
     ]
    },
    "da459afc13544c329c54b0b66eec0bf5": {
     "views": [
      {
       "cell_index": 30
      }
     ]
    },
    "da5668732c614ac590f48af335dd373a": {
     "views": [
      {
       "cell_index": 30
      }
     ]
    },
    "da819372ff5e4f11bc8935b49969cf95": {
     "views": []
    },
    "da9960b2999c471c8165a1fc74fbf3db": {
     "views": []
    },
    "dacfd0f5a4804fcab51b7553bb026035": {
     "views": []
    },
    "dadeac69fc054b6fa93b084f6c4cf8b7": {
     "views": []
    },
    "dae4386fd26c428e8a123fe19fbd3d13": {
     "views": []
    },
    "db06de545e6d4b1583304735d435b44a": {
     "views": []
    },
    "db0cde0bbbfc491bb7b6f91cb1aed71f": {
     "views": []
    },
    "db1f690644e645e08507ab791d498ca7": {
     "views": []
    },
    "db3095d5a4e544899bab5396e3ebbe15": {
     "views": []
    },
    "db724e89bfe84f7983f1e58e5194f2ac": {
     "views": []
    },
    "db76525269a44d71b0fae0975c3a0860": {
     "views": []
    },
    "dbb5e0125c1841e49c9749b35531084f": {
     "views": []
    },
    "dbbeceffe70f4ed7be9482aa4ba81d7c": {
     "views": [
      {
       "cell_index": 30
      }
     ]
    },
    "dbe629a587b74e56a4c0c6ea16f5b5fb": {
     "views": []
    },
    "dbf270c3c6464d64b10a7524c9032fab": {
     "views": []
    },
    "dc56d38c0e95483c94045194ed3770ad": {
     "views": []
    },
    "dc634902371849908c119d9aab74020e": {
     "views": []
    },
    "dc6787c9183543d39a0444a24e71594b": {
     "views": []
    },
    "dc841a7d9382421487b1b623dbc31ce0": {
     "views": []
    },
    "dc940ec0744e42f3ad799491158baa1b": {
     "views": []
    },
    "dcd22d71be124d62afb99931a0c18ba2": {
     "views": []
    },
    "dcd234d7e7604974a3252fef25050846": {
     "views": []
    },
    "dd16f0e7f7ab4274aa662e909edca7f7": {
     "views": []
    },
    "dd414e20a76c48edbf8b308cd6b314b5": {
     "views": []
    },
    "dd63c9c509054cec993c40cd81f19465": {
     "views": []
    },
    "ddb33ab5d06648e4a59001b3394a54aa": {
     "views": []
    },
    "ddf0b574fc1d46b4a5c6db41458c43a4": {
     "views": []
    },
    "de14e60351904f6a90ecd6070c6906c5": {
     "views": []
    },
    "de4948fc56e34d7f96506adbe81e3859": {
     "views": []
    },
    "de706574daca4945b417b23dcb90221e": {
     "views": []
    },
    "de89d1b4f29540548c4dec3c5ab42184": {
     "views": [
      {
       "cell_index": 31
      }
     ]
    },
    "dea908bf08664756b578bed7385aa5f4": {
     "views": []
    },
    "df152eb4c69d43edb658657707573d47": {
     "views": []
    },
    "df2bf5ab17964bfe913b2ee6eab0fe9e": {
     "views": []
    },
    "df48de1df6de4536912a46f0d7ece0ed": {
     "views": []
    },
    "df72ec7c3b4b43f8be6108c000c40203": {
     "views": []
    },
    "df7c488c29a74e778a843c8a5554fe3f": {
     "views": []
    },
    "df9302f0bd6c40b692a75ecfc9616569": {
     "views": []
    },
    "dfb45dd3fbe746e29a1ea9df2fb1641c": {
     "views": []
    },
    "dfeb44b5502d416280c6f908669b0e49": {
     "views": []
    },
    "e0133d3292fe456491944acd77a42904": {
     "views": []
    },
    "e087e89d2f1e4b129c50492d591a2bb2": {
     "views": []
    },
    "e0ee3e1db13748a1a2be42eb94debc62": {
     "views": []
    },
    "e0fbee1f365e41c9982b0aaa05b13e32": {
     "views": []
    },
    "e0fcde4582f3488c8c44789211c63971": {
     "views": []
    },
    "e14a4bad172945e59e3ed9e063fac17a": {
     "views": []
    },
    "e16b051eadf54eeaa5a3022a49a63fdc": {
     "views": []
    },
    "e18e379d74b34288b78cf3791e3353e8": {
     "views": []
    },
    "e206562d182540f9ab943a4ad00ab5b0": {
     "views": []
    },
    "e21f3c35bfcf48c4beece22e6a995a57": {
     "views": []
    },
    "e2b1a0e7890b434884c897f862cebdf1": {
     "views": []
    },
    "e2cf2331f23d4ba38fa8cf9c2792858f": {
     "views": []
    },
    "e3914244c2514ed087d5b2de20bbf12f": {
     "views": []
    },
    "e3b911e5b76143b1b62754160dfe3b8c": {
     "views": []
    },
    "e3e58f41c00c48019eee992b7351c162": {
     "views": [
      {
       "cell_index": 30
      }
     ]
    },
    "e3f56be1c98e4cd0b46f6adc098786cd": {
     "views": []
    },
    "e45ac669dcc74ed4880b417a49629096": {
     "views": []
    },
    "e4896bd0071540ed9ebbc49de0461c98": {
     "views": []
    },
    "e4cd9702e1e8495f9b12c42c440dbc8c": {
     "views": []
    },
    "e4eff7f47c41493daac2c4008defb904": {
     "views": []
    },
    "e51f8d7a32d3474ab8e9734571b35be4": {
     "views": []
    },
    "e52bfed1bc2546578935ed85fc508dd0": {
     "views": []
    },
    "e562c06e9d474d389e56819d1f83bc81": {
     "views": []
    },
    "e58c2cd094ee4849a8c422a3d8e10640": {
     "views": []
    },
    "e5aad0e3ede14265ae2d5e4b79d6fee9": {
     "views": []
    },
    "e602c878234e4b43aeef0b15716bc0b7": {
     "views": [
      {
       "cell_index": 30
      }
     ]
    },
    "e639cada941b451da6a7c822078c7c5a": {
     "views": []
    },
    "e695af19431642ca86246356ea53200e": {
     "views": []
    },
    "e69806f88158454595929656253ba7f4": {
     "views": []
    },
    "e6bf0681c185405ba4a83b0713a00965": {
     "views": []
    },
    "e71a4b6f929c45c2abe35c5f2036c917": {
     "views": []
    },
    "e7309145d11a48c581a9774cf05112a0": {
     "views": []
    },
    "e7649f4e18d24c49a32b7dec6ef63f52": {
     "views": []
    },
    "e77629d164a445b2a68979279f1f28d8": {
     "views": []
    },
    "e7fd80954d634e22958da7d2f6141100": {
     "views": []
    },
    "e80a1345c2f640e7ae749c0d44318d61": {
     "views": []
    },
    "e8265b070ac64013be06b18cafe9e60c": {
     "views": []
    },
    "e86b5a7121cd45e691771c5f661aa544": {
     "views": []
    },
    "e88459b0a0e141069dd4546e3fd5078b": {
     "views": []
    },
    "e888b0c62522416b9756380bd215b905": {
     "views": []
    },
    "e8a8fab3b3c04910bf77ac6b0eecde6c": {
     "views": []
    },
    "e8c376b523af4022ba775a5a79753640": {
     "views": []
    },
    "e8e8065153084b8b9184c2b80a1d8a67": {
     "views": []
    },
    "e8e9423a5798408a8b9c4fc3801874d1": {
     "views": []
    },
    "e915a02f757a4024bedb4b836e4f0117": {
     "views": []
    },
    "e91c506e153a4998b526225978055c9f": {
     "views": []
    },
    "e97b5119df01421cb685cd36eeafe7b3": {
     "views": []
    },
    "e9a72e8045e443d2a5f891a012d59cdb": {
     "views": []
    },
    "e9b13332285e4dd7aa3bc1568fa28215": {
     "views": []
    },
    "e9d9325d79c946e4b3f552302d5d709a": {
     "views": []
    },
    "e9ddf899667e4bac9746931440f261b1": {
     "views": []
    },
    "ea10374dc91f42658c49ba160ef84f54": {
     "views": []
    },
    "ea289ddb30b841e491cd4d45ac23b988": {
     "views": []
    },
    "ea2d3375d4bb455899ecc2b090566153": {
     "views": []
    },
    "ea2ee693195547de99e35a956f77aa4e": {
     "views": []
    },
    "ea36311ae8794ffd894a54e71ff47ae3": {
     "views": []
    },
    "ea6a2d46f720419e8a750b11f622a525": {
     "views": []
    },
    "ead6852ca8994321b48b00eec35504e7": {
     "views": []
    },
    "eb05e3425c894ffeb85ad07f1d48a3e9": {
     "views": []
    },
    "eb179362badc4771842abb7885b79c57": {
     "views": []
    },
    "eb458b5247be4fdd8642651618d4126b": {
     "views": []
    },
    "ebf745d92f4a49699d7114ea19797b34": {
     "views": []
    },
    "ec0a152eac72429fb2c7387ccb877417": {
     "views": [
      {
       "cell_index": 30
      }
     ]
    },
    "ec46824c064e4d348eb91e5ea4e04b1d": {
     "views": []
    },
    "ecbb17505bc24630badc682afb19bb9d": {
     "views": []
    },
    "ecfd58e904744be78485858a87bda4c7": {
     "views": []
    },
    "ed4de63b143e4b91aefa171b49d4b0f7": {
     "views": []
    },
    "ed7bab5c54194c808d5a322e17a9655f": {
     "views": []
    },
    "edaffcb7470f4c92a26a8d69b762bb4a": {
     "views": []
    },
    "edbb0dd1ad4a477db8303a48ae9ec373": {
     "views": []
    },
    "edcd568f363d4067b3710b31b7c4fe6c": {
     "views": []
    },
    "ede44f33f89d47ac8a86168a684ef9fd": {
     "views": []
    },
    "edfbba2b22664697bb769ec307d676a6": {
     "views": [
      {
       "cell_index": 30
      }
     ]
    },
    "ee0f26048cbc4de880dcc571fca2dc1f": {
     "views": []
    },
    "ee10b159e8c74044a22724df94660220": {
     "views": []
    },
    "ee3f1ebab8244702ba71c30fe283bfd5": {
     "views": []
    },
    "eeb85e5ab7354acb880706bcc82984e1": {
     "views": []
    },
    "eefb3a7235cd4f97a9bf77d37d59ae09": {
     "views": [
      {
       "cell_index": 31
      }
     ]
    },
    "ef7f51a3d05245bbaf319363b91c0339": {
     "views": []
    },
    "efb574b370d14a2c8489a2b3dbb441d1": {
     "views": []
    },
    "efcda6d4acf944d9a1a224f8fa5ae0ce": {
     "views": []
    },
    "efd526c5187e4986a35036a1101651b2": {
     "views": []
    },
    "efe7e61e9f734110ad412daa62ea12cc": {
     "views": []
    },
    "f02bc22f87af4fceabf0858cffc350a0": {
     "views": []
    },
    "f04b103d9d874337bd257d830b6453bc": {
     "views": [
      {
       "cell_index": 30
      }
     ]
    },
    "f04eabc359c54af39b4f6ebd66d4f931": {
     "views": []
    },
    "f076253c0a964bf2967a4468e7df8d5d": {
     "views": []
    },
    "f0a551e2dd0348fea33d049699db8df6": {
     "views": []
    },
    "f0bd57174d2d424c99b3ed575e57fa24": {
     "views": []
    },
    "f0bf678491124efa80be4bde37ca7f3c": {
     "views": [
      {
       "cell_index": 30
      }
     ]
    },
    "f0e88f8b5d6c4d92b20b771e2b9307fd": {
     "views": []
    },
    "f0ed952f461a40a29d93ed22ee8fb8e4": {
     "views": []
    },
    "f1482bd9f3554a8081f75d53d7d6be5f": {
     "views": []
    },
    "f15c5b4d881545b5a776ba645fc32020": {
     "views": []
    },
    "f1600fe72f55431f8d2ce19576900c90": {
     "views": []
    },
    "f161fae077d84402aa20b4b579e051ec": {
     "views": []
    },
    "f1a110f0f29e4af8be8e6253b82eeba6": {
     "views": []
    },
    "f1dfac122689483e948e961fd59395d5": {
     "views": []
    },
    "f1e343ba691a44cb9044a2c9a1e8a85e": {
     "views": []
    },
    "f2190114343b486ba740b416a9137d35": {
     "views": []
    },
    "f22eb06238f7424d8cb69bcbc6aa5635": {
     "views": []
    },
    "f23119c3dc224129984df0764f7a1c4b": {
     "views": []
    },
    "f23e1661984c4e33829eb6554f7ece46": {
     "views": []
    },
    "f2a7ac70716844f49ca3da83439faa92": {
     "views": []
    },
    "f2bb6269e0c44d2cbfaed1d2bf8b5eb5": {
     "views": []
    },
    "f2c88380cca445078b3359c1f74fa10e": {
     "views": []
    },
    "f35325c0fdb748948d6b5313070fd711": {
     "views": []
    },
    "f39ad766928c4f4f98e09db6a4d5f6c5": {
     "views": []
    },
    "f3da9db0cd974c3398be1af460591963": {
     "views": []
    },
    "f4e6dc8f5a07479a992ba20bee8b3c53": {
     "views": []
    },
    "f5deb652d77e40dfa2093de3b8a431a4": {
     "views": []
    },
    "f6034033d3f648be8e53590aa8ecfbc6": {
     "views": []
    },
    "f6347fd9186b4c1e9c36eeb1fe8b642b": {
     "views": []
    },
    "f69af1539e1b49cd8a5e232044d1c82d": {
     "views": []
    },
    "f6d6da21bd414a02bb9a5f7d389c72f3": {
     "views": []
    },
    "f6fb7cc94bd0423b9e1d08200f2161f1": {
     "views": []
    },
    "f734f357ec8f4176bb03cc5038127bd6": {
     "views": []
    },
    "f763562c1d8044eabee81eab1fd26a48": {
     "views": []
    },
    "f773b506819047b7bf03074fe30c1c79": {
     "views": [
      {
       "cell_index": 31
      }
     ]
    },
    "f780d29bc93c486c8f4ae3432cdaf144": {
     "views": []
    },
    "f823ed96c3fc45f38a8da40840c90161": {
     "views": []
    },
    "f86cb0ec3c8340a6a5e9191ffd463c2c": {
     "views": []
    },
    "f879a584c63142ec963575b96f1793f1": {
     "views": []
    },
    "f90a0e05cd3a44baadb9f832cdf5af06": {
     "views": []
    },
    "f9614c2b503b4726856f0fa6fb9b912b": {
     "views": []
    },
    "f97bffc4c7bc418b985cc407c900fce9": {
     "views": []
    },
    "f9c55682c218421187cea52852e52171": {
     "views": []
    },
    "f9e37e76dc1a4de3955aa0690130bf53": {
     "views": []
    },
    "fa6a756f47434e039ca3f47a5d5b003e": {
     "views": []
    },
    "fbabf7cf6f5c484dbe91e8e8cd024214": {
     "views": []
    },
    "fbad721bf2234fdf91adb467e4ee9e77": {
     "views": []
    },
    "fc16f87d874245c4958758e0d3cb8746": {
     "views": []
    },
    "fc1d96384ce345db88ba957e3b902c38": {
     "views": []
    },
    "fc45acc355a34fb1a0769244718a3dd4": {
     "views": []
    },
    "fc98829e33104596b315ccdc134dca79": {
     "views": []
    },
    "fd33f7d38a3f44e6bc2318218f7b8fc2": {
     "views": []
    },
    "fea9d933e94e4749bef75f4308b71559": {
     "views": []
    },
    "ffb326cb1df2471daa4c1c9bd195ffe0": {
     "views": []
    },
    "ffb6f805f18048d1b1392e0a451d1d5c": {
     "views": []
    },
    "ffe3e759fe454cecb136752a9a85d90e": {
     "views": []
    },
    "ffe419934887450fbd5bc7109af23d28": {
     "views": []
    },
    "fff4d3e2b8ef40e68b0548fb2fdf1e8f": {
     "views": []
    }
   },
   "version": "1.1.2"
  }
 },
 "nbformat": 4,
 "nbformat_minor": 1
}
