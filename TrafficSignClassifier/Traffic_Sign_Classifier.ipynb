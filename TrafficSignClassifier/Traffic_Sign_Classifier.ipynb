{
 "cells": [
  {
   "cell_type": "markdown",
   "metadata": {},
   "source": [
    "# Self-Driving Car Engineer Nanodegree\n",
    "\n",
    "## Deep Learning\n",
    "\n",
    "## Project: Build a Traffic Sign Recognition Classifier\n",
    "\n",
    "In this notebook, a template is provided for you to implement your functionality in stages, which is required to successfully complete this project. If additional code is required that cannot be included in the notebook, be sure that the Python code is successfully imported and included in your submission if necessary. \n",
    "\n",
    "> **Note**: Once you have completed all of the code implementations, you need to finalize your work by exporting the iPython Notebook as an HTML document. Before exporting the notebook to html, all of the code cells need to have been run so that reviewers can see the final implementation and output. You can then export the notebook by using the menu above and navigating to  \\n\",\n",
    "    \"**File -> Download as -> HTML (.html)**. Include the finished document along with this notebook as your submission. \n",
    "\n",
    "In addition to implementing code, there is a writeup to complete. The writeup should be completed in a separate file, which can be either a markdown file or a pdf document. There is a [write up template](https://github.com/udacity/CarND-Traffic-Sign-Classifier-Project/blob/master/writeup_template.md) that can be used to guide the writing process. Completing the code template and writeup template will cover all of the [rubric points](https://review.udacity.com/#!/rubrics/481/view) for this project.\n",
    "\n",
    "The [rubric](https://review.udacity.com/#!/rubrics/481/view) contains \"Stand Out Suggestions\" for enhancing the project beyond the minimum requirements. The stand out suggestions are optional. If you decide to pursue the \"stand out suggestions\", you can include the code in this Ipython notebook and also discuss the results in the writeup file.\n",
    "\n",
    "\n",
    ">**Note:** Code and Markdown cells can be executed using the **Shift + Enter** keyboard shortcut. In addition, Markdown cells can be edited by typically double-clicking the cell to enter edit mode."
   ]
  },
  {
   "cell_type": "markdown",
   "metadata": {},
   "source": [
    "---\n",
    "## Step 0: Load The Data"
   ]
  },
  {
   "cell_type": "code",
   "execution_count": null,
   "metadata": {
    "collapsed": true
   },
   "outputs": [],
   "source": [
    "# Necessary imports\n",
    "import pickle\n",
    "import tensorflow as tf\n",
    "import numpy as np\n",
    "import pandas as pd\n",
    "import seaborn as sns\n",
    "import matplotlib\n",
    "import matplotlib.pyplot as plt\n",
    "import matplotlib.gridspec as gridspec\n",
    "import cv2\n",
    "from sklearn.utils import shuffle\n",
    "from collections import Counter\n",
    "import math\n",
    "from tqdm import tnrange\n",
    "from tqdm import tqdm_notebook as tqdm\n",
    "\n",
    "%matplotlib inline\n",
    "\n",
    "# Load the pickled data\n",
    "training_file = './traffic_signs_data/train.p'\n",
    "validation_file= './traffic_signs_data/valid.p'\n",
    "testing_file = './traffic_signs_data/test.p'\n",
    "\n",
    "with open(training_file, mode='rb') as f:\n",
    "    train = pickle.load(f)\n",
    "with open(validation_file, mode='rb') as f:\n",
    "    valid = pickle.load(f)\n",
    "with open(testing_file, mode='rb') as f:\n",
    "    test = pickle.load(f)\n",
    "    \n",
    "X_train, y_train = train['features'], train['labels']\n",
    "X_valid, y_valid = valid['features'], valid['labels']\n",
    "X_test, y_test = test['features'], test['labels']\n",
    "\n",
    "# Sanity checks\n",
    "assert(len(X_train) == len(y_train))\n",
    "assert(len(X_valid) == len(y_valid))\n",
    "assert(len(X_test) == len(y_test))\n",
    "\n",
    "# Load in the 'signnames.csv' as a pd.DataFrame\n",
    "sign_names_df = pd.read_csv('signnames.csv')"
   ]
  },
  {
   "cell_type": "markdown",
   "metadata": {},
   "source": [
    "---\n",
    "\n",
    "## Step 1: Dataset Summary & Exploration\n",
    "\n",
    "The pickled data is a dictionary with 4 key/value pairs:\n",
    "\n",
    "- `'features'` is a 4D array containing raw pixel data of the traffic sign images, (num examples, width, height, channels).\n",
    "- `'labels'` is a 1D array containing the label/class id of the traffic sign. The file `signnames.csv` contains id -> name mappings for each id.\n",
    "- `'sizes'` is a list containing tuples, (width, height) representing the original width and height the image.\n",
    "- `'coords'` is a list containing tuples, (x1, y1, x2, y2) representing coordinates of a bounding box around the sign in the image. **THESE COORDINATES ASSUME THE ORIGINAL IMAGE. THE PICKLED DATA CONTAINS RESIZED VERSIONS (32 by 32) OF THESE IMAGES**\n",
    "\n",
    "Complete the basic data summary below. Use python, numpy and/or pandas methods to calculate the data summary rather than hard coding the results. For example, the [pandas shape method](http://pandas.pydata.org/pandas-docs/stable/generated/pandas.DataFrame.shape.html) might be useful for calculating some of the summary results. "
   ]
  },
  {
   "cell_type": "markdown",
   "metadata": {},
   "source": [
    "### Provide a Basic Summary of the Data Set Using Python, Numpy and/or Pandas"
   ]
  },
  {
   "cell_type": "code",
   "execution_count": null,
   "metadata": {},
   "outputs": [],
   "source": [
    "### Replace each question mark with the appropriate value. \n",
    "### Use python, pandas or numpy methods rather than hard coding the results\n",
    "\n",
    "# Number of training examples\n",
    "n_train = len(X_train)\n",
    "\n",
    "# Number of validation examples\n",
    "n_validation = len(X_valid)\n",
    "\n",
    "# Number of testing examples.\n",
    "n_test = len(X_test)\n",
    "\n",
    "# What's the shape of an traffic sign image?\n",
    "image_shape = X_train[0].shape\n",
    "\n",
    "# How many unique classes/labels there are in the dataset.\n",
    "n_classes = sign_names_df.shape[0]\n",
    "\n",
    "print(\"Number of training examples =\", n_train)\n",
    "print(\"Number of validation examples =\", n_validation)\n",
    "print(\"Number of testing examples =\", n_test)\n",
    "print(\"Image data shape =\", image_shape)\n",
    "print(\"Number of classes =\", n_classes)"
   ]
  },
  {
   "cell_type": "markdown",
   "metadata": {},
   "source": [
    "### Include an exploratory visualization of the dataset"
   ]
  },
  {
   "cell_type": "markdown",
   "metadata": {},
   "source": [
    "Visualize the German Traffic Signs Dataset using the pickled file(s). This is open ended, suggestions include: plotting traffic sign images, plotting the count of each sign, etc. \n",
    "\n",
    "The [Matplotlib](http://matplotlib.org/) [examples](http://matplotlib.org/examples/index.html) and [gallery](http://matplotlib.org/gallery.html) pages are a great resource for doing visualizations in Python.\n",
    "\n",
    "**NOTE:** It's recommended you start with something simple first. If you wish to do more, come back to it after you've completed the rest of the sections. It can be interesting to look at the distribution of classes in the training, validation and test set. Is the distribution the same? Are there more examples of some classes than others?"
   ]
  },
  {
   "cell_type": "code",
   "execution_count": null,
   "metadata": {},
   "outputs": [],
   "source": [
    "### Data exploration visualization code goes here.\n",
    "plt.rcParams['image.interpolation'] = 'nearest'\n",
    "\n",
    "fig, ax = plt.subplots(figsize=(12, 25))\n",
    "counter = Counter(y_train)\n",
    "for c in range(n_classes):\n",
    "    class_idxs = np.where(y_train == c)[0]\n",
    "    with sns.axes_style('white'):\n",
    "        plt.subplot(9, 5, c + 1)\n",
    "        \n",
    "    plt.imshow(X_train[np.random.choice(class_idxs)])\n",
    "    plt.tick_params(\n",
    "        which='both', bottom='off', left='off', top='off', right='off', labelbottom='off', labelleft='off')\n",
    "    plt.ylabel(sign_names_df.loc[c].SignName, fontsize=200/(np.max([20,len(sign_names_df.loc[c].SignName)])))\n",
    "    plt.title('n = {}'.format(counter[c]))   \n",
    "\n",
    "plt.show()"
   ]
  },
  {
   "cell_type": "code",
   "execution_count": null,
   "metadata": {
    "collapsed": true
   },
   "outputs": [],
   "source": [
    "### 2. Plot Bar charts to see the distribution of the labels across the training/validation/test sets\n",
    "matplotlib.rcParams['axes.labelsize'] = 20\n",
    "matplotlib.rcParams['ytick.labelsize'] = 20\n",
    "matplotlib.rcParams['xtick.labelsize'] = 20\n",
    "matplotlib.rcParams['font.size'] = 20\n",
    "\n",
    "def plot_labels_dist(data):\n",
    "    n_plots = len(data)\n",
    "    height = 10 * n_plots\n",
    "    fig, axes = plt.subplots(n_plots, figsize=(30, height))\n",
    "\n",
    "    # TODO: add alpha for bar chart\n",
    "    for idx, ele in enumerate(data):    \n",
    "        labels, title, color = ele\n",
    "        counter = Counter(labels)\n",
    "        x_coordinates = np.arange(len(counter))\n",
    "        frequencies = counter.values()\n",
    "        mean = np.mean(list(frequencies))\n",
    "        \n",
    "        if n_plots == 1:\n",
    "            ax = axes\n",
    "        else:  \n",
    "            ax = axes[idx]\n",
    "        \n",
    "        ax.set_title(title)\n",
    "        ax.bar(x_coordinates, frequencies, align='center', color=color)\n",
    "        print('The mean # examples for the {} set is: {:.1f}'.format(title, mean))\n",
    "\n",
    "\n",
    "        ax.xaxis.set_major_locator(plt.FixedLocator(x_coordinates))\n",
    "        ax.set_xlabel('Label Id')\n",
    "        ax.set_ylabel('Frequencies')\n",
    "\n",
    "        # Plotting a dashed line for the mean frequency\n",
    "        ax.plot([0., 43.], [mean, mean], \"k--\")\n",
    "\n",
    "    plt.show()\n",
    "\n",
    "plot_labels_dist([(y_train, 'Train', 'c'), (y_valid, 'Validation', 'm'), (y_test, 'Test', 'g')])"
   ]
  },
  {
   "cell_type": "markdown",
   "metadata": {},
   "source": [
    "----\n",
    "\n",
    "## Step 2: Design and Test a Model Architecture\n",
    "\n",
    "Design and implement a deep learning model that learns to recognize traffic signs. Train and test your model on the [German Traffic Sign Dataset](http://benchmark.ini.rub.de/?section=gtsrb&subsection=dataset).\n",
    "\n",
    "The LeNet-5 implementation shown in the [classroom](https://classroom.udacity.com/nanodegrees/nd013/parts/fbf77062-5703-404e-b60c-95b78b2f3f9e/modules/6df7ae49-c61c-4bb2-a23e-6527e69209ec/lessons/601ae704-1035-4287-8b11-e2c2716217ad/concepts/d4aca031-508f-4e0b-b493-e7b706120f81) at the end of the CNN lesson is a solid starting point. You'll have to change the number of classes and possibly the preprocessing, but aside from that it's plug and play! \n",
    "\n",
    "With the LeNet-5 solution from the lecture, you should expect a validation set accuracy of about 0.89. To meet specifications, the validation set accuracy will need to be at least 0.93. It is possible to get an even higher accuracy, but 0.93 is the minimum for a successful project submission. \n",
    "\n",
    "There are various aspects to consider when thinking about this problem:\n",
    "\n",
    "- Neural network architecture (is the network over or underfitting?)\n",
    "- Play around preprocessing techniques (normalization, rgb to grayscale, etc)\n",
    "- Number of examples per label (some have more than others).\n",
    "- Generate fake data.\n",
    "\n",
    "Here is an example of a [published baseline model on this problem](http://yann.lecun.com/exdb/publis/pdf/sermanet-ijcnn-11.pdf). It's not required to be familiar with the approach used in the paper but, it's good practice to try to read papers like these."
   ]
  },
  {
   "cell_type": "markdown",
   "metadata": {},
   "source": [
    "### Pre-process the Data Set (normalization, grayscale, etc.)"
   ]
  },
  {
   "cell_type": "markdown",
   "metadata": {},
   "source": [
    "Minimally, the image data should be normalized so that the data has mean zero and equal variance. For image data, `(pixel - 128)/ 128` is a quick way to approximately normalize the data and can be used in this project. \n",
    "\n",
    "Other pre-processing steps are optional. You can try different techniques to see if it improves performance. \n",
    "\n",
    "Use the code cell (or multiple code cells, if necessary) to implement the first step of your project."
   ]
  },
  {
   "cell_type": "code",
   "execution_count": null,
   "metadata": {
    "collapsed": true
   },
   "outputs": [],
   "source": [
    "# Peform data augmentation\n",
    "IMAGE_SIZE = 32\n",
    "\n",
    "def centrally_scale_images(X_imgs):\n",
    "    scales = np.linspace(0.6, 1.1, 5)\n",
    "    # Calculating tf.image.crop_and_resize() params\n",
    "    boxes = np.zeros([len(scales), 4], dtype=np.float32)\n",
    "    for index, scale in enumerate(scales):\n",
    "        x1 = y1 = 0.5 - 0.5 * scale # To scale centrally\n",
    "        x2 = y2 = 0.5 + 0.5 * scale\n",
    "        boxes[index] = np.array([y1, x1, y2, x2], dtype=np.float32)\n",
    "\n",
    "    box_ind = np.zeros(len(scales), dtype=np.int32)\n",
    "    crop_size = np.array([IMAGE_SIZE, IMAGE_SIZE], dtype=np.int32)\n",
    "\n",
    "    X_scale_data = []\n",
    "    tf.reset_default_graph()\n",
    "    X = tf.placeholder(tf.float32, shape=[1, IMAGE_SIZE, IMAGE_SIZE, 3])\n",
    "    tf_img = tf.image.crop_and_resize(X, boxes, box_ind, crop_size)\n",
    "\n",
    "    with tf.Session() as session:\n",
    "        for img in X_imgs:\n",
    "            batch_img = np.expand_dims(img, axis=0)\n",
    "            scaled_imgs = session.run(tf_img, feed_dict={X: batch_img})\n",
    "            X_scale_data.extend(scaled_imgs)\n",
    "\n",
    "        X_scale_data = np.array(X_scale_data, dtype=np.uint8)\n",
    "        return X_scale_data\n",
    "\n",
    "def get_translate_params(index): \n",
    "    if index == 0: # Translate left 20%\n",
    "        offset = np.array([0.0, 0.2], dtype=np.float32)\n",
    "        size = np.array([IMAGE_SIZE, math.ceil(0.8 * IMAGE_SIZE)], dtype=np.float32)\n",
    "        w_start = 0\n",
    "        w_end = int(math.ceil(0.8 * IMAGE_SIZE))\n",
    "        h_start = 0\n",
    "        h_end = IMAGE_SIZE\n",
    "    elif index == 1: # Translate right 20%\n",
    "        offset = np.array([0.0, -0.2], dtype=np.float32)\n",
    "        size = np.array([IMAGE_SIZE, math.ceil(0.8 * IMAGE_SIZE)], dtype=np.float32)\n",
    "        w_start = int(math.floor(0.2 * IMAGE_SIZE))\n",
    "        w_end = IMAGE_SIZE\n",
    "        h_start = 0\n",
    "        h_end = IMAGE_SIZE\n",
    "    elif index == 2: # Translate top 20%\n",
    "        offset = np.array([0.2, 0.0], dtype=np.float32)\n",
    "        size = np.array([math.ceil(0.8 * IMAGE_SIZE), IMAGE_SIZE], dtype=np.float32)\n",
    "        w_start = 0\n",
    "        w_end = IMAGE_SIZE\n",
    "        h_start = 0\n",
    "        h_end = int(math.ceil(0.8 * IMAGE_SIZE))    \n",
    "    elif index == 3: # Translate bottom 20%\n",
    "        offset = np.array([-0.2, 0.0], dtype=np.float32)\n",
    "        size = np.array([math.ceil(0.8 * IMAGE_SIZE), IMAGE_SIZE], dtype=np.float32)\n",
    "        w_start = 0\n",
    "        w_end = IMAGE_SIZE\n",
    "        h_start = int(math.floor(0.2 * IMAGE_SIZE))\n",
    "        h_end = IMAGE_SIZE \n",
    "        \n",
    "    return offset, size, w_start, w_end, h_start, h_end\n",
    "\n",
    "def translate_images(X_imgs):\n",
    "    X_imgs = np.array(X_imgs, dtype=np.float32)\n",
    "    offsets = np.zeros([len(X_imgs), 2], dtype=np.float32)\n",
    "    n_translations = 4\n",
    "    X_translated_data = []\n",
    "\n",
    "    tf.reset_default_graph()\n",
    "    with tf.Session() as session:\n",
    "        for i in range(n_translations):\n",
    "            X_translated =\\\n",
    "                np.zeros([len(X_imgs), IMAGE_SIZE, IMAGE_SIZE, 3], dtype=np.float32)\n",
    "                \n",
    "            base_offset, size, w_start, w_end, h_start, h_end = get_translate_params(i)\n",
    "            offsets[:,:] = base_offset\n",
    "            glimpses = tf.image.extract_glimpse(X_imgs, size, offsets)\n",
    "            glimpses = session.run(glimpses)\n",
    "            \n",
    "            X_translated[:, h_start:h_end, w_start:w_end, :] = glimpses\n",
    "            X_translated_data.extend(X_translated)\n",
    "     \n",
    "    X_translated_data = np.array(X_translated_data, dtype=np.uint8)\n",
    "    return X_translated_data\n",
    "\n",
    "def finer_rotate_images(X_imgs):\n",
    "    tf.reset_default_graph()\n",
    "    \n",
    "    X_rotate_data = []\n",
    "    X = tf.placeholder(tf.float32, shape=[None, IMAGE_SIZE, IMAGE_SIZE, 3])\n",
    "    radian = tf.placeholder(tf.float32, shape=[len(X_imgs)])\n",
    "    tf_img = tf.contrib.image.rotate(X, radian)\n",
    "    \n",
    "    n_rotations = np.linspace(-15, 15, 6)\n",
    "    with tf.Session() as session:\n",
    "        for degree in n_rotations:\n",
    "            radian_val = degree * np.pi / 180\n",
    "            radian_arr = [radian_val] * len(X_imgs)\n",
    "            rotated_imgs = session.run(tf_img, feed_dict={\n",
    "                X: X_imgs, radian: radian_arr\n",
    "            })\n",
    "            X_rotate_data.extend(rotated_imgs)\n",
    "\n",
    "    X_rotate_data = np.array(X_rotate_data, dtype=np.uint8)\n",
    "    return X_rotate_data\n",
    "\n",
    "def add_gaussian_noise(X_imgs):\n",
    "    gaussian_noise_imgs = []\n",
    "    row, col, _ = X_imgs[0].shape\n",
    "    \n",
    "    # Gaussian distribution params\n",
    "    mean = 0.0; var = 0.1; std = var ** 0.5\n",
    "    for X_img in X_imgs:\n",
    "        X_img = X_img.astype(np.float32)\n",
    "        gaussian = np.random.random((row, col, 1)).astype(np.float32)\n",
    "        gaussian = np.concatenate((gaussian, gaussian, gaussian), axis = 2)\n",
    "        gaussian_img = cv2.addWeighted(X_img, 0.75, 0.25 * gaussian, 0.25, 0)\n",
    "        gaussian_noise_imgs.append(gaussian_img)\n",
    "\n",
    "    gaussian_noise_imgs = np.array(gaussian_noise_imgs, dtype = np.uint8)\n",
    "\n",
    "    return gaussian_noise_imgs\n",
    "\n",
    "def augment_data(X_data, y_data):\n",
    "    # Get a list of labels that have low samples\n",
    "    # Get all the images for those labels\n",
    "    # for each one fo those images choose from 1of4 tranforms\n",
    "    # extend the training set\n",
    "    #plot the resulting dist\n",
    "    # The density param allows us to get values of the pdf at the bin\n",
    "    augmented_X_data = []\n",
    "    augmented_y_data = []\n",
    "    \n",
    "    hist, _ = np.histogram(y_data, n_classes, density=True)\n",
    "    labels_to_augment = np.where(hist < 0.02)[0]\n",
    "    \n",
    "    for label in labels_to_augment:\n",
    "        images = X_data[y_data == label]\n",
    "        gen_images = []\n",
    "        \n",
    "        for img in tqdm(images, desc='Label {}'.format(label)):\n",
    "            aug_type = np.random.randint(0, 3)\n",
    "            if aug_type == 0:\n",
    "                gen_images.extend(centrally_scale_images([img]))\n",
    "            elif aug_type == 1:\n",
    "                gen_images.extend(translate_images([img]))\n",
    "            elif aug_type == 2:\n",
    "                gen_images.extend(finer_rotate_images([img]))\n",
    "            elif aug_type == 3:\n",
    "                gen_images.extend(add_gaussian_noise([img]))\n",
    "        \n",
    "        print('Generated {} new images for label {}.'.format(len(gen_images), label))\n",
    "        augmented_X_data.extend(gen_images)\n",
    "        augmented_y_data.extend([label] * len(gen_images))\n",
    "\n",
    "    print('Image augmentation process complete.')\n",
    "    return np.array(augmented_X_data, dtype=np.uint8), np.array(augmented_y_data, dtype=np.uint8)"
   ]
  },
  {
   "cell_type": "code",
   "execution_count": null,
   "metadata": {
    "collapsed": true,
    "scrolled": false
   },
   "outputs": [],
   "source": [
    "# Visualise the different data augmentation techniques on an image from the data set\n",
    "img = X_train[2238]\n",
    "\n",
    "gs = gridspec.GridSpec(1, 5)\n",
    "gs.update(wspace = 0.30, hspace = 2)\n",
    "\n",
    "fig, ax = plt.subplots(figsize = (16, 16))\n",
    "plt.subplot(gs[0])\n",
    "plt.imshow(img)\n",
    "plt.title('Base Image')\n",
    "plt.subplot(gs[1])\n",
    "plt.imshow(centrally_scale_images([img])[0])\n",
    "plt.title('Central Scaling')\n",
    "plt.subplot(gs[2])\n",
    "plt.imshow(translate_images([img])[0])\n",
    "plt.title('Translation')\n",
    "plt.subplot(gs[3])\n",
    "plt.imshow(finer_rotate_images([img])[0])\n",
    "plt.title('Rotation')\n",
    "plt.subplot(gs[4])\n",
    "plt.imshow(add_gaussian_noise([img])[0])\n",
    "plt.title('Gaussian Noise')\n",
    "plt.show()"
   ]
  },
  {
   "cell_type": "code",
   "execution_count": null,
   "metadata": {
    "collapsed": true,
    "scrolled": true
   },
   "outputs": [],
   "source": [
    "# Perform data augmentation for the training set\n",
    "X_train_aug, y_train_aug = augment_data(X_train, y_train)\n",
    "\n",
    "# Sanity check\n",
    "assert(len(X_train_aug) == len(y_train_aug))"
   ]
  },
  {
   "cell_type": "code",
   "execution_count": null,
   "metadata": {
    "collapsed": true
   },
   "outputs": [],
   "source": [
    "### Image augmentation summary\n",
    "print('Total # images prior to augmentation {}'.format(len(X_train)))\n",
    "print('Total # of augmented images {}'.format(len(X_train_aug)))\n",
    "\n",
    "# Combine the augmented data with existing training set\n",
    "X_train = np.concatenate((X_train, X_train_aug), axis=0)\n",
    "y_train = np.concatenate((y_train, y_train_aug), axis=0)\n",
    "print('Total # of images after combination with aug data {}'.format(len(X_train)))\n",
    "\n",
    "### Visualise the new label distribution\n",
    "plot_labels_dist([(y_train, 'Train', 'c')])"
   ]
  },
  {
   "cell_type": "code",
   "execution_count": null,
   "metadata": {
    "collapsed": true
   },
   "outputs": [],
   "source": [
    "# def mean_normalisation(data):\n",
    "#     image_values = np.arange(0, 256)\n",
    "#     mu, sigma = np.mean(image_values), np.std(image_values)\n",
    "#     data = (data - mu) / sigma\n",
    "#     return data\n",
    "\n",
    "# def rgb2gray(X):\n",
    "#     X = 0.2989 * X[...,0] + 0.5870 * X[...,1] + 0.1140 * X[...,2]\n",
    "#     X = np.sum(X/3, axis=2, keepdims=True)\n",
    "#     return X.squeeze()\n",
    "# \n",
    "# plt.imshow(rgb2gray(X_train[71030]).squeeze(), cmap='gray')\n",
    "# a = rgb2gray(mean_normalisation(X_train[25500]))\n",
    "# a = mean_normalisation(rgb2gray(X_train[23500]))\n",
    "# a = rgb2gray(X_train[34561] - X_train.mean(axis=0))\n",
    "\n",
    "# a = mean_normalisation(X_train[2350])\n",
    "# a.shape\n",
    "# plt.imshow(a, cmap='gray')\n",
    "# plt.imshow(X_train[25500])\n",
    "# X_train[2900]\n",
    "# plt.imshow(rgb2gray(centrally_scale_images([X_train[2350]])[0]), cmap='gray')"
   ]
  },
  {
   "cell_type": "code",
   "execution_count": null,
   "metadata": {
    "collapsed": true
   },
   "outputs": [],
   "source": [
    "### Preprocess the data here. It is required to normalize the data. Other preprocessing steps could include \n",
    "### converting to grayscale, etc.\n",
    "\n",
    "def mean_normalisation(data):\n",
    "    image_values = np.arange(0, 256)\n",
    "    mu, sigma = np.mean(image_values), np.std(image_values)\n",
    "    data = (data - mu) / sigma\n",
    "    return data    \n",
    "\n",
    "# Convert the color space for the Training set from RGB -> Gray scale\n",
    "def rgb2gray(X):\n",
    "    X = 0.2989 * X[...,0] + 0.5870 * X[...,1] + 0.1140 * X[...,2]\n",
    "    return X\n",
    "\n",
    "# Perform normalisation over the training/validation/test set to achieve mu = 0 and sigma = 1\n",
    "X_train = rgb2gray(mean_normalisation(X_train))\n",
    "X_valid = rgb2gray(mean_normalisation(X_valid))\n",
    "X_test  = rgb2gray(mean_normalisation(X_test))"
   ]
  },
  {
   "cell_type": "code",
   "execution_count": null,
   "metadata": {
    "collapsed": true
   },
   "outputs": [],
   "source": [
    "# Sanity check the shape after color space change from RGB -> Gray scale\n",
    "print('Shape {} Mean {:.3f} Std {:.3f} Min {:.3f} Max {:.3f}'\n",
    "      .format(X_train.shape, X_train.mean(), X_train.std(), X_train.min(), X_train.max()))\n",
    "\n",
    "# Visualise some of the gray scale images\n",
    "plt.imshow(X_train[2350], cmap='gray')"
   ]
  },
  {
   "cell_type": "code",
   "execution_count": null,
   "metadata": {
    "collapsed": true
   },
   "outputs": [],
   "source": [
    "### Pickle the pre-processed data sets\n",
    "print('CHECKPOINT: Pickling the pre-processed data sets...')\n",
    "try:\n",
    "    with open('./preprocessed_dataset.p', 'wb') as f:\n",
    "        d = {\n",
    "            'features_train': X_train,\n",
    "            'labels_train': y_train,\n",
    "            'features_valid': X_valid,\n",
    "            'labels_valid': y_valid,\n",
    "            'features_test': X_test,\n",
    "            'labels_test': y_test,\n",
    "        }\n",
    "\n",
    "        pickle.dump(d, f)\n",
    "except e:\n",
    "    print('Failed to pickle the data sets! Exception: ' + e)\n",
    "    \n",
    "print('Successfully pickled the data sets!')"
   ]
  },
  {
   "cell_type": "markdown",
   "metadata": {},
   "source": [
    "### Model Architecture"
   ]
  },
  {
   "cell_type": "code",
   "execution_count": 1,
   "metadata": {
    "collapsed": true
   },
   "outputs": [],
   "source": [
    "# Necessary imports\n",
    "import pickle\n",
    "import tensorflow as tf\n",
    "import numpy as np\n",
    "import pandas as pd\n",
    "import seaborn as sns\n",
    "import matplotlib\n",
    "import matplotlib.pyplot as plt\n",
    "import matplotlib.gridspec as gridspec\n",
    "import cv2\n",
    "from sklearn.utils import shuffle\n",
    "from collections import Counter\n",
    "import math\n",
    "from tqdm import tnrange\n",
    "from tqdm import tqdm_notebook as tqdm\n",
    "\n",
    "%matplotlib inline\n",
    "\n",
    "# # Load the pickled data\n",
    "data_file = './preprocessed_dataset.p'\n",
    "with open(data_file, mode='rb') as f:\n",
    "    data = pickle.load(f)\n",
    "    \n",
    "X_train, y_train = data['features_train'], data['labels_train']\n",
    "X_valid, y_valid = data['features_valid'], data['labels_valid']\n",
    "X_test, y_test = data['features_test'], data['labels_test']\n",
    "\n",
    "# Sanity checks\n",
    "assert(len(X_train) == len(y_train))\n",
    "assert(len(X_valid) == len(y_valid))\n",
    "assert(len(X_test) == len(y_test))\n",
    "\n",
    "n_classes = 43"
   ]
  },
  {
   "cell_type": "code",
   "execution_count": 2,
   "metadata": {
    "collapsed": true
   },
   "outputs": [],
   "source": [
    "### Define the model hyper params\n",
    "EPOCHS = 10\n",
    "BATCH_SIZE = 128\n",
    "# LEARNING_RATE = 0.005\n",
    "LEARNING_RATE = 0.001\n",
    "N_LABELS = n_classes\n",
    "DROPOUT = 0.8\n",
    "IMAGE_SIZE = 32\n",
    "\n",
    "X = tf.placeholder(tf.float32, shape=[None, IMAGE_SIZE, IMAGE_SIZE])\n",
    "labels = tf.placeholder(tf.int32, shape=[None])\n",
    "one_hot_labels = tf.one_hot(labels, N_LABELS) # One-hot encode the labels\n",
    "keep_prob = tf.placeholder(tf.float32)\n",
    "keep_prob_conv = tf.placeholder(tf.float32)\n",
    "learning_rate = tf.placeholder(tf.float32)"
   ]
  },
  {
   "cell_type": "code",
   "execution_count": 3,
   "metadata": {
    "collapsed": true
   },
   "outputs": [],
   "source": [
    "### Implement the model architecture\n",
    "\n",
    "def kaiming_he_init(weight_shape, layer_type='fc'):\n",
    "    fan_in, init_value = None, None\n",
    "    \n",
    "    if layer_type == 'conv':\n",
    "        fan_in = weight_shape[0] * weight_shape[1] * weight_shape[2]\n",
    "        init_value = tf.truncated_normal(weight_shape) * tf.sqrt(2 / fan_in)\n",
    "    elif layer_type == 'fc':\n",
    "        fan_in = weight_shape[0]\n",
    "        init_value = tf.truncated_normal(weight_shape) * tf.sqrt(2 / fan_in)\n",
    "    \n",
    "    return tf.Variable(init_value)\n",
    "\n",
    "# layer_depth = {\n",
    "#     'c1': 8,\n",
    "#     'c2': 8,\n",
    "#     'c3': 16,\n",
    "#     'c4': 16,\n",
    "#     'c5': 32,\n",
    "#     'c6': 32,\n",
    "#     'fc1': 128,\n",
    "# #     'fc2': 64,\n",
    "#     'out': N_LABELS\n",
    "# }\n",
    "\n",
    "# weights = {\n",
    "#     'c1': kaiming_he_init([5, 5, 1, layer_depth['c1']], 'conv'),\n",
    "#     'c2': kaiming_he_init([5, 5, layer_depth['c1'], layer_depth['c2']], 'conv'),\n",
    "#     'c3': kaiming_he_init([3, 3, layer_depth['c2'], layer_depth['c3']], 'conv'),\n",
    "#     'c4': kaiming_he_init([3, 3, layer_depth['c3'], layer_depth['c4']], 'conv'),\n",
    "#     'c5': kaiming_he_init([3, 3, layer_depth['c4'], layer_depth['c5']], 'conv'),\n",
    "#     'c6': kaiming_he_init([3, 3, layer_depth['c5'], layer_depth['c6']], 'conv'),\n",
    "#     'fc1': kaiming_he_init([4 * 4 *  layer_depth['c6'], layer_depth['fc1']]),\n",
    "# #     'fc2': kaiming_he_init([layer_depth['fc1'], layer_depth['fc2']]),\n",
    "#     'out': kaiming_he_init([layer_depth['fc1'], layer_depth['out']])\n",
    "# }\n",
    "\n",
    "# biases = {\n",
    "#     'c1': tf.Variable(tf.truncated_normal([layer_depth['c1']])),\n",
    "#     'c2': tf.Variable(tf.truncated_normal([layer_depth['c2']])),\n",
    "#     'c3': tf.Variable(tf.truncated_normal([layer_depth['c3']])),\n",
    "#     'c4': tf.Variable(tf.truncated_normal([layer_depth['c4']])),\n",
    "#     'c5': tf.Variable(tf.truncated_normal([layer_depth['c5']])),\n",
    "#     'c6': tf.Variable(tf.truncated_normal([layer_depth['c6']])),\n",
    "#     'fc1': tf.Variable(tf.truncated_normal([layer_depth['fc1']])),\n",
    "# #     'fc2': tf.Variable(tf.truncated_normal([layer_depth['fc2']])),\n",
    "#     'out': tf.Variable(tf.truncated_normal([layer_depth['out']]))\n",
    "# }\n",
    "\n",
    "# def conv2d(input_vol, W, b, stride=1, padding='SAME'):\n",
    "#     conv_layer = tf.nn.conv2d(input_vol, W, strides=[1, stride, stride, 1], padding=padding)\n",
    "#     conv_layer = tf.nn.bias_add(conv_layer, b)\n",
    "#     conv_layer = tf.nn.relu(conv_layer)\n",
    "#     return conv_layer\n",
    "    \n",
    "# def maxpool2d(input_vol, k=2, stride=2):\n",
    "#     pool = tf.nn.max_pool(input_vol, ksize=[1, k, k, 1], strides=[1, stride, stride, 1], padding='SAME')\n",
    "#     return pool\n",
    "\n",
    "# def traffic_sign_cnn(X, weights, biases, keep_prob, keep_prob_conv):\n",
    "#     # CONV1    Input = [32x32x1] Output = [32x32x16]\n",
    "#     X = tf.expand_dims(X, -1)\n",
    "#     conv1 = conv2d(X, weights['c1'], biases['c1'])\n",
    "    \n",
    "#     # CONV2    Input = [32x32x16] Output = [32x32x16]\n",
    "#     # MAXPOOL  Input = [32x32x16] Output = [16x16x16]\n",
    "#     conv2 = conv2d(conv1, weights['c2'], biases['c2'])\n",
    "#     conv2 = maxpool2d(conv2)\n",
    "#     con2 = tf.nn.dropout(conv2, keep_prob=keep_prob_conv)\n",
    "    \n",
    "#     # CONV3    Input = [16x16x16] Output = [16x16x32]\n",
    "#     conv3 = conv2d(conv2, weights['c3'], biases['c3'])\n",
    "\n",
    "#     # CONV4    Input = [16x16x32] Output = [16x16x32]\n",
    "#     # MAXPOOL  Input = [16x16x32] Output = [8x8x32]\n",
    "#     conv4 = conv2d(conv3, weights['c4'], biases['c4'])\n",
    "#     conv4 = maxpool2d(conv4)\n",
    "#     con4 = tf.nn.dropout(conv4, keep_prob=keep_prob_conv)\n",
    "    \n",
    "#     # CONV5    Input = [8x8x32] Output = [8x8x64]\n",
    "#     conv5 = conv2d(conv4, weights['c5'], biases['c5'])\n",
    "\n",
    "#     # CONV6    Input = [8x8x64] Output = [8x8x64]\n",
    "#     # MAXPOOL  Input = [8x8x64] Output = [4x4x64]\n",
    "#     conv6 = conv2d(conv5, weights['c6'], biases['c6'])\n",
    "#     conv6 = maxpool2d(conv6)\n",
    "#     con6 = tf.nn.dropout(conv6, keep_prob=keep_prob_conv)\n",
    "    \n",
    "#     # FC1     Input = [1024] Output =  [256]\n",
    "#     fc1 = tf.contrib.layers.flatten(conv6)\n",
    "#     fc1 = tf.matmul(fc1, weights['fc1']) + biases['fc1']\n",
    "#     fc1 = tf.nn.relu(fc1)\n",
    "#     fc1 = tf.nn.dropout(fc1, keep_prob=keep_prob)\n",
    "    \n",
    "#     # FC2     Input = [256] Output =  [128]\n",
    "# #     fc2 = tf.matmul(fc1, weights['fc2']) + biases['fc2']\n",
    "# #     fc2 = tf.nn.relu(fc2)\n",
    "# #     fc2 = tf.nn.dropout(fc2, keep_prob=keep_prob)\n",
    "\n",
    "#     # OUT     Input = [128] Output =  [10]\n",
    "#     out = tf.matmul(fc1, weights['out']) + biases['out']\n",
    "    \n",
    "#     return out"
   ]
  },
  {
   "cell_type": "code",
   "execution_count": 4,
   "metadata": {
    "collapsed": true
   },
   "outputs": [],
   "source": [
    "layer_depth = {\n",
    "    'layer_1': 12,\n",
    "    'layer_2': 32,\n",
    "    'layer_3': 32,\n",
    "    'fully_connected_1': 512,\n",
    "    'fully_connected_2': 256,\n",
    "    'out': n_classes,\n",
    "}\n",
    "\n",
    "weights = {\n",
    "    'layer_1': kaiming_he_init((5, 5, 1, layer_depth['layer_1']), 'conv'),\n",
    "    'layer_2': kaiming_he_init((5, 5, layer_depth['layer_1'], layer_depth['layer_2']), 'conv'),\n",
    "    'layer_3': kaiming_he_init((3, 3, layer_depth['layer_2'], layer_depth['layer_3']), 'conv'),\n",
    "    'fully_connected_1': kaiming_he_init((5*5*layer_depth['layer_3'], layer_depth['fully_connected_1'])),\n",
    "    'fully_connected_2': kaiming_he_init((layer_depth['fully_connected_1'], layer_depth['fully_connected_2'])),\n",
    "    'out': kaiming_he_init((layer_depth['fully_connected_2'], layer_depth['out']))\n",
    "}\n",
    "#+0.3 over the first epochs than +-0\n",
    "\n",
    "biases = {\n",
    "    'layer_1': tf.Variable(tf.zeros(layer_depth['layer_1'])),\n",
    "    'layer_2': tf.Variable(tf.zeros(layer_depth['layer_2'])),\n",
    "    'layer_3': tf.Variable(tf.zeros(layer_depth['layer_3'])),\n",
    "    'fully_connected_1': tf.Variable(tf.zeros(layer_depth['fully_connected_1'])),\n",
    "    'fully_connected_2': tf.Variable(tf.zeros(layer_depth['fully_connected_2'])),\n",
    "    'out': tf.Variable(tf.zeros(layer_depth['out'])),\n",
    "}\n",
    "\n",
    "# Define helper functions\n",
    "def conv2d(x, W, b, strides=1, padding='VALID'):\n",
    "    x = tf.nn.conv2d(x, W, strides=[1, strides, strides, 1], padding = padding)\n",
    "    x = tf.nn.bias_add(x, b)\n",
    "    return tf.nn.relu(x)\n",
    "\n",
    "def maxpool2d(x, k=2):\n",
    "    return tf.nn.max_pool(x, ksize=[1, k, k, 1],\n",
    "                         strides=[1, k, k, 1],\n",
    "                         padding='VALID')\n",
    "\n",
    "def LeNetTransformed(x):\n",
    "    # Input = 32x32x1. Output = 28x28x12.\n",
    "    x = tf.expand_dims(x, -1)\n",
    "    conv1 = conv2d(x, weights['layer_1'], biases['layer_1'])\n",
    "    # Input = 28x28x12. Output = 14x14x32.\n",
    "    conv1 = maxpool2d(conv1)\n",
    "    \n",
    "    # Output = 10x10x32.\n",
    "    conv2 = conv2d(conv1, weights['layer_2'], biases['layer_2'])\n",
    "    \n",
    "    # Input = 10x10x32. Output = 5x5x32.\n",
    "#     conv2 = maxpool2d(conv2)\n",
    "    \n",
    "    conv3 = conv2d(conv2, weights['layer_3'], biases['layer_3'], padding='SAME')\n",
    "    conv3 = maxpool2d(conv3)\n",
    "\n",
    "    # Input = 5x5x32. Output = 320.\n",
    "    fc0 = tf.contrib.layers.flatten(conv3)\n",
    "    \n",
    "    # Input = 320. Output = 512.\n",
    "    fc1 = tf.add(tf.matmul(fc0, weights['fully_connected_1']), biases['fully_connected_1'])\n",
    "    fc1 = tf.nn.relu(fc1)\n",
    "    \n",
    "    # Add Dropout \n",
    "    fc1 = tf.nn.dropout(fc1, keep_prob=keep_prob)\n",
    "    # +0.02\n",
    "    \n",
    "    # Input = 512. Output = 256.\n",
    "    fc2 = tf.add(tf.matmul(fc1, weights['fully_connected_2']), biases['fully_connected_2'])   \n",
    "    fc2 = tf.nn.relu(fc2)\n",
    "    \n",
    "    # Add Dropout\n",
    "    fc2 = tf.nn.dropout(fc2, keep_prob=keep_prob)\n",
    "    # +0.01\n",
    "    \n",
    "    # Input = 256. Output = 43.\n",
    "    logits = tf.add(tf.matmul(fc2, weights['out']), biases['out'])\n",
    "    \n",
    "    return logits\n",
    "\n",
    "# weights = {\n",
    "#     'c1': tf.Variable(tf.truncated_normal([5, 5, 1, 6], mean=0, stddev=0.1)),\n",
    "#     'c2': tf.Variable(tf.truncated_normal([5, 5, 6, 16], mean=0, stddev=0.1)),\n",
    "#     'fc1': tf.Variable(tf.truncated_normal([400, 120], mean=0, stddev=0.1)),\n",
    "#     'fc2': tf.Variable(tf.truncated_normal([120, 84], mean=0, stddev=0.1)),\n",
    "#     'out': tf.Variable(tf.truncated_normal([84, 43], mean=0, stddev=0.1))\n",
    "# }\n",
    "\n",
    "# biases = {\n",
    "#     'c1': tf.Variable(tf.truncated_normal([6], mean=0, stddev=0.1)),\n",
    "#     'c2': tf.Variable(tf.truncated_normal([16], mean=0, stddev=0.1)),\n",
    "#     'fc1': tf.Variable(tf.truncated_normal([120], mean=0, stddev=0.1)),\n",
    "#     'fc2': tf.Variable(tf.truncated_normal([84], mean=0, stddev=0.1)),\n",
    "#     'out': tf.Variable(tf.truncated_normal([43], mean=0, stddev=0.1))\n",
    "# }\n",
    "\n",
    "# def conv2d(input_vol, W, b, stride=1, padding='SAME'):\n",
    "#     conv_layer = tf.nn.conv2d(input_vol, W, strides=[1, stride, stride, 1], padding=padding)\n",
    "#     conv_layer = tf.nn.bias_add(conv_layer, b)\n",
    "#     conv_layer = tf.nn.relu(conv_layer)\n",
    "#     return conv_layer\n",
    "\n",
    "# def pool2d(input_vol, k=2, stride=2):\n",
    "#     return tf.nn.max_pool(input_vol, ksize=[1, k, k, 1], strides=[1, stride, stride, 1], padding='SAME')\n",
    "\n",
    "# def lenet(images, weights, biases, keep_probab):\n",
    "#     # CONV1 Input = [32x32x1] Output = [28x28x6]\n",
    "#     images = tf.expand_dims(images, -1)\n",
    "#     conv1 = conv2d(images, weights['c1'], biases['c1'], padding='VALID')\n",
    "    \n",
    "#     # POOL1 Input = [28x28x6] Output = [14x14x6]\n",
    "#     pool1 = pool2d(conv1)\n",
    "    \n",
    "#     # CONV2 Input = [14x14x6] Output = [10x10x16]\n",
    "#     conv2 = conv2d(pool1, weights['c2'], biases['c2'], padding='VALID')\n",
    "    \n",
    "#     # POOL2 Input = [10x10x16] Output = [5x5x16]\n",
    "#     pool2 = pool2d(conv2)\n",
    "    \n",
    "#     # FC1 Input = 400 Output = 120\n",
    "#     fc1 = tf.reshape(pool2, shape=[-1, weights['fc1'].get_shape().as_list()[0]])\n",
    "#     fc1 = tf.matmul(fc1, weights['fc1']) + biases['fc1']\n",
    "#     fc1 = tf.nn.relu(fc1)\n",
    "    \n",
    "#     # FC2 Input = 120 Output = 84\n",
    "#     fc2 = tf.matmul(fc1, weights['fc2']) + biases['fc2']\n",
    "#     fc2 = tf.nn.relu(fc2)\n",
    "    \n",
    "#     # OUT Input = 84 Output = 10\n",
    "#     out = tf.matmul(fc2, weights['out']) + biases['out']\n",
    "#     return out"
   ]
  },
  {
   "cell_type": "code",
   "execution_count": 5,
   "metadata": {
    "collapsed": true
   },
   "outputs": [],
   "source": [
    "### Training pipeline\n",
    "logits = LeNetTransformed(X)\n",
    "# loss = tf.reduce_mean(tf.nn.softmax_cross_entropy_with_logits(logits=logits, labels=one_hot_labels)) +\\\n",
    "#         0.01 * tf.nn.l2_loss(weights['fully_connected_1']) + 0.01 * tf.nn.l2_loss(weights['fully_connected_2'])\n",
    "\n",
    "# logits = traffic_sign_cnn(X, weights, biases, keep_prob, keep_prob_conv)\n",
    "# logits = lenet(X, weights, biases, keep_prob)\n",
    "\n",
    "loss = tf.reduce_mean(tf.nn.softmax_cross_entropy_with_logits(logits=logits, labels=one_hot_labels)) +\\\n",
    "        0.0001 * tf.nn.l2_loss(weights['fully_connected_1']) + 0.0001 * tf.nn.l2_loss(weights['fully_connected_2'])\n",
    "\n",
    "optimiser = tf.train.AdamOptimizer(learning_rate=learning_rate)\\\n",
    "                .minimize(loss)"
   ]
  },
  {
   "cell_type": "code",
   "execution_count": 6,
   "metadata": {
    "collapsed": true
   },
   "outputs": [],
   "source": [
    "### Model Evaluation Pipeline\n",
    "correct_predictions = tf.equal(tf.argmax(logits, 1), tf.argmax(one_hot_labels, 1))\n",
    "accuracy = tf.reduce_mean(tf.cast(correct_predictions, dtype=tf.float32))\n",
    "\n",
    "saver = tf.train.Saver()\n",
    "\n",
    "def evaluate(X_data, y_data):\n",
    "    num_examples = len(X_data)\n",
    "    total_accuracy = 0.0\n",
    "    session = tf.get_default_session()\n",
    "    \n",
    "    for offset in range(0, num_examples, BATCH_SIZE):\n",
    "        X_batch, y_batch = X_data[offset: offset+BATCH_SIZE], y_data[offset: offset+BATCH_SIZE]\n",
    "        data_accuracy = session.run(accuracy, feed_dict={\n",
    "            X: X_batch,\n",
    "            labels: y_batch,\n",
    "            keep_prob: 1.0,\n",
    "            keep_prob_conv: 1.0\n",
    "        })\n",
    "        total_accuracy += (data_accuracy * len(X_batch))\n",
    "    \n",
    "    return total_accuracy / num_examples"
   ]
  },
  {
   "cell_type": "markdown",
   "metadata": {},
   "source": [
    "### Train, Validate and Test the Model"
   ]
  },
  {
   "cell_type": "markdown",
   "metadata": {},
   "source": [
    "A validation set can be used to assess how well the model is performing. A low accuracy on the training and validation\n",
    "sets imply underfitting. A high accuracy on the training set but low accuracy on the validation set implies overfitting."
   ]
  },
  {
   "cell_type": "code",
   "execution_count": 7,
   "metadata": {
    "scrolled": false
   },
   "outputs": [
    {
     "name": "stdout",
     "output_type": "stream",
     "text": [
      "Training...\n"
     ]
    },
    {
     "ename": "KeyboardInterrupt",
     "evalue": "",
     "output_type": "error",
     "traceback": [
      "\u001b[0;31m---------------------------------------------------------------------------\u001b[0m",
      "\u001b[0;31mKeyboardInterrupt\u001b[0m                         Traceback (most recent call last)",
      "\u001b[0;32m<ipython-input-7-2f4b5281ced1>\u001b[0m in \u001b[0;36m<module>\u001b[0;34m()\u001b[0m\n\u001b[1;32m     22\u001b[0m \u001b[0;34m\u001b[0m\u001b[0m\n\u001b[1;32m     23\u001b[0m             session.run(optimiser, feed_dict={X: X_batch, labels: y_batch, keep_prob: DROPOUT,\n\u001b[0;32m---> 24\u001b[0;31m                                              learning_rate: LEARNING_RATE, keep_prob_conv: 0.7})\n\u001b[0m\u001b[1;32m     25\u001b[0m \u001b[0;34m\u001b[0m\u001b[0m\n\u001b[1;32m     26\u001b[0m         \u001b[0maccuracy_train\u001b[0m \u001b[0;34m=\u001b[0m \u001b[0mevaluate\u001b[0m\u001b[0;34m(\u001b[0m\u001b[0mX_train\u001b[0m\u001b[0;34m,\u001b[0m \u001b[0my_train\u001b[0m\u001b[0;34m)\u001b[0m\u001b[0;34m\u001b[0m\u001b[0m\n",
      "\u001b[0;32m~/anaconda/envs/carnd-term1/lib/python3.5/site-packages/tensorflow/python/client/session.py\u001b[0m in \u001b[0;36mrun\u001b[0;34m(self, fetches, feed_dict, options, run_metadata)\u001b[0m\n\u001b[1;32m    893\u001b[0m     \u001b[0;32mtry\u001b[0m\u001b[0;34m:\u001b[0m\u001b[0;34m\u001b[0m\u001b[0m\n\u001b[1;32m    894\u001b[0m       result = self._run(None, fetches, feed_dict, options_ptr,\n\u001b[0;32m--> 895\u001b[0;31m                          run_metadata_ptr)\n\u001b[0m\u001b[1;32m    896\u001b[0m       \u001b[0;32mif\u001b[0m \u001b[0mrun_metadata\u001b[0m\u001b[0;34m:\u001b[0m\u001b[0;34m\u001b[0m\u001b[0m\n\u001b[1;32m    897\u001b[0m         \u001b[0mproto_data\u001b[0m \u001b[0;34m=\u001b[0m \u001b[0mtf_session\u001b[0m\u001b[0;34m.\u001b[0m\u001b[0mTF_GetBuffer\u001b[0m\u001b[0;34m(\u001b[0m\u001b[0mrun_metadata_ptr\u001b[0m\u001b[0;34m)\u001b[0m\u001b[0;34m\u001b[0m\u001b[0m\n",
      "\u001b[0;32m~/anaconda/envs/carnd-term1/lib/python3.5/site-packages/tensorflow/python/client/session.py\u001b[0m in \u001b[0;36m_run\u001b[0;34m(self, handle, fetches, feed_dict, options, run_metadata)\u001b[0m\n\u001b[1;32m   1122\u001b[0m     \u001b[0;32mif\u001b[0m \u001b[0mfinal_fetches\u001b[0m \u001b[0;32mor\u001b[0m \u001b[0mfinal_targets\u001b[0m \u001b[0;32mor\u001b[0m \u001b[0;34m(\u001b[0m\u001b[0mhandle\u001b[0m \u001b[0;32mand\u001b[0m \u001b[0mfeed_dict_tensor\u001b[0m\u001b[0;34m)\u001b[0m\u001b[0;34m:\u001b[0m\u001b[0;34m\u001b[0m\u001b[0m\n\u001b[1;32m   1123\u001b[0m       results = self._do_run(handle, final_targets, final_fetches,\n\u001b[0;32m-> 1124\u001b[0;31m                              feed_dict_tensor, options, run_metadata)\n\u001b[0m\u001b[1;32m   1125\u001b[0m     \u001b[0;32melse\u001b[0m\u001b[0;34m:\u001b[0m\u001b[0;34m\u001b[0m\u001b[0m\n\u001b[1;32m   1126\u001b[0m       \u001b[0mresults\u001b[0m \u001b[0;34m=\u001b[0m \u001b[0;34m[\u001b[0m\u001b[0;34m]\u001b[0m\u001b[0;34m\u001b[0m\u001b[0m\n",
      "\u001b[0;32m~/anaconda/envs/carnd-term1/lib/python3.5/site-packages/tensorflow/python/client/session.py\u001b[0m in \u001b[0;36m_do_run\u001b[0;34m(self, handle, target_list, fetch_list, feed_dict, options, run_metadata)\u001b[0m\n\u001b[1;32m   1319\u001b[0m     \u001b[0;32mif\u001b[0m \u001b[0mhandle\u001b[0m \u001b[0;32mis\u001b[0m \u001b[0;32mNone\u001b[0m\u001b[0;34m:\u001b[0m\u001b[0;34m\u001b[0m\u001b[0m\n\u001b[1;32m   1320\u001b[0m       return self._do_call(_run_fn, self._session, feeds, fetches, targets,\n\u001b[0;32m-> 1321\u001b[0;31m                            options, run_metadata)\n\u001b[0m\u001b[1;32m   1322\u001b[0m     \u001b[0;32melse\u001b[0m\u001b[0;34m:\u001b[0m\u001b[0;34m\u001b[0m\u001b[0m\n\u001b[1;32m   1323\u001b[0m       \u001b[0;32mreturn\u001b[0m \u001b[0mself\u001b[0m\u001b[0;34m.\u001b[0m\u001b[0m_do_call\u001b[0m\u001b[0;34m(\u001b[0m\u001b[0m_prun_fn\u001b[0m\u001b[0;34m,\u001b[0m \u001b[0mself\u001b[0m\u001b[0;34m.\u001b[0m\u001b[0m_session\u001b[0m\u001b[0;34m,\u001b[0m \u001b[0mhandle\u001b[0m\u001b[0;34m,\u001b[0m \u001b[0mfeeds\u001b[0m\u001b[0;34m,\u001b[0m \u001b[0mfetches\u001b[0m\u001b[0;34m)\u001b[0m\u001b[0;34m\u001b[0m\u001b[0m\n",
      "\u001b[0;32m~/anaconda/envs/carnd-term1/lib/python3.5/site-packages/tensorflow/python/client/session.py\u001b[0m in \u001b[0;36m_do_call\u001b[0;34m(self, fn, *args)\u001b[0m\n\u001b[1;32m   1325\u001b[0m   \u001b[0;32mdef\u001b[0m \u001b[0m_do_call\u001b[0m\u001b[0;34m(\u001b[0m\u001b[0mself\u001b[0m\u001b[0;34m,\u001b[0m \u001b[0mfn\u001b[0m\u001b[0;34m,\u001b[0m \u001b[0;34m*\u001b[0m\u001b[0margs\u001b[0m\u001b[0;34m)\u001b[0m\u001b[0;34m:\u001b[0m\u001b[0;34m\u001b[0m\u001b[0m\n\u001b[1;32m   1326\u001b[0m     \u001b[0;32mtry\u001b[0m\u001b[0;34m:\u001b[0m\u001b[0;34m\u001b[0m\u001b[0m\n\u001b[0;32m-> 1327\u001b[0;31m       \u001b[0;32mreturn\u001b[0m \u001b[0mfn\u001b[0m\u001b[0;34m(\u001b[0m\u001b[0;34m*\u001b[0m\u001b[0margs\u001b[0m\u001b[0;34m)\u001b[0m\u001b[0;34m\u001b[0m\u001b[0m\n\u001b[0m\u001b[1;32m   1328\u001b[0m     \u001b[0;32mexcept\u001b[0m \u001b[0merrors\u001b[0m\u001b[0;34m.\u001b[0m\u001b[0mOpError\u001b[0m \u001b[0;32mas\u001b[0m \u001b[0me\u001b[0m\u001b[0;34m:\u001b[0m\u001b[0;34m\u001b[0m\u001b[0m\n\u001b[1;32m   1329\u001b[0m       \u001b[0mmessage\u001b[0m \u001b[0;34m=\u001b[0m \u001b[0mcompat\u001b[0m\u001b[0;34m.\u001b[0m\u001b[0mas_text\u001b[0m\u001b[0;34m(\u001b[0m\u001b[0me\u001b[0m\u001b[0;34m.\u001b[0m\u001b[0mmessage\u001b[0m\u001b[0;34m)\u001b[0m\u001b[0;34m\u001b[0m\u001b[0m\n",
      "\u001b[0;32m~/anaconda/envs/carnd-term1/lib/python3.5/site-packages/tensorflow/python/client/session.py\u001b[0m in \u001b[0;36m_run_fn\u001b[0;34m(session, feed_dict, fetch_list, target_list, options, run_metadata)\u001b[0m\n\u001b[1;32m   1304\u001b[0m           return tf_session.TF_Run(session, options,\n\u001b[1;32m   1305\u001b[0m                                    \u001b[0mfeed_dict\u001b[0m\u001b[0;34m,\u001b[0m \u001b[0mfetch_list\u001b[0m\u001b[0;34m,\u001b[0m \u001b[0mtarget_list\u001b[0m\u001b[0;34m,\u001b[0m\u001b[0;34m\u001b[0m\u001b[0m\n\u001b[0;32m-> 1306\u001b[0;31m                                    status, run_metadata)\n\u001b[0m\u001b[1;32m   1307\u001b[0m \u001b[0;34m\u001b[0m\u001b[0m\n\u001b[1;32m   1308\u001b[0m     \u001b[0;32mdef\u001b[0m \u001b[0m_prun_fn\u001b[0m\u001b[0;34m(\u001b[0m\u001b[0msession\u001b[0m\u001b[0;34m,\u001b[0m \u001b[0mhandle\u001b[0m\u001b[0;34m,\u001b[0m \u001b[0mfeed_dict\u001b[0m\u001b[0;34m,\u001b[0m \u001b[0mfetch_list\u001b[0m\u001b[0;34m)\u001b[0m\u001b[0;34m:\u001b[0m\u001b[0;34m\u001b[0m\u001b[0m\n",
      "\u001b[0;31mKeyboardInterrupt\u001b[0m: "
     ]
    },
    {
     "name": "stdout",
     "output_type": "stream",
     "text": [
      "\r",
      "          \r",
      "185/|/ 32%|| 185/575 [00:30<01:03,  6.17it/s]"
     ]
    }
   ],
   "source": [
    "### Train your model here.\n",
    "### Calculate and report the accuracy on the training and validation set.\n",
    "### Once a final model architecture is selected, \n",
    "### the accuracy on the test set should be calculated and reported as well.\n",
    "### Feel free to use as many code cells as needed.\n",
    "import time\n",
    "with tf.Session() as session:\n",
    "    session.run(tf.global_variables_initializer())\n",
    "    print('Training...')\n",
    "    num_examples = len(X_train)\n",
    "          \n",
    "    for epoch_i in range(EPOCHS):\n",
    "        X_train, y_train = shuffle(X_train, y_train)\n",
    "        for offset in tnrange(0, num_examples, BATCH_SIZE, desc='Epoch {:>2}'.format(epoch_i + 1)):\n",
    "            end = offset + BATCH_SIZE\n",
    "            X_batch, y_batch = X_train[offset:end], y_train[offset:end]\n",
    "            if epoch_i > 5:                \n",
    "                LEARNING_RATE = 0.0005\n",
    "                \n",
    "            if epoch_i > 10:\n",
    "                LEARNING_RATE = 0.0001\n",
    "                \n",
    "            session.run(optimiser, feed_dict={X: X_batch, labels: y_batch, keep_prob: DROPOUT,\n",
    "                                             learning_rate: LEARNING_RATE, keep_prob_conv: 0.7})\n",
    "            \n",
    "        accuracy_train = evaluate(X_train, y_train)\n",
    "        accuracy_valid = evaluate(X_valid, y_valid)\n",
    "        print(\"EPOCH {} ...\".format(epoch_i + 1))\n",
    "        print(\"Training Accuracy = {:.5f}\".format(accuracy_train))\n",
    "        print(\"Validation Accuracy = {:.5f}\".format(accuracy_valid))\n",
    "        print()\n",
    "    \n",
    "    ckpt_file = 'ckpts/model-{}-{}-{}'.format(int(accuracy_train*10000), int(accuracy_valid*10000), time.time())\n",
    "    saver.save(session, ckpt_file)\n",
    "    print(\"Model saved at {}\".format(ckpt_file))"
   ]
  },
  {
   "cell_type": "markdown",
   "metadata": {},
   "source": [
    "## Step 3: Test a Model on New Images\n",
    "\n",
    "To give yourself more insight into how your model is working, download at least five pictures of German traffic signs from the web and use your model to predict the traffic sign type.\n",
    "\n",
    "You may find `signnames.csv` useful as it contains mappings from the class id (integer) to the actual sign name."
   ]
  },
  {
   "cell_type": "markdown",
   "metadata": {},
   "source": [
    "### Load and Output the Images"
   ]
  },
  {
   "cell_type": "code",
   "execution_count": 47,
   "metadata": {},
   "outputs": [
    {
     "name": "stdout",
     "output_type": "stream",
     "text": [
      "['./images_3/1.png', './images_3/10.png', './images_3/2.png', './images_3/3.png', './images_3/5.png', './images_3/6.png', './images_3/8.png', './images_3/9.png']\n",
      "\n",
      "Total # images: 8\n"
     ]
    }
   ],
   "source": [
    "### Load the images and plot them here.\n",
    "### Feel free to use as many code cells as needed.\n",
    "\n",
    "import matplotlib.image as mpimg\n",
    "import matplotlib.pyplot as plt\n",
    "import os\n",
    "%matplotlib inline\n",
    "\n",
    "def get_image_paths(dirname):\n",
    "    try:\n",
    "        files = os.listdir(dirname)\n",
    "    except Exception as e:\n",
    "        print('Unable to load the images. Exception: {}'.format(e))\n",
    "    \n",
    "    files.sort()\n",
    "    files = ['{}/{}'.format(dirname, f) for f in files]\n",
    "    return files\n",
    "\n",
    "X_prod_image_paths = get_image_paths('./images_3')\n",
    "print(X_prod_image_paths)\n",
    "print()\n",
    "print('Total # images: {}'.format(len(X_prod_image_paths)))"
   ]
  },
  {
   "cell_type": "code",
   "execution_count": 48,
   "metadata": {},
   "outputs": [
    {
     "data": {
      "text/plain": [
       "array([[[ 0.73725492,  0.5529412 ,  0.54901963,  1.        ],\n",
       "        [ 0.77254903,  0.47058824,  0.39607844,  1.        ],\n",
       "        [ 0.81176472,  0.46666667,  0.37254903,  1.        ],\n",
       "        ..., \n",
       "        [ 0.7764706 ,  0.48627451,  0.41960785,  1.        ],\n",
       "        [ 0.72941178,  0.56078434,  0.50196081,  1.        ],\n",
       "        [ 0.56862748,  0.6156863 ,  0.69411767,  1.        ]],\n",
       "\n",
       "       [[ 0.74509805,  0.49411765,  0.47450981,  1.        ],\n",
       "        [ 0.8392157 ,  0.47450981,  0.39607844,  1.        ],\n",
       "        [ 0.8509804 ,  0.4627451 ,  0.36470589,  1.        ],\n",
       "        ..., \n",
       "        [ 0.78039217,  0.51764709,  0.4509804 ,  1.        ],\n",
       "        [ 0.76862746,  0.627451  ,  0.56862748,  1.        ],\n",
       "        [ 0.57254905,  0.627451  ,  0.71372551,  1.        ]],\n",
       "\n",
       "       [[ 0.80392158,  0.47843137,  0.41960785,  1.        ],\n",
       "        [ 0.87058824,  0.45882353,  0.36862746,  1.        ],\n",
       "        [ 0.85882354,  0.44705883,  0.34509805,  1.        ],\n",
       "        ..., \n",
       "        [ 0.68235296,  0.57647061,  0.54509807,  1.        ],\n",
       "        [ 0.54901963,  0.53725493,  0.51764709,  1.        ],\n",
       "        [ 0.38431373,  0.47450981,  0.58823532,  1.        ]],\n",
       "\n",
       "       ..., \n",
       "       [[ 0.51372552,  0.64705884,  0.82352942,  1.        ],\n",
       "        [ 0.52549022,  0.65882355,  0.83529413,  1.        ],\n",
       "        [ 0.52549022,  0.65882355,  0.83529413,  1.        ],\n",
       "        ..., \n",
       "        [ 0.53725493,  0.65490198,  0.81176472,  1.        ],\n",
       "        [ 0.53333336,  0.65490198,  0.80784315,  1.        ],\n",
       "        [ 0.52549022,  0.65098041,  0.81176472,  1.        ]],\n",
       "\n",
       "       [[ 0.51764709,  0.65098041,  0.82745099,  1.        ],\n",
       "        [ 0.51764709,  0.65098041,  0.82745099,  1.        ],\n",
       "        [ 0.51764709,  0.65098041,  0.82745099,  1.        ],\n",
       "        ..., \n",
       "        [ 0.52156866,  0.65098041,  0.80784315,  1.        ],\n",
       "        [ 0.52156866,  0.65098041,  0.80784315,  1.        ],\n",
       "        [ 0.51764709,  0.64705884,  0.80392158,  1.        ]],\n",
       "\n",
       "       [[ 0.52549022,  0.65882355,  0.83529413,  1.        ],\n",
       "        [ 0.52549022,  0.65882355,  0.83529413,  1.        ],\n",
       "        [ 0.52549022,  0.65882355,  0.83529413,  1.        ],\n",
       "        ..., \n",
       "        [ 0.50980395,  0.64313728,  0.80392158,  1.        ],\n",
       "        [ 0.50980395,  0.64313728,  0.80392158,  1.        ],\n",
       "        [ 0.51764709,  0.64705884,  0.80784315,  1.        ]]], dtype=float32)"
      ]
     },
     "execution_count": 48,
     "metadata": {},
     "output_type": "execute_result"
    }
   ],
   "source": [
    "mpimg.imread(X_prod_image_paths[1])"
   ]
  },
  {
   "cell_type": "code",
   "execution_count": 49,
   "metadata": {},
   "outputs": [
    {
     "name": "stdout",
     "output_type": "stream",
     "text": [
      "(8, 32, 32, 3)\n"
     ]
    }
   ],
   "source": [
    "# Resize the images and display them\n",
    "\n",
    "def resize_images(image_paths):\n",
    "    X_data = []\n",
    "    b_image = tf.placeholder(tf.float32, shape=[None, None, 3])\n",
    "    tf_img = tf.image.resize_images(b_image, [IMAGE_SIZE, IMAGE_SIZE],\n",
    "                             tf.image.ResizeMethod.NEAREST_NEIGHBOR)\n",
    "\n",
    "    with tf.Session() as session:\n",
    "        for index, image_path in enumerate(image_paths):\n",
    "            img = mpimg.imread(image_path)[:,:,:3]\n",
    "            if img.shape != (IMAGE_SIZE, IMAGE_SIZE, 3):\n",
    "                resized_img = session.run(tf_img, feed_dict={b_image: img})\n",
    "                X_data.append(resized_img)\n",
    "            else:\n",
    "                 X_data.append(img)\n",
    "\n",
    "    X_data = np.array(X_data, dtype=np.float32)\n",
    "    return X_data\n",
    "\n",
    "X_prod = resize_images(X_prod_image_paths)\n",
    "print(X_prod.shape)"
   ]
  },
  {
   "cell_type": "code",
   "execution_count": 50,
   "metadata": {},
   "outputs": [
    {
     "data": {
      "text/plain": [
       "array([[[ 0.53725493,  0.58431375,  0.64705884],\n",
       "        [ 0.54509807,  0.59215689,  0.65490198],\n",
       "        [ 0.58823532,  0.61960787,  0.67058825],\n",
       "        ..., \n",
       "        [ 0.74509805,  0.75294119,  0.80784315],\n",
       "        [ 0.70588237,  0.71372551,  0.77254903],\n",
       "        [ 0.67450982,  0.68235296,  0.74117649]],\n",
       "\n",
       "       [[ 0.55686277,  0.60392159,  0.65098041],\n",
       "        [ 0.56078434,  0.61176473,  0.65882355],\n",
       "        [ 0.58823532,  0.63137257,  0.67843139],\n",
       "        ..., \n",
       "        [ 0.70980394,  0.74117649,  0.7764706 ],\n",
       "        [ 0.67450982,  0.70588237,  0.74117649],\n",
       "        [ 0.65490198,  0.68235296,  0.72941178]],\n",
       "\n",
       "       [[ 0.58823532,  0.63529414,  0.67843139],\n",
       "        [ 0.58039218,  0.63137257,  0.67450982],\n",
       "        [ 0.58823532,  0.63137257,  0.67843139],\n",
       "        ..., \n",
       "        [ 0.6901961 ,  0.72941178,  0.75294119],\n",
       "        [ 0.65490198,  0.6901961 ,  0.71764708],\n",
       "        [ 0.63921571,  0.67450982,  0.7019608 ]],\n",
       "\n",
       "       ..., \n",
       "       [[ 0.42745098,  0.60784316,  0.78039217],\n",
       "        [ 0.49803922,  0.57647061,  0.66666669],\n",
       "        [ 0.50980395,  0.54509807,  0.6156863 ],\n",
       "        ..., \n",
       "        [ 0.50980395,  0.60784316,  0.68627453],\n",
       "        [ 0.51372552,  0.6156863 ,  0.69803923],\n",
       "        [ 0.50196081,  0.59215689,  0.6901961 ]],\n",
       "\n",
       "       [[ 0.39607844,  0.60000002,  0.80392158],\n",
       "        [ 0.3882353 ,  0.60784316,  0.81960785],\n",
       "        [ 0.38431373,  0.60784316,  0.81960785],\n",
       "        ..., \n",
       "        [ 0.50196081,  0.59215689,  0.70980394],\n",
       "        [ 0.47843137,  0.58431375,  0.70588237],\n",
       "        [ 0.4627451 ,  0.57254905,  0.7019608 ]],\n",
       "\n",
       "       [[ 0.40392157,  0.60392159,  0.79607844],\n",
       "        [ 0.40392157,  0.60000002,  0.80392158],\n",
       "        [ 0.40392157,  0.60000002,  0.80784315],\n",
       "        ..., \n",
       "        [ 0.49803922,  0.60784316,  0.72156864],\n",
       "        [ 0.46666667,  0.58039218,  0.71764708],\n",
       "        [ 0.44313726,  0.57254905,  0.72156864]]], dtype=float32)"
      ]
     },
     "execution_count": 50,
     "metadata": {},
     "output_type": "execute_result"
    }
   ],
   "source": [
    "X_prod[0]"
   ]
  },
  {
   "cell_type": "code",
   "execution_count": 51,
   "metadata": {},
   "outputs": [
    {
     "data": {
      "image/png": "[encoded data removed]",
      "text/plain": [
       "<matplotlib.figure.Figure at 0x118f400f0>"
      ]
     },
     "metadata": {},
     "output_type": "display_data"
    }
   ],
   "source": [
    "fig, ax = plt.subplots(figsize=(16, 16))\n",
    "\n",
    "for idx, img in enumerate(X_prod):\n",
    "    plt.subplot(3, 4, idx + 1)\n",
    "    plt.imshow(img)"
   ]
  },
  {
   "cell_type": "code",
   "execution_count": 52,
   "metadata": {},
   "outputs": [
    {
     "data": {
      "text/plain": [
       "(8, 32, 32)"
      ]
     },
     "execution_count": 52,
     "metadata": {},
     "output_type": "execute_result"
    }
   ],
   "source": [
    "def mean_normalisation(data):\n",
    "    image_values = np.arange(0, 256)\n",
    "    mu, sigma = np.mean(image_values), np.std(image_values)\n",
    "    data = (data - mu) / sigma\n",
    "    return data    \n",
    "\n",
    "# Convert the color space for the Training set from RGB -> Gray scale\n",
    "def rgb2gray(X):\n",
    "    X = 0.2989 * X[...,0] + 0.5870 * X[...,1] + 0.1140 * X[...,2]\n",
    "    return X\n",
    "\n",
    "# X_prod = rgb2gray(mean_normalisation(X_prod))\n",
    "X_prod = rgb2gray(X_prod)\n",
    "X_prod.shape"
   ]
  },
  {
   "cell_type": "code",
   "execution_count": 53,
   "metadata": {},
   "outputs": [
    {
     "name": "stdout",
     "output_type": "stream",
     "text": [
      "0.55621 0.262971 0.0 0.9999\n"
     ]
    },
    {
     "data": {
      "image/png": "[encoded data removed]",
      "text/plain": [
       "<matplotlib.figure.Figure at 0x120148400>"
      ]
     },
     "metadata": {},
     "output_type": "display_data"
    }
   ],
   "source": [
    "plt.imshow(X_prod[0], cmap='gray')\n",
    "print(X_prod.mean(), X_prod.std(), X_prod.min(), X_prod.max())\n",
    "# 1\n",
    "# y_prod = np.asarray([14, 14, 11, 25, 40, 28])\n",
    "# 3\n",
    "y_prod = np.asarray([11, 3, 1, 12, 38, 34, 18, 25])\n",
    "# 2\n",
    "# y_prod = np.asarray([17, 1, 5, 9, 35, 35, 1, 2, 14])\n",
    "# 4\n",
    "# y_prod = np.asarray([11, 12, 14, 17, 25, 33])\n",
    "\n",
    "assert(len(X_prod) == len(y_prod))"
   ]
  },
  {
   "cell_type": "code",
   "execution_count": 54,
   "metadata": {},
   "outputs": [
    {
     "name": "stdout",
     "output_type": "stream",
     "text": [
      "INFO:tensorflow:Restoring parameters from ckpts/model-10009-9908-1511998834.1605816\n",
      "Test Acccuracy: 0.7500\n"
     ]
    }
   ],
   "source": [
    "with tf.Session() as session:\n",
    "    saver.restore(session, 'ckpts/model-10009-9908-1511998834.1605816')\n",
    "    accuracy_test = evaluate(X_prod, y_prod)\n",
    "    print(\"Test Acccuracy: {:.4f}\".format(accuracy_test))"
   ]
  },
  {
   "cell_type": "markdown",
   "metadata": {},
   "source": [
    "### Predict the Sign Type for Each Image"
   ]
  },
  {
   "cell_type": "code",
   "execution_count": null,
   "metadata": {
    "collapsed": true
   },
   "outputs": [],
   "source": [
    "### Run the predictions here and use the model to output the prediction for each image.\n",
    "### Make sure to pre-process the images with the same pre-processing pipeline used earlier.\n",
    "### Feel free to use as many code cells as needed."
   ]
  },
  {
   "cell_type": "markdown",
   "metadata": {},
   "source": [
    "### Analyze Performance"
   ]
  },
  {
   "cell_type": "code",
   "execution_count": null,
   "metadata": {
    "collapsed": true
   },
   "outputs": [],
   "source": [
    "### Calculate the accuracy for these 5 new images. \n",
    "### For example, if the model predicted 1 out of 5 signs correctly, it's 20% accurate on these new images."
   ]
  },
  {
   "cell_type": "markdown",
   "metadata": {},
   "source": [
    "### Output Top 5 Softmax Probabilities For Each Image Found on the Web"
   ]
  },
  {
   "cell_type": "markdown",
   "metadata": {},
   "source": [
    "For each of the new images, print out the model's softmax probabilities to show the **certainty** of the model's predictions (limit the output to the top 5 probabilities for each image). [`tf.nn.top_k`](https://www.tensorflow.org/versions/r0.12/api_docs/python/nn.html#top_k) could prove helpful here. \n",
    "\n",
    "The example below demonstrates how tf.nn.top_k can be used to find the top k predictions for each image.\n",
    "\n",
    "`tf.nn.top_k` will return the values and indices (class ids) of the top k predictions. So if k=3, for each sign, it'll return the 3 largest probabilities (out of a possible 43) and the correspoding class ids.\n",
    "\n",
    "Take this numpy array as an example. The values in the array represent predictions. The array contains softmax probabilities for five candidate images with six possible classes. `tf.nn.top_k` is used to choose the three classes with the highest probability:\n",
    "\n",
    "```\n",
    "# (5, 6) array\n",
    "a = np.array([[ 0.24879643,  0.07032244,  0.12641572,  0.34763842,  0.07893497,\n",
    "         0.12789202],\n",
    "       [ 0.28086119,  0.27569815,  0.08594638,  0.0178669 ,  0.18063401,\n",
    "         0.15899337],\n",
    "       [ 0.26076848,  0.23664738,  0.08020603,  0.07001922,  0.1134371 ,\n",
    "         0.23892179],\n",
    "       [ 0.11943333,  0.29198961,  0.02605103,  0.26234032,  0.1351348 ,\n",
    "         0.16505091],\n",
    "       [ 0.09561176,  0.34396535,  0.0643941 ,  0.16240774,  0.24206137,\n",
    "         0.09155967]])\n",
    "```\n",
    "\n",
    "Running it through `sess.run(tf.nn.top_k(tf.constant(a), k=3))` produces:\n",
    "\n",
    "```\n",
    "TopKV2(values=array([[ 0.34763842,  0.24879643,  0.12789202],\n",
    "       [ 0.28086119,  0.27569815,  0.18063401],\n",
    "       [ 0.26076848,  0.23892179,  0.23664738],\n",
    "       [ 0.29198961,  0.26234032,  0.16505091],\n",
    "       [ 0.34396535,  0.24206137,  0.16240774]]), indices=array([[3, 0, 5],\n",
    "       [0, 1, 4],\n",
    "       [0, 5, 1],\n",
    "       [1, 3, 5],\n",
    "       [1, 4, 3]], dtype=int32))\n",
    "```\n",
    "\n",
    "Looking just at the first row we get `[ 0.34763842,  0.24879643,  0.12789202]`, you can confirm these are the 3 largest probabilities in `a`. You'll also notice `[3, 0, 5]` are the corresponding indices."
   ]
  },
  {
   "cell_type": "code",
   "execution_count": null,
   "metadata": {
    "collapsed": true
   },
   "outputs": [],
   "source": [
    "### Print out the top five softmax probabilities for the predictions on the German traffic sign images found on the web. \n",
    "### Feel free to use as many code cells as needed."
   ]
  },
  {
   "cell_type": "markdown",
   "metadata": {},
   "source": [
    "### Project Writeup\n",
    "\n",
    "Once you have completed the code implementation, document your results in a project writeup using this [template](https://github.com/udacity/CarND-Traffic-Sign-Classifier-Project/blob/master/writeup_template.md) as a guide. The writeup can be in a markdown or pdf file. "
   ]
  },
  {
   "cell_type": "markdown",
   "metadata": {},
   "source": [
    "> **Note**: Once you have completed all of the code implementations and successfully answered each question above, you may finalize your work by exporting the iPython Notebook as an HTML document. You can do this by using the menu above and navigating to  \\n\",\n",
    "    \"**File -> Download as -> HTML (.html)**. Include the finished document along with this notebook as your submission."
   ]
  },
  {
   "cell_type": "markdown",
   "metadata": {},
   "source": [
    "---\n",
    "\n",
    "## Step 4 (Optional): Visualize the Neural Network's State with Test Images\n",
    "\n",
    " This Section is not required to complete but acts as an additional excersise for understaning the output of a neural network's weights. While neural networks can be a great learning device they are often referred to as a black box. We can understand what the weights of a neural network look like better by plotting their feature maps. After successfully training your neural network you can see what it's feature maps look like by plotting the output of the network's weight layers in response to a test stimuli image. From these plotted feature maps, it's possible to see what characteristics of an image the network finds interesting. For a sign, maybe the inner network feature maps react with high activation to the sign's boundary outline or to the contrast in the sign's painted symbol.\n",
    "\n",
    " Provided for you below is the function code that allows you to get the visualization output of any tensorflow weight layer you want. The inputs to the function should be a stimuli image, one used during training or a new one you provided, and then the tensorflow variable name that represents the layer's state during the training process, for instance if you wanted to see what the [LeNet lab's](https://classroom.udacity.com/nanodegrees/nd013/parts/fbf77062-5703-404e-b60c-95b78b2f3f9e/modules/6df7ae49-c61c-4bb2-a23e-6527e69209ec/lessons/601ae704-1035-4287-8b11-e2c2716217ad/concepts/d4aca031-508f-4e0b-b493-e7b706120f81) feature maps looked like for it's second convolutional layer you could enter conv2 as the tf_activation variable.\n",
    "\n",
    "For an example of what feature map outputs look like, check out NVIDIA's results in their paper [End-to-End Deep Learning for Self-Driving Cars](https://devblogs.nvidia.com/parallelforall/deep-learning-self-driving-cars/) in the section Visualization of internal CNN State. NVIDIA was able to show that their network's inner weights had high activations to road boundary lines by comparing feature maps from an image with a clear path to one without. Try experimenting with a similar test to show that your trained network's weights are looking for interesting features, whether it's looking at differences in feature maps from images with or without a sign, or even what feature maps look like in a trained network vs a completely untrained one on the same sign image.\n",
    "\n",
    "<figure>\n",
    " <img src=\"visualize_cnn.png\" width=\"380\" alt=\"Combined Image\" />\n",
    " <figcaption>\n",
    " <p></p> \n",
    " <p style=\"text-align: center;\"> Your output should look something like this (above)</p> \n",
    " </figcaption>\n",
    "</figure>\n",
    " <p></p> \n"
   ]
  },
  {
   "cell_type": "code",
   "execution_count": null,
   "metadata": {
    "collapsed": true
   },
   "outputs": [],
   "source": [
    "### Visualize your network's feature maps here.\n",
    "### Feel free to use as many code cells as needed.\n",
    "\n",
    "# image_input: the test image being fed into the network to produce the feature maps\n",
    "# tf_activation: should be a tf variable name used during your training procedure that represents the calculated state of a specific weight layer\n",
    "# activation_min/max: can be used to view the activation contrast in more detail, by default matplot sets min and max to the actual min and max values of the output\n",
    "# plt_num: used to plot out multiple different weight feature map sets on the same block, just extend the plt number for each new feature map entry\n",
    "\n",
    "def outputFeatureMap(image_input, tf_activation, activation_min=-1, activation_max=-1 ,plt_num=1):\n",
    "    # Here make sure to preprocess your image_input in a way your network expects\n",
    "    # with size, normalization, ect if needed\n",
    "    # image_input =\n",
    "    # Note: x should be the same name as your network's tensorflow data placeholder variable\n",
    "    # If you get an error tf_activation is not defined it may be having trouble accessing the variable from inside a function\n",
    "    activation = tf_activation.eval(session=sess,feed_dict={x : image_input})\n",
    "    featuremaps = activation.shape[3]\n",
    "    plt.figure(plt_num, figsize=(15,15))\n",
    "    for featuremap in range(featuremaps):\n",
    "        plt.subplot(6,8, featuremap+1) # sets the number of feature maps to show on each row and column\n",
    "        plt.title('FeatureMap ' + str(featuremap)) # displays the feature map number\n",
    "        if activation_min != -1 & activation_max != -1:\n",
    "            plt.imshow(activation[0,:,:, featuremap], interpolation=\"nearest\", vmin =activation_min, vmax=activation_max, cmap=\"gray\")\n",
    "        elif activation_max != -1:\n",
    "            plt.imshow(activation[0,:,:, featuremap], interpolation=\"nearest\", vmax=activation_max, cmap=\"gray\")\n",
    "        elif activation_min !=-1:\n",
    "            plt.imshow(activation[0,:,:, featuremap], interpolation=\"nearest\", vmin=activation_min, cmap=\"gray\")\n",
    "        else:\n",
    "            plt.imshow(activation[0,:,:, featuremap], interpolation=\"nearest\", cmap=\"gray\")"
   ]
  }
 ],
 "metadata": {
  "anaconda-cloud": {},
  "kernelspec": {
   "display_name": "Python 3",
   "language": "python",
   "name": "python3"
  },
  "language_info": {
   "codemirror_mode": {
    "name": "ipython",
    "version": 3
   },
   "file_extension": ".py",
   "mimetype": "text/x-python",
   "name": "python",
   "nbconvert_exporter": "python",
   "pygments_lexer": "ipython3",
   "version": "3.5.2"
  },
  "widgets": {
   "state": {
    "18e9cdf929ac41028b56f241f175375a": {
     "views": []
    },
    "456c93b692ec4c51b8682f0db0ebacb6": {
     "views": []
    },
    "7ac1ab2718d0441b8dba9cdcf1bb3b82": {
     "views": []
    },
    "f6beefb52d0b4f689f0bb9d944458711": {
     "views": []
    },
    "fe75b08d420d431e8ae94d61b0278cf8": {
     "views": [
      {
       "cell_index": 30
      }
     ]
    },
    "fff3844c8f924b1e8ad65ec08c54e170": {
     "views": []
    }
   },
   "version": "1.1.2"
  }
 },
 "nbformat": 4,
 "nbformat_minor": 1
}
