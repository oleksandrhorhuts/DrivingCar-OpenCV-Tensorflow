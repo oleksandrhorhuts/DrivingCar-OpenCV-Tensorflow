{
 "cells": [
  {
   "cell_type": "markdown",
   "metadata": {},
   "source": [
    "# Self-Driving Car Engineer Nanodegree\n",
    "\n",
    "## Deep Learning\n",
    "\n",
    "## Project: Build a Traffic Sign Recognition Classifier\n",
    "\n",
    "In this notebook, a template is provided for you to implement your functionality in stages, which is required to successfully complete this project. If additional code is required that cannot be included in the notebook, be sure that the Python code is successfully imported and included in your submission if necessary. \n",
    "\n",
    "> **Note**: Once you have completed all of the code implementations, you need to finalize your work by exporting the iPython Notebook as an HTML document. Before exporting the notebook to html, all of the code cells need to have been run so that reviewers can see the final implementation and output. You can then export the notebook by using the menu above and navigating to  \\n\",\n",
    "    \"**File -> Download as -> HTML (.html)**. Include the finished document along with this notebook as your submission. \n",
    "\n",
    "In addition to implementing code, there is a writeup to complete. The writeup should be completed in a separate file, which can be either a markdown file or a pdf document. There is a [write up template](https://github.com/udacity/CarND-Traffic-Sign-Classifier-Project/blob/master/writeup_template.md) that can be used to guide the writing process. Completing the code template and writeup template will cover all of the [rubric points](https://review.udacity.com/#!/rubrics/481/view) for this project.\n",
    "\n",
    "The [rubric](https://review.udacity.com/#!/rubrics/481/view) contains \"Stand Out Suggestions\" for enhancing the project beyond the minimum requirements. The stand out suggestions are optional. If you decide to pursue the \"stand out suggestions\", you can include the code in this Ipython notebook and also discuss the results in the writeup file.\n",
    "\n",
    "\n",
    ">**Note:** Code and Markdown cells can be executed using the **Shift + Enter** keyboard shortcut. In addition, Markdown cells can be edited by typically double-clicking the cell to enter edit mode."
   ]
  },
  {
   "cell_type": "markdown",
   "metadata": {},
   "source": [
    "---\n",
    "## Step 0: Load The Data"
   ]
  },
  {
   "cell_type": "code",
   "execution_count": null,
   "metadata": {
    "collapsed": true
   },
   "outputs": [],
   "source": [
    "# Necessary imports\n",
    "import pickle\n",
    "import tensorflow as tf\n",
    "import numpy as np\n",
    "import pandas as pd\n",
    "import seaborn as sns\n",
    "import matplotlib\n",
    "import matplotlib.pyplot as plt\n",
    "import matplotlib.gridspec as gridspec\n",
    "import cv2\n",
    "from sklearn.utils import shuffle\n",
    "from collections import Counter\n",
    "import math\n",
    "from tqdm import tnrange\n",
    "from tqdm import tqdm_notebook as tqdm\n",
    "\n",
    "%matplotlib inline\n",
    "\n",
    "# Load the pickled data\n",
    "training_file = './traffic_signs_data/train.p'\n",
    "validation_file= './traffic_signs_data/valid.p'\n",
    "testing_file = './traffic_signs_data/test.p'\n",
    "\n",
    "with open(training_file, mode='rb') as f:\n",
    "    train = pickle.load(f)\n",
    "with open(validation_file, mode='rb') as f:\n",
    "    valid = pickle.load(f)\n",
    "with open(testing_file, mode='rb') as f:\n",
    "    test = pickle.load(f)\n",
    "    \n",
    "X_train, y_train = train['features'], train['labels']\n",
    "X_valid, y_valid = valid['features'], valid['labels']\n",
    "X_test, y_test = test['features'], test['labels']\n",
    "\n",
    "# Sanity checks\n",
    "assert(len(X_train) == len(y_train))\n",
    "assert(len(X_valid) == len(y_valid))\n",
    "assert(len(X_test) == len(y_test))\n",
    "\n",
    "# Load in the 'signnames.csv' as a pd.DataFrame\n",
    "sign_names_df = pd.read_csv('signnames.csv')"
   ]
  },
  {
   "cell_type": "markdown",
   "metadata": {},
   "source": [
    "---\n",
    "\n",
    "## Step 1: Dataset Summary & Exploration\n",
    "\n",
    "The pickled data is a dictionary with 4 key/value pairs:\n",
    "\n",
    "- `'features'` is a 4D array containing raw pixel data of the traffic sign images, (num examples, width, height, channels).\n",
    "- `'labels'` is a 1D array containing the label/class id of the traffic sign. The file `signnames.csv` contains id -> name mappings for each id.\n",
    "- `'sizes'` is a list containing tuples, (width, height) representing the original width and height the image.\n",
    "- `'coords'` is a list containing tuples, (x1, y1, x2, y2) representing coordinates of a bounding box around the sign in the image. **THESE COORDINATES ASSUME THE ORIGINAL IMAGE. THE PICKLED DATA CONTAINS RESIZED VERSIONS (32 by 32) OF THESE IMAGES**\n",
    "\n",
    "Complete the basic data summary below. Use python, numpy and/or pandas methods to calculate the data summary rather than hard coding the results. For example, the [pandas shape method](http://pandas.pydata.org/pandas-docs/stable/generated/pandas.DataFrame.shape.html) might be useful for calculating some of the summary results. "
   ]
  },
  {
   "cell_type": "markdown",
   "metadata": {},
   "source": [
    "### Provide a Basic Summary of the Data Set Using Python, Numpy and/or Pandas"
   ]
  },
  {
   "cell_type": "code",
   "execution_count": null,
   "metadata": {},
   "outputs": [],
   "source": [
    "### Replace each question mark with the appropriate value. \n",
    "### Use python, pandas or numpy methods rather than hard coding the results\n",
    "\n",
    "# Number of training examples\n",
    "n_train = len(X_train)\n",
    "\n",
    "# Number of validation examples\n",
    "n_validation = len(X_valid)\n",
    "\n",
    "# Number of testing examples.\n",
    "n_test = len(X_test)\n",
    "\n",
    "# What's the shape of an traffic sign image?\n",
    "image_shape = X_train[0].shape\n",
    "\n",
    "# How many unique classes/labels there are in the dataset.\n",
    "n_classes = sign_names_df.shape[0]\n",
    "\n",
    "print(\"Number of training examples =\", n_train)\n",
    "print(\"Number of validation examples =\", n_validation)\n",
    "print(\"Number of testing examples =\", n_test)\n",
    "print(\"Image data shape =\", image_shape)\n",
    "print(\"Number of classes =\", n_classes)"
   ]
  },
  {
   "cell_type": "markdown",
   "metadata": {},
   "source": [
    "### Include an exploratory visualization of the dataset"
   ]
  },
  {
   "cell_type": "markdown",
   "metadata": {},
   "source": [
    "Visualize the German Traffic Signs Dataset using the pickled file(s). This is open ended, suggestions include: plotting traffic sign images, plotting the count of each sign, etc. \n",
    "\n",
    "The [Matplotlib](http://matplotlib.org/) [examples](http://matplotlib.org/examples/index.html) and [gallery](http://matplotlib.org/gallery.html) pages are a great resource for doing visualizations in Python.\n",
    "\n",
    "**NOTE:** It's recommended you start with something simple first. If you wish to do more, come back to it after you've completed the rest of the sections. It can be interesting to look at the distribution of classes in the training, validation and test set. Is the distribution the same? Are there more examples of some classes than others?"
   ]
  },
  {
   "cell_type": "code",
   "execution_count": null,
   "metadata": {},
   "outputs": [],
   "source": [
    "### Data exploration visualization code goes here.\n",
    "plt.rcParams['image.interpolation'] = 'nearest'\n",
    "\n",
    "fig, ax = plt.subplots(figsize=(12, 25))\n",
    "counter = Counter(y_train)\n",
    "for c in range(n_classes):\n",
    "    class_idxs = np.where(y_train == c)[0]\n",
    "    with sns.axes_style('white'):\n",
    "        plt.subplot(9, 5, c + 1)\n",
    "        \n",
    "    plt.imshow(X_train[np.random.choice(class_idxs)])\n",
    "    plt.tick_params(\n",
    "        which='both', bottom='off', left='off', top='off', right='off', labelbottom='off', labelleft='off')\n",
    "    plt.ylabel(sign_names_df.loc[c].SignName, fontsize=200/(np.max([20,len(sign_names_df.loc[c].SignName)])))\n",
    "    plt.title('n = {}'.format(counter[c]))   \n",
    "\n",
    "plt.show()"
   ]
  },
  {
   "cell_type": "code",
   "execution_count": null,
   "metadata": {},
   "outputs": [],
   "source": [
    "### 2. Plot Bar charts to see the distribution of the labels across the training/validation/test sets\n",
    "matplotlib.rcParams['axes.labelsize'] = 20\n",
    "matplotlib.rcParams['ytick.labelsize'] = 20\n",
    "matplotlib.rcParams['xtick.labelsize'] = 20\n",
    "matplotlib.rcParams['font.size'] = 20\n",
    "\n",
    "def plot_labels_dist(data):\n",
    "    n_plots = len(data)\n",
    "    height = 10 * n_plots\n",
    "    fig, axes = plt.subplots(n_plots, figsize=(30, height))\n",
    "\n",
    "    # TODO: add alpha for bar chart\n",
    "    for idx, ele in enumerate(data):    \n",
    "        labels, title, color = ele\n",
    "        counter = Counter(labels)\n",
    "        x_coordinates = np.arange(len(counter))\n",
    "        frequencies = counter.values()\n",
    "        mean = np.mean(list(frequencies))\n",
    "        \n",
    "        if n_plots == 1:\n",
    "            ax = axes\n",
    "        else:  \n",
    "            ax = axes[idx]\n",
    "        \n",
    "        ax.set_title(title)\n",
    "        ax.bar(x_coordinates, frequencies, align='center', color=color)\n",
    "        print('The mean # examples for the {} set is: {:.1f}'.format(title, mean))\n",
    "\n",
    "\n",
    "        ax.xaxis.set_major_locator(plt.FixedLocator(x_coordinates))\n",
    "        ax.set_xlabel('Label Id')\n",
    "        ax.set_ylabel('Frequencies')\n",
    "\n",
    "        # Plotting a dashed line for the mean frequency\n",
    "        ax.plot([0., 43.], [mean, mean], \"k--\")\n",
    "\n",
    "    plt.show()\n",
    "\n",
    "plot_labels_dist([(y_train, 'Train', 'c'), (y_valid, 'Validation', 'm'), (y_test, 'Test', 'g')])"
   ]
  },
  {
   "cell_type": "markdown",
   "metadata": {},
   "source": [
    "----\n",
    "\n",
    "## Step 2: Design and Test a Model Architecture\n",
    "\n",
    "Design and implement a deep learning model that learns to recognize traffic signs. Train and test your model on the [German Traffic Sign Dataset](http://benchmark.ini.rub.de/?section=gtsrb&subsection=dataset).\n",
    "\n",
    "The LeNet-5 implementation shown in the [classroom](https://classroom.udacity.com/nanodegrees/nd013/parts/fbf77062-5703-404e-b60c-95b78b2f3f9e/modules/6df7ae49-c61c-4bb2-a23e-6527e69209ec/lessons/601ae704-1035-4287-8b11-e2c2716217ad/concepts/d4aca031-508f-4e0b-b493-e7b706120f81) at the end of the CNN lesson is a solid starting point. You'll have to change the number of classes and possibly the preprocessing, but aside from that it's plug and play! \n",
    "\n",
    "With the LeNet-5 solution from the lecture, you should expect a validation set accuracy of about 0.89. To meet specifications, the validation set accuracy will need to be at least 0.93. It is possible to get an even higher accuracy, but 0.93 is the minimum for a successful project submission. \n",
    "\n",
    "There are various aspects to consider when thinking about this problem:\n",
    "\n",
    "- Neural network architecture (is the network over or underfitting?)\n",
    "- Play around preprocessing techniques (normalization, rgb to grayscale, etc)\n",
    "- Number of examples per label (some have more than others).\n",
    "- Generate fake data.\n",
    "\n",
    "Here is an example of a [published baseline model on this problem](http://yann.lecun.com/exdb/publis/pdf/sermanet-ijcnn-11.pdf). It's not required to be familiar with the approach used in the paper but, it's good practice to try to read papers like these."
   ]
  },
  {
   "cell_type": "markdown",
   "metadata": {},
   "source": [
    "### Pre-process the Data Set (normalization, grayscale, etc.)"
   ]
  },
  {
   "cell_type": "markdown",
   "metadata": {},
   "source": [
    "Minimally, the image data should be normalized so that the data has mean zero and equal variance. For image data, `(pixel - 128)/ 128` is a quick way to approximately normalize the data and can be used in this project. \n",
    "\n",
    "Other pre-processing steps are optional. You can try different techniques to see if it improves performance. \n",
    "\n",
    "Use the code cell (or multiple code cells, if necessary) to implement the first step of your project."
   ]
  },
  {
   "cell_type": "code",
   "execution_count": null,
   "metadata": {
    "collapsed": true
   },
   "outputs": [],
   "source": [
    "# Peform data augmentation\n",
    "IMAGE_SIZE = 32\n",
    "\n",
    "def centrally_scale_images(X_imgs):\n",
    "    scales = np.linspace(0.6, 1.1, 5)\n",
    "    # Calculating tf.image.crop_and_resize() params\n",
    "    boxes = np.zeros([len(scales), 4], dtype=np.float32)\n",
    "    for index, scale in enumerate(scales):\n",
    "        x1 = y1 = 0.5 - 0.5 * scale # To scale centrally\n",
    "        x2 = y2 = 0.5 + 0.5 * scale\n",
    "        boxes[index] = np.array([y1, x1, y2, x2], dtype=np.float32)\n",
    "\n",
    "    box_ind = np.zeros(len(scales), dtype=np.int32)\n",
    "    crop_size = np.array([IMAGE_SIZE, IMAGE_SIZE], dtype=np.int32)\n",
    "\n",
    "    X_scale_data = []\n",
    "    tf.reset_default_graph()\n",
    "    X = tf.placeholder(tf.float32, shape=[1, IMAGE_SIZE, IMAGE_SIZE, 3])\n",
    "    tf_img = tf.image.crop_and_resize(X, boxes, box_ind, crop_size)\n",
    "\n",
    "    with tf.Session() as session:\n",
    "        for img in X_imgs:\n",
    "            batch_img = np.expand_dims(img, axis=0)\n",
    "            scaled_imgs = session.run(tf_img, feed_dict={X: batch_img})\n",
    "            X_scale_data.extend(scaled_imgs)\n",
    "\n",
    "        X_scale_data = np.array(X_scale_data, dtype=np.uint8)\n",
    "        return X_scale_data\n",
    "\n",
    "def get_translate_params(index): \n",
    "    if index == 0: # Translate left 20%\n",
    "        offset = np.array([0.0, 0.2], dtype=np.float32)\n",
    "        size = np.array([IMAGE_SIZE, math.ceil(0.8 * IMAGE_SIZE)], dtype=np.float32)\n",
    "        w_start = 0\n",
    "        w_end = int(math.ceil(0.8 * IMAGE_SIZE))\n",
    "        h_start = 0\n",
    "        h_end = IMAGE_SIZE\n",
    "    elif index == 1: # Translate right 20%\n",
    "        offset = np.array([0.0, -0.2], dtype=np.float32)\n",
    "        size = np.array([IMAGE_SIZE, math.ceil(0.8 * IMAGE_SIZE)], dtype=np.float32)\n",
    "        w_start = int(math.floor(0.2 * IMAGE_SIZE))\n",
    "        w_end = IMAGE_SIZE\n",
    "        h_start = 0\n",
    "        h_end = IMAGE_SIZE\n",
    "    elif index == 2: # Translate top 20%\n",
    "        offset = np.array([0.2, 0.0], dtype=np.float32)\n",
    "        size = np.array([math.ceil(0.8 * IMAGE_SIZE), IMAGE_SIZE], dtype=np.float32)\n",
    "        w_start = 0\n",
    "        w_end = IMAGE_SIZE\n",
    "        h_start = 0\n",
    "        h_end = int(math.ceil(0.8 * IMAGE_SIZE))    \n",
    "    elif index == 3: # Translate bottom 20%\n",
    "        offset = np.array([-0.2, 0.0], dtype=np.float32)\n",
    "        size = np.array([math.ceil(0.8 * IMAGE_SIZE), IMAGE_SIZE], dtype=np.float32)\n",
    "        w_start = 0\n",
    "        w_end = IMAGE_SIZE\n",
    "        h_start = int(math.floor(0.2 * IMAGE_SIZE))\n",
    "        h_end = IMAGE_SIZE \n",
    "        \n",
    "    return offset, size, w_start, w_end, h_start, h_end\n",
    "\n",
    "def translate_images(X_imgs):\n",
    "    X_imgs = np.array(X_imgs, dtype=np.float32)\n",
    "    offsets = np.zeros([len(X_imgs), 2], dtype=np.float32)\n",
    "    n_translations = 4\n",
    "    X_translated_data = []\n",
    "\n",
    "    tf.reset_default_graph()\n",
    "    with tf.Session() as session:\n",
    "        for i in range(n_translations):\n",
    "            X_translated =\\\n",
    "                np.zeros([len(X_imgs), IMAGE_SIZE, IMAGE_SIZE, 3], dtype=np.float32)\n",
    "                \n",
    "            base_offset, size, w_start, w_end, h_start, h_end = get_translate_params(i)\n",
    "            offsets[:,:] = base_offset\n",
    "            glimpses = tf.image.extract_glimpse(X_imgs, size, offsets)\n",
    "            glimpses = session.run(glimpses)\n",
    "            \n",
    "            X_translated[:, h_start:h_end, w_start:w_end, :] = glimpses\n",
    "            X_translated_data.extend(X_translated)\n",
    "     \n",
    "    X_translated_data = np.array(X_translated_data, dtype=np.uint8)\n",
    "    return X_translated_data\n",
    "\n",
    "def finer_rotate_images(X_imgs):\n",
    "    tf.reset_default_graph()\n",
    "    \n",
    "    X_rotate_data = []\n",
    "    X = tf.placeholder(tf.float32, shape=[None, IMAGE_SIZE, IMAGE_SIZE, 3])\n",
    "    radian = tf.placeholder(tf.float32, shape=[len(X_imgs)])\n",
    "    tf_img = tf.contrib.image.rotate(X, radian)\n",
    "    \n",
    "    n_rotations = np.linspace(-15, 15, 6)\n",
    "    with tf.Session() as session:\n",
    "        for degree in n_rotations:\n",
    "            radian_val = degree * np.pi / 180\n",
    "            radian_arr = [radian_val] * len(X_imgs)\n",
    "            rotated_imgs = session.run(tf_img, feed_dict={\n",
    "                X: X_imgs, radian: radian_arr\n",
    "            })\n",
    "            X_rotate_data.extend(rotated_imgs)\n",
    "\n",
    "    X_rotate_data = np.array(X_rotate_data, dtype=np.uint8)\n",
    "    return X_rotate_data\n",
    "\n",
    "def add_gaussian_noise(X_imgs):\n",
    "    gaussian_noise_imgs = []\n",
    "    row, col, _ = X_imgs[0].shape\n",
    "    \n",
    "    # Gaussian distribution params\n",
    "    mean = 0.0; var = 0.1; std = var ** 0.5\n",
    "    for X_img in X_imgs:\n",
    "        X_img = X_img.astype(np.float32)\n",
    "        gaussian = np.random.random((row, col, 1)).astype(np.float32)\n",
    "        gaussian = np.concatenate((gaussian, gaussian, gaussian), axis = 2)\n",
    "        gaussian_img = cv2.addWeighted(X_img, 0.75, 0.25 * gaussian, 0.25, 0)\n",
    "        gaussian_noise_imgs.append(gaussian_img)\n",
    "\n",
    "    gaussian_noise_imgs = np.array(gaussian_noise_imgs, dtype = np.uint8)\n",
    "\n",
    "    return gaussian_noise_imgs\n",
    "\n",
    "def augment_data(X_data, y_data):\n",
    "    # Get a list of labels that have low samples\n",
    "    # Get all the images for those labels\n",
    "    # for each one fo those images choose from 1of4 tranforms\n",
    "    # extend the training set\n",
    "    #plot the resulting dist\n",
    "    # The density param allows us to get values of the pdf at the bin\n",
    "    augmented_X_data = []\n",
    "    augmented_y_data = []\n",
    "    \n",
    "    hist, _ = np.histogram(y_data, n_classes, density=True)\n",
    "    labels_to_augment = np.where(hist < 0.02)[0]\n",
    "    \n",
    "    for label in labels_to_augment:\n",
    "        images = X_data[y_data == label]\n",
    "        gen_images = []\n",
    "        \n",
    "        for img in tqdm(images, desc='Label {}'.format(label)):\n",
    "            aug_type = np.random.randint(0, 3)\n",
    "            if aug_type == 0:\n",
    "                gen_images.extend(centrally_scale_images([img]))\n",
    "            elif aug_type == 1:\n",
    "                gen_images.extend(translate_images([img]))\n",
    "            elif aug_type == 2:\n",
    "                gen_images.extend(finer_rotate_images([img]))\n",
    "            elif aug_type == 3:\n",
    "                gen_images.extend(add_gaussian_noise([img]))\n",
    "        \n",
    "        print('Generated {} new images for label {}.'.format(len(gen_images), label))\n",
    "        augmented_X_data.extend(gen_images)\n",
    "        augmented_y_data.extend([label] * len(gen_images))\n",
    "\n",
    "    print('Image augmentation process complete.')\n",
    "    return np.array(augmented_X_data, dtype=np.uint8), np.array(augmented_y_data, dtype=np.uint8)"
   ]
  },
  {
   "cell_type": "code",
   "execution_count": null,
   "metadata": {
    "scrolled": false
   },
   "outputs": [],
   "source": [
    "# Visualise the different data augmentation techniques on an image from the data set\n",
    "img = X_train[2238]\n",
    "\n",
    "gs = gridspec.GridSpec(1, 5)\n",
    "gs.update(wspace = 0.30, hspace = 2)\n",
    "\n",
    "fig, ax = plt.subplots(figsize = (16, 16))\n",
    "plt.subplot(gs[0])\n",
    "plt.imshow(img)\n",
    "plt.title('Base Image')\n",
    "plt.subplot(gs[1])\n",
    "plt.imshow(centrally_scale_images([img])[0])\n",
    "plt.title('Central Scaling')\n",
    "plt.subplot(gs[2])\n",
    "plt.imshow(translate_images([img])[0])\n",
    "plt.title('Translation')\n",
    "plt.subplot(gs[3])\n",
    "plt.imshow(finer_rotate_images([img])[0])\n",
    "plt.title('Rotation')\n",
    "plt.subplot(gs[4])\n",
    "plt.imshow(add_gaussian_noise([img])[0])\n",
    "plt.title('Gaussian Noise')\n",
    "plt.show()"
   ]
  },
  {
   "cell_type": "code",
   "execution_count": null,
   "metadata": {
    "scrolled": true
   },
   "outputs": [],
   "source": [
    "# Perform data augmentation for the training set\n",
    "X_train_aug, y_train_aug = augment_data(X_train, y_train)\n",
    "\n",
    "# Sanity check\n",
    "assert(len(X_train_aug) == len(y_train_aug))"
   ]
  },
  {
   "cell_type": "code",
   "execution_count": null,
   "metadata": {},
   "outputs": [],
   "source": [
    "### Image augmentation summary\n",
    "print('Total # images prior to augmentation {}'.format(len(X_train)))\n",
    "print('Total # of augmented images {}'.format(len(X_train_aug)))\n",
    "\n",
    "# Combine the augmented data with existing training set\n",
    "X_train = np.concatenate((X_train, X_train_aug), axis=0)\n",
    "y_train = np.concatenate((y_train, y_train_aug), axis=0)\n",
    "print('Total # of images after combination with aug data {}'.format(len(X_train)))\n",
    "\n",
    "### Visualise the new label distribution\n",
    "plot_labels_dist([(y_train, 'Train', 'c')])"
   ]
  },
  {
   "cell_type": "code",
   "execution_count": null,
   "metadata": {
    "collapsed": true
   },
   "outputs": [],
   "source": [
    "# def mean_normalisation(data):\n",
    "#     image_values = np.arange(0, 256)\n",
    "#     mu, sigma = np.mean(image_values), np.std(image_values)\n",
    "#     data = (data - mu) / sigma\n",
    "#     return data\n",
    "\n",
    "# def rgb2gray(X):\n",
    "#     X = 0.2989 * X[...,0] + 0.5870 * X[...,1] + 0.1140 * X[...,2]\n",
    "#     X = np.sum(X/3, axis=2, keepdims=True)\n",
    "#     return X.squeeze()\n",
    "# \n",
    "# plt.imshow(rgb2gray(X_train[71030]).squeeze(), cmap='gray')\n",
    "# a = rgb2gray(mean_normalisation(X_train[25500]))\n",
    "# a = mean_normalisation(rgb2gray(X_train[23500]))\n",
    "# a = rgb2gray(X_train[34561] - X_train.mean(axis=0))\n",
    "\n",
    "# a = mean_normalisation(X_train[2350])\n",
    "# a.shape\n",
    "# plt.imshow(a, cmap='gray')\n",
    "# plt.imshow(X_train[25500])\n",
    "# X_train[2900]\n",
    "# plt.imshow(rgb2gray(centrally_scale_images([X_train[2350]])[0]), cmap='gray')"
   ]
  },
  {
   "cell_type": "code",
   "execution_count": null,
   "metadata": {
    "collapsed": true
   },
   "outputs": [],
   "source": [
    "### Preprocess the data here. It is required to normalize the data. Other preprocessing steps could include \n",
    "### converting to grayscale, etc.\n",
    "\n",
    "def mean_normalisation(data):\n",
    "    image_values = np.arange(0, 256)\n",
    "    mu, sigma = np.mean(image_values), np.std(image_values)\n",
    "    data = (data - mu) / sigma\n",
    "    return data    \n",
    "\n",
    "# Convert the color space for the Training set from RGB -> Gray scale\n",
    "def rgb2gray(X):\n",
    "    X = 0.2989 * X[...,0] + 0.5870 * X[...,1] + 0.1140 * X[...,2]\n",
    "    return X\n",
    "\n",
    "# Perform normalisation over the training/validation/test set to achieve mu = 0 and sigma = 1\n",
    "X_train = rgb2gray(mean_normalisation(X_train))\n",
    "X_valid = rgb2gray(mean_normalisation(X_valid))\n",
    "X_test  = rgb2gray(mean_normalisation(X_test))"
   ]
  },
  {
   "cell_type": "code",
   "execution_count": null,
   "metadata": {},
   "outputs": [],
   "source": [
    "# Sanity check the shape after color space change from RGB -> Gray scale\n",
    "print('Shape {} Mean {:.3f} Std {:.3f} Min {:.3f} Max {:.3f}'\n",
    "      .format(X_train.shape, X_train.mean(), X_train.std(), X_train.min(), X_train.max()))\n",
    "\n",
    "# Visualise some of the gray scale images\n",
    "plt.imshow(X_train[2350], cmap='gray')"
   ]
  },
  {
   "cell_type": "code",
   "execution_count": null,
   "metadata": {},
   "outputs": [],
   "source": [
    "### Pickle the pre-processed data sets\n",
    "print('CHECKPOINT: Pickling the pre-processed data sets...')\n",
    "try:\n",
    "    with open('./preprocessed_dataset.p', 'wb') as f:\n",
    "        d = {\n",
    "            'features_train': X_train,\n",
    "            'labels_train': y_train,\n",
    "            'features_valid': X_valid,\n",
    "            'labels_valid': y_valid,\n",
    "            'features_test': X_test,\n",
    "            'labels_test': y_test,\n",
    "        }\n",
    "\n",
    "        pickle.dump(d, f)\n",
    "except e:\n",
    "    print('Failed to pickle the data sets! Exception: ' + e)\n",
    "    \n",
    "print('Successfully pickled the data sets!')"
   ]
  },
  {
   "cell_type": "markdown",
   "metadata": {},
   "source": [
    "### Model Architecture"
   ]
  },
  {
   "cell_type": "code",
   "execution_count": 1,
   "metadata": {},
   "outputs": [],
   "source": [
    "# Necessary imports\n",
    "import pickle\n",
    "import tensorflow as tf\n",
    "import numpy as np\n",
    "import pandas as pd\n",
    "import seaborn as sns\n",
    "import matplotlib\n",
    "import matplotlib.pyplot as plt\n",
    "import matplotlib.gridspec as gridspec\n",
    "import cv2\n",
    "from sklearn.utils import shuffle\n",
    "from collections import Counter\n",
    "import math\n",
    "from tqdm import tnrange\n",
    "from tqdm import tqdm_notebook as tqdm\n",
    "\n",
    "%matplotlib inline\n",
    "\n",
    "# # Load the pickled data\n",
    "data_file = './preprocessed_dataset.p'\n",
    "with open(data_file, mode='rb') as f:\n",
    "    data = pickle.load(f)\n",
    "    \n",
    "X_train, y_train = data['features_train'], data['labels_train']\n",
    "X_valid, y_valid = data['features_valid'], data['labels_valid']\n",
    "X_test, y_test = data['features_test'], data['labels_test']\n",
    "\n",
    "# Sanity checks\n",
    "assert(len(X_train) == len(y_train))\n",
    "assert(len(X_valid) == len(y_valid))\n",
    "assert(len(X_test) == len(y_test))\n",
    "\n",
    "n_classes = 43"
   ]
  },
  {
   "cell_type": "code",
   "execution_count": 2,
   "metadata": {
    "collapsed": true
   },
   "outputs": [],
   "source": [
    "### Define the model hyper params\n",
    "EPOCHS = 10\n",
    "BATCH_SIZE = 128\n",
    "# LEARNING_RATE = 0.005\n",
    "LEARNING_RATE = 0.001\n",
    "N_LABELS = n_classes\n",
    "DROPOUT = 0.8\n",
    "\n",
    "X = tf.placeholder(tf.float32, shape=[None, 32, 32])\n",
    "labels = tf.placeholder(tf.int32, shape=[None])\n",
    "one_hot_labels = tf.one_hot(labels, N_LABELS) # One-hot encode the labels\n",
    "keep_prob = tf.placeholder(tf.float32)\n",
    "keep_prob_conv = tf.placeholder(tf.float32)\n",
    "learning_rate = tf.placeholder(tf.float32)"
   ]
  },
  {
   "cell_type": "code",
   "execution_count": 3,
   "metadata": {
    "collapsed": true
   },
   "outputs": [],
   "source": [
    "### Implement the model architecture\n",
    "\n",
    "def kaiming_he_init(weight_shape, layer_type='fc'):\n",
    "    fan_in, init_value = None, None\n",
    "    \n",
    "    if layer_type == 'conv':\n",
    "        fan_in = weight_shape[0] * weight_shape[1] * weight_shape[2]\n",
    "        init_value = tf.truncated_normal(weight_shape) * tf.sqrt(2 / fan_in)\n",
    "    elif layer_type == 'fc':\n",
    "        fan_in = weight_shape[0]\n",
    "        init_value = tf.truncated_normal(weight_shape) * tf.sqrt(2 / fan_in)\n",
    "    \n",
    "    return tf.Variable(init_value)\n",
    "\n",
    "# layer_depth = {\n",
    "#     'c1': 8,\n",
    "#     'c2': 8,\n",
    "#     'c3': 16,\n",
    "#     'c4': 16,\n",
    "#     'c5': 32,\n",
    "#     'c6': 32,\n",
    "#     'fc1': 128,\n",
    "# #     'fc2': 64,\n",
    "#     'out': N_LABELS\n",
    "# }\n",
    "\n",
    "# weights = {\n",
    "#     'c1': kaiming_he_init([5, 5, 1, layer_depth['c1']], 'conv'),\n",
    "#     'c2': kaiming_he_init([5, 5, layer_depth['c1'], layer_depth['c2']], 'conv'),\n",
    "#     'c3': kaiming_he_init([3, 3, layer_depth['c2'], layer_depth['c3']], 'conv'),\n",
    "#     'c4': kaiming_he_init([3, 3, layer_depth['c3'], layer_depth['c4']], 'conv'),\n",
    "#     'c5': kaiming_he_init([3, 3, layer_depth['c4'], layer_depth['c5']], 'conv'),\n",
    "#     'c6': kaiming_he_init([3, 3, layer_depth['c5'], layer_depth['c6']], 'conv'),\n",
    "#     'fc1': kaiming_he_init([4 * 4 *  layer_depth['c6'], layer_depth['fc1']]),\n",
    "# #     'fc2': kaiming_he_init([layer_depth['fc1'], layer_depth['fc2']]),\n",
    "#     'out': kaiming_he_init([layer_depth['fc1'], layer_depth['out']])\n",
    "# }\n",
    "\n",
    "# biases = {\n",
    "#     'c1': tf.Variable(tf.truncated_normal([layer_depth['c1']])),\n",
    "#     'c2': tf.Variable(tf.truncated_normal([layer_depth['c2']])),\n",
    "#     'c3': tf.Variable(tf.truncated_normal([layer_depth['c3']])),\n",
    "#     'c4': tf.Variable(tf.truncated_normal([layer_depth['c4']])),\n",
    "#     'c5': tf.Variable(tf.truncated_normal([layer_depth['c5']])),\n",
    "#     'c6': tf.Variable(tf.truncated_normal([layer_depth['c6']])),\n",
    "#     'fc1': tf.Variable(tf.truncated_normal([layer_depth['fc1']])),\n",
    "# #     'fc2': tf.Variable(tf.truncated_normal([layer_depth['fc2']])),\n",
    "#     'out': tf.Variable(tf.truncated_normal([layer_depth['out']]))\n",
    "# }\n",
    "\n",
    "# def conv2d(input_vol, W, b, stride=1, padding='SAME'):\n",
    "#     conv_layer = tf.nn.conv2d(input_vol, W, strides=[1, stride, stride, 1], padding=padding)\n",
    "#     conv_layer = tf.nn.bias_add(conv_layer, b)\n",
    "#     conv_layer = tf.nn.relu(conv_layer)\n",
    "#     return conv_layer\n",
    "    \n",
    "# def maxpool2d(input_vol, k=2, stride=2):\n",
    "#     pool = tf.nn.max_pool(input_vol, ksize=[1, k, k, 1], strides=[1, stride, stride, 1], padding='SAME')\n",
    "#     return pool\n",
    "\n",
    "# def traffic_sign_cnn(X, weights, biases, keep_prob, keep_prob_conv):\n",
    "#     # CONV1    Input = [32x32x1] Output = [32x32x16]\n",
    "#     X = tf.expand_dims(X, -1)\n",
    "#     conv1 = conv2d(X, weights['c1'], biases['c1'])\n",
    "    \n",
    "#     # CONV2    Input = [32x32x16] Output = [32x32x16]\n",
    "#     # MAXPOOL  Input = [32x32x16] Output = [16x16x16]\n",
    "#     conv2 = conv2d(conv1, weights['c2'], biases['c2'])\n",
    "#     conv2 = maxpool2d(conv2)\n",
    "#     con2 = tf.nn.dropout(conv2, keep_prob=keep_prob_conv)\n",
    "    \n",
    "#     # CONV3    Input = [16x16x16] Output = [16x16x32]\n",
    "#     conv3 = conv2d(conv2, weights['c3'], biases['c3'])\n",
    "\n",
    "#     # CONV4    Input = [16x16x32] Output = [16x16x32]\n",
    "#     # MAXPOOL  Input = [16x16x32] Output = [8x8x32]\n",
    "#     conv4 = conv2d(conv3, weights['c4'], biases['c4'])\n",
    "#     conv4 = maxpool2d(conv4)\n",
    "#     con4 = tf.nn.dropout(conv4, keep_prob=keep_prob_conv)\n",
    "    \n",
    "#     # CONV5    Input = [8x8x32] Output = [8x8x64]\n",
    "#     conv5 = conv2d(conv4, weights['c5'], biases['c5'])\n",
    "\n",
    "#     # CONV6    Input = [8x8x64] Output = [8x8x64]\n",
    "#     # MAXPOOL  Input = [8x8x64] Output = [4x4x64]\n",
    "#     conv6 = conv2d(conv5, weights['c6'], biases['c6'])\n",
    "#     conv6 = maxpool2d(conv6)\n",
    "#     con6 = tf.nn.dropout(conv6, keep_prob=keep_prob_conv)\n",
    "    \n",
    "#     # FC1     Input = [1024] Output =  [256]\n",
    "#     fc1 = tf.contrib.layers.flatten(conv6)\n",
    "#     fc1 = tf.matmul(fc1, weights['fc1']) + biases['fc1']\n",
    "#     fc1 = tf.nn.relu(fc1)\n",
    "#     fc1 = tf.nn.dropout(fc1, keep_prob=keep_prob)\n",
    "    \n",
    "#     # FC2     Input = [256] Output =  [128]\n",
    "# #     fc2 = tf.matmul(fc1, weights['fc2']) + biases['fc2']\n",
    "# #     fc2 = tf.nn.relu(fc2)\n",
    "# #     fc2 = tf.nn.dropout(fc2, keep_prob=keep_prob)\n",
    "\n",
    "#     # OUT     Input = [128] Output =  [10]\n",
    "#     out = tf.matmul(fc1, weights['out']) + biases['out']\n",
    "    \n",
    "#     return out"
   ]
  },
  {
   "cell_type": "code",
   "execution_count": 4,
   "metadata": {},
   "outputs": [],
   "source": [
    "layer_depth = {\n",
    "    'layer_1': 12,\n",
    "    'layer_2': 32,\n",
    "    'layer_3': 32,\n",
    "    'fully_connected_1': 512,\n",
    "    'fully_connected_2': 256,\n",
    "    'out': n_classes,\n",
    "}\n",
    "\n",
    "weights = {\n",
    "    'layer_1': kaiming_he_init((5, 5, 1, layer_depth['layer_1']), 'conv'),\n",
    "    'layer_2': kaiming_he_init((5, 5, layer_depth['layer_1'], layer_depth['layer_2']), 'conv'),\n",
    "    'layer_3': kaiming_he_init((3, 3, layer_depth['layer_2'], layer_depth['layer_3']), 'conv'),\n",
    "    'fully_connected_1': kaiming_he_init((5*5*layer_depth['layer_3'], layer_depth['fully_connected_1'])),\n",
    "    'fully_connected_2': kaiming_he_init((layer_depth['fully_connected_1'], layer_depth['fully_connected_2'])),\n",
    "    'out': kaiming_he_init((layer_depth['fully_connected_2'], layer_depth['out']))\n",
    "}\n",
    "#+0.3 over the first epochs than +-0\n",
    "\n",
    "biases = {\n",
    "    'layer_1': tf.Variable(tf.zeros(layer_depth['layer_1'])),\n",
    "    'layer_2': tf.Variable(tf.zeros(layer_depth['layer_2'])),\n",
    "    'layer_3': tf.Variable(tf.zeros(layer_depth['layer_3'])),\n",
    "    'fully_connected_1': tf.Variable(tf.zeros(layer_depth['fully_connected_1'])),\n",
    "    'fully_connected_2': tf.Variable(tf.zeros(layer_depth['fully_connected_2'])),\n",
    "    'out': tf.Variable(tf.zeros(layer_depth['out'])),\n",
    "}\n",
    "\n",
    "# Define helper functions\n",
    "def conv2d(x, W, b, strides=1, padding='VALID'):\n",
    "    x = tf.nn.conv2d(x, W, strides=[1, strides, strides, 1], padding = padding)\n",
    "    x = tf.nn.bias_add(x, b)\n",
    "    return tf.nn.relu(x)\n",
    "\n",
    "def maxpool2d(x, k=2):\n",
    "    return tf.nn.max_pool(x, ksize=[1, k, k, 1],\n",
    "                         strides=[1, k, k, 1],\n",
    "                         padding='VALID')\n",
    "\n",
    "keep_prob = tf.placeholder(tf.float32)\n",
    "def LeNetTransformed(x):\n",
    "    # Input = 32x32x1. Output = 28x28x12.\n",
    "    x = tf.expand_dims(x, -1)\n",
    "    conv1 = conv2d(x, weights['layer_1'], biases['layer_1'])\n",
    "    # Input = 28x28x12. Output = 14x14x32.\n",
    "    conv1 = maxpool2d(conv1)\n",
    "    \n",
    "    # Output = 10x10x32.\n",
    "    conv2 = conv2d(conv1, weights['layer_2'], biases['layer_2'])\n",
    "    \n",
    "    # Input = 10x10x32. Output = 5x5x32.\n",
    "#     conv2 = maxpool2d(conv2)\n",
    "    \n",
    "    conv3 = conv2d(conv2, weights['layer_3'], biases['layer_3'], padding='SAME')\n",
    "    conv3 = maxpool2d(conv3)\n",
    "\n",
    "    # Input = 5x5x32. Output = 320.\n",
    "    fc0 = tf.contrib.layers.flatten(conv3)\n",
    "    \n",
    "    # Input = 320. Output = 512.\n",
    "    fc1 = tf.add(tf.matmul(fc0, weights['fully_connected_1']), biases['fully_connected_1'])\n",
    "    fc1 = tf.nn.relu(fc1)\n",
    "    \n",
    "    # Add Dropout \n",
    "    fc1 = tf.nn.dropout(fc1, keep_prob=keep_prob)\n",
    "    # +0.02\n",
    "    \n",
    "    # Input = 512. Output = 256.\n",
    "    fc2 = tf.add(tf.matmul(fc1, weights['fully_connected_2']), biases['fully_connected_2'])   \n",
    "    fc2 = tf.nn.relu(fc2)\n",
    "    \n",
    "    # Add Dropout\n",
    "    fc2 = tf.nn.dropout(fc2, keep_prob=keep_prob)\n",
    "    # +0.01\n",
    "    \n",
    "    # Input = 256. Output = 43.\n",
    "    logits = tf.add(tf.matmul(fc2, weights['out']), biases['out'])\n",
    "    \n",
    "    return logits\n",
    "\n",
    "# weights = {\n",
    "#     'c1': tf.Variable(tf.truncated_normal([5, 5, 1, 6], mean=0, stddev=0.1)),\n",
    "#     'c2': tf.Variable(tf.truncated_normal([5, 5, 6, 16], mean=0, stddev=0.1)),\n",
    "#     'fc1': tf.Variable(tf.truncated_normal([400, 120], mean=0, stddev=0.1)),\n",
    "#     'fc2': tf.Variable(tf.truncated_normal([120, 84], mean=0, stddev=0.1)),\n",
    "#     'out': tf.Variable(tf.truncated_normal([84, 43], mean=0, stddev=0.1))\n",
    "# }\n",
    "\n",
    "# biases = {\n",
    "#     'c1': tf.Variable(tf.truncated_normal([6], mean=0, stddev=0.1)),\n",
    "#     'c2': tf.Variable(tf.truncated_normal([16], mean=0, stddev=0.1)),\n",
    "#     'fc1': tf.Variable(tf.truncated_normal([120], mean=0, stddev=0.1)),\n",
    "#     'fc2': tf.Variable(tf.truncated_normal([84], mean=0, stddev=0.1)),\n",
    "#     'out': tf.Variable(tf.truncated_normal([43], mean=0, stddev=0.1))\n",
    "# }\n",
    "\n",
    "# def conv2d(input_vol, W, b, stride=1, padding='SAME'):\n",
    "#     conv_layer = tf.nn.conv2d(input_vol, W, strides=[1, stride, stride, 1], padding=padding)\n",
    "#     conv_layer = tf.nn.bias_add(conv_layer, b)\n",
    "#     conv_layer = tf.nn.relu(conv_layer)\n",
    "#     return conv_layer\n",
    "\n",
    "# def pool2d(input_vol, k=2, stride=2):\n",
    "#     return tf.nn.max_pool(input_vol, ksize=[1, k, k, 1], strides=[1, stride, stride, 1], padding='SAME')\n",
    "\n",
    "# def lenet(images, weights, biases, keep_probab):\n",
    "#     # CONV1 Input = [32x32x1] Output = [28x28x6]\n",
    "#     images = tf.expand_dims(images, -1)\n",
    "#     conv1 = conv2d(images, weights['c1'], biases['c1'], padding='VALID')\n",
    "    \n",
    "#     # POOL1 Input = [28x28x6] Output = [14x14x6]\n",
    "#     pool1 = pool2d(conv1)\n",
    "    \n",
    "#     # CONV2 Input = [14x14x6] Output = [10x10x16]\n",
    "#     conv2 = conv2d(pool1, weights['c2'], biases['c2'], padding='VALID')\n",
    "    \n",
    "#     # POOL2 Input = [10x10x16] Output = [5x5x16]\n",
    "#     pool2 = pool2d(conv2)\n",
    "    \n",
    "#     # FC1 Input = 400 Output = 120\n",
    "#     fc1 = tf.reshape(pool2, shape=[-1, weights['fc1'].get_shape().as_list()[0]])\n",
    "#     fc1 = tf.matmul(fc1, weights['fc1']) + biases['fc1']\n",
    "#     fc1 = tf.nn.relu(fc1)\n",
    "    \n",
    "#     # FC2 Input = 120 Output = 84\n",
    "#     fc2 = tf.matmul(fc1, weights['fc2']) + biases['fc2']\n",
    "#     fc2 = tf.nn.relu(fc2)\n",
    "    \n",
    "#     # OUT Input = 84 Output = 10\n",
    "#     out = tf.matmul(fc2, weights['out']) + biases['out']\n",
    "#     return out"
   ]
  },
  {
   "cell_type": "code",
   "execution_count": 5,
   "metadata": {},
   "outputs": [],
   "source": [
    "### Training pipeline\n",
    "logits = LeNetTransformed(X)\n",
    "# loss = tf.reduce_mean(tf.nn.softmax_cross_entropy_with_logits(logits=logits, labels=one_hot_labels)) +\\\n",
    "#         0.01 * tf.nn.l2_loss(weights['fully_connected_1']) + 0.01 * tf.nn.l2_loss(weights['fully_connected_2'])\n",
    "\n",
    "# logits = traffic_sign_cnn(X, weights, biases, keep_prob, keep_prob_conv)\n",
    "# logits = lenet(X, weights, biases, keep_prob)\n",
    "\n",
    "loss = tf.reduce_mean(tf.nn.softmax_cross_entropy_with_logits(logits=logits, labels=one_hot_labels)) +\\\n",
    "        0.0001 * tf.nn.l2_loss(weights['fully_connected_1']) + 0.0001 * tf.nn.l2_loss(weights['fully_connected_2'])\n",
    "\n",
    "optimiser = tf.train.AdamOptimizer(learning_rate=learning_rate)\\\n",
    "                .minimize(loss)"
   ]
  },
  {
   "cell_type": "code",
   "execution_count": 6,
   "metadata": {
    "collapsed": true
   },
   "outputs": [],
   "source": [
    "### Model Evaluation Pipeline\n",
    "correct_predictions = tf.equal(tf.argmax(logits, 1), tf.argmax(one_hot_labels, 1))\n",
    "accuracy = tf.reduce_mean(tf.cast(correct_predictions, dtype=tf.float32))\n",
    "\n",
    "saver = tf.train.Saver()\n",
    "\n",
    "def evaluate(X_data, y_data):\n",
    "    num_examples = len(X_data)\n",
    "    total_accuracy = 0.0\n",
    "    session = tf.get_default_session()\n",
    "    \n",
    "    for offset in range(0, num_examples, BATCH_SIZE):\n",
    "        X_batch, y_batch = X_data[offset: offset+BATCH_SIZE], y_data[offset: offset+BATCH_SIZE]\n",
    "        data_accuracy = session.run(accuracy, feed_dict={\n",
    "            X: X_batch,\n",
    "            labels: y_batch,\n",
    "            keep_prob: 1.0,\n",
    "            keep_prob_conv: 1.0\n",
    "        })\n",
    "        total_accuracy += (data_accuracy * BATCH_SIZE)\n",
    "    \n",
    "    return total_accuracy / num_examples"
   ]
  },
  {
   "cell_type": "markdown",
   "metadata": {},
   "source": [
    "### Train, Validate and Test the Model"
   ]
  },
  {
   "cell_type": "markdown",
   "metadata": {},
   "source": [
    "A validation set can be used to assess how well the model is performing. A low accuracy on the training and validation\n",
    "sets imply underfitting. A high accuracy on the training set but low accuracy on the validation set implies overfitting."
   ]
  },
  {
   "cell_type": "code",
   "execution_count": 7,
   "metadata": {
    "scrolled": false
   },
   "outputs": [
    {
     "name": "stdout",
     "output_type": "stream",
     "text": [
      "Training...\n",
      "\n",
      "EPOCH 1 ...\n",
      "Training Accuracy = 0.95777\n",
      "Validation Accuracy = 0.93569\n",
      "\n",
      "\n",
      "EPOCH 2 ...\n",
      "Training Accuracy = 0.98706\n",
      "Validation Accuracy = 0.95909\n",
      "\n",
      "\n",
      "EPOCH 3 ...\n",
      "Training Accuracy = 0.99508\n",
      "Validation Accuracy = 0.97546\n",
      "\n",
      "\n",
      "EPOCH 4 ...\n",
      "Training Accuracy = 0.99773\n",
      "Validation Accuracy = 0.97219\n",
      "\n",
      "\n",
      "EPOCH 5 ...\n",
      "Training Accuracy = 0.99710\n",
      "Validation Accuracy = 0.97006\n",
      "\n",
      "\n",
      "EPOCH 6 ...\n",
      "Training Accuracy = 0.99846\n",
      "Validation Accuracy = 0.98408\n",
      "\n",
      "\n",
      "EPOCH 7 ...\n",
      "Training Accuracy = 1.00071\n",
      "Validation Accuracy = 0.98317\n",
      "\n",
      "\n",
      "EPOCH 8 ...\n",
      "Training Accuracy = 1.00053\n",
      "Validation Accuracy = 0.98213\n",
      "\n",
      "\n",
      "EPOCH 9 ...\n",
      "Training Accuracy = 1.00063\n",
      "Validation Accuracy = 0.98476\n",
      "\n",
      "\n",
      "EPOCH 10 ...\n",
      "Training Accuracy = 1.00099\n",
      "Validation Accuracy = 0.99088\n",
      "\n",
      "Model saved at ckpts/model-10009-9908-1511998834.1605816\n"
     ]
    }
   ],
   "source": [
    "### Train your model here.\n",
    "### Calculate and report the accuracy on the training and validation set.\n",
    "### Once a final model architecture is selected, \n",
    "### the accuracy on the test set should be calculated and reported as well.\n",
    "### Feel free to use as many code cells as needed.\n",
    "import time\n",
    "with tf.Session() as session:\n",
    "    session.run(tf.global_variables_initializer())\n",
    "    print('Training...')\n",
    "    num_examples = len(X_train)\n",
    "          \n",
    "    for epoch_i in range(EPOCHS):\n",
    "        X_train, y_train = shuffle(X_train, y_train)\n",
    "        for offset in tnrange(0, num_examples, BATCH_SIZE, desc='Epoch {:>2}'.format(epoch_i + 1)):\n",
    "            end = offset + BATCH_SIZE\n",
    "            X_batch, y_batch = X_train[offset:end], y_train[offset:end]\n",
    "            if epoch_i > 5:                \n",
    "                LEARNING_RATE = 0.0005\n",
    "                \n",
    "            if epoch_i > 10:\n",
    "                LEARNING_RATE = 0.0001\n",
    "                \n",
    "            session.run(optimiser, feed_dict={X: X_batch, labels: y_batch, keep_prob: DROPOUT,\n",
    "                                             learning_rate: LEARNING_RATE, keep_prob_conv: 0.7})\n",
    "            \n",
    "        accuracy_train = evaluate(X_train, y_train)\n",
    "        accuracy_valid = evaluate(X_valid, y_valid)\n",
    "        print(\"EPOCH {} ...\".format(epoch_i + 1))\n",
    "        print(\"Training Accuracy = {:.5f}\".format(accuracy_train))\n",
    "        print(\"Validation Accuracy = {:.5f}\".format(accuracy_valid))\n",
    "        print()\n",
    "    \n",
    "    ckpt_file = 'ckpts/model-{}-{}-{}'.format(int(accuracy_train*10000), int(accuracy_valid*10000), time.time())\n",
    "    saver.save(session, ckpt_file)\n",
    "    print(\"Model saved at {}\".format(ckpt_file))"
   ]
  },
  {
   "cell_type": "markdown",
   "metadata": {},
   "source": [
    "## Step 3: Test a Model on New Images\n",
    "\n",
    "To give yourself more insight into how your model is working, download at least five pictures of German traffic signs from the web and use your model to predict the traffic sign type.\n",
    "\n",
    "You may find `signnames.csv` useful as it contains mappings from the class id (integer) to the actual sign name."
   ]
  },
  {
   "cell_type": "raw",
   "metadata": {},
   "source": []
  },
  {
   "cell_type": "markdown",
   "metadata": {},
   "source": [
    "### Load and Output the Images"
   ]
  },
  {
   "cell_type": "code",
   "execution_count": null,
   "metadata": {
    "collapsed": true
   },
   "outputs": [],
   "source": [
    "### Load the images and plot them here.\n",
    "### Feel free to use as many code cells as needed."
   ]
  },
  {
   "cell_type": "markdown",
   "metadata": {},
   "source": [
    "### Predict the Sign Type for Each Image"
   ]
  },
  {
   "cell_type": "code",
   "execution_count": null,
   "metadata": {
    "collapsed": true
   },
   "outputs": [],
   "source": [
    "### Run the predictions here and use the model to output the prediction for each image.\n",
    "### Make sure to pre-process the images with the same pre-processing pipeline used earlier.\n",
    "### Feel free to use as many code cells as needed."
   ]
  },
  {
   "cell_type": "markdown",
   "metadata": {},
   "source": [
    "### Analyze Performance"
   ]
  },
  {
   "cell_type": "code",
   "execution_count": null,
   "metadata": {
    "collapsed": true
   },
   "outputs": [],
   "source": [
    "### Calculate the accuracy for these 5 new images. \n",
    "### For example, if the model predicted 1 out of 5 signs correctly, it's 20% accurate on these new images."
   ]
  },
  {
   "cell_type": "markdown",
   "metadata": {},
   "source": [
    "### Output Top 5 Softmax Probabilities For Each Image Found on the Web"
   ]
  },
  {
   "cell_type": "markdown",
   "metadata": {},
   "source": [
    "For each of the new images, print out the model's softmax probabilities to show the **certainty** of the model's predictions (limit the output to the top 5 probabilities for each image). [`tf.nn.top_k`](https://www.tensorflow.org/versions/r0.12/api_docs/python/nn.html#top_k) could prove helpful here. \n",
    "\n",
    "The example below demonstrates how tf.nn.top_k can be used to find the top k predictions for each image.\n",
    "\n",
    "`tf.nn.top_k` will return the values and indices (class ids) of the top k predictions. So if k=3, for each sign, it'll return the 3 largest probabilities (out of a possible 43) and the correspoding class ids.\n",
    "\n",
    "Take this numpy array as an example. The values in the array represent predictions. The array contains softmax probabilities for five candidate images with six possible classes. `tf.nn.top_k` is used to choose the three classes with the highest probability:\n",
    "\n",
    "```\n",
    "# (5, 6) array\n",
    "a = np.array([[ 0.24879643,  0.07032244,  0.12641572,  0.34763842,  0.07893497,\n",
    "         0.12789202],\n",
    "       [ 0.28086119,  0.27569815,  0.08594638,  0.0178669 ,  0.18063401,\n",
    "         0.15899337],\n",
    "       [ 0.26076848,  0.23664738,  0.08020603,  0.07001922,  0.1134371 ,\n",
    "         0.23892179],\n",
    "       [ 0.11943333,  0.29198961,  0.02605103,  0.26234032,  0.1351348 ,\n",
    "         0.16505091],\n",
    "       [ 0.09561176,  0.34396535,  0.0643941 ,  0.16240774,  0.24206137,\n",
    "         0.09155967]])\n",
    "```\n",
    "\n",
    "Running it through `sess.run(tf.nn.top_k(tf.constant(a), k=3))` produces:\n",
    "\n",
    "```\n",
    "TopKV2(values=array([[ 0.34763842,  0.24879643,  0.12789202],\n",
    "       [ 0.28086119,  0.27569815,  0.18063401],\n",
    "       [ 0.26076848,  0.23892179,  0.23664738],\n",
    "       [ 0.29198961,  0.26234032,  0.16505091],\n",
    "       [ 0.34396535,  0.24206137,  0.16240774]]), indices=array([[3, 0, 5],\n",
    "       [0, 1, 4],\n",
    "       [0, 5, 1],\n",
    "       [1, 3, 5],\n",
    "       [1, 4, 3]], dtype=int32))\n",
    "```\n",
    "\n",
    "Looking just at the first row we get `[ 0.34763842,  0.24879643,  0.12789202]`, you can confirm these are the 3 largest probabilities in `a`. You'll also notice `[3, 0, 5]` are the corresponding indices."
   ]
  },
  {
   "cell_type": "code",
   "execution_count": null,
   "metadata": {
    "collapsed": true
   },
   "outputs": [],
   "source": [
    "### Print out the top five softmax probabilities for the predictions on the German traffic sign images found on the web. \n",
    "### Feel free to use as many code cells as needed."
   ]
  },
  {
   "cell_type": "markdown",
   "metadata": {},
   "source": [
    "### Project Writeup\n",
    "\n",
    "Once you have completed the code implementation, document your results in a project writeup using this [template](https://github.com/udacity/CarND-Traffic-Sign-Classifier-Project/blob/master/writeup_template.md) as a guide. The writeup can be in a markdown or pdf file. "
   ]
  },
  {
   "cell_type": "markdown",
   "metadata": {},
   "source": [
    "> **Note**: Once you have completed all of the code implementations and successfully answered each question above, you may finalize your work by exporting the iPython Notebook as an HTML document. You can do this by using the menu above and navigating to  \\n\",\n",
    "    \"**File -> Download as -> HTML (.html)**. Include the finished document along with this notebook as your submission."
   ]
  },
  {
   "cell_type": "markdown",
   "metadata": {},
   "source": [
    "---\n",
    "\n",
    "## Step 4 (Optional): Visualize the Neural Network's State with Test Images\n",
    "\n",
    " This Section is not required to complete but acts as an additional excersise for understaning the output of a neural network's weights. While neural networks can be a great learning device they are often referred to as a black box. We can understand what the weights of a neural network look like better by plotting their feature maps. After successfully training your neural network you can see what it's feature maps look like by plotting the output of the network's weight layers in response to a test stimuli image. From these plotted feature maps, it's possible to see what characteristics of an image the network finds interesting. For a sign, maybe the inner network feature maps react with high activation to the sign's boundary outline or to the contrast in the sign's painted symbol.\n",
    "\n",
    " Provided for you below is the function code that allows you to get the visualization output of any tensorflow weight layer you want. The inputs to the function should be a stimuli image, one used during training or a new one you provided, and then the tensorflow variable name that represents the layer's state during the training process, for instance if you wanted to see what the [LeNet lab's](https://classroom.udacity.com/nanodegrees/nd013/parts/fbf77062-5703-404e-b60c-95b78b2f3f9e/modules/6df7ae49-c61c-4bb2-a23e-6527e69209ec/lessons/601ae704-1035-4287-8b11-e2c2716217ad/concepts/d4aca031-508f-4e0b-b493-e7b706120f81) feature maps looked like for it's second convolutional layer you could enter conv2 as the tf_activation variable.\n",
    "\n",
    "For an example of what feature map outputs look like, check out NVIDIA's results in their paper [End-to-End Deep Learning for Self-Driving Cars](https://devblogs.nvidia.com/parallelforall/deep-learning-self-driving-cars/) in the section Visualization of internal CNN State. NVIDIA was able to show that their network's inner weights had high activations to road boundary lines by comparing feature maps from an image with a clear path to one without. Try experimenting with a similar test to show that your trained network's weights are looking for interesting features, whether it's looking at differences in feature maps from images with or without a sign, or even what feature maps look like in a trained network vs a completely untrained one on the same sign image.\n",
    "\n",
    "<figure>\n",
    " <img src=\"visualize_cnn.png\" width=\"380\" alt=\"Combined Image\" />\n",
    " <figcaption>\n",
    " <p></p> \n",
    " <p style=\"text-align: center;\"> Your output should look something like this (above)</p> \n",
    " </figcaption>\n",
    "</figure>\n",
    " <p></p> \n"
   ]
  },
  {
   "cell_type": "code",
   "execution_count": null,
   "metadata": {
    "collapsed": true
   },
   "outputs": [],
   "source": [
    "### Visualize your network's feature maps here.\n",
    "### Feel free to use as many code cells as needed.\n",
    "\n",
    "# image_input: the test image being fed into the network to produce the feature maps\n",
    "# tf_activation: should be a tf variable name used during your training procedure that represents the calculated state of a specific weight layer\n",
    "# activation_min/max: can be used to view the activation contrast in more detail, by default matplot sets min and max to the actual min and max values of the output\n",
    "# plt_num: used to plot out multiple different weight feature map sets on the same block, just extend the plt number for each new feature map entry\n",
    "\n",
    "def outputFeatureMap(image_input, tf_activation, activation_min=-1, activation_max=-1 ,plt_num=1):\n",
    "    # Here make sure to preprocess your image_input in a way your network expects\n",
    "    # with size, normalization, ect if needed\n",
    "    # image_input =\n",
    "    # Note: x should be the same name as your network's tensorflow data placeholder variable\n",
    "    # If you get an error tf_activation is not defined it may be having trouble accessing the variable from inside a function\n",
    "    activation = tf_activation.eval(session=sess,feed_dict={x : image_input})\n",
    "    featuremaps = activation.shape[3]\n",
    "    plt.figure(plt_num, figsize=(15,15))\n",
    "    for featuremap in range(featuremaps):\n",
    "        plt.subplot(6,8, featuremap+1) # sets the number of feature maps to show on each row and column\n",
    "        plt.title('FeatureMap ' + str(featuremap)) # displays the feature map number\n",
    "        if activation_min != -1 & activation_max != -1:\n",
    "            plt.imshow(activation[0,:,:, featuremap], interpolation=\"nearest\", vmin =activation_min, vmax=activation_max, cmap=\"gray\")\n",
    "        elif activation_max != -1:\n",
    "            plt.imshow(activation[0,:,:, featuremap], interpolation=\"nearest\", vmax=activation_max, cmap=\"gray\")\n",
    "        elif activation_min !=-1:\n",
    "            plt.imshow(activation[0,:,:, featuremap], interpolation=\"nearest\", vmin=activation_min, cmap=\"gray\")\n",
    "        else:\n",
    "            plt.imshow(activation[0,:,:, featuremap], interpolation=\"nearest\", cmap=\"gray\")"
   ]
  }
 ],
 "metadata": {
  "anaconda-cloud": {},
  "kernelspec": {
   "display_name": "Python 3",
   "language": "python",
   "name": "python3"
  },
  "language_info": {
   "codemirror_mode": {
    "name": "ipython",
    "version": 3
   },
   "file_extension": ".py",
   "mimetype": "text/x-python",
   "name": "python",
   "nbconvert_exporter": "python",
   "pygments_lexer": "ipython3",
   "version": "3.5.2"
  },
  "widgets": {
   "state": {
    "0035b042a42b45389ee966faed6efe54": {
     "views": []
    },
    "006ec18cbaaa484f81ea9144a50f1952": {
     "views": []
    },
    "00911b013a3a4792a5d4121c04ec3641": {
     "views": []
    },
    "00a8780e0d474d1090e436298d32e9f8": {
     "views": [
      {
       "cell_index": 30
      }
     ]
    },
    "00b973d668ed42f8b8ce62edbb510a0f": {
     "views": []
    },
    "00cf06886e574b04aa59908fffb1df64": {
     "views": []
    },
    "00ee752b4e3545d6a334e812a4b3b4b1": {
     "views": [
      {
       "cell_index": 30
      }
     ]
    },
    "010480c5fbd54c7a9ad8a0b9b8f9ecb7": {
     "views": []
    },
    "01389093c9d14ebfa5a716b9b4c01141": {
     "views": []
    },
    "014a731d635140c89b72fdbf224788fd": {
     "views": []
    },
    "01b0956f31674362a35385252cc6a670": {
     "views": []
    },
    "01c7d57ab7bd40ceab0a978a81f8a954": {
     "views": []
    },
    "01f86703368b461ab1c1ec486e189f82": {
     "views": []
    },
    "0253225297194fcd98bc312332c3ca91": {
     "views": []
    },
    "02a63041c4c1412a867afe8496b23221": {
     "views": []
    },
    "02a67da91c8d464ca08f1774bf994a27": {
     "views": []
    },
    "02a9d3aa5f6145ecae294343fd36fe32": {
     "views": []
    },
    "02c06d9381a64e53b5dbbbca987ba73b": {
     "views": []
    },
    "03222ec02efc49868964bb67e61d17a1": {
     "views": []
    },
    "03430f76e754495da9fd7044e2cec971": {
     "views": []
    },
    "03651192ca8741e2adc977511b443689": {
     "views": []
    },
    "03a76f7cab4145eab757f137f783c9d5": {
     "views": []
    },
    "03e015fe47db42ceb0ec41bed21a615b": {
     "views": []
    },
    "040c958e281d431fba40252c4cfeb9dc": {
     "views": []
    },
    "044b4123cfd94cc994608d5dbf66e06d": {
     "views": []
    },
    "045676a0518e4095a8536d552de3dc4d": {
     "views": []
    },
    "049c52a7c1ee49c59673bbf8d012a819": {
     "views": []
    },
    "049cbbc6e9f3483790c3a985984a5f3b": {
     "views": []
    },
    "04e2ea2866174d088d64df9e45697f28": {
     "views": []
    },
    "052d9b080a7b44d7ba3906f4f8c1b507": {
     "views": []
    },
    "0538a5434c034abdb3e56f03171ae2b0": {
     "views": []
    },
    "055f866a257e4b16bbdc0c1abdf16c33": {
     "views": []
    },
    "05633edbbefb4277920aaf4c5a96e623": {
     "views": []
    },
    "059d3e29b52f4ce18041f7c89b4fbe42": {
     "views": []
    },
    "05be259d9be74991b35f66217d3df916": {
     "views": []
    },
    "05fa049ffb60438ba7e9d6791a1cb770": {
     "views": []
    },
    "061ea258f3ff41599da1ccfd2d78dd6e": {
     "views": []
    },
    "063fa782aac94098983d6c8005bb3032": {
     "views": [
      {
       "cell_index": 30
      }
     ]
    },
    "0654c033e23d4c97add931c21b9030f4": {
     "views": []
    },
    "06579f1b25e04a3ca6663423d069c2e4": {
     "views": []
    },
    "0664a53225cf44fa87a6e3aea6cbc49a": {
     "views": []
    },
    "06670ea0432841b4a04fc2c918adc668": {
     "views": []
    },
    "0677c03b914c4523909225e1c87347d3": {
     "views": []
    },
    "068980f3a577404c9894e5f415979e03": {
     "views": [
      {
       "cell_index": 30
      }
     ]
    },
    "0691f672b3ed47b7a50c932d7243a81c": {
     "views": []
    },
    "07087251a1c741d68b892533c89dd151": {
     "views": []
    },
    "075e9b411afd4af09543c8f7cc1431ff": {
     "views": []
    },
    "0763dcf33f3d48ad8312a90839ed06cb": {
     "views": []
    },
    "07ba2ff3ec6b4182b306b141b925f522": {
     "views": []
    },
    "07dcc01767c54c1087d013760c4115eb": {
     "views": []
    },
    "08252147d330453e9afbca2a76266115": {
     "views": []
    },
    "08528e62995f4c8f85f0a79eee1939ff": {
     "views": []
    },
    "08ea05a4e4344201a4dd5584614d9030": {
     "views": []
    },
    "094f3b3a512346caa68557065a8f7852": {
     "views": []
    },
    "09718d050abd404e9e17342be61a5624": {
     "views": []
    },
    "0995735d6bf844d68db68f404495be3a": {
     "views": []
    },
    "099e26d9e2994b10bd8e094c8857128f": {
     "views": []
    },
    "09af2a230eee428fb4f0066881dadae7": {
     "views": [
      {
       "cell_index": 30
      }
     ]
    },
    "09b9261dc0114c0cb834bc10392115e6": {
     "views": []
    },
    "09c2154da0ce4debbf3f0017428d0093": {
     "views": []
    },
    "09d29aa3d86d47479b143e3934b09b2d": {
     "views": []
    },
    "09d5ae8d0a2e4782bf5d793ec17556c0": {
     "views": []
    },
    "09de0cceb1bf477698b41654798776d7": {
     "views": []
    },
    "0a3d7993b4ca4376b4226d91a826ef6e": {
     "views": []
    },
    "0a5ab50dd79845bbae5da142d5275a16": {
     "views": []
    },
    "0ad461d9df0e4bf48cc364f1f1a90121": {
     "views": []
    },
    "0ae716ac65864930847007134c10a4c8": {
     "views": []
    },
    "0af2efcc9599471492bb0ceb321d700b": {
     "views": []
    },
    "0af60eb323bf4d178b55bfa021bb0c5c": {
     "views": []
    },
    "0b100306b8a4442f87d1bc14fe18e21e": {
     "views": []
    },
    "0b158af7048047c880162a4ca244f95c": {
     "views": []
    },
    "0b3cb21692ce42a1b8fd5b17e117631a": {
     "views": []
    },
    "0b3fe69f431948579b4991bbef9675fd": {
     "views": []
    },
    "0b6465df7dce4b1586815ba30016aed0": {
     "views": []
    },
    "0b6a3c9b7c3e4c8f9c41d41c3ec9ecec": {
     "views": []
    },
    "0b8330466d724fb691abd50d5895e7d6": {
     "views": []
    },
    "0bd4b4971fd84efd8dfe0ab17fa16948": {
     "views": []
    },
    "0c3eb1c44f444152a83c30994bb58e50": {
     "views": []
    },
    "0c723557c4b34a61a89ac4946cc536d4": {
     "views": []
    },
    "0cfca0a9d715404bbaa42ba961e49a58": {
     "views": []
    },
    "0d46435f234f400590431d3355f27114": {
     "views": [
      {
       "cell_index": 30
      }
     ]
    },
    "0d574415c536436e93b895ded7268533": {
     "views": []
    },
    "0dc30a8da23447fdac1892407e295a1b": {
     "views": []
    },
    "0ddb60c90df64f1cb83d816f0f2519ec": {
     "views": []
    },
    "0df31648dd9a4d0b8f165c3c7fb9b5d8": {
     "views": []
    },
    "0e1b2e569ca14eaf861914a66c466c5f": {
     "views": []
    },
    "0e6ede1b60234dfba1962e3d4ab89ac9": {
     "views": []
    },
    "0e73adf58d74467d82c9fed49a0127f7": {
     "views": []
    },
    "0ed0b828cb7147e59ce11195e25cea4e": {
     "views": []
    },
    "0f53cca9fe964573ae9e9c9dcac79496": {
     "views": []
    },
    "0f6b0a0351224bd5adbb9c978cf05c56": {
     "views": []
    },
    "0fa6d7023b9446b297d02d9af1b8c73f": {
     "views": []
    },
    "10518688f18d4e96808bad938607f7ae": {
     "views": []
    },
    "10657af28d354397903f3453d0d2e644": {
     "views": [
      {
       "cell_index": 30
      }
     ]
    },
    "10735a995a9146cd8e9af5d87d58e878": {
     "views": []
    },
    "108578aef37f410e8abf4f2c294a7f41": {
     "views": []
    },
    "10c9323c65594d15b46beee3ee5dbca7": {
     "views": []
    },
    "10eb9d7cb582429ebe801c21052159a5": {
     "views": []
    },
    "1127bfab900a4c1499357c92edb0e39c": {
     "views": []
    },
    "11397d0de5794a1eb45fed7824a3966f": {
     "views": []
    },
    "113b0ba27a5c4a1da9d73d825fbbf7a7": {
     "views": []
    },
    "114c31675b5746fea32cc5819e59ef1b": {
     "views": []
    },
    "117f36b025b94274a742a4b2f7180a7c": {
     "views": []
    },
    "118c909087be436cb2679d78d4b60dfc": {
     "views": []
    },
    "11efaeeb4d5b4d24911a7483f6d21b38": {
     "views": []
    },
    "1207d2ca1e1c46c59f6ddf316c556949": {
     "views": []
    },
    "1209cab91d4e4538b8c93d60d532450e": {
     "views": []
    },
    "1215133c92b74272b3f4e69fe32f4be3": {
     "views": []
    },
    "1262b40d96a24a6c8fe6b7bb07068196": {
     "views": []
    },
    "127d81cbc7284d83a26ae775e3a5c886": {
     "views": [
      {
       "cell_index": 30
      }
     ]
    },
    "12960098b2874ba9b067e50958aaa6ed": {
     "views": []
    },
    "12a71c83a99841af80e32c391a2bc023": {
     "views": [
      {
       "cell_index": 30
      }
     ]
    },
    "1341a53a8a1241cbb758e4c6976b4c02": {
     "views": []
    },
    "13511415b5f14d5db71eb79b7f020b3a": {
     "views": []
    },
    "136480b9d67f479bb5cf9a26a3223d5c": {
     "views": []
    },
    "1364a448d91a4caa87e36c13c79c7472": {
     "views": []
    },
    "1393d14a090e4530a4ed8ec83da9f9ba": {
     "views": []
    },
    "13969ab6e004465aa7604e375f4dfaa8": {
     "views": []
    },
    "13fe9986fc054a70a842ffced28315b2": {
     "views": []
    },
    "1444ad65832545158f25ae677cb18893": {
     "views": []
    },
    "1455defb68e14f318d0cf994988da291": {
     "views": []
    },
    "147634131d6a4dc18284d078a5a61f97": {
     "views": []
    },
    "14867def16b0454094e41c70503ccd81": {
     "views": []
    },
    "149506e68097425cb93064fba9a6b7ac": {
     "views": []
    },
    "14b527ec2f3841478305104ff795f912": {
     "views": []
    },
    "14c7f79320c6429eb8796e65a7f867e9": {
     "views": []
    },
    "14fabfab177945fdbeaa979cd82c63ef": {
     "views": []
    },
    "15325f386a48444bb34bd90d58424f62": {
     "views": []
    },
    "154238e60981425bac19afd858a6f4c0": {
     "views": []
    },
    "1542b8e0226f44aeb8d695b144ea566b": {
     "views": []
    },
    "159371b978c640cd9078c61f975c6d0f": {
     "views": []
    },
    "1616179e273f4d3dad4cf61844cfb6ff": {
     "views": []
    },
    "16537dbdf7ee47b5adce0c13749d209b": {
     "views": []
    },
    "16720bb308d14b16b4656b5dc5c7acd6": {
     "views": []
    },
    "168551c1a217476691d4f5c152ca4c4c": {
     "views": []
    },
    "16db5553b51d4bdba1f92419e7446762": {
     "views": []
    },
    "17621095fc1f449cb2171ab7ad768203": {
     "views": []
    },
    "1776434dd21f4e82bb82d2f2e6db023a": {
     "views": []
    },
    "177e875c463546e98ab9ef7e81ec445b": {
     "views": [
      {
       "cell_index": 30
      }
     ]
    },
    "178023d2da164a76ba72aabd6773d279": {
     "views": []
    },
    "185a99b8e06d4a56ba90008452afc6cd": {
     "views": []
    },
    "188ab33e4e034d679edb8293e46b15e4": {
     "views": []
    },
    "18bb3a9e1e1d4212a0b305555a2c829b": {
     "views": [
      {
       "cell_index": 30
      }
     ]
    },
    "18f72c9de7ee4d46a19de3b93c9d3201": {
     "views": []
    },
    "1957029f703f4ce894f435403afda5ce": {
     "views": []
    },
    "197f95e808784cc18b2033473ef61e09": {
     "views": []
    },
    "19e81630bd4642f8aa6cd1ba0ab8d39f": {
     "views": []
    },
    "1a17d1b42e8c47a1a7eb6d7d165203a2": {
     "views": []
    },
    "1b0e2d55fd7146bea1fbef6bf17420fd": {
     "views": []
    },
    "1b26a5be2fa543fb9f365addcd6ec0fe": {
     "views": []
    },
    "1b568c9da6c747de8f3d76a9dd8770f0": {
     "views": []
    },
    "1b703ab1af7e4f6d9cde6e2e107ff309": {
     "views": []
    },
    "1b79e48630c943df8b7a4c0bfc2fe154": {
     "views": []
    },
    "1b8276a1532044ac85fc8507662fbd8e": {
     "views": [
      {
       "cell_index": 30
      }
     ]
    },
    "1b898b3e66d84f4dacf56b0e2ab28b3a": {
     "views": []
    },
    "1bae08f83bbb42fd879c21930d603b89": {
     "views": []
    },
    "1bd8097021434a32afae28a43f2cb52c": {
     "views": [
      {
       "cell_index": 30
      }
     ]
    },
    "1bd82bfdd44b4d31b656c20de7dbd51f": {
     "views": []
    },
    "1befa354e37d48b38eb2ea11e54742a1": {
     "views": []
    },
    "1c05b6a3969347b9899ec3b229fb62b1": {
     "views": []
    },
    "1c149bd8d60d44b8aa682444ae057703": {
     "views": []
    },
    "1c254e10157a4747826eba2d1e6dd5c1": {
     "views": []
    },
    "1c654b3db2e84bf2b08cd536dc2d4bef": {
     "views": []
    },
    "1c6c96ee4f7b404dbefd3f46d0719ad9": {
     "views": []
    },
    "1c7133cb22464c509934b7f2adf46362": {
     "views": [
      {
       "cell_index": 30
      }
     ]
    },
    "1c8254d5b1b5426a9e7cd735a51ef9af": {
     "views": []
    },
    "1c9696391fc24e8ca87c9df0ce7b75a3": {
     "views": []
    },
    "1c9c2dad46cf48c69100abc3dfd8c03e": {
     "views": [
      {
       "cell_index": 30
      }
     ]
    },
    "1cd3a55cd8ab493fb5fd16599084fa8d": {
     "views": []
    },
    "1ce388e9526f4db3bb0da2df54a55d77": {
     "views": []
    },
    "1d42f6e39eb343879a427290f9f1bd46": {
     "views": []
    },
    "1d4ae26a34494fb4a29300beec758d05": {
     "views": []
    },
    "1d4f82a30181468684443dbf428467f8": {
     "views": []
    },
    "1d607ce48a044649a67837a0f2271599": {
     "views": []
    },
    "1d6148d97b734c748b3c1f017b639ca0": {
     "views": []
    },
    "1d6232c9c9274920a005970501e6d6be": {
     "views": []
    },
    "1d793fb1c82148e7838c2d4801b0633b": {
     "views": []
    },
    "1d8cf65093074543a079c0e971ef6d04": {
     "views": []
    },
    "1dbb029437fb4409825f77780eb46e85": {
     "views": []
    },
    "1dcbcc2d12ab43e8bf6f5260c69a44b5": {
     "views": []
    },
    "1dcf488e346142bfb4b5d2fa9bd0613f": {
     "views": []
    },
    "1e30758f81f043e39a8f90de7a2601bc": {
     "views": []
    },
    "1e4f4c91ecb64b6282efb6e5984cd8b3": {
     "views": []
    },
    "1e53d6dc2dac40e983221417d378f728": {
     "views": []
    },
    "1eb5c7d881a8497aa53dbdfed1f758dd": {
     "views": []
    },
    "1ed4c25a274b455d9118b06320ab4ff0": {
     "views": []
    },
    "1efd54d6e52b4848802c5218aea74a2b": {
     "views": []
    },
    "1f2b8a643c2d4b64934d875f3b84aac5": {
     "views": []
    },
    "1f324445bb484aa9b3dc02a3ba73ecfc": {
     "views": []
    },
    "1f42090f267b4c9d87ab1c2dc5e68464": {
     "views": []
    },
    "1f46e44d29a84c1491cbf6b3eeadcbf1": {
     "views": []
    },
    "1f4fb798ee914cfd8a60b614885b7811": {
     "views": []
    },
    "1f60a85ac74745639de9620a1698bd9c": {
     "views": []
    },
    "1f8059e793a843918e37a27774addc50": {
     "views": []
    },
    "1f9a1972dd2d4d878e9a6c88fed6c388": {
     "views": []
    },
    "1fb9d9f19d644512b1e73428c3e1b165": {
     "views": []
    },
    "1fd4fcf8125644bc99c10257078e6b45": {
     "views": [
      {
       "cell_index": 30
      }
     ]
    },
    "1fd760309e174d94b8787e220ba829b9": {
     "views": []
    },
    "1fe1de84a5ed401eb293a16423b9a82e": {
     "views": []
    },
    "200709813813481f9523c5330c1ab162": {
     "views": [
      {
       "cell_index": 30
      }
     ]
    },
    "2011e61b41ed42b6a84aef7a98389e44": {
     "views": []
    },
    "201a80e02abb4d90846e85ceec0a0a91": {
     "views": []
    },
    "2046fbae5f5e4753a73a31eefc54fbf5": {
     "views": []
    },
    "20d1d7279ebd4e12b4db7a240cd298f3": {
     "views": []
    },
    "20fb715743b547d5862e9e2feea3912c": {
     "views": []
    },
    "216355e91c0d4a0297cb25519339b54a": {
     "views": []
    },
    "21763bcf69dd440fb7389753a7aaebde": {
     "views": []
    },
    "218f34450f9041a29609afb582450fcf": {
     "views": []
    },
    "21ca6906bcb14a218de463ddbb145486": {
     "views": []
    },
    "21f58dab53d84c0e833dcae580d6c251": {
     "views": [
      {
       "cell_index": 30
      }
     ]
    },
    "221f9c9f564f45a2bb3737943432409e": {
     "views": []
    },
    "222be5f1fbcd4291badf30d98d4e3df2": {
     "views": []
    },
    "225092bde02f474a812acd7bf5d46157": {
     "views": []
    },
    "22716f4f84444c4c85786e60f33aa7e2": {
     "views": [
      {
       "cell_index": 30
      }
     ]
    },
    "2272b2d31db04a45b83d33156b8563b4": {
     "views": []
    },
    "228e7db2fd824c36bb8ba74cc81d9249": {
     "views": []
    },
    "22df953f5f504cbaaa6011ad3d716ba6": {
     "views": []
    },
    "2301171e34d34a86bec30ec32168b348": {
     "views": [
      {
       "cell_index": 30
      }
     ]
    },
    "2306ac7bb52a4f79aa56a2cd6084194e": {
     "views": [
      {
       "cell_index": 30
      }
     ]
    },
    "230e58e547a44c60bb6f47ed9c0d668f": {
     "views": [
      {
       "cell_index": 30
      }
     ]
    },
    "238da8807c294f36bd75b12a64130f50": {
     "views": []
    },
    "24621cc34d904c1daa5688580a2169b9": {
     "views": [
      {
       "cell_index": 30
      }
     ]
    },
    "24758108b59c47eb944e39fd68803ee5": {
     "views": []
    },
    "24cb5f372ef3493c93e88cfed7ded134": {
     "views": []
    },
    "24e7992ec7714f259f752c909a53a324": {
     "views": []
    },
    "250487c685b04dd4ad36a0716f420759": {
     "views": []
    },
    "250b403a33ca41df972407c52ae58470": {
     "views": []
    },
    "2542b8bbc6d94b47b88252902415394f": {
     "views": []
    },
    "2560a8f269554d86ad95af187b9298b6": {
     "views": []
    },
    "257f58dead734468875cf2b533c0a701": {
     "views": []
    },
    "258c715ec4da4e47918aa35888e22829": {
     "views": []
    },
    "25a9231a1be5426487259ef8d1cbb2e5": {
     "views": []
    },
    "26148d1ce4b74cf8a3b175cf76d1267a": {
     "views": []
    },
    "2621b1823d37468cb0f4c233c521b328": {
     "views": []
    },
    "263467204a104ba587184183b430b019": {
     "views": []
    },
    "263d7bba61dc43ef8e74b66918da163a": {
     "views": []
    },
    "267b023452eb4aa880f3f364a533cc29": {
     "views": []
    },
    "26b237d705744bf19eef276e73e25d93": {
     "views": [
      {
       "cell_index": 30
      }
     ]
    },
    "27453c4e3ae84080a1f3f4da602f048f": {
     "views": []
    },
    "276d949df14848feaef0e77a2fac31be": {
     "views": []
    },
    "279d18689b804b1ebf5b4537078fb56a": {
     "views": []
    },
    "27a1a04dfe234525b758623e05a36804": {
     "views": []
    },
    "27beee9b2238450d9ba711cba894e16f": {
     "views": []
    },
    "28055c8bf0d04f48a3096a1b49411aa9": {
     "views": []
    },
    "2816e74477604a91abfe2c88688de317": {
     "views": []
    },
    "2862f99671e54dc1b3e3305608e75fe9": {
     "views": []
    },
    "287512db265c4221b39e022468f25914": {
     "views": []
    },
    "28828b569e344a2eb817b8d1953fe227": {
     "views": []
    },
    "28a7c3e9ae4f407d95d08aee6da38eba": {
     "views": []
    },
    "28be8d0a57ee41faa5f35b676b1baeba": {
     "views": []
    },
    "28f6665d481c455b9b351768366cbc70": {
     "views": []
    },
    "29221b1686864b1782241396eab9b539": {
     "views": []
    },
    "292530af5f9b4ebb9ff7a0ee76508ec7": {
     "views": []
    },
    "296e17f623c84d4cb427741abc41f348": {
     "views": []
    },
    "297a80a08feb434f97eebd2d9c36006a": {
     "views": []
    },
    "2a22cf881a8a448db1a9d7f12ed8711c": {
     "views": []
    },
    "2a43b98131bf4417b09961ae1f7067f7": {
     "views": []
    },
    "2a85d241fb074901943feba986aaa734": {
     "views": []
    },
    "2ad605de59fc4afcaf7b6927b98a05b5": {
     "views": []
    },
    "2af2e1b3088a45ca947303191d3b4f36": {
     "views": []
    },
    "2b324edff76247b48ccc7ec730d9822f": {
     "views": []
    },
    "2b68435a03d142cda000b9941328a917": {
     "views": [
      {
       "cell_index": 30
      }
     ]
    },
    "2b707e4291f14d97b77d3dd2a8b7654f": {
     "views": []
    },
    "2c00a319653e4cf2a5c99811ca5ba4c1": {
     "views": []
    },
    "2c693b42decc41b8b3f834d94c3bfa7a": {
     "views": [
      {
       "cell_index": 30
      }
     ]
    },
    "2c9ad77452544ba6ab09c43feaaceec6": {
     "views": []
    },
    "2cd8adf983c24acca2773237f0e993bc": {
     "views": []
    },
    "2cfad5cb7d3a463c97806a93c6b9069b": {
     "views": []
    },
    "2d16051f85834d8ebc5cbe67514b3c73": {
     "views": []
    },
    "2d250d8425a0477381c5bc9a71ecd4d1": {
     "views": []
    },
    "2d44ca2b848149e89a6d66659d1df071": {
     "views": []
    },
    "2d8ae0e8ab2d4580b263cadb8142062f": {
     "views": []
    },
    "2da33493aa21462bba5c20f9fb26760f": {
     "views": []
    },
    "2da6a42b8fed4335acf2b5ab51d35665": {
     "views": []
    },
    "2e18b6997cf7486bbb37f2161d6d0f3c": {
     "views": []
    },
    "2e40eae8e385416a8772fc80a3209c23": {
     "views": []
    },
    "2e6106fc3cf64c4798aad28ef716aa35": {
     "views": []
    },
    "2e81db7eba4c4a53a21a3ee8b69731d0": {
     "views": []
    },
    "2e8b96211a7b4f818acb47788dbf9e3e": {
     "views": []
    },
    "2ea30043db1f4f69a66a3b72f3b9213c": {
     "views": []
    },
    "2eb1898ea9d342c3b67b9d7529e40f14": {
     "views": []
    },
    "2edfaec657304219830b43a4555e1d84": {
     "views": []
    },
    "2f5cb50c31a544bea69cdbbe19d8e162": {
     "views": [
      {
       "cell_index": 30
      }
     ]
    },
    "2f9c2692993f409aae0c00ee25722261": {
     "views": []
    },
    "30043a4f34984db5a3b1dc8a79477005": {
     "views": []
    },
    "301026d2e2af4bc893a3be0c6e854f68": {
     "views": []
    },
    "30511f6c11244714a9a8621a76ca7611": {
     "views": []
    },
    "305292f29ff2404687ad4d580f0be3cf": {
     "views": []
    },
    "3072985f541b414997592fdf2c8c43bf": {
     "views": []
    },
    "3086e98ea8da431b9d79452ceec58475": {
     "views": []
    },
    "30c7e317be2b4174b8dc3ee8dea5f78e": {
     "views": []
    },
    "31264ae214ea4736a8622f79a04aa0f0": {
     "views": []
    },
    "314c327e26624a7791dba9523036bcd9": {
     "views": []
    },
    "3164b01977034cafaf6d1947ec75d433": {
     "views": [
      {
       "cell_index": 30
      }
     ]
    },
    "317c626cf424403aa6cf8d47b0251a83": {
     "views": []
    },
    "319b94a88346441188a35c69f2b58303": {
     "views": []
    },
    "31decc36e0ce44769e3ceb33c9f13a93": {
     "views": []
    },
    "32117d3ee320432b9d26162fe690592c": {
     "views": []
    },
    "321ca7d5942342f39bb9b5bd9a5bc347": {
     "views": []
    },
    "324a38e0de1044a8ba51e31e506ee953": {
     "views": []
    },
    "32ed9c3803cb4d6b9c9e2e0bcfd6ddf8": {
     "views": [
      {
       "cell_index": 30
      }
     ]
    },
    "330566dbf29d4c478c6b77b8e9a97284": {
     "views": []
    },
    "33143719248b440996a3b612ef4fd69e": {
     "views": []
    },
    "335a0a63732249588f6e6c99eea1b14e": {
     "views": []
    },
    "338332458db841279d73bf3ecfe94b79": {
     "views": []
    },
    "33acd72067a5490d88da19bcd8979240": {
     "views": []
    },
    "33b73fa2695645a48bbc20d0a5464d4b": {
     "views": []
    },
    "33dae83956f94c4987d66f6361a921d5": {
     "views": []
    },
    "33eaafd8ded545c3822e8b00892a2aef": {
     "views": []
    },
    "3455b4d959da48d8bd41ec04749ff32f": {
     "views": []
    },
    "3496db66fad54df1acab3a64ebd5973a": {
     "views": []
    },
    "349754100de9499e94b6eae8c719bda5": {
     "views": [
      {
       "cell_index": 30
      }
     ]
    },
    "34abf9a7cea34616a319c686c35825be": {
     "views": []
    },
    "34d346b26d454fee9b5a0284ee1b89de": {
     "views": []
    },
    "34f4c9ac1a3d4f218f4a0e7e647b41b3": {
     "views": []
    },
    "355e232f78a44be1a6629f78b1d2ee4a": {
     "views": []
    },
    "35654e00a23f48948ed86cdefd8bf503": {
     "views": []
    },
    "35661a8c78fb4d73ba547052baac2b89": {
     "views": []
    },
    "35744f465cf44fc69ec85160c922fbb7": {
     "views": []
    },
    "35cff7a8c07b4b11bc55e1c21ddbdd41": {
     "views": []
    },
    "35dbef943da04583a3d81dd6e9a3dff5": {
     "views": [
      {
       "cell_index": 30
      }
     ]
    },
    "362ee6c2090b4d7097bbc7ad6820ebfd": {
     "views": [
      {
       "cell_index": 30
      }
     ]
    },
    "366e363dbec549109bcf1bc9543539ef": {
     "views": [
      {
       "cell_index": 30
      }
     ]
    },
    "369847b9bad7481d8f585e0e885bbb8d": {
     "views": []
    },
    "3778787b039c49f7840ab4859394c60b": {
     "views": []
    },
    "37a4bc4094894dbb9169715ba4d82eab": {
     "views": []
    },
    "381f552dc2ee41e4a992b247ebfe3cb5": {
     "views": []
    },
    "385dd575cf934609bd56c7e9e14dfd0c": {
     "views": [
      {
       "cell_index": 30
      }
     ]
    },
    "387fe87ab9b4499ea42bac0c2f01c8bb": {
     "views": []
    },
    "388a5dca8a854b508bffb155ff88b5e9": {
     "views": [
      {
       "cell_index": 30
      }
     ]
    },
    "38a72491f55c4aae8b93aa661dc8f130": {
     "views": []
    },
    "38b46ed7548f459097d258b6c6fc3bbb": {
     "views": []
    },
    "38cc542766f3400b967563608c2bd702": {
     "views": []
    },
    "38cf2be7d8564c51ab5e81af5d0cc3c5": {
     "views": []
    },
    "38d4cba15860456d996a234d0ec832f7": {
     "views": []
    },
    "3901faf241cc429fa25b21b067813839": {
     "views": [
      {
       "cell_index": 30
      }
     ]
    },
    "3915a426c4924d739f2bc18b80489937": {
     "views": []
    },
    "3926c7dee5e746998e24df2f4006ebc3": {
     "views": []
    },
    "394d3112813f49e18fce8a5b4d5062f6": {
     "views": []
    },
    "394ffc5d31534ce3af6e61cf86965c36": {
     "views": []
    },
    "3975d7f96178416ca4d55ad176d87c03": {
     "views": []
    },
    "3994c2c6fb9b4acd92dd7186a9bf3e25": {
     "views": [
      {
       "cell_index": 30
      }
     ]
    },
    "39c2980f33bd4d6a9ae6053d2676d60d": {
     "views": []
    },
    "39f14e2e354d47e4a008cae947126cdc": {
     "views": [
      {
       "cell_index": 30
      }
     ]
    },
    "3a2c41a113524e2e9c862fca98620a7b": {
     "views": [
      {
       "cell_index": 30
      }
     ]
    },
    "3b18c5ec7e11499080506093024dfb3d": {
     "views": []
    },
    "3b4f9b0271fb40fda3e220bd2c530a88": {
     "views": [
      {
       "cell_index": 30
      }
     ]
    },
    "3ba6f40984424be88f7381f1c7ef3bd6": {
     "views": []
    },
    "3c08ef9c411f4fcc9f9e6aba2d197706": {
     "views": []
    },
    "3c117cf2cc234a4e81a06f19f5fac9c9": {
     "views": []
    },
    "3c40e33245434130af5a77efbcfcff23": {
     "views": []
    },
    "3c43db73be954c0d84c4d34f54edadc5": {
     "views": []
    },
    "3c8277c560b444f69c3280e62b55d4de": {
     "views": []
    },
    "3cec48f1626a404984ad7b58d18c5561": {
     "views": []
    },
    "3d1781242a064f3989ca20e7baead049": {
     "views": []
    },
    "3d69429c4cce4f9bb7c52a064be30295": {
     "views": []
    },
    "3da8adc043004cd5a648f5d2622b9733": {
     "views": []
    },
    "3dadf237d84648008cd209fa5986ded2": {
     "views": []
    },
    "3db065e1d6e444308ff552cea778ece4": {
     "views": []
    },
    "3dbadd3083514393811fbc31a967ed4d": {
     "views": []
    },
    "3dbf8e035a90491bb12b14509bbc4a13": {
     "views": []
    },
    "3e15063fe1fe4d0c936d73bb8a4043bf": {
     "views": []
    },
    "3e51755ff70346f5a24160e7330fc097": {
     "views": []
    },
    "3e616cd59b14492bbbacf31b63eacd68": {
     "views": []
    },
    "3eeb6c163e074b7dac829cc990707db1": {
     "views": []
    },
    "3f1a2015a0cd4220ba5b54f384aa22f8": {
     "views": []
    },
    "3f3a745b13c9460aa30480214db918db": {
     "views": []
    },
    "3f6ae26c5d34495e90f2d13372163003": {
     "views": []
    },
    "3f717a075c2a41f69978e42e5623e34d": {
     "views": []
    },
    "3f792e5e4f7e45c0b7b9f10d6761adcc": {
     "views": [
      {
       "cell_index": 30
      }
     ]
    },
    "3f7ae35541cb4bc689f65a893fe6989e": {
     "views": []
    },
    "3f7f0affe1304bf1a3506808e3f88e7b": {
     "views": []
    },
    "3fbc82d1da8d41e985f8b12e41f569c4": {
     "views": []
    },
    "4035be252f7f459392a4d7b263e6351d": {
     "views": []
    },
    "40f2168d30784c149cde087442eadb26": {
     "views": []
    },
    "4106eee7f1c54df69d85585aa0dc361b": {
     "views": []
    },
    "41b5d62b8a594238b609b3d6ba962576": {
     "views": []
    },
    "41f16464bcc84864bfdc91a981604b7b": {
     "views": []
    },
    "42119448b13f4272a35bc86040227bf3": {
     "views": []
    },
    "422e953d9cdb4edc89f34dcb2a777de2": {
     "views": []
    },
    "42967211c75c408cbb4a82a8570a31ca": {
     "views": []
    },
    "42ceacfc265f4338a976c8450590449c": {
     "views": []
    },
    "42d1f651c1e549199404c14f01cf82ad": {
     "views": []
    },
    "42e1669041624133b17316fea136add5": {
     "views": []
    },
    "42fda52e65464fb29442935907ad673b": {
     "views": []
    },
    "430d2f6054ae4afc9806d4d9e25a6980": {
     "views": []
    },
    "43340e908cba4d1b831e0d8b20f05a8b": {
     "views": []
    },
    "436faf787bd14a9ab2f2544626c9f0a9": {
     "views": []
    },
    "4392ffd8d3d74fd6acd6a5948011bb0d": {
     "views": []
    },
    "43cc19a3b08346b896df758d42b34053": {
     "views": []
    },
    "43ed0207ceaa4ad4aea2666ad457734c": {
     "views": []
    },
    "44018da6aaf94ce09eac7661759a46ce": {
     "views": []
    },
    "4408abcf20ae4946bd88c486a300e1ad": {
     "views": [
      {
       "cell_index": 30
      }
     ]
    },
    "441778190f7d4c1c8c6339be361732fb": {
     "views": [
      {
       "cell_index": 30
      }
     ]
    },
    "443dfad298ec48d0a3ecfbeba57c1051": {
     "views": []
    },
    "44414f918ea042fabb73b8af86094361": {
     "views": []
    },
    "444a3a9bf2e14a328ad2020b27a82091": {
     "views": []
    },
    "4468ff8a92f6435b8bd5b0f8ad6111b8": {
     "views": []
    },
    "448e12d7281145ec891dce740e408722": {
     "views": []
    },
    "44b17aaa608e49af8e4694154ca1bd10": {
     "views": [
      {
       "cell_index": 30
      }
     ]
    },
    "44b6674e9dd54c7a8d13ff97c638903e": {
     "views": []
    },
    "44d6f49414424fa89a59ae164bfa5d2b": {
     "views": []
    },
    "45005338c5a44c7ba7ded84ac927dfc5": {
     "views": []
    },
    "450650135be14eb7a2f22b486b5626ab": {
     "views": []
    },
    "45300864db98425687369fd34b728b6f": {
     "views": []
    },
    "45681ec7cc6e433b97edc0e116c55a31": {
     "views": []
    },
    "459f46edd2fb4efcbd3ff28a66905b16": {
     "views": []
    },
    "45f9742a64ca4f668646ef6709f2c83e": {
     "views": []
    },
    "461f6e878d594019931f3c960c4660d2": {
     "views": []
    },
    "4625eafa6a5446ba917cd64cb0c68d5c": {
     "views": []
    },
    "464f3f84051b4dbfa4ed666f6e63a682": {
     "views": [
      {
       "cell_index": 30
      }
     ]
    },
    "4664adbeb15748729696fe3cb31fe6ab": {
     "views": []
    },
    "466d79f2e353471993b94fc7ad178a5b": {
     "views": []
    },
    "467a0369ca994a19b97c6ccc5c930455": {
     "views": []
    },
    "468e75b4ffdd4b75aca24fd7670a2ffc": {
     "views": []
    },
    "46ba10dfec384a3bb74dedd0070c1480": {
     "views": []
    },
    "46cf80ed574f436e8baee155adb919ce": {
     "views": []
    },
    "46e60557efc64cd79548863b47520a69": {
     "views": [
      {
       "cell_index": 30
      }
     ]
    },
    "46e63c33983e422c906960e6fe5a4ca1": {
     "views": []
    },
    "46f77630fa494786a87eeea6c18e736e": {
     "views": []
    },
    "47510acf9c364e97bc97035764c09abc": {
     "views": []
    },
    "47819a92ffb44084877d1f94ab5d5b69": {
     "views": []
    },
    "4783277cca8e4f6a85f458135946424e": {
     "views": []
    },
    "47949043135246b7b1bf629b761e38b5": {
     "views": []
    },
    "47ad454f49864c7baf8719391f75a19d": {
     "views": []
    },
    "47bced2fe7804818ad5ffa29a6eb8746": {
     "views": []
    },
    "47c975d57be24aa18306cb84d98beef2": {
     "views": []
    },
    "47cf359125e84eeea719be10d18d0e38": {
     "views": []
    },
    "47ed352b81ab4fb89c7186dc50d479bf": {
     "views": []
    },
    "47ffb71461dc4a3dad0a049e390368ef": {
     "views": []
    },
    "480458735cf14c7b94e457dc805f34cf": {
     "views": []
    },
    "4825e2b66bd04bd99b871b5c0a084858": {
     "views": []
    },
    "4844af19758d4ef9849697f5513f8217": {
     "views": []
    },
    "48ae225f7786435299d02e5a5072e001": {
     "views": []
    },
    "48bc237a5e8a485292e7e31def42beb2": {
     "views": []
    },
    "48ddc77980464601a9c1cd56a8497f21": {
     "views": []
    },
    "494a3d26f9fd46489f6eb2c2f4dde5cd": {
     "views": []
    },
    "4967c97da0f5478db39ba9e32c9f87fa": {
     "views": []
    },
    "49b61812e74e4205801404685b5a1229": {
     "views": [
      {
       "cell_index": 30
      }
     ]
    },
    "49cbbca08ef24c04932b932dbdbef320": {
     "views": []
    },
    "49e291ed6b3c4cd88a8e5957617ea151": {
     "views": []
    },
    "4a0078bb55074c6a81664494ec1044e8": {
     "views": []
    },
    "4a88f8b039014086a9b647c4e2abe5d4": {
     "views": []
    },
    "4a92fa8eb1324fd3b0a3a404982726de": {
     "views": []
    },
    "4aabd48862e147b49b48febcc94875bd": {
     "views": [
      {
       "cell_index": 30
      }
     ]
    },
    "4ad621c4ac1e4cfdb3d1e1d7692be011": {
     "views": []
    },
    "4add114cb4134350a12c56d6f12b2750": {
     "views": []
    },
    "4b29621fe9424258bc534f7fb8629ced": {
     "views": []
    },
    "4b7141f66a174e36942eb74290361933": {
     "views": []
    },
    "4b8330bc7d4c4f2085995091f6554ac9": {
     "views": []
    },
    "4b9c4435db3240a9b78239fedc71f110": {
     "views": []
    },
    "4bb4433c14be4a519ddd234afd859d60": {
     "views": []
    },
    "4bed19b7c8a54938bf9973f37101dc4e": {
     "views": []
    },
    "4c30df91137441e187afd8ef62aac682": {
     "views": []
    },
    "4c4aae7a79e3425bb09f871644126064": {
     "views": []
    },
    "4c66cf2031d84b13bec4d47cf15240cc": {
     "views": []
    },
    "4c746840c7e84e4c84c2b6560a5dd082": {
     "views": []
    },
    "4c9839cbfd484d37a801df8ec9cc6bf8": {
     "views": []
    },
    "4cb101d0485844fe92a5bd240b4320a8": {
     "views": []
    },
    "4cf13f1b1dae4438a445ac88bd7973a4": {
     "views": []
    },
    "4d0b32783a5b47dbb0f24296ef924ec8": {
     "views": []
    },
    "4d2e93b6a16d4e2bb46f98c9e0c57377": {
     "views": [
      {
       "cell_index": 30
      }
     ]
    },
    "4db89a1960204d7cae335190f54674fc": {
     "views": []
    },
    "4dc4552c2b214562b706fc6b97e145ef": {
     "views": [
      {
       "cell_index": 30
      }
     ]
    },
    "4ddcd83892a44079866dafea0d0ca751": {
     "views": []
    },
    "4dfb29b4d01c42fb85c459472292ba3f": {
     "views": []
    },
    "4e08e1e4702c4b7ab59925f9203622c8": {
     "views": []
    },
    "4e2e0019c694458caf0c7c178bc4c9c0": {
     "views": []
    },
    "4e514594866e4bff9076403283000647": {
     "views": []
    },
    "4e565c5493c94daaa8c4f65207ed6d6b": {
     "views": []
    },
    "4e6514420b3c47a69fd7b6af5e4d9e33": {
     "views": []
    },
    "4e662659f87243c4a36092c27970a990": {
     "views": []
    },
    "4e934f958ea24ef8a55b38b01e9cebc3": {
     "views": []
    },
    "4eb0a01d7f6b49e79fdaa41b27a0a592": {
     "views": []
    },
    "4ec00c6c80d4470fb0e9d9d1bc9b5146": {
     "views": []
    },
    "4f1b01dddd9646ba854e1469f95eb4d1": {
     "views": []
    },
    "4f4ea6dbc4c2467c9350941a24ac8e26": {
     "views": []
    },
    "4f4f524e44f74630b015c8e10c4a0b96": {
     "views": []
    },
    "4f5bb96ffa8445cd915d6237dc88acd7": {
     "views": [
      {
       "cell_index": 30
      }
     ]
    },
    "4f637ad61bfd44369fc5998d6cf25d1c": {
     "views": []
    },
    "4fa131f2c7aa4a70ae6b99787dde3035": {
     "views": []
    },
    "4fa4fb701ca14613b4c2727ec2a7a33b": {
     "views": []
    },
    "4fe8b0a00f2f4db2ac59306c07d67e7e": {
     "views": []
    },
    "501dcf60e2b74749b1296a7bcfbbbb22": {
     "views": []
    },
    "505a376a7d204ce98bf4fbfcb2413a98": {
     "views": [
      {
       "cell_index": 30
      }
     ]
    },
    "50fac9b1e7684cba95ba7b11bf6e6e79": {
     "views": []
    },
    "512a05b1f0434403b370a966dd7cba88": {
     "views": []
    },
    "513426ec29104c479881dba78fde0968": {
     "views": []
    },
    "513df60dc73e476c860f8094b2c78185": {
     "views": []
    },
    "5140fc46605e43c9b78f95747050302e": {
     "views": []
    },
    "51bdcb8547604a419bc6fc8444722bf7": {
     "views": []
    },
    "51bde83f39fc4913b19412ba2b34d02f": {
     "views": []
    },
    "51d24c2d8c3845a997cf1c5c0403d2cb": {
     "views": []
    },
    "51da4383703e4cd0a096c04da768613a": {
     "views": []
    },
    "51e85bd1f70e4375bef0eb81a955952c": {
     "views": [
      {
       "cell_index": 30
      }
     ]
    },
    "5201d2c828f4422497cda28e79aee13f": {
     "views": []
    },
    "52032328a80a49b6a86914977be0a102": {
     "views": []
    },
    "5220ae4e7b12446093332003699bee30": {
     "views": []
    },
    "523587258155439ab5fc8bd52c25aa76": {
     "views": []
    },
    "52d952c48eb3428f97ec687407915264": {
     "views": []
    },
    "53473665015743408c786cac9b3edbdd": {
     "views": []
    },
    "536717ae42ef429eb657b073f924f5a2": {
     "views": [
      {
       "cell_index": 30
      }
     ]
    },
    "536b455277074f60b34a268c93431783": {
     "views": []
    },
    "53abc5fb2bf94a1c9e2171de28ff1ae3": {
     "views": []
    },
    "53cde0354a28473dbe8a52ce65d018d6": {
     "views": []
    },
    "53e3e0dbbdc54950b9c735cc7a268584": {
     "views": [
      {
       "cell_index": 30
      }
     ]
    },
    "53edb142af124f1fb6d9a319a5c3a965": {
     "views": []
    },
    "54147a5aaf3f44a1ad933e1b27db4806": {
     "views": []
    },
    "541a609c865645f093a9cf8a65f27fab": {
     "views": []
    },
    "5426906a00564ee0ba4a9a983d885694": {
     "views": [
      {
       "cell_index": 30
      }
     ]
    },
    "54365c2d7e634b5c824bd410d8dd926a": {
     "views": []
    },
    "5449abf0b41a4a48977ed078960105e1": {
     "views": []
    },
    "5452be3d9ba940998923063494d07831": {
     "views": []
    },
    "545bbb0389af4b658a9f0ee679628bee": {
     "views": []
    },
    "5483f0a923fc4539873b82bd03ba1afd": {
     "views": []
    },
    "548ff58cfc5a45f18a46f4539e920be6": {
     "views": []
    },
    "54a03a158a47468ab4ac0c09cbdc7e8a": {
     "views": []
    },
    "54b31779fb2440aba9f16cc690e901ad": {
     "views": []
    },
    "54b673bb588d48208ba35af475c4b1ed": {
     "views": []
    },
    "54dc741e6cb044ceb1a0cd8e95ac3008": {
     "views": []
    },
    "551b3acec4fb4e9bb885520db6967b23": {
     "views": []
    },
    "554d1730f4a84fa5a9285264847f1fc8": {
     "views": []
    },
    "557f67ff2244489fa04287347463730c": {
     "views": []
    },
    "560c5042f8a448e0a18f36462f1a6336": {
     "views": []
    },
    "56378117ac914ffab3be240280252c4c": {
     "views": []
    },
    "56675bf0771d44898d20323030da3147": {
     "views": []
    },
    "567c32a99ce74c41b5d959ca7c455e61": {
     "views": []
    },
    "5694dd7cdf004bc8bb4a58243e0a14c5": {
     "views": []
    },
    "56aa36285280453c9346b74b49df39a2": {
     "views": []
    },
    "56b14db3c24c49109ffceaff78f0cc22": {
     "views": [
      {
       "cell_index": 30
      }
     ]
    },
    "57218b68427c423db7d0426b20d9dcfd": {
     "views": []
    },
    "57434557bdce4780b1a4070440320864": {
     "views": []
    },
    "57a27cef1cb2412f819ba490929f32fe": {
     "views": []
    },
    "57cd9bd061834bc88cd2a2b7e24572b2": {
     "views": [
      {
       "cell_index": 30
      }
     ]
    },
    "57cec0392bce4c269618d01a20bcccda": {
     "views": []
    },
    "580f3cd928094404bf1df67d93b240c0": {
     "views": []
    },
    "581771adb8994d978ab8603a11cd2c75": {
     "views": []
    },
    "581db3b846104c6cb120976cf50a8832": {
     "views": []
    },
    "584aa54fd6644755bbdaf54c53d79b14": {
     "views": []
    },
    "5866b947805740babbde645a5f9d52cf": {
     "views": []
    },
    "58c7c1714637461ca7a0db7ae2941aa1": {
     "views": []
    },
    "58c865d30ad14d0f965e94c434f65c13": {
     "views": []
    },
    "58dc2494804d4b8cb24cfde3c8c3914c": {
     "views": []
    },
    "58e298173e444492b9052f3ef2fc4973": {
     "views": []
    },
    "592372a34e214c74ab1705212f1614c1": {
     "views": []
    },
    "5927212c8abb485caac0c76665bae77d": {
     "views": []
    },
    "593d9e7431d74b37964b6679373780ca": {
     "views": []
    },
    "594e08a20e4a4e70ad04e2342a3f993d": {
     "views": []
    },
    "5964c5813489438a8d0df82a02401eb4": {
     "views": []
    },
    "596833a508df4424bb8de48df972777d": {
     "views": []
    },
    "596dec487e2941bb92dac3ab8424431e": {
     "views": []
    },
    "59b51592e1c64dc7a5987c93528d5e5b": {
     "views": []
    },
    "59d2b2e71bc14d4cbd24a215898c23a5": {
     "views": []
    },
    "5a22d73ec86c4168a5a572cf079405a3": {
     "views": []
    },
    "5a23d73f9be64557b7ae88a988816e86": {
     "views": []
    },
    "5a242c1e0d864de7bcad14f4ec00039c": {
     "views": []
    },
    "5a3776e93f1547f28e8f178b29046018": {
     "views": []
    },
    "5a7ef5fe3f0043949f8e7c17c6cb24ed": {
     "views": []
    },
    "5abf79cca5e649799824058d7abb2073": {
     "views": []
    },
    "5ac0144d36154d6ea0aaeea7824445b4": {
     "views": []
    },
    "5ae778ffb61d4a89a100293f6e53606c": {
     "views": []
    },
    "5aec2810da8840178851d186463d1f09": {
     "views": []
    },
    "5b2ccb961aaf4576a235f53b7bfa76ea": {
     "views": []
    },
    "5b383b65f6404d4780d0233c7ec46e7b": {
     "views": []
    },
    "5b4cf5b7ab194919a7494f2aa9fbe1e0": {
     "views": [
      {
       "cell_index": 30
      }
     ]
    },
    "5b7f972f9e004a8495c1986e38472325": {
     "views": []
    },
    "5bc0c8b1d9fe4eb1b6bf19f1497bd1bf": {
     "views": []
    },
    "5be771cecfdb47b79feb35e38b4c9869": {
     "views": []
    },
    "5c08d19caeac43ec90c26a5b112d7c38": {
     "views": []
    },
    "5c0e8a67793745788e3cd837505ef111": {
     "views": []
    },
    "5c14349c6d2a46d58243ba2540e35e3a": {
     "views": []
    },
    "5c25148bb2b6449594bf8aff6053276e": {
     "views": []
    },
    "5c49afd46ce345f98235bea291770321": {
     "views": []
    },
    "5c5b592b483b46bfae2f523f62186e0e": {
     "views": []
    },
    "5c5c7290ccac4c4c85fa12eaf3ca9742": {
     "views": []
    },
    "5c66f2f6e5424e479f76592f8551bef2": {
     "views": []
    },
    "5c688480c0d646a9a361d5f4fab45c7c": {
     "views": []
    },
    "5c906f38d333454e91270e1cbc116072": {
     "views": []
    },
    "5c9f240864b643bd9d792bc103031ca8": {
     "views": []
    },
    "5cbee00d3c7e456ebe4ac42ad6565e8c": {
     "views": []
    },
    "5cc8906a604546bebe451550ad859fe2": {
     "views": []
    },
    "5d35d2eca9cb4a97bf8d559986e6d2f4": {
     "views": []
    },
    "5d7a9d000d8447eaaed38df4f8514eb4": {
     "views": []
    },
    "5d8506cdf50d408aa4b91be5e00f6545": {
     "views": []
    },
    "5d9712a438044aacb0e8826d0ab9a918": {
     "views": []
    },
    "5d9ab734679a4e46a612af253804f2f6": {
     "views": []
    },
    "5dacd2ab4f4340e487fd27599483fd29": {
     "views": []
    },
    "5dae184997594602a808daec8de7a7e4": {
     "views": []
    },
    "5dca0368040f491ca250deb2c6edfc81": {
     "views": []
    },
    "5e203b29d7854ec497931468550d12a4": {
     "views": []
    },
    "5e2a0d4a1b344c3ea900615e2e6be886": {
     "views": []
    },
    "5e347214c7f74c5e973b638ea4c46aaf": {
     "views": []
    },
    "5e55932595834c9d85f9d8de510dbbe9": {
     "views": []
    },
    "5e8605910dc64fa8aa6abec75b915531": {
     "views": [
      {
       "cell_index": 30
      }
     ]
    },
    "5e8dd42dab834468a0f3574a5700ceca": {
     "views": []
    },
    "5e97cda379f34e3794b06462560916bf": {
     "views": []
    },
    "5eefb2a96ad54aafaaf8b780f779cf6c": {
     "views": []
    },
    "5ef56bf6c2514fc7bf6bd374947beb45": {
     "views": []
    },
    "5f302f891e264b578f270572ae9bec88": {
     "views": []
    },
    "5f3c30910d364d4382c674b456a58368": {
     "views": []
    },
    "5f67ac1d80be4df3916fd2fe290247db": {
     "views": []
    },
    "5fbf5d3b61dc493a96459ac7196f0e22": {
     "views": [
      {
       "cell_index": 30
      }
     ]
    },
    "5fc67ee874dd4741a0e01343a08200d3": {
     "views": []
    },
    "601daaa3a1324f7caa832dcaf3ef4d1a": {
     "views": []
    },
    "602f72025b464f52bda26bf66edd2ff0": {
     "views": []
    },
    "603da7331e0144c68e8d5b30a954da01": {
     "views": []
    },
    "6042d823878447cb94887bed4b9df852": {
     "views": []
    },
    "6067ef95b82e47a48af3caf8a0dca36a": {
     "views": [
      {
       "cell_index": 30
      }
     ]
    },
    "60a85ad6750d46e59fbf063bf8a99488": {
     "views": []
    },
    "60cefedd02824c0289c3f01d0b71cf02": {
     "views": []
    },
    "60f4f688b09e4dc594d86048ee07e633": {
     "views": [
      {
       "cell_index": 30
      }
     ]
    },
    "6122923882e642f8b613f16707647901": {
     "views": []
    },
    "614f4f10f5624ca892671f7d00a09b32": {
     "views": []
    },
    "61777bccff9c47dabe2a3647a1b2d6fb": {
     "views": []
    },
    "618c89f0eb4b484d8db87a558be1d8e7": {
     "views": []
    },
    "619b5e7c11d5480ca967d1ffed7a64f2": {
     "views": []
    },
    "61bf0c7827ee4ee4aa8138b0620d2706": {
     "views": []
    },
    "61d1a1c32d5c42aa90d96bf0a84bf960": {
     "views": []
    },
    "61dcc3bebfa8475f809a1faa24bd4ed0": {
     "views": []
    },
    "61ec50f12d9f4aecbd6abc6ec275d03e": {
     "views": []
    },
    "620741991294400b83ab46eff107ce46": {
     "views": []
    },
    "6210f2cb3eae494995956edc91a58192": {
     "views": []
    },
    "626716c4b2924ffe8f0b84c57c30805b": {
     "views": []
    },
    "6269dff7b22e4cdeaa722df3f1bf18c7": {
     "views": []
    },
    "6278dae12d494f4f82ea998af9ff5ad2": {
     "views": []
    },
    "628c52dc27734982839f7d90a22c3d24": {
     "views": []
    },
    "629ea703ac1944a9afa76f1b7057f8df": {
     "views": []
    },
    "62fb7b069af5431ba323d290b4a60f13": {
     "views": []
    },
    "6311b75311ff45f7a1e630c4ae75868e": {
     "views": []
    },
    "63ad89538b2c4ad584c31b27f59f00d6": {
     "views": []
    },
    "640ed43c1c144aebb3f79db57f9d1f0a": {
     "views": []
    },
    "6419c7743fbf4e6fa660e287bd41d96b": {
     "views": []
    },
    "643dc35ed63249ebad264a6b0202d5a2": {
     "views": []
    },
    "64908782932d4572a298cbb5ee7ce961": {
     "views": []
    },
    "64ae81e447ed44e69bfff07ce9b151c3": {
     "views": []
    },
    "64ba20be032647aea4a7e58c68b16ec1": {
     "views": [
      {
       "cell_index": 30
      }
     ]
    },
    "6534669de5474adc81557a7e90a6b30e": {
     "views": []
    },
    "65d9afe1e7c9428ba9cc8041fbf7f396": {
     "views": []
    },
    "65da5308430f40098d714f3ccf41aab0": {
     "views": []
    },
    "65e3f82ad4904416a46600903d64e822": {
     "views": []
    },
    "661a93105f4641fdbd17c25e247f9647": {
     "views": []
    },
    "662c368c34d847adb7fd860edbdf9317": {
     "views": []
    },
    "6636b11431734d60952b21001883401a": {
     "views": []
    },
    "665767dcaf6d43cea7d387c854ba8541": {
     "views": []
    },
    "665e305a555d40cc8e47ba40d26f8dfe": {
     "views": []
    },
    "66ccb6170853433d851918572c6d1aa1": {
     "views": []
    },
    "66f4885d763f48999fdb443eed53e5c4": {
     "views": []
    },
    "672ed3ae7ce84f328c60a072d8dba6c4": {
     "views": []
    },
    "6737837cb0814b3fb634247bbff459af": {
     "views": []
    },
    "6739f031662d401b83e7fa432c0ff19c": {
     "views": []
    },
    "674ccdc0bca44637bf1a63d9c6626de3": {
     "views": []
    },
    "677562456de548b08f16038db245ce6e": {
     "views": []
    },
    "679b713b0d964ef485439e9f8f332a62": {
     "views": []
    },
    "67cdde683c484109832903c9c5e361fd": {
     "views": []
    },
    "67e09cdac5d94605a10e3863203536e1": {
     "views": []
    },
    "683299b5bcd44b30945488d32a9ca501": {
     "views": []
    },
    "688b740b9f7240cbb89943db93027df7": {
     "views": []
    },
    "68bec81bc0b0472b92b26d8a5173fa4e": {
     "views": []
    },
    "68fe6178447540b5b0d7b21c93af1852": {
     "views": []
    },
    "6943bdd7a2d84f1e80e5e0a946365982": {
     "views": []
    },
    "69460adcf06547829706ab11c8b5e4dc": {
     "views": []
    },
    "695d1d20fb9c4a2bbc168eadae9796a7": {
     "views": []
    },
    "69792f724bd64006b1cd8e88cb752f06": {
     "views": []
    },
    "698e566a32474a4d8a1a399d529102ff": {
     "views": []
    },
    "699ca4ccb77340e5b00046f6c19d23a9": {
     "views": []
    },
    "69a31371865d458cb7f8035c34b32683": {
     "views": []
    },
    "69ba7892c01d43bcb5503455fe5bed9f": {
     "views": []
    },
    "69d3810a34904d5584188a4e3691efe0": {
     "views": []
    },
    "69d4424f63d7446b85b17c663ba5c931": {
     "views": []
    },
    "69df71b407004a79b9ca095fe02681e3": {
     "views": []
    },
    "69f5f30e55df4eacad4fd5121a15e71d": {
     "views": []
    },
    "6a00e7821f7a47f199a09fd002c76e36": {
     "views": [
      {
       "cell_index": 30
      }
     ]
    },
    "6a6c5acafc044e20bb2ffd20359ceb3d": {
     "views": [
      {
       "cell_index": 30
      }
     ]
    },
    "6a7cc5752cf64b6d9794017fcbeef373": {
     "views": []
    },
    "6af16185907b4462994310063ac628c6": {
     "views": []
    },
    "6b0435c5fada4e1da45d3b7ae6ea47bb": {
     "views": []
    },
    "6b1a34b8d19f41bf983b3ebc9eec0bf4": {
     "views": []
    },
    "6b1b67cd6def4c798d70280f78d55e46": {
     "views": []
    },
    "6b503c7f22e2467aa18883ffffdbde36": {
     "views": []
    },
    "6ba8095918b24979ad463975bf1c238f": {
     "views": []
    },
    "6be0b7a5f5dc4b79b3df609abf55b985": {
     "views": []
    },
    "6bf6d903b6594deb8a8ae03ba4249af5": {
     "views": []
    },
    "6c292300ecc74bdcb607669f4f2d3239": {
     "views": []
    },
    "6c2b1701c6ce4531b4cf1e5cbdab7ffa": {
     "views": []
    },
    "6c2b39e06c5f488086bb90da4e1d220f": {
     "views": []
    },
    "6c2d97bbef694fa8a885f38609413830": {
     "views": []
    },
    "6c630ea9e05d499e8eb7068352e20aa5": {
     "views": []
    },
    "6c7d236200564df6a37b3add7a1eb449": {
     "views": []
    },
    "6cb0fa03803f4b87b89dd22cc5b43963": {
     "views": []
    },
    "6cc8d2a65f17440e81c855e8c8d13c00": {
     "views": []
    },
    "6cecee3e2a6541238ab6e3e05a95cbce": {
     "views": []
    },
    "6d26c9ae58d34bd1a6ee4174cfefd7e4": {
     "views": []
    },
    "6d2c33db36cb4b5faf1e04ed8ee60766": {
     "views": []
    },
    "6d83def10a7549689b88846c955229f6": {
     "views": [
      {
       "cell_index": 30
      }
     ]
    },
    "6d9c299a6413474ba04f35c3187ece2e": {
     "views": []
    },
    "6dbd37bc75684b70aa9dd9398a8a2ab0": {
     "views": [
      {
       "cell_index": 30
      }
     ]
    },
    "6dd10799a4d445dab953ba9deecfe516": {
     "views": []
    },
    "6ddb6c6fb7684abfb47786b7ae346778": {
     "views": []
    },
    "6e4e39cba2654771996aa13a91be7785": {
     "views": []
    },
    "6ea98d21b8534483b415f7175898cf28": {
     "views": [
      {
       "cell_index": 30
      }
     ]
    },
    "6ecc77a44d4943519722a7777a7241e0": {
     "views": []
    },
    "6ecf2972bef34259b78227f6cbdf4861": {
     "views": []
    },
    "6ecfc442c4a14f0d9907533eb066bbbe": {
     "views": []
    },
    "6f3225a3085d4de89493644b219fd39d": {
     "views": []
    },
    "6f53fd9c3faf425296cd4411e797b0a6": {
     "views": []
    },
    "6fc7fd3a7d324005bf43e46e2821faef": {
     "views": []
    },
    "6fded9dba4724368800cfbeadf16ba65": {
     "views": []
    },
    "7051e571fb984bb08cc4d5e2c85617d2": {
     "views": []
    },
    "7052d846cc6440288a6ebc981f36aa17": {
     "views": []
    },
    "70881d69ffe84126b3c1f7bb0e723826": {
     "views": []
    },
    "70986d1c6aed4afea64847ed1f1c82b9": {
     "views": []
    },
    "70f073804155406aac3898216d41e7a4": {
     "views": []
    },
    "71220c63e1b1413b8b39857a54c2a4f0": {
     "views": []
    },
    "718b17eadad24517b62f3eb9282d3fdd": {
     "views": []
    },
    "71d10d82bf7c49a79c872a982276f970": {
     "views": []
    },
    "71da1be96c8e41a6906a006c93aa62fa": {
     "views": [
      {
       "cell_index": 30
      }
     ]
    },
    "727916f7fe374a37a6dab20945b46025": {
     "views": [
      {
       "cell_index": 30
      }
     ]
    },
    "72abee09dec94c559383330c474cd37d": {
     "views": []
    },
    "72c6855955cd4481bcab2b9ec8855f2e": {
     "views": []
    },
    "72d799dbc4864bf7b38694cba238d27d": {
     "views": []
    },
    "72e29848a0f54933a92f8a9a1fa1f06c": {
     "views": []
    },
    "72f3e1c68c40467fb3d698bea1fce44e": {
     "views": []
    },
    "730e4a0fc59a4e8ea7319d66d7f500ae": {
     "views": []
    },
    "73541c3d6f644dfd86a3938af9c793f1": {
     "views": []
    },
    "73690fbcc2844efe9f7334d783ee481d": {
     "views": []
    },
    "73960138ea0a45498dd3a5b00381ffe9": {
     "views": []
    },
    "73cba997bad7443ca6da5df897e8c373": {
     "views": []
    },
    "73d371377104451dbbda0f9366004224": {
     "views": []
    },
    "73e649d2738a46d0ae73357a4ce6f22d": {
     "views": []
    },
    "7434c485feea4428a235dd7047e3f34a": {
     "views": []
    },
    "747f0df7ae164ebfb6c9988e413d49d1": {
     "views": []
    },
    "74b76bb0406149e0b1d9625e2b2dca72": {
     "views": []
    },
    "74c9e209da4e4c44afc961ef65eeb798": {
     "views": []
    },
    "753076dc4b7d47acac9c0621cf967988": {
     "views": []
    },
    "754518f2752d4df69329528daec481a0": {
     "views": []
    },
    "75605674ce454c3cb91e2e15dcf6a7ea": {
     "views": []
    },
    "757b4b7089f940aeb23331630de6a602": {
     "views": []
    },
    "7581e8aaabe44263933dd415ee69714c": {
     "views": []
    },
    "75933654e40e4591a51b0af626ca4cb9": {
     "views": []
    },
    "7599771daa114d5d95d773a612b3eb99": {
     "views": []
    },
    "75ced7ff8bf34f9286389a14433bbb0d": {
     "views": []
    },
    "75de10c1c1f344fdae35c861f8169352": {
     "views": []
    },
    "75def9fea1c148d1a4f4f9bb68f273b2": {
     "views": []
    },
    "75e169519fe348d0806e5de9e214e340": {
     "views": []
    },
    "7611fc275caa49a1a320802a4b183f20": {
     "views": []
    },
    "76308f9fe6484c97a7ca4b5a95b8cf24": {
     "views": []
    },
    "764a98e1042840489ce71e644593d4e8": {
     "views": []
    },
    "768790bae4bb439e8303e514697257e5": {
     "views": []
    },
    "769111950c38432b8f3ac473a5f36df5": {
     "views": []
    },
    "76955e19b0d94e0790ad75705f958d48": {
     "views": []
    },
    "76d8686026064d179b99aac7f0299e54": {
     "views": []
    },
    "7707cc2574194eb0bb9884e35ce1cf71": {
     "views": []
    },
    "776d925ab17b4133b3abaa8063d1f05c": {
     "views": []
    },
    "7773be06342b48e1b59aef655c54d005": {
     "views": []
    },
    "77cbeaef2bdb45b2981a4bb69aa1088b": {
     "views": []
    },
    "77f423bca632434d81ff9cd4644c3896": {
     "views": []
    },
    "77fbb2cea01141c38b9d1550bd47ef6c": {
     "views": []
    },
    "782692c2547f4cbe880f05d959369d56": {
     "views": []
    },
    "785685936fb844878b19c1533fdd8920": {
     "views": []
    },
    "787fb1a0294a412890929987b078bcda": {
     "views": []
    },
    "78882d34f81f4f46a62ad47e2ac3024a": {
     "views": []
    },
    "789da07aaa6944138c7bf882fb4e9ff3": {
     "views": []
    },
    "78be707c4c694c14b672b09b18efa935": {
     "views": []
    },
    "78eb315fba9d40c98f97a93bc3096186": {
     "views": []
    },
    "78f8a71c3f8c491e9995d045d501e734": {
     "views": []
    },
    "79090538d63848bb85262807c825674e": {
     "views": []
    },
    "79296f8d0f4048d68c2a8bf8242f1d05": {
     "views": []
    },
    "7972c1fed3494a84a422e034013ff149": {
     "views": []
    },
    "79cc6a6ee1904f808e89e246b6ce1968": {
     "views": []
    },
    "79f9814f3f874a44a3ae3cfb0d8dee95": {
     "views": []
    },
    "79fcfd6154704e1496f5da3bebe2458c": {
     "views": []
    },
    "7a2c503e6be64de7a474ee90e54bd4e6": {
     "views": []
    },
    "7a2cdb1cf5524b88891c941b7d82355d": {
     "views": []
    },
    "7a56525637934314b08beba2c05e9d12": {
     "views": []
    },
    "7a9fe143e98645959d112f0d292c7f3d": {
     "views": []
    },
    "7af85e0d142249009fb23c0f49da3048": {
     "views": []
    },
    "7b0a2b3585ae4e24b85880ca08d0a881": {
     "views": []
    },
    "7b2a0272c6c841168180c2355bd693d3": {
     "views": []
    },
    "7b53ffaeb8a2460f813363b808346c21": {
     "views": []
    },
    "7b6cf41d961047398a18b3d063bef8ba": {
     "views": []
    },
    "7bc0743559f44a3fa8c25331df0414a4": {
     "views": []
    },
    "7bce92363a8244fb9545bd8ddca75610": {
     "views": []
    },
    "7bd6246e4ced40a0b75b6f365adac134": {
     "views": []
    },
    "7bd8db00368641bbbb3b0ac260edc5cd": {
     "views": []
    },
    "7bf7e98218004f839be0502764280020": {
     "views": []
    },
    "7bff79db7db5410ba932cf4493d70128": {
     "views": []
    },
    "7c0447b937174961b166cadb585f4c0d": {
     "views": []
    },
    "7c873cffe39941238149ac733d43885d": {
     "views": []
    },
    "7c96db3c7d854b0aaa741f17a8ad1c27": {
     "views": []
    },
    "7ca0a4f7bb4046a29cccb8b5d0ad41f6": {
     "views": []
    },
    "7ca5e780db194c88a29d05e23bf5f779": {
     "views": [
      {
       "cell_index": 30
      }
     ]
    },
    "7cbb7d0d1c8b4dcf99a25c6995a4d8ef": {
     "views": []
    },
    "7ccd6364a0554b8a9d0cb0b331ed82f3": {
     "views": []
    },
    "7d1d3088bb0b4119a3592271f34d09db": {
     "views": []
    },
    "7d383da299294af7a7365d7c47e3277b": {
     "views": []
    },
    "7d5b0e37e318479581ab317264aa8051": {
     "views": []
    },
    "7d6b52d4e4794066bbaf5676e599f3da": {
     "views": [
      {
       "cell_index": 30
      }
     ]
    },
    "7dd5d06049d94c278d62239b876e3da3": {
     "views": []
    },
    "7defac895a2447569d8ae4de4065e2b7": {
     "views": []
    },
    "7dff7fdab531499aa708bd12678d7ae1": {
     "views": []
    },
    "7dffb106788042f4960f3d3fa339254d": {
     "views": []
    },
    "7f11bbaed65a457caa5b0f4bd542da81": {
     "views": []
    },
    "7f18350d54624067b4b98b1944d071d3": {
     "views": []
    },
    "7f23470f2d0b4b1aba8473323e0685ac": {
     "views": [
      {
       "cell_index": 30
      }
     ]
    },
    "7f38d63d45f9427c8f8ce6f870872447": {
     "views": []
    },
    "7f5c0f1865e14b21b4e3e27a055fa74a": {
     "views": [
      {
       "cell_index": 30
      }
     ]
    },
    "7f5faf68dbed48029a303ec112ce2c31": {
     "views": []
    },
    "7f7593396eb847e98dd2810566428dc2": {
     "views": [
      {
       "cell_index": 30
      }
     ]
    },
    "7f7fe85e6d0f43079982bc9f002dfe4c": {
     "views": []
    },
    "7f892043dbd8464bbce53b40e5c4312d": {
     "views": []
    },
    "8026d67bdcb94a91ab804a9b9f836075": {
     "views": []
    },
    "802c31d8ff8043e0b149610bc2b853af": {
     "views": []
    },
    "802e829a7d924d3ba5650e9c31d9a0ca": {
     "views": []
    },
    "803c2e460c814f4fa945d24093089c04": {
     "views": []
    },
    "8077e72d60ac4bcb8acd10d638a04e6e": {
     "views": []
    },
    "80a4e7899e44427d95d6c9b8860298a8": {
     "views": []
    },
    "80ab9ceaad0a43a4b65e2e943496e636": {
     "views": []
    },
    "80f20e4f8c314bc2852988fcd6e569a8": {
     "views": []
    },
    "8152402317b74b8b91b35acb8817980f": {
     "views": []
    },
    "81658a47c9844911a2fece0943535236": {
     "views": []
    },
    "8191280e28d94361aac9d5d32fd594df": {
     "views": []
    },
    "819471406a314f98a3d4cdfd248cc1dc": {
     "views": []
    },
    "81c4925b9630493c94a1482477483f36": {
     "views": []
    },
    "81cef747b3cd48f3a8808d537386ac58": {
     "views": []
    },
    "81fb6044dae44a889809f2c5190ff0e7": {
     "views": []
    },
    "8243694530dc4f85b181b7a359c1fa27": {
     "views": []
    },
    "8243a395a61b426698bdf790fe6090e8": {
     "views": []
    },
    "82763a29ac374717bf61af52047b440a": {
     "views": []
    },
    "8309cca23232466c9c300036838f1a2d": {
     "views": []
    },
    "8338717c0a54433eadfc897cec999a7c": {
     "views": []
    },
    "838894cfca51495688ff62128b57bfa5": {
     "views": []
    },
    "83bacdfffbc54bdabb72e35d71f3ced2": {
     "views": []
    },
    "83bbe571f1424f168370ddded221d899": {
     "views": []
    },
    "8427f7a5d90244cd9778a2bca25e6f4c": {
     "views": []
    },
    "8431225d72a34f38b48d111d8cda2d21": {
     "views": []
    },
    "844ffa30c5214e35b5744828133759e3": {
     "views": []
    },
    "847ce7bbed134a7e8c9aa24573815740": {
     "views": []
    },
    "848da67906b74779b58e7ab94dcfd40d": {
     "views": []
    },
    "84944bc4c36e4be3a44ad3ee3bee8c23": {
     "views": []
    },
    "849b63d41a334d019000f24b7b4258e5": {
     "views": []
    },
    "84bb6ccf544e4402acc884d576e3b873": {
     "views": [
      {
       "cell_index": 30
      }
     ]
    },
    "8505bdcc3ecc4fec87143587ca015eb2": {
     "views": []
    },
    "850e1c9858d347ffaea2eb2d68e79480": {
     "views": [
      {
       "cell_index": 30
      }
     ]
    },
    "8543dc86d30a412b9d2b4354e3df543d": {
     "views": []
    },
    "8548b37c99954c9280feeb36ce0bd553": {
     "views": []
    },
    "857b839d039b4d2a840c40db4ebb29ab": {
     "views": []
    },
    "8581ebceadfa471ab1de62a1bc2862d7": {
     "views": []
    },
    "85a8afd5f6ef4bd791edc4e45675fb82": {
     "views": []
    },
    "85e94caba9904ebc888d26d71c1a06eb": {
     "views": []
    },
    "85f98c13db354498bac17bb86399df9f": {
     "views": [
      {
       "cell_index": 30
      }
     ]
    },
    "86167472b7a84e348b6b820883fee368": {
     "views": []
    },
    "864895033a5748948356ef1adea74c05": {
     "views": []
    },
    "86973f1c113b4381bbb4847b8e05bb20": {
     "views": []
    },
    "86a516e758fc4edc91d2868d28c7586c": {
     "views": []
    },
    "8731441a35b347789e6051dbdb3af2be": {
     "views": [
      {
       "cell_index": 30
      }
     ]
    },
    "874f722d15854ae09f4a81af15e70b32": {
     "views": []
    },
    "877c1a005f494408a86a450a08b466e9": {
     "views": []
    },
    "879c56eb78f14140a4e69cd891ede9cf": {
     "views": []
    },
    "87ba39ffd2424b5e894d4b959fd0c8f1": {
     "views": []
    },
    "87e0cb915e53495293e7c556da089d3a": {
     "views": []
    },
    "881a9b603f834af48c2d0fdcb30fcba6": {
     "views": []
    },
    "881e831374c54448bc184b9ea5c72b68": {
     "views": []
    },
    "88cb759ece7a4f9593013b996ac7f6cb": {
     "views": []
    },
    "88e6df503ea945bea94fa93c7dd8821c": {
     "views": []
    },
    "88ee8f7439bc443d8ed1a3d328f7cdd0": {
     "views": []
    },
    "8941df7e85bd4c51a3553067b105f850": {
     "views": []
    },
    "894e93b9997b445e9de3b5222f5ef6d7": {
     "views": []
    },
    "8a1aaada1ef345a0bbb2211ab8710d75": {
     "views": []
    },
    "8a67827700d04edeb4c06958c5cdd541": {
     "views": []
    },
    "8a85a5ff4fff400a8965b66474635f08": {
     "views": []
    },
    "8ab7f6be3a0642bb9a177d70dcb27e09": {
     "views": []
    },
    "8acf6435193b4886b8df1da04dcbdf6e": {
     "views": []
    },
    "8b0773daf2b84b2382640940c28a06f0": {
     "views": []
    },
    "8b18ee9c357f4ec496238e6c3c5b63d7": {
     "views": []
    },
    "8b2c43d038334cb0ac9696bd1b3f466f": {
     "views": [
      {
       "cell_index": 30
      }
     ]
    },
    "8b58dcfcefec44508fa72ea69d5a148b": {
     "views": []
    },
    "8b6cbfd383ff45e099cacb138f7318c3": {
     "views": [
      {
       "cell_index": 30
      }
     ]
    },
    "8b86abde4ec946039b8ed159ec27612a": {
     "views": []
    },
    "8c2fd29100b94924a3c22c2298a2623b": {
     "views": []
    },
    "8c5d9fb4f895488db393369fd7ff2de9": {
     "views": []
    },
    "8c8fe2ae6c3e48a3b9321003c1a9166c": {
     "views": [
      {
       "cell_index": 30
      }
     ]
    },
    "8cec278b1a5e4274af2a10b6550ca10f": {
     "views": []
    },
    "8d2109a96a9a4f6693f616e93afff975": {
     "views": []
    },
    "8d5ff76460e04398aa7ce93cfa03619c": {
     "views": []
    },
    "8d9d082cdbb347d09968a4ec6998443e": {
     "views": []
    },
    "8db93ffb766b414184e4de6c9c6093dd": {
     "views": []
    },
    "8e22190b40d64207a7ca53af10ac58f2": {
     "views": []
    },
    "8e36acbad9ae4fde9f8989f2784f4b36": {
     "views": []
    },
    "8e5e6c1baab0454381a5fc0e5bcf16e6": {
     "views": []
    },
    "8e6bef70ce8644fa90151bca9c306a20": {
     "views": []
    },
    "8e822830b7b5422c80d6f8ed6ad1e85c": {
     "views": []
    },
    "8e9716d58ee04e56a7bb845933268ec6": {
     "views": []
    },
    "8ecd72e23b6d4d43af436755291a6ce5": {
     "views": []
    },
    "8f3cef01e5aa47a4a80e360aea001c27": {
     "views": []
    },
    "8f5d775061bb40bb9484c368a5771abe": {
     "views": []
    },
    "8f610103c4174055b58f9153a9294880": {
     "views": []
    },
    "8ff7050214314878aeff8a2c20d36172": {
     "views": []
    },
    "90844a9e3ae642a78dd4b40954cf181b": {
     "views": []
    },
    "90f6d10dbbd342a79a798a151bde58bd": {
     "views": []
    },
    "90ff0bf7e9f34750bae765d59223a7e9": {
     "views": []
    },
    "9116aa62054d446f90207cf27e66dbfa": {
     "views": []
    },
    "91606771795646929d67935af165284f": {
     "views": [
      {
       "cell_index": 30
      }
     ]
    },
    "91a5329016ae4b44b8c72db29f736dc2": {
     "views": []
    },
    "91d5e197fbe94a22bec7e5dee94fa15e": {
     "views": []
    },
    "91e2ef5d78da4fda8fcdc905951d779e": {
     "views": []
    },
    "921bc2c0406046d8ae9b2cf873f0cc30": {
     "views": []
    },
    "9222a1f35eb34a818a0dc42c140ff5e9": {
     "views": []
    },
    "92505a2b725a4c99baca81676b63d32c": {
     "views": [
      {
       "cell_index": 30
      }
     ]
    },
    "92f90a89978c4c8d8160e34f79f9bb7d": {
     "views": []
    },
    "937b1398a0854192bcb685c39b7acc59": {
     "views": []
    },
    "938032cc74e244a898286625588a7780": {
     "views": []
    },
    "9385293d161f48688bbd2d13f25fb0ea": {
     "views": []
    },
    "93a36b7002ab4a518c74c42f4e7eb389": {
     "views": []
    },
    "93f4e1f32cea4ebdbd6281502b27d2c9": {
     "views": []
    },
    "940ce9a0a0014625b8b5f12a4ec678d1": {
     "views": []
    },
    "940fd731bc154b5baf9fbf9bb810c24f": {
     "views": []
    },
    "945c52df7ff04ea19d83c65bb1583de0": {
     "views": []
    },
    "945e31ea599b4b8387ba7f8d6736564c": {
     "views": [
      {
       "cell_index": 30
      }
     ]
    },
    "946f4200919942628935ed6bae4246bb": {
     "views": [
      {
       "cell_index": 30
      }
     ]
    },
    "947bcea484984d0e8e3cc97bbe543806": {
     "views": []
    },
    "9481b8de5d4c4721a8046bc18da737f2": {
     "views": []
    },
    "948e533e8f184673a2c5bf6f77a7b603": {
     "views": []
    },
    "9493ea7c0bc144dd823ff1900c4e10b9": {
     "views": []
    },
    "9497709054804ef3a24385b5d5712588": {
     "views": []
    },
    "94b15700be704bceb29e4ce63cb6a143": {
     "views": []
    },
    "95415ac5ef704cd7945f2862cd991922": {
     "views": [
      {
       "cell_index": 30
      }
     ]
    },
    "95452161e6eb4985afc34cea684442c5": {
     "views": []
    },
    "9558e425365945d5ba42be7af5a43b85": {
     "views": []
    },
    "956a19d216634516942f02da18621503": {
     "views": []
    },
    "95a7329e8035411893d9eaa95259c0c8": {
     "views": []
    },
    "95e3d390816d48d192f42ba2e0f661d7": {
     "views": []
    },
    "96148efe2b7640f8b219d8e5fd1b98f2": {
     "views": []
    },
    "9629bc3c69fb49b2bb68e4bfe10f309c": {
     "views": []
    },
    "9661280bb1484ccab520559f3b420448": {
     "views": []
    },
    "9697fa98ce4c42b397ead2adf8f29a72": {
     "views": []
    },
    "96aa32b9c76c413dbe245fa7bdb89f00": {
     "views": []
    },
    "96c226a6ef0c4a57abae86bd723f2aa3": {
     "views": []
    },
    "96d46a4e9285408886b244874b14dd70": {
     "views": []
    },
    "96da5892fe4e48f499524cd435e6dbe4": {
     "views": []
    },
    "97023b9ef9b0475d836edb38b7a6963b": {
     "views": []
    },
    "970c59a587b246669e689ea5babf0ec7": {
     "views": []
    },
    "97486cfc04fc44018bec49eb1ff6fee8": {
     "views": []
    },
    "97588b263cfc4e7eb35781834699ed62": {
     "views": []
    },
    "976dd07bc9334fff8c3815b171500bc2": {
     "views": []
    },
    "979a4630f3da4ac88705ede8c6911b4a": {
     "views": []
    },
    "98098eb623db447a91383be4eba30cf6": {
     "views": []
    },
    "981346d29b9c408daf02a63f6e2897ab": {
     "views": []
    },
    "984518b7c00a431bbf12f5ccf43a14d7": {
     "views": []
    },
    "989ab74349d4467da65f79c53a4020af": {
     "views": [
      {
       "cell_index": 30
      }
     ]
    },
    "98a6428e449847998cafc8612567030d": {
     "views": []
    },
    "98c57b7b1e6f4ab88e19b4fe08d49101": {
     "views": []
    },
    "995627f4adc94307a9e346aae8cd2abf": {
     "views": []
    },
    "9996ecaee99143c29d532355ddb7c522": {
     "views": []
    },
    "99a2e979874446f1822f4f1fb0617119": {
     "views": []
    },
    "99aa849cebcc44cc983fc78607f95e3b": {
     "views": []
    },
    "99c78053053d49feb8b4e7e11d7d7008": {
     "views": []
    },
    "99d25c1172b246fa908269e2ce060576": {
     "views": []
    },
    "99e66202b94542a1ab8f09c71b59e90f": {
     "views": []
    },
    "99e8cc07bbed4f348bfaa8ed982b26b6": {
     "views": [
      {
       "cell_index": 30
      }
     ]
    },
    "9a45a0c5e5114f3db68e8061ad965b81": {
     "views": []
    },
    "9a934f1013354542bf25e763ed8c1aff": {
     "views": []
    },
    "9a9d6949d8234540a87ca9047fbe250d": {
     "views": []
    },
    "9abdd65367bb4f6c840e4b7cc6679391": {
     "views": []
    },
    "9b14e1118cd74785acabf9f4d5ca8b03": {
     "views": []
    },
    "9b531f240c5f4170a5593b3fe3241eee": {
     "views": []
    },
    "9b80f11d10bd4b63a4cca411948915fe": {
     "views": []
    },
    "9b84eff81132491886342521673b2b09": {
     "views": []
    },
    "9b9c5b532f0b438f83a7e8c5b2e9860b": {
     "views": []
    },
    "9bc09a61d29d48e480d4e3850c3c6e0e": {
     "views": []
    },
    "9bc772b949e14957b528f50cacb58749": {
     "views": []
    },
    "9bf5b9d0087a495082a12ebe3c36f43b": {
     "views": []
    },
    "9c1a39b6d9cf4818ad74960f5a44460a": {
     "views": []
    },
    "9c489e3b96b74138b4b333b2e15658a2": {
     "views": []
    },
    "9c5b3f12750446fcb8585b8da20d4f72": {
     "views": []
    },
    "9c5cf9b6839246ee80e75f28d2f05071": {
     "views": [
      {
       "cell_index": 30
      }
     ]
    },
    "9c712f3332cc4211aac2c49f79c636fa": {
     "views": []
    },
    "9c92fa7d1c894a0fbe522dafe33519dc": {
     "views": []
    },
    "9cc7195cead446dda5503d42339ee276": {
     "views": []
    },
    "9ce0dcb61bc046e0a3935ae727cf78e4": {
     "views": []
    },
    "9d288d0951834ac5a3eabc1bbaf053b3": {
     "views": []
    },
    "9d6253f66dbf43ad9fcbdd488eb6c92f": {
     "views": []
    },
    "9db5adf37fa34592b1bcf1533fc3c00d": {
     "views": []
    },
    "9db85dd413b0425cb3ab637610d0d3d6": {
     "views": []
    },
    "9dcfb3d79c614ce0bd1ad3a0ff2358cd": {
     "views": []
    },
    "9dd74349251f403fa5ac20644990b643": {
     "views": []
    },
    "9dfc4ed5682f4a80975af484bf5c1918": {
     "views": []
    },
    "9e079f9ebab249d7a16f833a7362a1cc": {
     "views": [
      {
       "cell_index": 30
      }
     ]
    },
    "9e18dbcc234e4dfdab194db1082cfc33": {
     "views": [
      {
       "cell_index": 30
      }
     ]
    },
    "9e9f66090cc4414986320c0a35ab22ad": {
     "views": []
    },
    "9ec15a45f3ec4b469e0b1e9c1fb3a547": {
     "views": []
    },
    "9efb4c0cca6749a3aef5c2d0090dccf3": {
     "views": []
    },
    "9f2d4e5905fe40e6b6d8f5d0aea8bdb3": {
     "views": []
    },
    "9f3539d9712c449a84c089067559456f": {
     "views": []
    },
    "9f52760db74446dfb1bcd98b311b7310": {
     "views": []
    },
    "9f5da52d95a34e5eb2994c7310709826": {
     "views": []
    },
    "9f5e86bf6a0142798a0e412d57a98cb3": {
     "views": []
    },
    "a0578813fc234dcdb1450be0fde4fbe1": {
     "views": []
    },
    "a0982d26c91e4798b6c32656cc8023d1": {
     "views": []
    },
    "a0e6095241064056a9ce560102533745": {
     "views": []
    },
    "a0ebdbbc955248ef879b12ed3424a6cf": {
     "views": []
    },
    "a0f80f7e5e384d179194178cc69925ea": {
     "views": []
    },
    "a10016fd142d45b393f4f30720292998": {
     "views": []
    },
    "a11757235c6b4962971ce2ce4106ad1c": {
     "views": []
    },
    "a12bbc887266477f9423fd0693156091": {
     "views": []
    },
    "a133220fc1a74dc78fae2b9c460e9f79": {
     "views": []
    },
    "a171af9fcf8d456d88daf2f2026647f0": {
     "views": []
    },
    "a18a643a71804b9ea657449d3c34fa71": {
     "views": []
    },
    "a1ad1bb712c54c509e963a2b8ac6af54": {
     "views": []
    },
    "a1e3d008e52f4af9af21a85c3019e51d": {
     "views": []
    },
    "a263f0312fe1440fb6fc865614aac60b": {
     "views": []
    },
    "a274bf69dcee418584e964cd54c90c26": {
     "views": []
    },
    "a2783f502af14e6984ba039cd6ea61f3": {
     "views": []
    },
    "a2c971f725b94f7797d518d44efe8c22": {
     "views": []
    },
    "a2d0e64f4bd34b508412c72f341bd332": {
     "views": []
    },
    "a2d1dc57a292494fa3ed1725bd6033fe": {
     "views": []
    },
    "a2fde231c6534910858e4d13e943e55f": {
     "views": []
    },
    "a3496b60f5264970959d64022d2c2c8d": {
     "views": []
    },
    "a3b7720ce6d8433391b7196039d96a29": {
     "views": []
    },
    "a404e16631e34f47a3b9f877a3cbdcb6": {
     "views": []
    },
    "a409ed21a90c4cbf9ca076f3018564cf": {
     "views": []
    },
    "a4af42a371954c21bc753c3486c1153e": {
     "views": []
    },
    "a4c67ee6407d43f9923634df917c65b3": {
     "views": [
      {
       "cell_index": 30
      }
     ]
    },
    "a4dfdc33a168493993e4b860d813e7ec": {
     "views": []
    },
    "a4f8cd0fed724720b1dcb8558deca33d": {
     "views": [
      {
       "cell_index": 30
      }
     ]
    },
    "a51ab6ea91d84647b67a75ac7a0aa83e": {
     "views": []
    },
    "a552755c43104d88a4cf4b6f58f8aab9": {
     "views": []
    },
    "a557e21f561f4f2c87696820b15ca720": {
     "views": []
    },
    "a55860d727fa40749add04c565a284bf": {
     "views": []
    },
    "a5651f19aebd4dd98ad21dce945409eb": {
     "views": []
    },
    "a57bc07e71ff4d50a590e20c68a00362": {
     "views": []
    },
    "a5a74f7a0d23476caa0dae4cfeac2eee": {
     "views": []
    },
    "a5ca86db5fe140e4b077a1e4ce577348": {
     "views": []
    },
    "a5d34bce8a64447d92f0e6062530892c": {
     "views": []
    },
    "a5f4f8885d2b4b838448a23c4af09ebe": {
     "views": []
    },
    "a6105ee6315d431bbc3a3cc478354af0": {
     "views": []
    },
    "a64af5d289be4cb5a093876bae2ec7bd": {
     "views": []
    },
    "a6b63d3ca836480394528723203191a2": {
     "views": []
    },
    "a6b72785fb21460a80d995c2bd1a32e6": {
     "views": []
    },
    "a6db1f70264348279b105661cb6afbc7": {
     "views": []
    },
    "a6e7159288d54242908f228d23ce712d": {
     "views": [
      {
       "cell_index": 30
      }
     ]
    },
    "a718fc3a90ff44f28a2325d915f02d02": {
     "views": []
    },
    "a726a8711f21459da28711b0d2590ba3": {
     "views": []
    },
    "a744937842414ac7913211aa3f1cbc79": {
     "views": []
    },
    "a794fd8a46104850ba7f4ab7a847cdee": {
     "views": []
    },
    "a7b15de182b442ac8c3531f67849c5ae": {
     "views": []
    },
    "a7fc847c959640d78c7d2ad71f59c3a4": {
     "views": []
    },
    "a80829eb0d92499385d5be14be6a8887": {
     "views": []
    },
    "a820a7f1efca4ea18af03c7aa79c6e7e": {
     "views": []
    },
    "a821782183e7416a8bc8a706bdc04a9e": {
     "views": []
    },
    "a8297c33f5ae4c2da801d3cfe3f6771c": {
     "views": []
    },
    "a83fb998c8674dd78db321c60a8f19c7": {
     "views": []
    },
    "a867b802cbe84f21a7a200ebc22c7038": {
     "views": []
    },
    "a86898f9045f4a9a9dbb38a6a913d98e": {
     "views": []
    },
    "a8a7e87fd80242219b662db77adfc9ee": {
     "views": []
    },
    "a8be6e67bf1747a6938da85b3b664d20": {
     "views": []
    },
    "a906a60a0aa74eeeaede19d38af1b2c9": {
     "views": []
    },
    "a90cfb83905d488bb62a46e84137bc59": {
     "views": []
    },
    "a927d18c9a744ff9b4af1e94e1e5a19e": {
     "views": []
    },
    "a92de8b613ae455e8d892a089811e3cc": {
     "views": []
    },
    "a9825cd3aaee4cf79185ed49b7c3fba7": {
     "views": []
    },
    "aa1ae6e41ace4cd1b6851065d4ac9fed": {
     "views": []
    },
    "aa405350dd6d43a4bcc35a8e9af0672c": {
     "views": []
    },
    "aa40a26d965147a48833530f91945f64": {
     "views": []
    },
    "aaa0a7748af64afd91d8a4e71dba36cf": {
     "views": []
    },
    "aab88b754c134fa7b7202329f430caec": {
     "views": []
    },
    "aad3a05b2c644d82846c4af1659232eb": {
     "views": []
    },
    "aad4e0b90cb74796b82bb91b3d27d208": {
     "views": []
    },
    "ab7af071f181456bbdb56309df7a9782": {
     "views": []
    },
    "ab8e57d9547b47c295960ecf4fa061d9": {
     "views": []
    },
    "abb398aa1ec54bef802c1576669032df": {
     "views": []
    },
    "abb65e86fa904fccbbf058918313a66a": {
     "views": []
    },
    "abbced3eabc140ff8ebc9dbb232b628b": {
     "views": []
    },
    "abd864d82d9f47279be3d0666904d32f": {
     "views": []
    },
    "abeb0543e7fb42f5966444887dbc8e2c": {
     "views": []
    },
    "abed56e5730544878daece21087e72d9": {
     "views": []
    },
    "ac51abd750734400b9b86332d86148e3": {
     "views": []
    },
    "ac76c74c66b449f38940d3e31f5e2d9f": {
     "views": []
    },
    "ac8d3753dabf40b195cd88f605777562": {
     "views": [
      {
       "cell_index": 30
      }
     ]
    },
    "accb966350de459bba3a693ad3eb5ade": {
     "views": []
    },
    "acdda6b44b2e4c59ad917aa09eb0a732": {
     "views": []
    },
    "ad06d4d1f53744148c03002405fd418c": {
     "views": []
    },
    "ad30a83b1c644fb5b70829c548e8b5b5": {
     "views": []
    },
    "ad359a9c920f47a9ad70b17c8b9927bc": {
     "views": []
    },
    "ad359c5a0b3e4575875a926d5d013fcd": {
     "views": []
    },
    "ad3fde57ca2f4818a04441c6fd3511d0": {
     "views": []
    },
    "ad4cb6922c7a4716a27206ade9cd8aae": {
     "views": []
    },
    "ad641dfeccc143b9b8bcfb666ec71a9e": {
     "views": []
    },
    "ad757089a7c64655a2a982c4e8ba6925": {
     "views": []
    },
    "ad82924d66f144c289b7e875f0b02ed8": {
     "views": []
    },
    "adffaafd6ef44a02b81b9d6ed6865c3f": {
     "views": []
    },
    "ae3fea080b2a4d9dab1f578056be8d05": {
     "views": []
    },
    "ae48f8bf79c74226a822023ae8eb3c55": {
     "views": []
    },
    "ae725638107b441c9dd5f4a919882254": {
     "views": []
    },
    "aeda9526848445af94d972c439e2d730": {
     "views": [
      {
       "cell_index": 30
      }
     ]
    },
    "af2075dd74be45dba521b4af5a7c9c46": {
     "views": []
    },
    "af3bad9284a745f7b465ca30b3b62e62": {
     "views": []
    },
    "afa01a43da7a447b90a65377dcfadf2e": {
     "views": []
    },
    "afe348777c83436888c5adbda8815cac": {
     "views": []
    },
    "afff978833c14879bb9de63c9fb9e3c0": {
     "views": []
    },
    "b001c9837b0c42f091589dc8d532657f": {
     "views": []
    },
    "b05343d9f89040429fb28011a372ad03": {
     "views": []
    },
    "b083186bd8cb483d9bfe4e58c7f26a28": {
     "views": []
    },
    "b0de059ce1814194ae7366e6b34ec67f": {
     "views": []
    },
    "b0f4628ec1854528882eab2be569c6e7": {
     "views": []
    },
    "b11d5dae9b1041e8931acb152f1bae48": {
     "views": []
    },
    "b1413eafae4c4810acdd423311286c6b": {
     "views": []
    },
    "b1588dfb18ea418c8a683c8ccebf2186": {
     "views": []
    },
    "b166b2b91c40430393d55a2f6aa60115": {
     "views": [
      {
       "cell_index": 30
      }
     ]
    },
    "b166eeea86c74a298ce9cd7e5463717e": {
     "views": []
    },
    "b182bea567fb4bf396ba4c81046901f3": {
     "views": []
    },
    "b1b1449199254642ab945af54c203417": {
     "views": []
    },
    "b1c241f21d584f4b9624e73345fd11dc": {
     "views": []
    },
    "b1f9e3ad2b914e10a308b2e833b9ed2e": {
     "views": []
    },
    "b209cdaa94ab4db6aac405e8b6d3482d": {
     "views": []
    },
    "b2260a37f12442f09be9d510ced348f0": {
     "views": [
      {
       "cell_index": 30
      }
     ]
    },
    "b22f5666b3f44e35bfd98a13ce420825": {
     "views": []
    },
    "b24f444e909b4f0ab40925909d42e6c8": {
     "views": []
    },
    "b317454a2afe4bae9a8c8e77777b0f1b": {
     "views": []
    },
    "b33997b4670e4ec39fa7784d1754f0dc": {
     "views": []
    },
    "b34542588fcf41b18235e718a3eedecd": {
     "views": []
    },
    "b36425828f604970aad1cbadfdbba604": {
     "views": []
    },
    "b376fcde660c4b6d99de4de471e9be6d": {
     "views": []
    },
    "b3be896242d344c1b458c3c69cd59444": {
     "views": []
    },
    "b3cb0391ff614a288584368e1f13cd7c": {
     "views": []
    },
    "b3cffdb6510645f1bb79fab64bff5983": {
     "views": []
    },
    "b3e9495313b340b4bf6f21640c3552c4": {
     "views": []
    },
    "b42e4426f2ec4d069743386a93c58c3f": {
     "views": []
    },
    "b436b4af1d7247eaac28e045fef63eda": {
     "views": []
    },
    "b43b67b3b0e4489c9eb8b0b32c9f71d0": {
     "views": []
    },
    "b43e29a87b054da49fcfa6e673c8b260": {
     "views": []
    },
    "b470bdea808e44f8a2be697b331ae48d": {
     "views": []
    },
    "b4a6a41975ad4c9cadaaec76e906283d": {
     "views": [
      {
       "cell_index": 30
      }
     ]
    },
    "b4ad848dd8c14f6b8bb4ea3b31c17685": {
     "views": []
    },
    "b4eb7a32c44f4e768c205f45b04cf87c": {
     "views": []
    },
    "b502c784815c4b1397d44ea53f78b067": {
     "views": []
    },
    "b5646554dbe54866a943700cdaaa56a2": {
     "views": []
    },
    "b5678dcd34db4a4890583597b5143234": {
     "views": []
    },
    "b57b85e737904a3ab178658418780be7": {
     "views": [
      {
       "cell_index": 30
      }
     ]
    },
    "b58449182b99412790f1ec23cee0c8c8": {
     "views": []
    },
    "b58bb829e0dc410fbcd029517e7eb21e": {
     "views": []
    },
    "b59fbb7696b1486b94b18b7b3f7b9358": {
     "views": []
    },
    "b5b7fc814ce54af4a0be94ce881b4142": {
     "views": []
    },
    "b5d6cad9140c4ee4acfff31b940b3949": {
     "views": []
    },
    "b5db67396dda450abdcc9f46ce204e70": {
     "views": []
    },
    "b6169eea17154f9fae655f20902a2f1e": {
     "views": []
    },
    "b623f1b63d184983bec6a44c7122623f": {
     "views": []
    },
    "b62cfcbc2a954cb1b5d2d4b744978edb": {
     "views": []
    },
    "b65b855531a24042bf47bf73f3c4ee25": {
     "views": []
    },
    "b6df571a8b3646d09245c316fc403377": {
     "views": []
    },
    "b6f85fca7ef94e659e27ab71c238b404": {
     "views": []
    },
    "b6fee176559a42c7a080bc9d27787091": {
     "views": []
    },
    "b70426dbcc85433b9035be50bb206c58": {
     "views": []
    },
    "b726bf4b9ef947ef9517bbc9a183e2f0": {
     "views": []
    },
    "b76fd743c2284585aef5b7fb2def52fd": {
     "views": []
    },
    "b77943961df241a7a9db1694c961d475": {
     "views": []
    },
    "b7c7eb7d3c184653a57c2fa2a59305ee": {
     "views": []
    },
    "b7fb9c24cc304661b14f45613a9a05c1": {
     "views": []
    },
    "b842906ab09a412fb8abe768a497d608": {
     "views": []
    },
    "b845d2a86ff647dabd3a0a09b3d640a6": {
     "views": [
      {
       "cell_index": 30
      }
     ]
    },
    "b85847c6b74344beae3a2c341330bcf9": {
     "views": []
    },
    "b874bc9278be491899f8798afe1249bb": {
     "views": []
    },
    "b87cc4dada8e4ca4b97df5e2d5945ff9": {
     "views": []
    },
    "b895a2570ca14e3c8dfc164da83fbdc5": {
     "views": []
    },
    "b8a1a216835b4ca6b3ffe71ec6d3d6e6": {
     "views": []
    },
    "b8a9c880ef95436180ced39a9a655b1f": {
     "views": []
    },
    "b8aca45ad72e4c908991a0961ece74f5": {
     "views": []
    },
    "b97996bd7530476eaaeb19b05e886e3e": {
     "views": []
    },
    "b9b0e1006b4a4bcb9d1f17fb5b9ea170": {
     "views": []
    },
    "b9f2d225fbed4923895eb0c02854aabf": {
     "views": []
    },
    "ba07378eb9b649818fd41b619a5bf0ee": {
     "views": []
    },
    "ba265d7c268a49b5bab384f5c61404d6": {
     "views": []
    },
    "ba5d45a7717447d4af81ea0a7744880d": {
     "views": []
    },
    "ba64396e4bb947cb8868c20f4aa48f18": {
     "views": []
    },
    "ba8963dcc1be44a5b6ebdcf107ad0571": {
     "views": []
    },
    "ba96c6c21b4643dd8a49ae1a27bd7a3c": {
     "views": []
    },
    "bac9c3e493f144b3a404e8330a9afc13": {
     "views": []
    },
    "bad86e29929f43d4ac49d898012dacd0": {
     "views": []
    },
    "bae5e8075a1a47b0abd9664f4d7a7c6c": {
     "views": []
    },
    "bb3d1d66a02f4a388327adb73256d377": {
     "views": []
    },
    "bbb5f5f637e44c3599c750bbf2c95a20": {
     "views": []
    },
    "bca5d416a1ce4e1386385cdcd8e76141": {
     "views": []
    },
    "bd0f7641aea240fcb09a18f6aa8bad5a": {
     "views": []
    },
    "bd3dcbdc55164486852979aeaa7371c1": {
     "views": []
    },
    "bd61ceca0d0c41189096ef7da59d476a": {
     "views": []
    },
    "bda070ed7a8d4baa8b2046a69a4a4058": {
     "views": []
    },
    "be1febf9a3ae455492b7266bc3a8fc07": {
     "views": []
    },
    "be3fa6a5408e4229a2f4658f501cdd99": {
     "views": []
    },
    "be5ea5b40ca44868838ff67ab4e55853": {
     "views": []
    },
    "be70c9a8fb8f4e10a58b117db6d0d7cf": {
     "views": []
    },
    "be8e4ac649394be4aa11fcdd1dc62f43": {
     "views": []
    },
    "be91ec2571684918b79e18a2c720c394": {
     "views": []
    },
    "beb450fd149d4e6d9e4439d83ad0a0b3": {
     "views": []
    },
    "bed1a9e801c54566b381a8fb728744f4": {
     "views": []
    },
    "bee7cff0ffc1432e9f5a19db8f3f8899": {
     "views": [
      {
       "cell_index": 30
      }
     ]
    },
    "bf637ca374c8460ba71c37b4d05093aa": {
     "views": []
    },
    "bf9f161205f84679a39a7b7b0761139d": {
     "views": []
    },
    "bfb734a1edf04f9db9ad1cb9c0a75dcd": {
     "views": []
    },
    "c0060ce3ce1e40228918c66692739dcd": {
     "views": []
    },
    "c086f61e96954919b67f28d05de071b1": {
     "views": []
    },
    "c09b7c915e3547eea168130b7cf3ab28": {
     "views": []
    },
    "c0a3ba8a6107401aae71265c56c913ca": {
     "views": []
    },
    "c0a89b66de884d20ad8e48ec9fa5f7c9": {
     "views": []
    },
    "c0b0a0ccb8574b4ebede033668c6b77b": {
     "views": []
    },
    "c0da97c0ff6443178acd84fd9bab3e72": {
     "views": []
    },
    "c13458ca3dbf4ff8aa165714d2423b15": {
     "views": []
    },
    "c1961031e55145b19cc47bec9ee58c9d": {
     "views": []
    },
    "c1aab2d2bba14e139e5a9e8290392066": {
     "views": []
    },
    "c1f057d6802b4939b8c00f8c76339232": {
     "views": []
    },
    "c2016b8bde104253a8cb62397c5504da": {
     "views": []
    },
    "c216eacb024048fe8c43dbb2912492d0": {
     "views": []
    },
    "c23ac1b80fcd4d189057acfb854c44eb": {
     "views": []
    },
    "c2565f20bcdc46c38902b60426c226ac": {
     "views": []
    },
    "c30271c4a804491d95b363337ebcf17c": {
     "views": []
    },
    "c31a2f4c39084bca8a5c8fc556d63ac8": {
     "views": []
    },
    "c3258d0805794e28b1d17a57efadcba6": {
     "views": []
    },
    "c33a3535cc1f412b931ced77e0da3b03": {
     "views": []
    },
    "c3443bebb1da4247b99097e005d43fb6": {
     "views": []
    },
    "c356712529c046a6bcd710bae1f4ff7c": {
     "views": []
    },
    "c36d280a381e44d7919336b97527ea25": {
     "views": []
    },
    "c37df11fb163470aafc979b616a67c0d": {
     "views": []
    },
    "c395ff67fc5a415c984207548ea0bbdf": {
     "views": [
      {
       "cell_index": 30
      }
     ]
    },
    "c3aef6bc7b114cbfb1bc7e001f8383dc": {
     "views": []
    },
    "c3b00a60c1ec450ca5baab644e86c1a3": {
     "views": []
    },
    "c3ce711f7b274e1091d17bb2f9a8ea62": {
     "views": []
    },
    "c3f72a3cfcd04c2c881ac49ed9b77a89": {
     "views": []
    },
    "c3f9e9d153604da7906dcad45320c4e3": {
     "views": []
    },
    "c44a4b7c73a34ba997ae6635a16330d4": {
     "views": []
    },
    "c45d6f3e8ad34e89a983c5ddcb831c03": {
     "views": []
    },
    "c47a591c632b483ba08b5637ea5a1bcb": {
     "views": []
    },
    "c4aa5bbcc5c945dd902516f3a2544b52": {
     "views": []
    },
    "c514709dc5904824b6a3b56c31ac0d75": {
     "views": []
    },
    "c514d440da244b1383cd717091741191": {
     "views": []
    },
    "c54f32b6a1aa41ee97976a99300f93bb": {
     "views": []
    },
    "c5a3b8d2334b43bba974ac372361dc14": {
     "views": []
    },
    "c5df973a468c4464b6207c18f01d0194": {
     "views": []
    },
    "c62a054758144aed94d65c730d068951": {
     "views": []
    },
    "c631acea78f9420ea8a93a1160c3d13d": {
     "views": []
    },
    "c63bafed79f54d3d84937b5dad3e176a": {
     "views": []
    },
    "c63cb63f8edd4dc995f49bc5c87d6692": {
     "views": []
    },
    "c6433859bc3a4348bd9ec215758bc209": {
     "views": []
    },
    "c68802f2722a4271a2e5d2500e75aa7c": {
     "views": []
    },
    "c6c17e7ee9a74c5e98f6ad03a2af86df": {
     "views": []
    },
    "c728c6efd08241d4bb2e1a4f68d7ebda": {
     "views": [
      {
       "cell_index": 30
      }
     ]
    },
    "c7522281acd94edcaf99c204892e2729": {
     "views": []
    },
    "c77a7c326bfb4ca7bbcdd6a1027ff7f6": {
     "views": []
    },
    "c79a67ed44d3432c92ccd91c326eb684": {
     "views": []
    },
    "c82de785b4d549aa9422f3ff826beec6": {
     "views": []
    },
    "c83d2fe0a8ee454384cb21d30974565d": {
     "views": []
    },
    "c856fdaf50ce4462a10b658b87340c2f": {
     "views": [
      {
       "cell_index": 30
      }
     ]
    },
    "c8f124bbb5604f7abc49b6d6200a0247": {
     "views": []
    },
    "c9544c0abdcb4538a2a14f58dd90b817": {
     "views": []
    },
    "c96a2180f934411dac689fb5467f0050": {
     "views": []
    },
    "c99f25ba57544af6b39eed25ac4ebcee": {
     "views": []
    },
    "c9b1e05fb7a242c6b9767430880aabd0": {
     "views": []
    },
    "ca6e8c136df2414691cc3b1af1f5cbf7": {
     "views": []
    },
    "ca737842a6164b5ba0fca9eb4bb7abb6": {
     "views": []
    },
    "ca757c981f6446cc97960d9e5ff48df7": {
     "views": []
    },
    "ca8a66941a844ad49ca001ce1cac2bdf": {
     "views": []
    },
    "caaf3d9ce8ea43fc98e09eaf2342d71e": {
     "views": []
    },
    "cab27c6d1f23411d9537fb8768321fae": {
     "views": []
    },
    "cac4831d60c144f8be256374b6bfe799": {
     "views": []
    },
    "cae4c74ebe894ea1b968e436722602f2": {
     "views": []
    },
    "cb0565672e374cb09215b15b7e21c34c": {
     "views": [
      {
       "cell_index": 30
      }
     ]
    },
    "cb4a911f516846d1abf969cd75ea9b9f": {
     "views": []
    },
    "cb5e7142be5a4bc986f891168dab5e94": {
     "views": []
    },
    "cb61a07ecdd845558163370d4db5f576": {
     "views": []
    },
    "cb6b5241863944e0a40527a6b3d09f60": {
     "views": []
    },
    "cb876ec8a44b48f9b9f0941d83a710a7": {
     "views": []
    },
    "cba8ff72dd5a493398afc5d7844cfd71": {
     "views": [
      {
       "cell_index": 30
      }
     ]
    },
    "cbeb307d5f9e46f2b29ad03180f6d2f7": {
     "views": []
    },
    "cbf93226b72e4821b7db0d30e6908417": {
     "views": []
    },
    "cc30ec4cecdf4fb2badbd3f74be95552": {
     "views": []
    },
    "cc3ef030f5f04b3f86085960a7d4daa6": {
     "views": []
    },
    "cc513e87f4734825b4e855bf13077369": {
     "views": []
    },
    "cc72f5e3124f4f97bb202991e56a5271": {
     "views": []
    },
    "cc87c532df9a444a814c98c6c69d5f4f": {
     "views": []
    },
    "cc9d5f4ecebd48f29b2fc00bb7cabd2c": {
     "views": []
    },
    "ccbd13b81d3d44c29cc7475e8a3f3396": {
     "views": []
    },
    "cccb6912d19f447bb9e11f93f2c17e53": {
     "views": []
    },
    "ccd59b73ab834e50a2ac1dd20a9b5158": {
     "views": []
    },
    "cce2c978df624563a3e10a0621fde4dc": {
     "views": []
    },
    "cd84a5cdb7454c82b0de8156b4a86cc6": {
     "views": []
    },
    "cd8dc6ab8213489d9e3e272cd586e402": {
     "views": []
    },
    "cda0e9e6fa7e480b9b32d60112d490f0": {
     "views": []
    },
    "cde13b901beb42a8816b73f5d12ca08c": {
     "views": []
    },
    "cdf00a82505d4e4580bbd0529e5fb822": {
     "views": []
    },
    "cdfb04b6c4a74d149e48f7741b9d119b": {
     "views": []
    },
    "ce107374b98f4be5ab1b670840c47ec4": {
     "views": []
    },
    "ce18e2d60405421d944f25418031101b": {
     "views": []
    },
    "ce576db26f5e4a7abe63f89c8badb887": {
     "views": []
    },
    "ced7d293353a4197941ba84d01390d8f": {
     "views": []
    },
    "cf190ab4fad24fc1935a9219299318c8": {
     "views": []
    },
    "cf31f6599128455eb1fea420482c39e2": {
     "views": []
    },
    "cf68cd7dd97349049b5eec4827493b41": {
     "views": []
    },
    "cfd221807f90497ab6f2eaad33c85ef1": {
     "views": []
    },
    "d02adeb3b14f4328b334cd19798b0524": {
     "views": []
    },
    "d03022e399a2428d81043ebc8916540e": {
     "views": []
    },
    "d036aa5ad3e24684a9b99f38f1e564a3": {
     "views": []
    },
    "d039b1121b59417c934fcfa0904fadff": {
     "views": []
    },
    "d04aea910cd342cbbe719238a3cae7f2": {
     "views": []
    },
    "d0c3135e1e2448788d96d22c53f21d4e": {
     "views": []
    },
    "d0ffdbb6ad5a457283b7713a815c901c": {
     "views": []
    },
    "d10fb9167805439e8fe1abe9d3084c6f": {
     "views": []
    },
    "d1635f3b0511431aa721a2066be5b401": {
     "views": []
    },
    "d16e025a06204b689628e3b92e303f94": {
     "views": []
    },
    "d18809b78d3d45a7b5b79c357ff95760": {
     "views": []
    },
    "d1ec0ea988554d4c9bfefda8640b3f35": {
     "views": []
    },
    "d2039fe8ded64695987fb7737beafe7c": {
     "views": []
    },
    "d215880c56ab432b9cea19671e077a86": {
     "views": []
    },
    "d27da00fb65540d68de002cc2ed15714": {
     "views": []
    },
    "d2d7a94f765c47128096d317b8de4ee2": {
     "views": []
    },
    "d31606a5a5ab45d68244833be2761ab4": {
     "views": []
    },
    "d3937102f439449b8f95513833350503": {
     "views": []
    },
    "d3d6358dca4f4873af85a1e8080b044b": {
     "views": []
    },
    "d42da28e67a3401ba84b1b59c834e4d2": {
     "views": []
    },
    "d466948787f44c9bb9404c413a3d3b1e": {
     "views": []
    },
    "d46ab21815d541578dd8ce496086e3cd": {
     "views": [
      {
       "cell_index": 30
      }
     ]
    },
    "d47bc4c7d2f94f918dcbe7ed81c42198": {
     "views": []
    },
    "d47c7a3bb59f41228361377e766678d2": {
     "views": []
    },
    "d4c6466db22443328da4eab43a5801ba": {
     "views": []
    },
    "d5152e7fed8949948d01de5334415d39": {
     "views": []
    },
    "d53048b9efdc49ffabb18154e85cf8df": {
     "views": []
    },
    "d53c6c99aacc4aedb8c7669c4ab4f9e4": {
     "views": []
    },
    "d54a0227d13941b7a01eae5e5bf16c10": {
     "views": []
    },
    "d5584da134304affbf1a60a8ed9d4319": {
     "views": []
    },
    "d584ead691444aa59336c9e0162a0c36": {
     "views": []
    },
    "d5897fb2a43d457d836a1e0a82ca9b83": {
     "views": []
    },
    "d5b1c2aeedc44d7b9f0f4b145ee7a9ea": {
     "views": []
    },
    "d5b7a8b3f0a3499196c4f8a78ce96904": {
     "views": [
      {
       "cell_index": 30
      }
     ]
    },
    "d5c01e793e1843c8b634af1bb9f09b48": {
     "views": []
    },
    "d5c22ac32a5a44bcafa716cbced6603b": {
     "views": []
    },
    "d5c8996d777245629dd4c4b8b87c8eff": {
     "views": []
    },
    "d5c8c72b2dbe4e4cb88b855eee45615f": {
     "views": []
    },
    "d5fb884756a44f5fa6263c6e6c7e3df4": {
     "views": []
    },
    "d60ae3cc99a947e0ba69e496ab973361": {
     "views": []
    },
    "d60ca1c8e51e408094db5fe2dfd66e32": {
     "views": []
    },
    "d65b85ccaeed4c98855bf946489bb0a1": {
     "views": []
    },
    "d67db5975e6f4482819b335530a4c286": {
     "views": []
    },
    "d6af96ea5466417badcefe36bab288cc": {
     "views": [
      {
       "cell_index": 30
      }
     ]
    },
    "d7a943011bf0498aa437905c5d81c529": {
     "views": []
    },
    "d7b44cfa1ecc4489be9e06eaaf2020b2": {
     "views": []
    },
    "d7b738a567ab423c8acdccb6cad35674": {
     "views": []
    },
    "d7bbb847d4f64d859727b81b5f9df5a5": {
     "views": []
    },
    "d7e3c6239d61498c84d4665bcc2f29d7": {
     "views": []
    },
    "d7eceba79df94b458d06900231bb5163": {
     "views": []
    },
    "d7fa95fc82254dd5885ab91149a08dfb": {
     "views": []
    },
    "d80cc06822694283a0a41ed02eb71a18": {
     "views": []
    },
    "d8332f73efab458ba429f46f3f6ceee2": {
     "views": []
    },
    "d8ad5a39111549fc8d708cd2ca4cfe3d": {
     "views": []
    },
    "d8d7d3646b914b3080298e5ec4206a0d": {
     "views": []
    },
    "d94d346c2f6e48d18f45bd04e1dbcd08": {
     "views": []
    },
    "d968855ae6c94285946e89ad22f542b1": {
     "views": []
    },
    "d9bcb4ee1ab94a4a8cee218fecc189da": {
     "views": []
    },
    "d9f668cbf617419bbb326bf34fadadab": {
     "views": []
    },
    "d9faa20a8c6a4234a75cd903cd1f70d0": {
     "views": []
    },
    "da08dd61015f47f4bc4157840a888724": {
     "views": []
    },
    "da68b2da669647e7b97b6320aa192235": {
     "views": []
    },
    "dabb4425e9b84b23a17cbabba5953bea": {
     "views": []
    },
    "dabf49a3df4446508380622eddca7af1": {
     "views": [
      {
       "cell_index": 30
      }
     ]
    },
    "dad42f3a084043e19e957d3fd184ca9f": {
     "views": []
    },
    "daf2ad93f88246f6bb4f06f650564697": {
     "views": []
    },
    "db89516cd0a1467fbb7de36408f19ee6": {
     "views": []
    },
    "dbab594b878943adb3d05794fa09d9b1": {
     "views": []
    },
    "dbbcb455148441a9a498bc3351cddd58": {
     "views": []
    },
    "dbc97e1b7e674da38099aefa6cb54a37": {
     "views": []
    },
    "dbdd1f1d53f34fc5b16ea60b7443765f": {
     "views": []
    },
    "dbea76458f7c47d6831ff1b2e79e1f22": {
     "views": []
    },
    "dbf17354e6224d3795eab81b7c8368d9": {
     "views": []
    },
    "dbf6e93d9f874160812aa1bd3114b041": {
     "views": []
    },
    "dc20719e66c541f5b15b979f8a34a7ac": {
     "views": [
      {
       "cell_index": 30
      }
     ]
    },
    "dc45a8d9c242465a9e9cebdab4e190a9": {
     "views": []
    },
    "dc4e40e197d94a74b270e2282e72f47f": {
     "views": []
    },
    "dc594fe0688e40f29bcf6c41e81a213b": {
     "views": []
    },
    "dc6663dd5b424f75b0015a741a77f24f": {
     "views": []
    },
    "dc7aed228af3464595102b3a93d1b1be": {
     "views": []
    },
    "dcbb966de9314ce3acdb95cd3ffc85c8": {
     "views": []
    },
    "dcdf570cca7343f6af49f69a8d3f9ecc": {
     "views": [
      {
       "cell_index": 30
      }
     ]
    },
    "dd0e6c9a31f34d31803e38fd6b42b96d": {
     "views": []
    },
    "dd3663d284364565a185b8b1d75132fc": {
     "views": []
    },
    "dd4a9d6631864920aca175569d6e4adc": {
     "views": []
    },
    "dd5aa315e01a4e3c9e48be8a133b017e": {
     "views": []
    },
    "dde5e5c06e904ec68fe606dcde3c0720": {
     "views": []
    },
    "de21d262b7c6414094a9d12670f77f5a": {
     "views": []
    },
    "de23ca5db533427784ed1af3d4aaafc1": {
     "views": [
      {
       "cell_index": 30
      }
     ]
    },
    "de39b029b09f4687b86f246391dd54f7": {
     "views": []
    },
    "de5cc6f54c694e359e9bf9a4c6c40530": {
     "views": []
    },
    "deabd68d0971495fac767b903e25e7bb": {
     "views": []
    },
    "deabf053f3dd46c685345a9db266e8a2": {
     "views": []
    },
    "deafaeccb7404affa31f52e9858ba9fe": {
     "views": []
    },
    "deb21255347c4ceb9f1d546fed2b2f46": {
     "views": []
    },
    "dee256423d07444e9f2787c0cf221c3c": {
     "views": []
    },
    "deef165552014a7c97c5e2db32de921c": {
     "views": []
    },
    "df1953f8936949a79d4c5998c7be6494": {
     "views": []
    },
    "df5736b502c74a65bb5c7c6b5303297e": {
     "views": []
    },
    "dfb13e89a8fa4b91ab6e8ef8e40d15ae": {
     "views": []
    },
    "dfbbc42ad91540ffba6b88c7e292e0a5": {
     "views": []
    },
    "e020e136a14746d08e32521149eb1c67": {
     "views": []
    },
    "e04d88a66ac6435f86bc7ae8d0afd6bc": {
     "views": []
    },
    "e061ef16ab7e4a69a13ed38ec685b36d": {
     "views": []
    },
    "e0af4d38be644ea6b63ef102e06c927d": {
     "views": []
    },
    "e0d7d930d8924badb838e361a7ca2032": {
     "views": [
      {
       "cell_index": 30
      }
     ]
    },
    "e0f4600aab3f4e009293646eb467b54a": {
     "views": []
    },
    "e0fecc785ee24f6ca5df71dde8661a5c": {
     "views": []
    },
    "e11c4347c7d04fe485990b5fa967eafa": {
     "views": []
    },
    "e15903649bbb498ba39b6ddbd9a17cc0": {
     "views": [
      {
       "cell_index": 30
      }
     ]
    },
    "e1865c8f5483472182eabcddca3cdd00": {
     "views": []
    },
    "e19ff252e6a043fc9f7677b780154163": {
     "views": []
    },
    "e1b177f0ee3745b7a72b2ccd388bc60a": {
     "views": []
    },
    "e1e5fefcca5140cb9f788bb2d76a5956": {
     "views": []
    },
    "e1ec551080bb47c3b71da92dc9e74bc8": {
     "views": []
    },
    "e1efe6821566493aab1ed72106efa88f": {
     "views": []
    },
    "e21bc3279b9b4f3a8639b4ab97625312": {
     "views": []
    },
    "e21bd4fcbf8247fe9237b3cc6c13d95b": {
     "views": []
    },
    "e25a63790afa4b8aab4c9a03ad2ad524": {
     "views": []
    },
    "e28ef932603c4b779e6771bde690a399": {
     "views": []
    },
    "e2a456088c7145a0bf555698d9916fd7": {
     "views": []
    },
    "e2a73e6303084d6890712b57a80cb513": {
     "views": [
      {
       "cell_index": 30
      }
     ]
    },
    "e2d0ad3388cc46538db3191156088cc6": {
     "views": [
      {
       "cell_index": 30
      }
     ]
    },
    "e2db34b70dfe4e94aba439220dc9c62c": {
     "views": []
    },
    "e300321194324243b0bdda2f5cd2b2c8": {
     "views": [
      {
       "cell_index": 30
      }
     ]
    },
    "e301fafc225b4fbaaa08bde5e72fd8bc": {
     "views": []
    },
    "e39ab9a8530142baae15d2944f9d9db8": {
     "views": []
    },
    "e3d4c864c0264c8e91e7695543f78959": {
     "views": []
    },
    "e3f96beb9e6d4b3c9f8dc453a145d8fe": {
     "views": []
    },
    "e409431baa28404c8ac50b85b197b067": {
     "views": []
    },
    "e435dbef5e2a466c931cdb0804f586c5": {
     "views": []
    },
    "e450c5b2eb5245279e92220edd640e94": {
     "views": []
    },
    "e45816cb3af44a26a391ecd04d431ff5": {
     "views": []
    },
    "e469ab0e7559478597869021ea903d47": {
     "views": []
    },
    "e49faa53bf6b4f2f982e3bbf50fb46f9": {
     "views": []
    },
    "e4ab77fbf9f0428ea536aeba31af8999": {
     "views": []
    },
    "e4d180cf40494e93ae89d04e1932f23d": {
     "views": []
    },
    "e4e22a8290474212b7f7035a58ec17b8": {
     "views": []
    },
    "e5183b9543d54c7aa44d55ed5290550a": {
     "views": []
    },
    "e554821fafc0472195fe6bd1a9d52887": {
     "views": []
    },
    "e57bc81101a14b63a17b2179a5bacaf5": {
     "views": []
    },
    "e5986eba809e42c18c31e0c86348fd5e": {
     "views": []
    },
    "e5e5cad3d5e04eb898c2c8cb16abfd02": {
     "views": []
    },
    "e5ebf561368744aa9fd402fabb6ff123": {
     "views": []
    },
    "e64848d32ab449eaa9a92fb4b7e57526": {
     "views": []
    },
    "e64b7d0a95524810877660444f3504d6": {
     "views": []
    },
    "e665ebcd051443f28d9dc2a8412471ca": {
     "views": []
    },
    "e6990a70ab5c4a16bb0ab1b58f8fb6f1": {
     "views": []
    },
    "e6c44690da3341dcbe66cfb9714d6c07": {
     "views": []
    },
    "e6eb10b63c094e0295a96870af1bc849": {
     "views": []
    },
    "e6f77a8f51b04af0afc3b98df30fe35d": {
     "views": []
    },
    "e70cdda91b17419ead9759fcc47d8d00": {
     "views": []
    },
    "e713fc39e3de498ba0ae7f7a99d71bed": {
     "views": []
    },
    "e7234290a5144769b4688d2e217e3657": {
     "views": []
    },
    "e766c9b98f9a4472bde32e6b7b1d627c": {
     "views": []
    },
    "e796a445820341bead86f77c8b19737d": {
     "views": [
      {
       "cell_index": 30
      }
     ]
    },
    "e7bbacf64fce46429ec0828addca92ae": {
     "views": []
    },
    "e7ce7a3722d24cb58afef59c56ee5928": {
     "views": []
    },
    "e7de5a55367e4eeb8668e816b98839eb": {
     "views": []
    },
    "e7de79b772d249b4985d873067fcf87d": {
     "views": []
    },
    "e7ee9affa3d7441a93e1a76b6bb2af46": {
     "views": []
    },
    "e7f110921d2d4c2d9fee15786ff14589": {
     "views": []
    },
    "e82eb3c495e04ecf931dfe4a46c40f2a": {
     "views": []
    },
    "e871cdee3a794ffc89fbc89c656f14d3": {
     "views": []
    },
    "e884ae97f9a74c4a9f55c5863076d96e": {
     "views": []
    },
    "e8e46eebe8d044f0b50c91d314df6892": {
     "views": []
    },
    "e8ef376ce84744f9a1e138651badf841": {
     "views": []
    },
    "e92dcaa2e1ae4301881686dc772d7d85": {
     "views": []
    },
    "e967e374c84247bc8eff7c1272365b22": {
     "views": []
    },
    "e9905025a1734763acf8d969dd441c1b": {
     "views": []
    },
    "e9918cb964b941689603e2a5e572aa71": {
     "views": []
    },
    "e9bd61ee23f540a2ab4347c9334b98b6": {
     "views": []
    },
    "e9d18ef8cba14f55bb6ea77f159130d4": {
     "views": [
      {
       "cell_index": 30
      }
     ]
    },
    "e9d8bd97c50c4b828d8b050ab3a96153": {
     "views": []
    },
    "e9e1b32c482c498cb076a1c89ecbb250": {
     "views": []
    },
    "e9eb2f5f75174563a9516a3cad9da5d9": {
     "views": []
    },
    "e9f1e42ada0742148a7b7012f76ad283": {
     "views": []
    },
    "ea16f9c7263941c1ac206009cabc3023": {
     "views": []
    },
    "ea91b30196ba45a2af56611675a1fa4a": {
     "views": []
    },
    "eaaea713829c41b0b9e54accd138d80d": {
     "views": []
    },
    "eaef6be26ee14d74b569632b8903bd4f": {
     "views": []
    },
    "eb0107c4d5b14cc6afaee933794b1060": {
     "views": []
    },
    "eb4b19ad2ecc4006b8cadd86488b0c0a": {
     "views": []
    },
    "eb55c08fd1f2462b8f41949cc96ce297": {
     "views": []
    },
    "eb8bf30709ce48b399bf221bb3e1cc8c": {
     "views": []
    },
    "eb94a4fe36594a6e9981e2414164c019": {
     "views": []
    },
    "eba0dc48d94c4c65905a451d2378ff55": {
     "views": []
    },
    "ebaefedea2c3463ea245ada516a7d2f1": {
     "views": []
    },
    "ebc0cf3d42484199acbbbba124d27bd2": {
     "views": []
    },
    "ebea79e9f894481c95e3b5c9a7a9bae2": {
     "views": []
    },
    "ebf3a88530d940faa9a9a8d0f1740978": {
     "views": []
    },
    "ec2d428b050a4a6e961bd69f3bb8a6ca": {
     "views": []
    },
    "ecdf0dbab6f0446387bfa8b40c8c1afd": {
     "views": []
    },
    "ed2a020384e646fc9259ced35d8fa4a3": {
     "views": []
    },
    "ed37e0367ccf4e08bdb9657984d13913": {
     "views": []
    },
    "edc516b369294a1397b64cecba09a992": {
     "views": []
    },
    "edc52b33bb524d6593ac81c116f4b984": {
     "views": []
    },
    "ee06f61c36734f2d828cab8df7ef84f4": {
     "views": []
    },
    "ee50591ef268491387f8c484c7eee641": {
     "views": []
    },
    "ee50f346606f4f97a48722e68e84ac8b": {
     "views": [
      {
       "cell_index": 30
      }
     ]
    },
    "ee952eeada5346a7a5dce247c5b22d83": {
     "views": []
    },
    "eeba322f3f9744249401afba4ed39662": {
     "views": []
    },
    "ef1bfd3492d140058c97d780152b4bff": {
     "views": []
    },
    "ef2802c9789a47fb929c69b2d40c67f0": {
     "views": []
    },
    "ef4e37f6252f4b489da3fb24194e494e": {
     "views": []
    },
    "ef69da783b824eecb0b08f3d70e78bda": {
     "views": []
    },
    "efa5c2c402f44a1c8b9d4163f63fd0e8": {
     "views": []
    },
    "efb8fa07d95645978a5555124f86a375": {
     "views": []
    },
    "efd95345a7ff4fa0a096637d4afcd283": {
     "views": []
    },
    "effe39614e19490795b2691e0df77a03": {
     "views": []
    },
    "f03d503c4de946e58625697c10f2e607": {
     "views": []
    },
    "f0849201be41495985bc8cd92876b95f": {
     "views": []
    },
    "f08589b040d447bf964d87c94faa5001": {
     "views": []
    },
    "f0880a97364244549ab3130f35795482": {
     "views": []
    },
    "f0a4115fa0844dc5be7ea983b006b5b0": {
     "views": []
    },
    "f0d31077475a4311bfe09bcc4a45d149": {
     "views": []
    },
    "f155bb0efe6e473297e98b534bdb8f1c": {
     "views": []
    },
    "f1f96885e7b04beea63d8cabd9e9e188": {
     "views": []
    },
    "f1fff28f089e4ea9a8302efc263f2012": {
     "views": []
    },
    "f22d1bcfe4124acba280dca95977e398": {
     "views": []
    },
    "f25a7db57e064bc88b1cc977d9516c3e": {
     "views": []
    },
    "f2b59537757d4a5d9ade2ed4e567e0a5": {
     "views": []
    },
    "f2b9f192c2354844b47f46e7b7c76487": {
     "views": [
      {
       "cell_index": 30
      }
     ]
    },
    "f2ba7029abca4091b645dac163e91b67": {
     "views": [
      {
       "cell_index": 30
      }
     ]
    },
    "f2c674ce35c741509e4f42b412f93335": {
     "views": []
    },
    "f31d3beafe8f41569c0cf7d60a8164b1": {
     "views": []
    },
    "f36429d75447464c927d9efe766ce896": {
     "views": []
    },
    "f3a31f92b1c9487e8e68d9d1c8805a18": {
     "views": []
    },
    "f3aacebbc4f94085bfe4c712d68c4d64": {
     "views": []
    },
    "f3cf11319ce2442d872aa9e787c96f8d": {
     "views": []
    },
    "f3ff7c7477c747b7a2b351ae5fb708e0": {
     "views": []
    },
    "f40ff621f611407e94f5018353782695": {
     "views": []
    },
    "f414a7172f6b47abbbe1eb90b10f1d35": {
     "views": []
    },
    "f42d052488d946f9a243d6ab92d9a3bc": {
     "views": []
    },
    "f4703fba90834296bdbec78fad1b5316": {
     "views": []
    },
    "f47730eb065f45dab4a3ccbfaab2aec9": {
     "views": []
    },
    "f4afeb15eaf047128646545600a4ed1b": {
     "views": []
    },
    "f4d064b17b7d48b1805dc29e07799cb7": {
     "views": []
    },
    "f4f628e9ad874e979637fa2e9c5d46b1": {
     "views": []
    },
    "f515a85d90564832867469d7334a8bc9": {
     "views": []
    },
    "f543c6dec3964bd286da34e9c68b9a09": {
     "views": []
    },
    "f5c8de2ac1f64df6ada415308ef839ab": {
     "views": []
    },
    "f66c5602832c415ea7cf876f8dc562e5": {
     "views": []
    },
    "f66ffbcccdd640dc9e00e26d867f25c5": {
     "views": []
    },
    "f67444bfc0a34b859f24d9f9b2ed35bb": {
     "views": []
    },
    "f6afca8ba5194bfca1b0b2712db8edb6": {
     "views": []
    },
    "f6d133bd386a47179521169a2c581661": {
     "views": []
    },
    "f6d9a15874464fe8b0cec2b0fc3b779c": {
     "views": []
    },
    "f70cf370fe1e47d4b8b5e45d25d47094": {
     "views": []
    },
    "f75dbff05095465e83367650a077798e": {
     "views": []
    },
    "f7c93317202e4356ad1a5a6c89c8508a": {
     "views": []
    },
    "f7efa0ce56304eb5bff58ce3d2c4b82c": {
     "views": []
    },
    "f800e5bb0285458f906d8da32ee9b787": {
     "views": []
    },
    "f8211d765aa648a496d064a8c2013c82": {
     "views": []
    },
    "f835987bbe2b47c18ac200dcaf6b209b": {
     "views": [
      {
       "cell_index": 30
      }
     ]
    },
    "f860d69c77af4a55951b95d0d8efcffc": {
     "views": []
    },
    "f8685eb594314cce89078d6259a7a647": {
     "views": [
      {
       "cell_index": 30
      }
     ]
    },
    "f8e0b95f54254b4b991602aa77165a7a": {
     "views": []
    },
    "f8f63f8356034d358cdb895fb84adfa1": {
     "views": []
    },
    "f95c443c51bc430284bb20eae325bbf8": {
     "views": []
    },
    "f99ecb027a05408c87947585df9c6cbb": {
     "views": []
    },
    "f9c30414b74148c5a2db53eca6b71121": {
     "views": []
    },
    "f9fa1aabd5b14185a4b6b65378812b88": {
     "views": []
    },
    "fa26f0f4c7814beeaf4b4d498fcc8c44": {
     "views": []
    },
    "fa5e36d747c14db6b54275241cf61d5b": {
     "views": [
      {
       "cell_index": 30
      }
     ]
    },
    "facdb35161ea40248c658f86a9916752": {
     "views": []
    },
    "fae37ab124c54b669a875719f5ad5c58": {
     "views": []
    },
    "fb493b43f17b4622a15386dab33f50bb": {
     "views": []
    },
    "fb684d8384e0477ab399874f102db718": {
     "views": []
    },
    "fb7d306756e04bf2a50182c15cd131e6": {
     "views": []
    },
    "fb838e81cb5b4a7b91daea40a9aec410": {
     "views": []
    },
    "fb9eb59421eb4900b2a15a32b1360b3a": {
     "views": []
    },
    "fc478337f3bc4b738a94dbc5af487e97": {
     "views": []
    },
    "fc5e5eb9c53748c794d99412b27b3062": {
     "views": []
    },
    "fc8bfebbee8a4aa184d3ec372a960857": {
     "views": []
    },
    "fcb83e5b51c241aea75876a8727945af": {
     "views": []
    },
    "fd00015d128042daa9f2c7805f9d853c": {
     "views": []
    },
    "fd45a98e830e48a3bb2ad7a72d8eb843": {
     "views": []
    },
    "fd4ede05b34f4831ab5dd2aa6474bff6": {
     "views": []
    },
    "fdb4de0be65549a8bf89505b04a5c13d": {
     "views": []
    },
    "fe0f3f58a15f489fb42121869dc38d22": {
     "views": []
    },
    "fe9f2088da764d41ba45b4e07286c92f": {
     "views": []
    },
    "fed123946f2d437b8cd973dfb32e3e58": {
     "views": []
    },
    "ff1cd7a66bee4f5983e376600db2e669": {
     "views": []
    },
    "ff22abad451c426c982a863ec5106835": {
     "views": [
      {
       "cell_index": 30
      }
     ]
    },
    "ff7ff3e90e5649f882c32b014e0839c1": {
     "views": []
    },
    "ff81c824bc014a8088e4eb1170c5d0dc": {
     "views": []
    },
    "ffa48688d8f14262adb0df52a861736c": {
     "views": []
    },
    "ffb8c049d5dc430d810b6151eb97dc21": {
     "views": []
    }
   },
   "version": "1.1.2"
  }
 },
 "nbformat": 4,
 "nbformat_minor": 1
}
