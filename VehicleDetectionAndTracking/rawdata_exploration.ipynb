{
 "cells": [
  {
   "cell_type": "code",
   "execution_count": 42,
   "metadata": {
    "collapsed": true
   },
   "outputs": [],
   "source": [
    "# Necesary imports\n",
    "\n",
    "import numpy as np\n",
    "import glob\n",
    "import matplotlib.image as mpimg\n",
    "import pickle\n",
    "\n",
    "%matplotlib inline"
   ]
  },
  {
   "cell_type": "code",
   "execution_count": 32,
   "metadata": {
    "collapsed": true
   },
   "outputs": [],
   "source": [
    "## 1. Get the raw data set\n",
    "\n",
    "cars0 = glob.glob('vehicles/GTI_Far/*.png')\n",
    "cars1 = glob.glob('vehicles/GTI_Left/*.png')\n",
    "cars2 = glob.glob('vehicles/GTI_MiddleClose/*.png')\n",
    "cars3 = glob.glob('vehicles/GTI_Right/*.png')\n",
    "cars4 = glob.glob('vehicles/KITTI_extracted/*.png')\n",
    "\n",
    "notcars = glob.glob('non-vehicles/Extras/*.png')\n",
    "notcars += glob.glob('non-vehicles/GTI/*.png')\n",
    "\n",
    "cl0, cl1, cl2, cl3, cl4 = len(cars0), len(cars1), len(cars2), len(cars3), len(cars4)\n",
    "ncl = len(notcars)"
   ]
  },
  {
   "cell_type": "code",
   "execution_count": 44,
   "metadata": {},
   "outputs": [
    {
     "name": "stdout",
     "output_type": "stream",
     "text": [
      "Total # vehicle images: 8792\n",
      "Total # non-vehicle images: 8968\n",
      "Image shape: (64, 64, 3)\n",
      "Image dtype: float32\n"
     ]
    },
    {
     "data": {
      "text/plain": [
       "<matplotlib.image.AxesImage at 0x11693ea90>"
      ]
     },
     "execution_count": 44,
     "metadata": {},
     "output_type": "execute_result"
    },
    {
     "data": {
      "image/png": "[encoded data removed]",
      "text/plain": [
       "<matplotlib.figure.Figure at 0x117848b38>"
      ]
     },
     "metadata": {},
     "output_type": "display_data"
    }
   ],
   "source": [
    "## 2. Initial data set exploratory visulastion and summarisation\n",
    "\n",
    "imtest = mpimg.imread(cars0[0])\n",
    "\n",
    "print('Total # vehicle images: {}'.format(np.sum([cl0, cl1, cl2, cl3, cl4])))\n",
    "print('Total # non-vehicle images: {}'.format(np.sum([ncl])))\n",
    "print('Image shape: {}'.format(imtest.shape))\n",
    "print('Image dtype: {}'.format(imtest.dtype))\n",
    "\n",
    "car_idx = np.random.randint(0, len(cars0))\n",
    "notcar_idx = np.random.randint(0, len(notcars0))\n",
    "\n",
    "car_img = mpimg.imread(cars0[car_idx])\n",
    "notcar_img = mpimg.imread(notcars0[notcar_idx])\n",
    "\n",
    "plt.figure(figsize=(10, 8))\n",
    "plt.subplot(121)\n",
    "plt.axis('off')\n",
    "plt.title('Vehicle Image')\n",
    "plt.imshow(car_img)\n",
    "plt.subplot(122)\n",
    "plt.axis('off')\n",
    "plt.title('Non-vehicle Image')\n",
    "plt.imshow(notcar_img)"
   ]
  },
  {
   "cell_type": "code",
   "execution_count": 43,
   "metadata": {},
   "outputs": [
    {
     "name": "stdout",
     "output_type": "stream",
     "text": [
      "# training vehicle examples: 7032\n",
      "# training non-vehicle examples: 7174\n",
      "\n",
      "# validation vehicle examples: 879\n",
      "# validation non-vehicle examples: 897\n",
      "\n",
      "# test vehicle examples: 881\n",
      "# test non-vehicle examples: 897\n",
      "\n",
      "Pickling the processed raw dataset of image paths...\n",
      "Completed successfully!\n"
     ]
    }
   ],
   "source": [
    "# Splitting the data set into Training/Validation/Test set\n",
    "# with a 80/10/10 split. NO Randomised Shuffling\n",
    "\n",
    "L70 = (0.8 * np.array([cl0, cl1, cl2, cl3, cl4, ncl])).astype('int')\n",
    "L90 = (0.9 * np.array([cl0, cl1, cl2, cl3, cl4, ncl])).astype('int')\n",
    "\n",
    "cars_train = cars0[:L70[0]] + cars1[:L70[1]] + cars2[:L70[2]] + cars3[:L70[3]]\\\n",
    "                + cars4[:L70[4]]\n",
    "notcars_train = notcars[:L70[5]]\n",
    "\n",
    "cars_valid = cars0[L70[0]: L90[0]] + cars1[L70[1]: L90[1]]\\\n",
    "                + cars2[L70[2]: L90[2]] + cars3[L70[3]: L90[3]] + cars4[L70[4]: L90[4]]\n",
    "notcars_valid = notcars[L70[5]: L90[5]]\n",
    "\n",
    "cars_test = cars0[L90[0]:] + cars1[L90[1]:]\\\n",
    "                + cars2[L90[2]:] + cars3[L90[3]:] + cars4[L90[4]:]\n",
    "notcars_test = notcars[L90[5]:]\n",
    "\n",
    "print('# Training vehicle examples: {}'.format(len(cars_train)))\n",
    "print('# Training non-vehicle examples: {}'.format(len(notcars_train)))\n",
    "print()\n",
    "print('# Validation vehicle examples: {}'.format(len(cars_valid)))\n",
    "print('# Validation non-vehicle examples: {}'.format(len(notcars_valid)))\n",
    "print()\n",
    "print('# Test vehicle examples: {}'.format(len(cars_test)))\n",
    "print('# Test non-vehicle examples: {}'.format(len(notcars_test)))\n",
    "print()\n",
    "\n",
    "# Pickling this processed raw dataset of image paths\n",
    "try:\n",
    "    print('Pickling the processed raw dataset of image paths...')\n",
    "    with open('rawdata.p', mode='wb') as f:\n",
    "        pickle.dump({\n",
    "            'cars_train': cars_train,\n",
    "            'notcars_train': notcars_train,\n",
    "            'cars_valid': cars_valid,\n",
    "            'notcars_valid': notcars_valid,\n",
    "            'cars_test': cars_test,\n",
    "            'notcars_test': notcars_test\n",
    "        }, f)\n",
    "    print('Completed successfully!')\n",
    "    \n",
    "except Expection as e:\n",
    "    print('ERROR: Pickling failed with exception: {}'.format(e))"
   ]
  },
  {
   "cell_type": "code",
   "execution_count": 5,
   "metadata": {
    "collapsed": true
   },
   "outputs": [],
   "source": [
    "## 3. Feature extraction"
   ]
  },
  {
   "cell_type": "code",
   "execution_count": 6,
   "metadata": {
    "collapsed": true
   },
   "outputs": [],
   "source": [
    "## 4. Another round of data set exploratory visualisation adn summarisation"
   ]
  },
  {
   "cell_type": "code",
   "execution_count": 7,
   "metadata": {
    "collapsed": true
   },
   "outputs": [],
   "source": [
    "## 5. Data augmentation / Pre-processing / Split into training/validation/test sets"
   ]
  },
  {
   "cell_type": "code",
   "execution_count": 8,
   "metadata": {
    "collapsed": true
   },
   "outputs": [],
   "source": [
    "## 6. Define and implement a model architecture"
   ]
  },
  {
   "cell_type": "code",
   "execution_count": 9,
   "metadata": {
    "collapsed": true
   },
   "outputs": [],
   "source": [
    "## 7. Setup training and evaluation pipeline"
   ]
  },
  {
   "cell_type": "code",
   "execution_count": 10,
   "metadata": {
    "collapsed": true
   },
   "outputs": [],
   "source": [
    "## 8. Run the training session and evaluate"
   ]
  },
  {
   "cell_type": "code",
   "execution_count": null,
   "metadata": {
    "collapsed": true
   },
   "outputs": [],
   "source": []
  }
 ],
 "metadata": {
  "kernelspec": {
   "display_name": "Python 3",
   "language": "python",
   "name": "python3"
  },
  "language_info": {
   "codemirror_mode": {
    "name": "ipython",
    "version": 3
   },
   "file_extension": ".py",
   "mimetype": "text/x-python",
   "name": "python",
   "nbconvert_exporter": "python",
   "pygments_lexer": "ipython3",
   "version": "3.5.2"
  },
  "widgets": {
   "state": {},
   "version": "1.1.2"
  }
 },
 "nbformat": 4,
 "nbformat_minor": 2
}
