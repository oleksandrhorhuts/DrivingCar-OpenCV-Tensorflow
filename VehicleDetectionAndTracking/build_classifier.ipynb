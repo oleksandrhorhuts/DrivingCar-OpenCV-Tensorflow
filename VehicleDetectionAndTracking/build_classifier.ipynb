{
 "cells": [
  {
   "cell_type": "code",
   "execution_count": 1,
   "metadata": {
    "collapsed": true
   },
   "outputs": [],
   "source": [
    "# Necessary imports\n",
    "\n",
    "import numpy as np\n",
    "import cv2\n",
    "import os\n",
    "import glob\n",
    "import pickle\n",
    "import time\n",
    "import matplotlib.image as mpimg\n",
    "import matplotlib.pyplot as plt\n",
    "from tqdm import tqdm_notebook as tqdm\n",
    "\n",
    "from sklearn.svm import LinearSVC\n",
    "from sklearn.preprocessing import StandardScaler\n",
    "from sklearn.model_selection import train_test_split\n",
    "from skimage.feature import hog\n",
    "\n",
    "from helper_functions import *"
   ]
  },
  {
   "cell_type": "code",
   "execution_count": 2,
   "metadata": {},
   "outputs": [],
   "source": [
    "def extract_features(imgs):\n",
    "    color_space = 'HSV' # Can be RGB, HSV, LAB, HLS, YUV, YCrCb\n",
    "    orient = 12  # HOG orientations\n",
    "    pix_per_cell = 8 # HOG pixels per cell\n",
    "    cell_per_block = 2 # HOG cells per block\n",
    "    hog_channel = 'ALL' # Can be 0, 1, 2, or \"ALL\"\n",
    "    spatial_size = (24, 24) # Spatial binning dimensions\n",
    "    hist_bins = 24    # Number of histogram bins\n",
    "    spatial_feat = True # Spatial features on or off\n",
    "    hist_feat = True # Histogram features on or off\n",
    "    hog_feat = True # HOG features on or off\n",
    "    \n",
    "    features = []\n",
    "    for img_path in tqdm(imgs):\n",
    "        img = mpimg.imread(img_path)\n",
    "        \n",
    "        features.append(single_img_features(\n",
    "            img,\n",
    "            color_space=color_space,\n",
    "            spatial_size=spatial_size,\n",
    "            hist_bins=hist_bins,\n",
    "            orient=orient,\n",
    "            pix_per_cell=pix_per_cell,\n",
    "            cell_per_block=cell_per_block,\n",
    "            hog_channel=hog_channel,\n",
    "            spatial_feat=spatial_feat,\n",
    "            hist_feat=hist_feat,\n",
    "            hog_feat=hog_feat\n",
    "        ))\n",
    "    \n",
    "    return features"
   ]
  },
  {
   "cell_type": "code",
   "execution_count": 3,
   "metadata": {},
   "outputs": [
    {
     "name": "stdout",
     "output_type": "stream",
     "text": [
      "Extracting features...\n"
     ]
    },
    {
     "name": "stderr",
     "output_type": "stream",
     "text": [
      "/Users/sid/anaconda/envs/carnd-term1/lib/python3.5/site-packages/skimage/feature/_hog.py:119: skimage_deprecation: Default value of `block_norm`==`L1` is deprecated and will be changed to `L2-Hys` in v0.15\n",
      "  'be changed to `L2-Hys` in v0.15', skimage_deprecation)\n"
     ]
    },
    {
     "name": "stdout",
     "output_type": "stream",
     "text": [
      "\n",
      "\n",
      "\n",
      "\n",
      "\n",
      "\n",
      "Time taken to extract features (Spatial, Color Hist, HOG): 123.28962707519531\n"
     ]
    }
   ],
   "source": [
    "### Feature Extraction\n",
    "\n",
    "# Load pickled raw data set\n",
    "with open('rawdata.p', mode='rb') as f:\n",
    "    data = pickle.load(f)\n",
    "    \n",
    "cars_train = data['cars_train']\n",
    "notcars_train = data['notcars_train']\n",
    "\n",
    "cars_valid = data['cars_valid']\n",
    "notcars_valid = data['notcars_valid']\n",
    "\n",
    "cars_test = data['cars_test']\n",
    "notcars_test = data['notcars_test']\n",
    "\n",
    "# Extract features\n",
    "print('Extracting features...')\n",
    "start = time.time()\n",
    "\n",
    "cars_features_train = extract_features(cars_train)\n",
    "notcars_features_train = extract_features(notcars_train)\n",
    "\n",
    "cars_features_valid = extract_features(cars_valid)\n",
    "notcars_features_valid = extract_features(notcars_valid)\n",
    "\n",
    "cars_features_test = extract_features(cars_test)\n",
    "notcars_features_test = extract_features(notcars_test)\n",
    "\n",
    "end = time.time()\n",
    "print('Time taken to extract features (Spatial, Color Hist, HOG): {}'.format(end-start))"
   ]
  },
  {
   "cell_type": "code",
   "execution_count": 4,
   "metadata": {},
   "outputs": [
    {
     "name": "stdout",
     "output_type": "stream",
     "text": [
      "Length of feature vector: 8856\n"
     ]
    }
   ],
   "source": [
    "### Data set exploratory visualisation and summarisation\n",
    "\n",
    "print('Length of feature vector: {}'.format(len(cars_features_train[0])))"
   ]
  },
  {
   "cell_type": "code",
   "execution_count": 5,
   "metadata": {},
   "outputs": [],
   "source": [
    "### Pre-processing\n",
    "\n",
    "X_train = np.vstack([cars_features_train, notcars_features_train])\n",
    "X_valid = np.vstack([cars_features_valid, notcars_features_valid])\n",
    "X_test = np.vstack([cars_features_test, notcars_features_test])\n",
    "\n",
    "y_train = np.hstack([np.ones(len(cars_features_train)), np.zeros(len(notcars_features_train))])\n",
    "y_valid = np.hstack([np.ones(len(cars_features_valid)), np.zeros(len(notcars_features_valid))])\n",
    "y_test = np.hstack([np.ones(len(cars_features_test)), np.zeros(len(notcars_features_test))])\n",
    "\n",
    "scaler = StandardScaler().fit(X_train)\n",
    "\n",
    "X_train = scaler.transform(X_train)\n",
    "X_valid = scaler.transform(X_valid)\n",
    "X_test = scaler.transform(X_test)\n",
    "\n",
    "# Sanity check\n",
    "\n",
    "assert(len(X_train) == len(y_train))\n",
    "assert(len(X_valid) == len(y_valid))\n",
    "assert(len(X_test) == len(y_test))"
   ]
  },
  {
   "cell_type": "code",
   "execution_count": 6,
   "metadata": {},
   "outputs": [
    {
     "name": "stdout",
     "output_type": "stream",
     "text": [
      "Starting training...\n",
      "Training took: 5.363823890686035\n"
     ]
    }
   ],
   "source": [
    "### Define and implement model architecture\n",
    "### Training and evaluation pipeline\n",
    "\n",
    "clf = LinearSVC()\n",
    "\n",
    "print('Starting training...')\n",
    "start = time.time()\n",
    "clf.fit(X_train, y_train)\n",
    "end = time.time()\n",
    "print('Training took: {}'.format(end-start))"
   ]
  },
  {
   "cell_type": "code",
   "execution_count": 7,
   "metadata": {},
   "outputs": [
    {
     "name": "stdout",
     "output_type": "stream",
     "text": [
      "Training accuracy: 1.0\n",
      "Validation accuracy: 0.990990990990991\n"
     ]
    }
   ],
   "source": [
    "print('Training accuracy: {}'.format(clf.score(X_train, y_train)))\n",
    "print('Validation accuracy: {}'.format(clf.score(X_valid, y_valid)))"
   ]
  },
  {
   "cell_type": "code",
   "execution_count": null,
   "metadata": {
    "collapsed": true
   },
   "outputs": [],
   "source": [
    "### Testing accuracy"
   ]
  },
  {
   "cell_type": "code",
   "execution_count": null,
   "metadata": {
    "collapsed": true
   },
   "outputs": [],
   "source": []
  }
 ],
 "metadata": {
  "kernelspec": {
   "display_name": "Python 3",
   "language": "python",
   "name": "python3"
  },
  "language_info": {
   "codemirror_mode": {
    "name": "ipython",
    "version": 3
   },
   "file_extension": ".py",
   "mimetype": "text/x-python",
   "name": "python",
   "nbconvert_exporter": "python",
   "pygments_lexer": "ipython3",
   "version": "3.5.2"
  },
  "widgets": {
   "state": {
    "06c6d530c7c14cd1b966491ba9b49565": {
     "views": []
    },
    "089106c3c70c4cbaa6886c4f10bf13dc": {
     "views": []
    },
    "094119c90c5f42c5b7f958019170f6b8": {
     "views": []
    },
    "0cd724ea3e4f410694404d831d01062e": {
     "views": []
    },
    "0d52b386e2494c07ac6a65c156a12ab7": {
     "views": []
    },
    "0d66c926f0634fd8a10b396cc2c316cb": {
     "views": []
    },
    "12112ef0b3e245aab7793ecde11625ed": {
     "views": []
    },
    "14be753876ea49bd9e621db52b301c10": {
     "views": []
    },
    "17bae3b3a14440bf819cab65218abb99": {
     "views": []
    },
    "1b5b94783fc54787b576218aba1bf985": {
     "views": []
    },
    "1ba5b142a21b4348bb32146ce6fb3fbb": {
     "views": []
    },
    "1fd08bc51ae04e57b8189103ec7b7897": {
     "views": []
    },
    "22da063159594a0a8696ad46385e3cea": {
     "views": []
    },
    "292bc8880707417cb5f11f5637d7fc21": {
     "views": []
    },
    "33ce84d9034e410da191ae29ff5241e7": {
     "views": []
    },
    "343231ce7686462d8470efa3e176a8af": {
     "views": []
    },
    "3746b2533e6541ce99d9de7f878bd9d4": {
     "views": []
    },
    "3968466315484c87bfad6be2f36d5bb0": {
     "views": []
    },
    "3a991d6a78c24fd5919df04f7363b718": {
     "views": []
    },
    "3b92bdc9456b4edd9b0fdedfe4a6e98a": {
     "views": [
      {
       "cell_index": 2
      }
     ]
    },
    "3f561ffce122437297433790978ebbe9": {
     "views": []
    },
    "4301074ba286406fbc2b94cc0d249735": {
     "views": [
      {
       "cell_index": 2
      }
     ]
    },
    "4400d0ff824a450eac3f7324e4e3e45c": {
     "views": []
    },
    "452f07ebe181461d8885576fd010b9e1": {
     "views": []
    },
    "45dcfa7f67934b0b825d58299a1bfa21": {
     "views": []
    },
    "485bb00726494e0390d02a7a36bd2b02": {
     "views": [
      {
       "cell_index": 2
      }
     ]
    },
    "49d61cc5790d44bd8b0466e7b399b385": {
     "views": []
    },
    "4b7e4facc9f942eabf94a1c8e8992158": {
     "views": []
    },
    "4dbb02dde02a45e6ba20806c6ecd10e8": {
     "views": []
    },
    "4ece3fcb538742a38f67f6c930a05cce": {
     "views": []
    },
    "519a209d0bd448b3882b63b10de3fb43": {
     "views": []
    },
    "526bd08e1cb34b9b9d9bd9f07ebdf4c6": {
     "views": []
    },
    "540dba89a18b4a68811f1471fd395a11": {
     "views": []
    },
    "54cb2ecdcd2e40879bae9773eac4bdb8": {
     "views": []
    },
    "563a498c78b74c4a8a6a3cbc774f78ab": {
     "views": []
    },
    "57a8257bd7034e44acc646f3b5eeba70": {
     "views": []
    },
    "5ad47d561e64456999eedf6569cb0fd4": {
     "views": []
    },
    "5d7f7d49bd1f4054ad94ff65d41640b6": {
     "views": []
    },
    "5ea8bfa0f6df4b0bb43f4665803195a5": {
     "views": []
    },
    "6151ad001f6341c59411d5316450b7ed": {
     "views": []
    },
    "64d0652118a147c2a69985f40e316dd7": {
     "views": [
      {
       "cell_index": 2
      }
     ]
    },
    "65f511f78472447285017872c3028406": {
     "views": []
    },
    "668c809ea39a43bb81bc65f5f068e287": {
     "views": [
      {
       "cell_index": 2
      }
     ]
    },
    "6835bb6a0e3b470c887b1406a9989dc9": {
     "views": []
    },
    "69323cfd087b4eecb38eb1bed104d6cc": {
     "views": []
    },
    "6b0753debfd94e1ea156adb938d1d323": {
     "views": []
    },
    "6e4bdd1d5c11488a97ad3679c6b758da": {
     "views": []
    },
    "6f82ee1283a14d0aa71808bea268bcbf": {
     "views": []
    },
    "6ff482b394e2408db93d518652ed7b05": {
     "views": []
    },
    "72ef1e4d99f34920a5a6cbec6adae012": {
     "views": []
    },
    "731ff43cb6944c0c9e9da5befc5689d8": {
     "views": []
    },
    "77fc758311dc42c294889750261eabcf": {
     "views": []
    },
    "78a282dd6b574443b79af0b023ff6b18": {
     "views": []
    },
    "7ca00c86981e4250add5324396f2411b": {
     "views": []
    },
    "7d30ddd8dfa24bacb36da479bafef2ab": {
     "views": []
    },
    "7e363fda5bbc4a9a9eb880c6ad6ee689": {
     "views": []
    },
    "7f6905e29de94a30a3c3acfd87bf0af4": {
     "views": []
    },
    "813aa05a155f4bde92cefe5baccad420": {
     "views": []
    },
    "8b58bf669bbc45a18a2e6ec6ffdd3f85": {
     "views": []
    },
    "8e6caccb7a74447e9ec704ab30bc8756": {
     "views": []
    },
    "8ed91b7935284465945e2d8aa7d229b5": {
     "views": []
    },
    "8f2fdd946ece4fabbc863f9c4f5be8c8": {
     "views": []
    },
    "90682821d7f841208bfd5eb0698701ad": {
     "views": [
      {
       "cell_index": 2
      }
     ]
    },
    "90fdcc2a4bcc4c18af48360bf63332cb": {
     "views": []
    },
    "965cfd37c4e34be99948bd7942b83d87": {
     "views": []
    },
    "978caae36d2843f19afd1b77366ff65f": {
     "views": []
    },
    "99d16b4cb49d4fa1a1fec22160442406": {
     "views": []
    },
    "9c478e97c29d40c387501eef3703ee07": {
     "views": []
    },
    "a083b83778c84d25b356d4dcdcd98870": {
     "views": [
      {
       "cell_index": 2
      }
     ]
    },
    "a1983156ce5d41e2b6a9ecb8b9b47887": {
     "views": []
    },
    "a27642b20d4f4eb69853381e371fb993": {
     "views": []
    },
    "a897140a046948adba964cd2769393d0": {
     "views": []
    },
    "a8e4cbdcd43546fb89b4f632fd28b1e3": {
     "views": []
    },
    "aa423fd478eb460ba67bf79d3b323e78": {
     "views": []
    },
    "aa4c95b6ea3f413d9ce4ff19e42f7157": {
     "views": [
      {
       "cell_index": 2
      }
     ]
    },
    "aaf3a22baf854fdb862268c2b1872207": {
     "views": []
    },
    "aafe0945ecf640b0b38030601156ade6": {
     "views": []
    },
    "afff869fdc624f04bd43673fc1bbe85a": {
     "views": []
    },
    "b2026652ee794f839adc14e047f2584d": {
     "views": [
      {
       "cell_index": 2
      }
     ]
    },
    "b3770ed749c249abb0286923fb95d357": {
     "views": []
    },
    "b3a9393d32e84f8eb708e5a9384ad2b4": {
     "views": []
    },
    "b78f41f350544bf09d7132c5f5bd318e": {
     "views": []
    },
    "bd2930a3cbf742fcbd2a7be7afeb5f12": {
     "views": []
    },
    "c127761571c241199c4e0a072f053d19": {
     "views": []
    },
    "c35635e64d5141f6b4eda6f44066a7fc": {
     "views": []
    },
    "c64459d93c2b4d949e4017e87d7899ef": {
     "views": [
      {
       "cell_index": 2
      }
     ]
    },
    "c6551de7b91f47dd9605e43ebbd267f0": {
     "views": []
    },
    "cd0fe51e53064d219eb026b33d861650": {
     "views": []
    },
    "d46dd66e1718466187522518ce82e499": {
     "views": []
    },
    "d964b23847444db6a9f7a213b7dd481f": {
     "views": []
    },
    "df561b47f3d544d680f7824d0fd0bed1": {
     "views": []
    },
    "e30a008aaa114a58b0f294af6ab130cb": {
     "views": []
    },
    "e710d13cd3ee4ca6b863811193daf1c7": {
     "views": [
      {
       "cell_index": 2
      }
     ]
    },
    "ec0587fae67a48bd9eb79b12be3feae9": {
     "views": []
    },
    "ee8b8b3e963240438bc0a654583e8380": {
     "views": []
    },
    "ee8c91d8211c4f56acfdaea9bf05527d": {
     "views": []
    },
    "ef4c4238f4f24be491053eb8c0ea2cd0": {
     "views": []
    },
    "f23f9ed58a824b71b7929ecf549a97f3": {
     "views": []
    },
    "f47e93eb98b84eb9a723a170a08a9997": {
     "views": []
    },
    "f52e03072827482f9e2945d4814d264e": {
     "views": [
      {
       "cell_index": 2
      }
     ]
    },
    "f5c77f54c9344fa6be71ba94d7cfc2c7": {
     "views": []
    },
    "f6035a3e2acc4c88bd1ca8bac7fbdde9": {
     "views": []
    },
    "f7204ecbd64a4f3daba44b84f70bbfb3": {
     "views": []
    },
    "f90644fa4724413ab8a8f1e90b4d465b": {
     "views": []
    },
    "fb0d69550349443e996778e4e79c16ab": {
     "views": []
    },
    "fe851b45bbef4484925976283f18f833": {
     "views": []
    },
    "ffaaf630eeb6435fa2af870550aa98ac": {
     "views": []
    },
    "fffb7f4a08f04ddc8cd6c4fd1eee5aab": {
     "views": []
    }
   },
   "version": "1.1.2"
  }
 },
 "nbformat": 4,
 "nbformat_minor": 2
}
